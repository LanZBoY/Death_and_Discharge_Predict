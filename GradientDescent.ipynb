{
 "cells": [
  {
   "cell_type": "markdown",
   "metadata": {},
   "source": [
    "# 不使用優化器來挑整參數\n"
   ]
  },
  {
   "cell_type": "code",
   "execution_count": 1,
   "metadata": {},
   "outputs": [
    {
     "name": "stderr",
     "output_type": "stream",
     "text": [
      "c:\\Users\\Wen2Tee5\\Desktop\\MLProject\\ML\\lib\\site-packages\\tqdm\\auto.py:22: TqdmWarning: IProgress not found. Please update jupyter and ipywidgets. See https://ipywidgets.readthedocs.io/en/stable/user_install.html\n",
      "  from .autonotebook import tqdm as notebook_tqdm\n"
     ]
    }
   ],
   "source": [
    "import torch"
   ]
  },
  {
   "cell_type": "code",
   "execution_count": 2,
   "metadata": {},
   "outputs": [],
   "source": [
    "a = torch.randn(size=(3,5))\n",
    "b = torch.randn(size=(5,3))"
   ]
  },
  {
   "cell_type": "code",
   "execution_count": 3,
   "metadata": {},
   "outputs": [
    {
     "data": {
      "text/plain": [
       "tensor([[ 2.1902, -1.8668,  3.3960],\n",
       "        [-1.9020,  0.7958, -1.1476],\n",
       "        [ 2.2420,  0.5306,  1.3647]])"
      ]
     },
     "execution_count": 3,
     "metadata": {},
     "output_type": "execute_result"
    }
   ],
   "source": [
    "a @ b "
   ]
  },
  {
   "cell_type": "markdown",
   "metadata": {},
   "source": [
    "# 根據基本機器學習公式來最佳化參數\n",
    "## $$y=xW+b$$\n",
    "## $$x\\in\\Bbb{R^5}$$ $$W\\in\\Bbb{R^{5*1}}$$ $$b\\in\\Bbb{R^1}$$\n",
    "給定一個$y$跟$x$透過梯度下降法的找$W$跟$b$"
   ]
  },
  {
   "cell_type": "code",
   "execution_count": 2,
   "metadata": {},
   "outputs": [],
   "source": [
    "LEARNING_RATE = 1e-1\n",
    "y = torch.tensor([20.])\n",
    "x = torch.ones((5)).to(torch.float32)\n",
    "w = torch.randn(size=(5, 1), requires_grad = True)\n",
    "b = torch.randn(size=(1,), requires_grad = True)\n",
    "loss_fn = torch.nn.MSELoss()"
   ]
  },
  {
   "cell_type": "code",
   "execution_count": 3,
   "metadata": {},
   "outputs": [
    {
     "data": {
      "text/plain": [
       "tensor([[ 0.8089],\n",
       "        [ 2.4063],\n",
       "        [-0.2438],\n",
       "        [ 0.8353],\n",
       "        [-1.9821]], requires_grad=True)"
      ]
     },
     "execution_count": 3,
     "metadata": {},
     "output_type": "execute_result"
    }
   ],
   "source": [
    "w"
   ]
  },
  {
   "cell_type": "code",
   "execution_count": 4,
   "metadata": {},
   "outputs": [
    {
     "data": {
      "text/plain": [
       "tensor([-0.4953], requires_grad=True)"
      ]
     },
     "execution_count": 4,
     "metadata": {},
     "output_type": "execute_result"
    }
   ],
   "source": [
    "b"
   ]
  },
  {
   "cell_type": "code",
   "execution_count": 5,
   "metadata": {},
   "outputs": [
    {
     "name": "stdout",
     "output_type": "stream",
     "text": [
      "===========================\n",
      "Loss value is 348.5943298339844\n",
      "y = tensor([20.])\n",
      "z = tensor([1.3293], grad_fn=<AddBackward0>)\n",
      "===========================\n",
      "Loss value is 13.94377613067627\n",
      "y = tensor([20.])\n",
      "z = tensor([23.7341], grad_fn=<AddBackward0>)\n",
      "===========================\n",
      "Loss value is 0.5577521920204163\n",
      "y = tensor([20.])\n",
      "z = tensor([19.2532], grad_fn=<AddBackward0>)\n",
      "===========================\n",
      "Loss value is 0.02231031470000744\n",
      "y = tensor([20.])\n",
      "z = tensor([20.1494], grad_fn=<AddBackward0>)\n",
      "===========================\n",
      "Loss value is 0.000892275886144489\n",
      "y = tensor([20.])\n",
      "z = tensor([19.9701], grad_fn=<AddBackward0>)\n",
      "===========================\n",
      "Loss value is 3.5663691960508004e-05\n",
      "y = tensor([20.])\n",
      "z = tensor([20.0060], grad_fn=<AddBackward0>)\n",
      "===========================\n",
      "Loss value is 1.4210854715202004e-06\n",
      "y = tensor([20.])\n",
      "z = tensor([19.9988], grad_fn=<AddBackward0>)\n",
      "===========================\n",
      "Loss value is 5.6843418860808015e-08\n",
      "y = tensor([20.])\n",
      "z = tensor([20.0002], grad_fn=<AddBackward0>)\n",
      "===========================\n",
      "Loss value is 2.2737367544323206e-09\n",
      "y = tensor([20.])\n",
      "z = tensor([20.0000], grad_fn=<AddBackward0>)\n",
      "===========================\n",
      "Loss value is 9.094947017729282e-11\n",
      "y = tensor([20.])\n",
      "z = tensor([20.0000], grad_fn=<AddBackward0>)\n"
     ]
    }
   ],
   "source": [
    "for epoch in range(10):\n",
    "    z = x @ w + b\n",
    "    loss = loss_fn(z, y)\n",
    "    loss.backward()\n",
    "    print(\"===========================\")\n",
    "    print(f'Loss value is {loss.item()}')\n",
    "    print(f'y = {y}')\n",
    "    print(f'z = {z}')\n",
    "    with torch.no_grad():\n",
    "        w = w - LEARNING_RATE * w.grad.data\n",
    "        b = b - LEARNING_RATE * b.grad.data\n",
    "    w.requires_grad = True\n",
    "    b.requires_grad = True"
   ]
  },
  {
   "cell_type": "code",
   "execution_count": 6,
   "metadata": {},
   "outputs": [
    {
     "data": {
      "text/plain": [
       "tensor([[3.9207],\n",
       "        [5.5181],\n",
       "        [2.8680],\n",
       "        [3.9471],\n",
       "        [1.1297]], requires_grad=True)"
      ]
     },
     "execution_count": 6,
     "metadata": {},
     "output_type": "execute_result"
    }
   ],
   "source": [
    "w"
   ]
  },
  {
   "cell_type": "code",
   "execution_count": 7,
   "metadata": {},
   "outputs": [
    {
     "data": {
      "text/plain": [
       "tensor([2.6165], requires_grad=True)"
      ]
     },
     "execution_count": 7,
     "metadata": {},
     "output_type": "execute_result"
    }
   ],
   "source": [
    "b"
   ]
  }
 ],
 "metadata": {
  "kernelspec": {
   "display_name": "ML",
   "language": "python",
   "name": "python3"
  },
  "language_info": {
   "codemirror_mode": {
    "name": "ipython",
    "version": 3
   },
   "file_extension": ".py",
   "mimetype": "text/x-python",
   "name": "python",
   "nbconvert_exporter": "python",
   "pygments_lexer": "ipython3",
   "version": "3.10.7 (tags/v3.10.7:6cc6b13, Sep  5 2022, 14:08:36) [MSC v.1933 64 bit (AMD64)]"
  },
  "orig_nbformat": 4,
  "vscode": {
   "interpreter": {
    "hash": "eefd0d4a03a786b9ee4ea300c9ffb38640d2baed01d525cd232843b35684a7de"
   }
  }
 },
 "nbformat": 4,
 "nbformat_minor": 2
}
