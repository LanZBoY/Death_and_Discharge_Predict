{
 "cells": [
  {
   "cell_type": "code",
   "execution_count": 1,
   "metadata": {},
   "outputs": [],
   "source": [
    "import numpy as np\n",
    "import pandas as pd\n",
    "from tqdm import tqdm"
   ]
  },
  {
   "cell_type": "code",
   "execution_count": 2,
   "metadata": {},
   "outputs": [],
   "source": [
    "static_df = pd.read_csv('./data_20230101_static.csv')"
   ]
  },
  {
   "cell_type": "code",
   "execution_count": 3,
   "metadata": {},
   "outputs": [],
   "source": [
    "timeseries_df = pd.read_csv('./data_20221229_timeseries.csv')"
   ]
  },
  {
   "cell_type": "code",
   "execution_count": 4,
   "metadata": {},
   "outputs": [],
   "source": [
    "timeseries_df.drop(['Albumin', 'Total Protein','Compliance'], axis=1, inplace=True)"
   ]
  },
  {
   "cell_type": "code",
   "execution_count": 5,
   "metadata": {},
   "outputs": [
    {
     "data": {
      "text/html": [
       "<div>\n",
       "<style scoped>\n",
       "    .dataframe tbody tr th:only-of-type {\n",
       "        vertical-align: middle;\n",
       "    }\n",
       "\n",
       "    .dataframe tbody tr th {\n",
       "        vertical-align: top;\n",
       "    }\n",
       "\n",
       "    .dataframe thead th {\n",
       "        text-align: right;\n",
       "    }\n",
       "</style>\n",
       "<table border=\"1\" class=\"dataframe\">\n",
       "  <thead>\n",
       "    <tr style=\"text-align: right;\">\n",
       "      <th></th>\n",
       "      <th>subject_id</th>\n",
       "      <th>stay_id</th>\n",
       "      <th>to_date</th>\n",
       "      <th>Platelets x1000</th>\n",
       "      <th>WBC x1000</th>\n",
       "      <th>Hgb</th>\n",
       "      <th>Total Bilirubin</th>\n",
       "      <th>PO2</th>\n",
       "      <th>PaCO2</th>\n",
       "      <th>Glucose</th>\n",
       "      <th>...</th>\n",
       "      <th>dbp_ni</th>\n",
       "      <th>mbp_ni</th>\n",
       "      <th>FiO2</th>\n",
       "      <th>Minute Ventilation</th>\n",
       "      <th>Mean Airway Pressure</th>\n",
       "      <th>Peak Airway Pressure</th>\n",
       "      <th>PEEP</th>\n",
       "      <th>Plateau</th>\n",
       "      <th>Tidal Volume</th>\n",
       "      <th>Respiratory Rate</th>\n",
       "    </tr>\n",
       "  </thead>\n",
       "  <tbody>\n",
       "    <tr>\n",
       "      <th>0</th>\n",
       "      <td>10001884</td>\n",
       "      <td>37510196</td>\n",
       "      <td>2131-01-11</td>\n",
       "      <td>171.0</td>\n",
       "      <td>18.4</td>\n",
       "      <td>31.7</td>\n",
       "      <td>0.4</td>\n",
       "      <td>49.0</td>\n",
       "      <td>69.0</td>\n",
       "      <td>148.0</td>\n",
       "      <td>...</td>\n",
       "      <td>72.761905</td>\n",
       "      <td>85.761905</td>\n",
       "      <td>58.333333</td>\n",
       "      <td>9.900000</td>\n",
       "      <td>11.360000</td>\n",
       "      <td>28.400000</td>\n",
       "      <td>5.033333</td>\n",
       "      <td>23.0</td>\n",
       "      <td>379.750000</td>\n",
       "      <td>18.000000</td>\n",
       "    </tr>\n",
       "    <tr>\n",
       "      <th>1</th>\n",
       "      <td>10001884</td>\n",
       "      <td>37510196</td>\n",
       "      <td>2131-01-12</td>\n",
       "      <td>149.0</td>\n",
       "      <td>12.0</td>\n",
       "      <td>31.0</td>\n",
       "      <td>0.2</td>\n",
       "      <td>65.0</td>\n",
       "      <td>63.0</td>\n",
       "      <td>145.0</td>\n",
       "      <td>...</td>\n",
       "      <td>78.937500</td>\n",
       "      <td>94.781250</td>\n",
       "      <td>44.285714</td>\n",
       "      <td>9.444444</td>\n",
       "      <td>8.350000</td>\n",
       "      <td>18.166667</td>\n",
       "      <td>5.000000</td>\n",
       "      <td>NaN</td>\n",
       "      <td>369.833333</td>\n",
       "      <td>20.184211</td>\n",
       "    </tr>\n",
       "    <tr>\n",
       "      <th>2</th>\n",
       "      <td>10001884</td>\n",
       "      <td>37510196</td>\n",
       "      <td>2131-01-13</td>\n",
       "      <td>144.0</td>\n",
       "      <td>21.0</td>\n",
       "      <td>30.5</td>\n",
       "      <td>NaN</td>\n",
       "      <td>69.0</td>\n",
       "      <td>53.0</td>\n",
       "      <td>199.0</td>\n",
       "      <td>...</td>\n",
       "      <td>76.958333</td>\n",
       "      <td>96.166667</td>\n",
       "      <td>40.000000</td>\n",
       "      <td>10.261111</td>\n",
       "      <td>9.550000</td>\n",
       "      <td>22.333333</td>\n",
       "      <td>5.090909</td>\n",
       "      <td>17.4</td>\n",
       "      <td>418.384615</td>\n",
       "      <td>20.500000</td>\n",
       "    </tr>\n",
       "    <tr>\n",
       "      <th>3</th>\n",
       "      <td>10001884</td>\n",
       "      <td>37510196</td>\n",
       "      <td>2131-01-14</td>\n",
       "      <td>119.0</td>\n",
       "      <td>12.6</td>\n",
       "      <td>31.6</td>\n",
       "      <td>0.4</td>\n",
       "      <td>91.0</td>\n",
       "      <td>61.0</td>\n",
       "      <td>165.0</td>\n",
       "      <td>...</td>\n",
       "      <td>82.909091</td>\n",
       "      <td>98.727273</td>\n",
       "      <td>40.000000</td>\n",
       "      <td>9.441176</td>\n",
       "      <td>10.042857</td>\n",
       "      <td>23.428571</td>\n",
       "      <td>5.000000</td>\n",
       "      <td>20.0</td>\n",
       "      <td>410.428571</td>\n",
       "      <td>20.724138</td>\n",
       "    </tr>\n",
       "    <tr>\n",
       "      <th>4</th>\n",
       "      <td>10001884</td>\n",
       "      <td>37510196</td>\n",
       "      <td>2131-01-15</td>\n",
       "      <td>109.0</td>\n",
       "      <td>12.1</td>\n",
       "      <td>31.4</td>\n",
       "      <td>0.5</td>\n",
       "      <td>NaN</td>\n",
       "      <td>NaN</td>\n",
       "      <td>170.0</td>\n",
       "      <td>...</td>\n",
       "      <td>77.541667</td>\n",
       "      <td>92.750000</td>\n",
       "      <td>40.000000</td>\n",
       "      <td>9.561111</td>\n",
       "      <td>10.566667</td>\n",
       "      <td>23.500000</td>\n",
       "      <td>5.000000</td>\n",
       "      <td>NaN</td>\n",
       "      <td>341.333333</td>\n",
       "      <td>20.100000</td>\n",
       "    </tr>\n",
       "  </tbody>\n",
       "</table>\n",
       "<p>5 rows × 40 columns</p>\n",
       "</div>"
      ],
      "text/plain": [
       "   subject_id   stay_id     to_date  Platelets x1000  WBC x1000   Hgb  \\\n",
       "0    10001884  37510196  2131-01-11            171.0       18.4  31.7   \n",
       "1    10001884  37510196  2131-01-12            149.0       12.0  31.0   \n",
       "2    10001884  37510196  2131-01-13            144.0       21.0  30.5   \n",
       "3    10001884  37510196  2131-01-14            119.0       12.6  31.6   \n",
       "4    10001884  37510196  2131-01-15            109.0       12.1  31.4   \n",
       "\n",
       "   Total Bilirubin   PO2  PaCO2  Glucose  ...     dbp_ni     mbp_ni  \\\n",
       "0              0.4  49.0   69.0    148.0  ...  72.761905  85.761905   \n",
       "1              0.2  65.0   63.0    145.0  ...  78.937500  94.781250   \n",
       "2              NaN  69.0   53.0    199.0  ...  76.958333  96.166667   \n",
       "3              0.4  91.0   61.0    165.0  ...  82.909091  98.727273   \n",
       "4              0.5   NaN    NaN    170.0  ...  77.541667  92.750000   \n",
       "\n",
       "        FiO2  Minute Ventilation  Mean Airway Pressure  Peak Airway Pressure  \\\n",
       "0  58.333333            9.900000             11.360000             28.400000   \n",
       "1  44.285714            9.444444              8.350000             18.166667   \n",
       "2  40.000000           10.261111              9.550000             22.333333   \n",
       "3  40.000000            9.441176             10.042857             23.428571   \n",
       "4  40.000000            9.561111             10.566667             23.500000   \n",
       "\n",
       "       PEEP  Plateau  Tidal Volume  Respiratory Rate  \n",
       "0  5.033333     23.0    379.750000         18.000000  \n",
       "1  5.000000      NaN    369.833333         20.184211  \n",
       "2  5.090909     17.4    418.384615         20.500000  \n",
       "3  5.000000     20.0    410.428571         20.724138  \n",
       "4  5.000000      NaN    341.333333         20.100000  \n",
       "\n",
       "[5 rows x 40 columns]"
      ]
     },
     "execution_count": 5,
     "metadata": {},
     "output_type": "execute_result"
    }
   ],
   "source": [
    "timeseries_df.head()"
   ]
  },
  {
   "cell_type": "code",
   "execution_count": 6,
   "metadata": {},
   "outputs": [
    {
     "data": {
      "text/plain": [
       "Index(['subject_id', 'stay_id', 'to_date', 'Platelets x1000', 'WBC x1000',\n",
       "       'Hgb', 'Total Bilirubin', 'PO2', 'PaCO2', 'Glucose', 'BUN', 'pH',\n",
       "       'Sodium', 'Potassium', 'Magnesium', 'Calcium', 'Chloride', 'creatinine',\n",
       "       'HCO3', 'Phosphate', 'Alkaline Phos.', 'AST (SGOT)', 'ALT (SGPT)',\n",
       "       'PT-INR', 'SaO2', 'Heart Rate', 'sbp', 'dbp', 'mbp', 'sbp_ni', 'dbp_ni',\n",
       "       'mbp_ni', 'FiO2', 'Minute Ventilation', 'Mean Airway Pressure',\n",
       "       'Peak Airway Pressure', 'PEEP', 'Plateau', 'Tidal Volume',\n",
       "       'Respiratory Rate'],\n",
       "      dtype='object')"
      ]
     },
     "execution_count": 6,
     "metadata": {},
     "output_type": "execute_result"
    }
   ],
   "source": [
    "timeseries_df.columns"
   ]
  },
  {
   "cell_type": "code",
   "execution_count": 7,
   "metadata": {},
   "outputs": [],
   "source": [
    "subject_ids = static_df['subject_id'].unique()"
   ]
  },
  {
   "cell_type": "code",
   "execution_count": 8,
   "metadata": {},
   "outputs": [
    {
     "data": {
      "text/plain": [
       "5158"
      ]
     },
     "execution_count": 8,
     "metadata": {},
     "output_type": "execute_result"
    }
   ],
   "source": [
    "len(subject_ids)"
   ]
  },
  {
   "cell_type": "code",
   "execution_count": 9,
   "metadata": {},
   "outputs": [],
   "source": [
    "N = 7"
   ]
  },
  {
   "cell_type": "code",
   "execution_count": 10,
   "metadata": {},
   "outputs": [],
   "source": [
    "X_datas = []\n",
    "Y_datas = []"
   ]
  },
  {
   "cell_type": "code",
   "execution_count": 11,
   "metadata": {},
   "outputs": [
    {
     "name": "stderr",
     "output_type": "stream",
     "text": [
      "100%|██████████| 5158/5158 [01:47<00:00, 48.16it/s]\n"
     ]
    }
   ],
   "source": [
    "for subject_id in tqdm(subject_ids):\n",
    "    q_static = static_df[static_df['subject_id'] == subject_id]\n",
    "    q_timeseries = timeseries_df[timeseries_df['subject_id'] == subject_id]\n",
    "    q_timeseries = q_timeseries.interpolate(method='linear',limit_direction='both', inplace=False)\n",
    "    q_timeseries = q_timeseries.interpolate(method='linear',limit_direction='forward', inplace=False)\n",
    "    q_timeseries = q_timeseries.interpolate(method='linear',limit_direction='backward', inplace=False)\n",
    "    for col in timeseries_df.drop(columns=['subject_id', 'stay_id', 'to_date']).columns:\n",
    "        q_timeseries[col] = q_timeseries[col].apply(lambda x : x if pd.notna(x) else timeseries_df[col].mean())\n",
    "    # q_timeseries = q_timeseries.fillna(0)\n",
    "    if len(q_timeseries) >= 7:\n",
    "        q_timeseries = q_timeseries.drop(columns=['subject_id', 'stay_id', 'to_date'])\n",
    "        if len(q_static) != 0 and len(q_timeseries) != 0:\n",
    "            X_datas.append(q_timeseries[-N:].to_numpy())\n",
    "            Y_datas.append(q_static['dod'].isna().astype(np.int64).iloc[0])\n"
   ]
  },
  {
   "cell_type": "code",
   "execution_count": 12,
   "metadata": {},
   "outputs": [],
   "source": [
    "X_datas = np.array(X_datas)\n",
    "Y_datas = np.array(Y_datas)"
   ]
  },
  {
   "cell_type": "code",
   "execution_count": 13,
   "metadata": {},
   "outputs": [
    {
     "data": {
      "text/plain": [
       "(5152, 7, 37)"
      ]
     },
     "execution_count": 13,
     "metadata": {},
     "output_type": "execute_result"
    }
   ],
   "source": [
    "X_datas.shape"
   ]
  },
  {
   "cell_type": "code",
   "execution_count": 14,
   "metadata": {},
   "outputs": [
    {
     "data": {
      "text/plain": [
       "(5152,)"
      ]
     },
     "execution_count": 14,
     "metadata": {},
     "output_type": "execute_result"
    }
   ],
   "source": [
    "Y_datas.shape"
   ]
  },
  {
   "cell_type": "code",
   "execution_count": 15,
   "metadata": {},
   "outputs": [],
   "source": [
    "assert Y_datas.shape[0] == X_datas.shape[0]"
   ]
  },
  {
   "cell_type": "code",
   "execution_count": 16,
   "metadata": {},
   "outputs": [],
   "source": [
    "np.save('timeseries_Datas.npy', X_datas)\n",
    "np.save('dod_Datas.npy', Y_datas)"
   ]
  }
 ],
 "metadata": {
  "kernelspec": {
   "display_name": "ML",
   "language": "python",
   "name": "python3"
  },
  "language_info": {
   "codemirror_mode": {
    "name": "ipython",
    "version": 3
   },
   "file_extension": ".py",
   "mimetype": "text/x-python",
   "name": "python",
   "nbconvert_exporter": "python",
   "pygments_lexer": "ipython3",
   "version": "3.10.7 (tags/v3.10.7:6cc6b13, Sep  5 2022, 14:08:36) [MSC v.1933 64 bit (AMD64)]"
  },
  "orig_nbformat": 4,
  "vscode": {
   "interpreter": {
    "hash": "eefd0d4a03a786b9ee4ea300c9ffb38640d2baed01d525cd232843b35684a7de"
   }
  }
 },
 "nbformat": 4,
 "nbformat_minor": 2
}
