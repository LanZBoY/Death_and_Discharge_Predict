{
 "cells": [
  {
   "cell_type": "code",
   "execution_count": 1,
   "metadata": {},
   "outputs": [
    {
     "name": "stderr",
     "output_type": "stream",
     "text": [
      "c:\\Users\\Wen2Tee5\\Desktop\\MLProject\\ML\\lib\\site-packages\\tqdm\\auto.py:22: TqdmWarning: IProgress not found. Please update jupyter and ipywidgets. See https://ipywidgets.readthedocs.io/en/stable/user_install.html\n",
      "  from .autonotebook import tqdm as notebook_tqdm\n"
     ]
    }
   ],
   "source": [
    "import numpy as np\n",
    "import torch\n",
    "from torch.utils.data import DataLoader, TensorDataset\n",
    "from tqdm import tqdm\n",
    "from sklearn.model_selection import train_test_split\n",
    "from sklearn.metrics import  precision_score, recall_score, f1_score\n",
    "import matplotlib.pyplot as plt"
   ]
  },
  {
   "cell_type": "code",
   "execution_count": 2,
   "metadata": {},
   "outputs": [],
   "source": [
    "X_datas = np.load(\"./timeseries_Datas.npy\", allow_pickle=True)\n",
    "Y_datas = np.load(\"./dod_Datas.npy\", allow_pickle=True)"
   ]
  },
  {
   "cell_type": "code",
   "execution_count": 3,
   "metadata": {},
   "outputs": [
    {
     "data": {
      "text/plain": [
       "(5152, 7, 37)"
      ]
     },
     "execution_count": 3,
     "metadata": {},
     "output_type": "execute_result"
    }
   ],
   "source": [
    "X_datas.shape"
   ]
  },
  {
   "cell_type": "code",
   "execution_count": 4,
   "metadata": {},
   "outputs": [
    {
     "data": {
      "text/plain": [
       "torch.Size([7, 37])"
      ]
     },
     "execution_count": 4,
     "metadata": {},
     "output_type": "execute_result"
    }
   ],
   "source": [
    "train_datasets = TensorDataset(torch.tensor(X_datas, dtype=torch.float32), torch.tensor(Y_datas, dtype=torch.int64)) \n",
    "train_datasets.tensors[0].shape\n",
    "train_datasets[0][0].shape"
   ]
  },
  {
   "cell_type": "code",
   "execution_count": 5,
   "metadata": {},
   "outputs": [
    {
     "data": {
      "text/plain": [
       "(4121, 7, 37)"
      ]
     },
     "execution_count": 5,
     "metadata": {},
     "output_type": "execute_result"
    }
   ],
   "source": [
    "X_train, X_test, y_train, y_test = train_test_split(X_datas, Y_datas, test_size=0.2, random_state=42)\n",
    "X_train.shape"
   ]
  },
  {
   "cell_type": "code",
   "execution_count": 6,
   "metadata": {},
   "outputs": [],
   "source": [
    "X_train, X_valid, y_train, y_valid = train_test_split(X_train, y_train, test_size=0.1, random_state=42)"
   ]
  },
  {
   "cell_type": "code",
   "execution_count": 7,
   "metadata": {},
   "outputs": [],
   "source": [
    "train_datasets = TensorDataset(torch.tensor(X_train, dtype=torch.float32), torch.tensor(y_train, dtype=torch.int64)) \n",
    "test_datasets = TensorDataset(torch.tensor(X_test, dtype=torch.float32), torch.tensor(y_test, dtype=torch.int64)) \n",
    "valid_datasets = TensorDataset(torch.tensor(X_valid, dtype=torch.float32), torch.tensor(y_valid, dtype=torch.int64))\n",
    "train_dataloader = DataLoader(train_datasets, batch_size=len(train_datasets), shuffle=True)\n",
    "test_dataloader = DataLoader(test_datasets, batch_size=len(test_datasets))\n",
    "valid_dataloader = DataLoader(valid_datasets, batch_size=len(valid_datasets))"
   ]
  },
  {
   "cell_type": "code",
   "execution_count": 8,
   "metadata": {},
   "outputs": [],
   "source": [
    "class RNNbased(torch.nn.Module):\n",
    "\n",
    "    def __init__(self) -> None:\n",
    "        super(RNNbased, self).__init__()\n",
    "        self.rnn = torch.nn.RNN(input_size = 37, hidden_size = 37, batch_first = True)\n",
    "        self.linear = torch.nn.Linear(in_features = 7*37, out_features=2)\n",
    "    def forward(self, x):\n",
    "        h, _ = self.rnn(x)\n",
    "        h = torch.nn.functional.relu(h)\n",
    "        h = torch.flatten(h, start_dim = 1)\n",
    "        out = self.linear(h)\n",
    "        return out\n",
    "    \n",
    "class LSTMbased(torch.nn.Module):\n",
    "\n",
    "    def __init__(self) -> None:\n",
    "        super(LSTMbased, self).__init__()\n",
    "        self.lstm = torch.nn.LSTM(input_size = 37, hidden_size = 37, batch_first = True)\n",
    "        self.linear = torch.nn.Linear(in_features = 7*37, out_features=2)\n",
    "    def forward(self, x):\n",
    "        h, (_,_) = self.lstm(x)\n",
    "        h = torch.nn.functional.relu(h)\n",
    "        h = torch.flatten(h, start_dim = 1)\n",
    "        out = self.linear(h)\n",
    "        return out\n",
    "    \n",
    "class GRUbased(torch.nn.Module):\n",
    "\n",
    "    def __init__(self) -> None:\n",
    "        super(GRUbased, self).__init__()\n",
    "        self.gru = torch.nn.GRU(input_size = 37, hidden_size = 37, batch_first = True)\n",
    "        self.linear = torch.nn.Linear(in_features = 7*37, out_features=2)\n",
    "    def forward(self, x):\n",
    "        h, _ = self.gru(x)\n",
    "        h = torch.nn.functional.relu(h)\n",
    "        h = torch.flatten(h, start_dim = 1)\n",
    "        out = self.linear(h)\n",
    "        return out\n",
    "\n",
    "class BI_RNNbased(torch.nn.Module):\n",
    "\n",
    "    def __init__(self) -> None:\n",
    "        super(BI_RNNbased, self).__init__()\n",
    "        self.bi_rnn = torch.nn.RNN(input_size = 37, hidden_size = 37, batch_first = True, bidirectional = True)\n",
    "        self.linear = torch.nn.Linear(in_features = 7 * 2 * 37, out_features=2)\n",
    "    def forward(self, x):\n",
    "        h, _ = self.bi_rnn(x)\n",
    "        h = torch.nn.functional.relu(h)\n",
    "        h = torch.flatten(h, start_dim = 1)\n",
    "        out = self.linear(h)\n",
    "        return out\n",
    "    \n",
    "class BI_LSTMbased(torch.nn.Module):\n",
    "\n",
    "    def __init__(self) -> None:\n",
    "        super(BI_LSTMbased, self).__init__()\n",
    "        self.bi_lstm = torch.nn.LSTM(input_size = 37, hidden_size = 37, batch_first = True, bidirectional = True)\n",
    "        self.linear = torch.nn.Linear(in_features = 7 * 2 * 37, out_features=2)\n",
    "    def forward(self, x):\n",
    "        h, (_,_)  = self.bi_lstm(x)\n",
    "        h = torch.nn.functional.relu(h)\n",
    "        h = torch.flatten(h, start_dim = 1)\n",
    "        out = self.linear(h)\n",
    "        return out\n",
    "\n",
    "class BI_GRUbased(torch.nn.Module):\n",
    "\n",
    "    def __init__(self) -> None:\n",
    "        super(BI_GRUbased, self).__init__()\n",
    "        self.bi_gru = torch.nn.GRU(input_size = 37, hidden_size = 37, batch_first = True, bidirectional = True)\n",
    "        self.linear = torch.nn.Linear(in_features = 7 * 2 * 37, out_features=2)\n",
    "    def forward(self, x):\n",
    "        h, _ = self.bi_gru(x)\n",
    "        h = torch.nn.functional.relu(h)\n",
    "        h = torch.flatten(h, start_dim = 1)\n",
    "        out = self.linear(h)\n",
    "        return out"
   ]
  },
  {
   "cell_type": "code",
   "execution_count": 9,
   "metadata": {},
   "outputs": [],
   "source": [
    "train_losses = []\n",
    "test_losses = []\n",
    "val_losses = []"
   ]
  },
  {
   "cell_type": "code",
   "execution_count": 10,
   "metadata": {},
   "outputs": [],
   "source": [
    "def epoch(model, optimizer, loss_fn):\n",
    "    for epoch in range(200):\n",
    "        model.train()\n",
    "        total_loss = 0.\n",
    "        train_process = tqdm(train_dataloader)\n",
    "        val_process = tqdm(valid_dataloader)\n",
    "        for batch, (x, y) in enumerate(train_process, start=1):\n",
    "            x,y = x.cuda(),y.cuda()\n",
    "            optimizer.zero_grad()\n",
    "            y_pred = model(x)\n",
    "            loss = loss_fn(y_pred, y)\n",
    "            loss.backward()\n",
    "            optimizer.step()\n",
    "            total_loss += loss.item()\n",
    "            train_process.set_postfix({\"EPOCH\" : epoch ,\"AVG_LOSS\": total_loss / batch})\n",
    "        train_losses.append(total_loss / batch)\n",
    "        with torch.no_grad():\n",
    "            model.eval()\n",
    "            for x, y in val_process:\n",
    "                x,y = x.cuda(),y.cuda()\n",
    "                y_pred = model(x)\n",
    "                # Compute loss\n",
    "                loss = loss_fn(y_pred, y)\n",
    "                val_losses.append(loss.item())\n",
    "            \n",
    "            accuracy = 0\n",
    "            count = 0\n",
    "            model.eval()\n",
    "            x,y = next(iter(test_dataloader))\n",
    "            x,y = x.cuda(),y.cuda()\n",
    "            y_pred = model(x)\n",
    "\n",
    "            _, predicted = torch.max(y_pred.data, 1)\n",
    "            count += len(x)\n",
    "            accuracy += (predicted == y).sum().item()\n",
    "            \n",
    "            pre = precision_score(y.cpu() ,predicted.cpu(), average = 'macro')\n",
    "            f1 = f1_score(y.cpu() ,predicted.cpu(), average = 'macro')\n",
    "            recall = recall_score(y.cpu() ,predicted.cpu(), average = 'macro')\n",
    "            \n",
    "            print(\"Accuracy: {}\".format(accuracy / count))\n",
    "            print(\"Precision: {}\".format(pre))\n",
    "            print(\"Recall: {}\".format(recall))\n",
    "            print(\"f1_score: {}\".format(f1))\n"
   ]
  },
  {
   "cell_type": "code",
   "execution_count": 11,
   "metadata": {},
   "outputs": [
    {
     "name": "stderr",
     "output_type": "stream",
     "text": [
      "100%|██████████| 1/1 [00:00<00:00,  5.07it/s, EPOCH=0, AVG_LOSS=0.68]\n",
      "100%|██████████| 1/1 [00:00<00:00,  5.00it/s]\n"
     ]
    },
    {
     "name": "stdout",
     "output_type": "stream",
     "text": [
      "Accuracy: 0.5916585838991271\n",
      "Precision: 0.5961825878178364\n",
      "Recall: 0.5754515748388853\n",
      "f1_score: 0.5596417487675983\n"
     ]
    },
    {
     "name": "stderr",
     "output_type": "stream",
     "text": [
      "100%|██████████| 1/1 [00:00<00:00, 45.44it/s, EPOCH=1, AVG_LOSS=0.675]\n",
      "100%|██████████| 1/1 [00:00<00:00, 41.66it/s]\n"
     ]
    },
    {
     "name": "stdout",
     "output_type": "stream",
     "text": [
      "Accuracy: 0.5809893307468477\n",
      "Precision: 0.611905478627333\n",
      "Recall: 0.5562388430002119\n",
      "f1_score: 0.5063048683160415\n"
     ]
    },
    {
     "name": "stderr",
     "output_type": "stream",
     "text": [
      "100%|██████████| 1/1 [00:00<00:00, 43.47it/s, EPOCH=2, AVG_LOSS=0.671]\n",
      "100%|██████████| 1/1 [00:00<00:00, 39.99it/s]\n"
     ]
    },
    {
     "name": "stdout",
     "output_type": "stream",
     "text": [
      "Accuracy: 0.5790494665373423\n",
      "Precision: 0.6015087879795964\n",
      "Recall: 0.5553935584399867\n",
      "f1_score: 0.5108380997358801\n"
     ]
    },
    {
     "name": "stderr",
     "output_type": "stream",
     "text": [
      "100%|██████████| 1/1 [00:00<00:00, 40.80it/s, EPOCH=3, AVG_LOSS=0.667]\n",
      "100%|██████████| 1/1 [00:00<00:00, 35.07it/s]\n"
     ]
    },
    {
     "name": "stdout",
     "output_type": "stream",
     "text": [
      "Accuracy: 0.6013579049466538\n",
      "Precision: 0.617920534114965\n",
      "Recall: 0.5821627938640284\n",
      "f1_score: 0.5582704474307213\n"
     ]
    },
    {
     "name": "stderr",
     "output_type": "stream",
     "text": [
      "100%|██████████| 1/1 [00:00<00:00, 47.60it/s, EPOCH=4, AVG_LOSS=0.663]\n",
      "100%|██████████| 1/1 [00:00<00:00, 43.47it/s]\n"
     ]
    },
    {
     "name": "stdout",
     "output_type": "stream",
     "text": [
      "Accuracy: 0.623666343355965\n",
      "Precision: 0.6324576372260295\n",
      "Recall: 0.6092081177574051\n",
      "f1_score: 0.5991446345256609\n"
     ]
    },
    {
     "name": "stderr",
     "output_type": "stream",
     "text": [
      "100%|██████████| 1/1 [00:00<00:00, 43.47it/s, EPOCH=5, AVG_LOSS=0.661]\n",
      "100%|██████████| 1/1 [00:00<00:00, 39.99it/s]\n"
     ]
    },
    {
     "name": "stdout",
     "output_type": "stream",
     "text": [
      "Accuracy: 0.6333656644034917\n",
      "Precision: 0.6393070385704946\n",
      "Recall: 0.620888929230583\n",
      "f1_score: 0.6146868993664428\n"
     ]
    },
    {
     "name": "stderr",
     "output_type": "stream",
     "text": [
      "100%|██████████| 1/1 [00:00<00:00, 11.90it/s, EPOCH=6, AVG_LOSS=0.658]\n",
      "100%|██████████| 1/1 [00:00<00:00, 11.49it/s]\n"
     ]
    },
    {
     "name": "stdout",
     "output_type": "stream",
     "text": [
      "Accuracy: 0.6304558680892337\n",
      "Precision: 0.6363831483412032\n",
      "Recall: 0.6177574052222323\n",
      "f1_score: 0.6111017057385644\n"
     ]
    },
    {
     "name": "stderr",
     "output_type": "stream",
     "text": [
      "100%|██████████| 1/1 [00:00<00:00, 45.44it/s, EPOCH=7, AVG_LOSS=0.655]\n",
      "100%|██████████| 1/1 [00:00<00:00, 41.66it/s]\n"
     ]
    },
    {
     "name": "stdout",
     "output_type": "stream",
     "text": [
      "Accuracy: 0.6314258001939864\n",
      "Precision: 0.639304215791354\n",
      "Recall: 0.6179729811503434\n",
      "f1_score: 0.610122601703686\n"
     ]
    },
    {
     "name": "stderr",
     "output_type": "stream",
     "text": [
      "100%|██████████| 1/1 [00:00<00:00, 41.66it/s, EPOCH=8, AVG_LOSS=0.652]\n",
      "100%|██████████| 1/1 [00:00<00:00, 38.45it/s]\n"
     ]
    },
    {
     "name": "stdout",
     "output_type": "stream",
     "text": [
      "Accuracy: 0.635305528612997\n",
      "Precision: 0.6450322901142573\n",
      "Recall: 0.6214581253214728\n",
      "f1_score: 0.6130992303024496\n"
     ]
    },
    {
     "name": "stderr",
     "output_type": "stream",
     "text": [
      "100%|██████████| 1/1 [00:00<00:00, 41.66it/s, EPOCH=9, AVG_LOSS=0.65]\n",
      "100%|██████████| 1/1 [00:00<00:00, 38.45it/s]\n"
     ]
    },
    {
     "name": "stdout",
     "output_type": "stream",
     "text": [
      "Accuracy: 0.6343355965082444\n",
      "Precision: 0.6422283221846157\n",
      "Recall: 0.6211045051586942\n",
      "f1_score: 0.6137529227867561\n"
     ]
    },
    {
     "name": "stderr",
     "output_type": "stream",
     "text": [
      "100%|██████████| 1/1 [00:00<00:00, 37.03it/s, EPOCH=10, AVG_LOSS=0.648]\n",
      "100%|██████████| 1/1 [00:00<00:00, 32.25it/s]\n"
     ]
    },
    {
     "name": "stdout",
     "output_type": "stream",
     "text": [
      "Accuracy: 0.6333656644034917\n",
      "Precision: 0.6381467427312699\n",
      "Recall: 0.6214411061692535\n",
      "f1_score: 0.6160413793103447\n"
     ]
    },
    {
     "name": "stderr",
     "output_type": "stream",
     "text": [
      "100%|██████████| 1/1 [00:00<00:00, 41.66it/s, EPOCH=11, AVG_LOSS=0.645]\n",
      "100%|██████████| 1/1 [00:00<00:00, 39.99it/s]\n"
     ]
    },
    {
     "name": "stdout",
     "output_type": "stream",
     "text": [
      "Accuracy: 0.6430649854510184\n",
      "Precision: 0.6464585056866137\n",
      "Recall: 0.6325697407037609\n",
      "f1_score: 0.6292526579111946\n"
     ]
    },
    {
     "name": "stderr",
     "output_type": "stream",
     "text": [
      "100%|██████████| 1/1 [00:00<00:00, 11.83it/s, EPOCH=12, AVG_LOSS=0.643]\n",
      "100%|██████████| 1/1 [00:00<00:00, 11.56it/s]\n"
     ]
    },
    {
     "name": "stdout",
     "output_type": "stream",
     "text": [
      "Accuracy: 0.6362754607177498\n",
      "Precision: 0.6379667021777371\n",
      "Recall: 0.6263672052282836\n",
      "f1_score: 0.6234884760449564\n"
     ]
    },
    {
     "name": "stderr",
     "output_type": "stream",
     "text": [
      "100%|██████████| 1/1 [00:00<00:00, 36.35it/s, EPOCH=13, AVG_LOSS=0.64]\n",
      "100%|██████████| 1/1 [00:00<00:00, 35.08it/s]\n"
     ]
    },
    {
     "name": "stdout",
     "output_type": "stream",
     "text": [
      "Accuracy: 0.6372453928225025\n",
      "Precision: 0.6389308160538427\n",
      "Recall: 0.6274110465644005\n",
      "f1_score: 0.6246310501927494\n"
     ]
    },
    {
     "name": "stderr",
     "output_type": "stream",
     "text": [
      "100%|██████████| 1/1 [00:00<00:00, 43.47it/s, EPOCH=14, AVG_LOSS=0.639]\n",
      "100%|██████████| 1/1 [00:00<00:00, 39.99it/s]\n"
     ]
    },
    {
     "name": "stdout",
     "output_type": "stream",
     "text": [
      "Accuracy: 0.6343355965082444\n",
      "Precision: 0.6364440282979609\n",
      "Recall: 0.6240034340867144\n",
      "f1_score: 0.6206247651396474\n"
     ]
    },
    {
     "name": "stderr",
     "output_type": "stream",
     "text": [
      "100%|██████████| 1/1 [00:00<00:00, 38.45it/s, EPOCH=15, AVG_LOSS=0.637]\n",
      "100%|██████████| 1/1 [00:00<00:00, 37.03it/s]\n"
     ]
    },
    {
     "name": "stdout",
     "output_type": "stream",
     "text": [
      "Accuracy: 0.6333656644034917\n",
      "Precision: 0.6356890370778912\n",
      "Recall: 0.6228215485159299\n",
      "f1_score: 0.6191780018761726\n"
     ]
    },
    {
     "name": "stderr",
     "output_type": "stream",
     "text": [
      "100%|██████████| 1/1 [00:00<00:00, 46.49it/s, EPOCH=16, AVG_LOSS=0.636]\n",
      "100%|██████████| 1/1 [00:00<00:00, 43.46it/s]\n"
     ]
    },
    {
     "name": "stdout",
     "output_type": "stream",
     "text": [
      "Accuracy: 0.6343355965082444\n",
      "Precision: 0.6371009020348227\n",
      "Recall: 0.6235893013827116\n",
      "f1_score: 0.6197384550514256\n"
     ]
    },
    {
     "name": "stderr",
     "output_type": "stream",
     "text": [
      "100%|██████████| 1/1 [00:00<00:00, 43.47it/s, EPOCH=17, AVG_LOSS=0.634]\n",
      "100%|██████████| 1/1 [00:00<00:00, 37.03it/s]\n"
     ]
    },
    {
     "name": "stdout",
     "output_type": "stream",
     "text": [
      "Accuracy: 0.6391852570320078\n",
      "Precision: 0.6419201600133344\n",
      "Recall: 0.6288085080632961\n",
      "f1_score: 0.6255126192205844\n"
     ]
    },
    {
     "name": "stderr",
     "output_type": "stream",
     "text": [
      "100%|██████████| 1/1 [00:00<00:00, 12.27it/s, EPOCH=18, AVG_LOSS=0.632]\n",
      "100%|██████████| 1/1 [00:00<00:00, 12.12it/s]\n"
     ]
    },
    {
     "name": "stdout",
     "output_type": "stream",
     "text": [
      "Accuracy: 0.6391852570320078\n",
      "Precision: 0.6410567295161742\n",
      "Recall: 0.6293606850019666\n",
      "f1_score: 0.626638370779954\n"
     ]
    },
    {
     "name": "stderr",
     "output_type": "stream",
     "text": [
      "100%|██████████| 1/1 [00:00<00:00, 43.47it/s, EPOCH=19, AVG_LOSS=0.631]\n",
      "100%|██████████| 1/1 [00:00<00:00, 39.99it/s]\n"
     ]
    },
    {
     "name": "stdout",
     "output_type": "stream",
     "text": [
      "Accuracy: 0.6401551891367604\n",
      "Precision: 0.6422239014278753\n",
      "Recall: 0.630266482103416\n",
      "f1_score: 0.6275045989671435\n"
     ]
    },
    {
     "name": "stderr",
     "output_type": "stream",
     "text": [
      "100%|██████████| 1/1 [00:00<00:00, 42.54it/s, EPOCH=20, AVG_LOSS=0.63]\n",
      "100%|██████████| 1/1 [00:00<00:00, 41.66it/s]\n"
     ]
    },
    {
     "name": "stdout",
     "output_type": "stream",
     "text": [
      "Accuracy: 0.6391852570320078\n",
      "Precision: 0.6402842440578289\n",
      "Recall: 0.6299128619406372\n",
      "f1_score: 0.6277111240535818\n"
     ]
    },
    {
     "name": "stderr",
     "output_type": "stream",
     "text": [
      "100%|██████████| 1/1 [00:00<00:00, 37.03it/s, EPOCH=21, AVG_LOSS=0.628]\n",
      "100%|██████████| 1/1 [00:00<00:00, 34.48it/s]\n"
     ]
    },
    {
     "name": "stdout",
     "output_type": "stream",
     "text": [
      "Accuracy: 0.6411251212415131\n",
      "Precision: 0.6423895287102834\n",
      "Recall: 0.6318625003782034\n",
      "f1_score: 0.629712677150068\n"
     ]
    },
    {
     "name": "stderr",
     "output_type": "stream",
     "text": [
      "100%|██████████| 1/1 [00:00<00:00, 41.66it/s, EPOCH=22, AVG_LOSS=0.627]\n",
      "100%|██████████| 1/1 [00:00<00:00, 41.66it/s]\n"
     ]
    },
    {
     "name": "stdout",
     "output_type": "stream",
     "text": [
      "Accuracy: 0.6430649854510184\n",
      "Precision: 0.6446896568663572\n",
      "Recall: 0.6336740945811019\n",
      "f1_score: 0.6314537937894377\n"
     ]
    },
    {
     "name": "stderr",
     "output_type": "stream",
     "text": [
      "100%|██████████| 1/1 [00:00<00:00, 12.19it/s, EPOCH=23, AVG_LOSS=0.626]\n",
      "100%|██████████| 1/1 [00:00<00:00, 11.90it/s]\n"
     ]
    },
    {
     "name": "stdout",
     "output_type": "stream",
     "text": [
      "Accuracy: 0.6391852570320078\n",
      "Precision: 0.6404690557479593\n",
      "Recall: 0.6297748177059695\n",
      "f1_score: 0.6274478567654098\n"
     ]
    },
    {
     "name": "stderr",
     "output_type": "stream",
     "text": [
      "100%|██████████| 1/1 [00:00<00:00, 45.45it/s, EPOCH=24, AVG_LOSS=0.624]\n",
      "100%|██████████| 1/1 [00:00<00:00, 41.66it/s]\n"
     ]
    },
    {
     "name": "stdout",
     "output_type": "stream",
     "text": [
      "Accuracy: 0.6440349175557711\n",
      "Precision: 0.645645418489594\n",
      "Recall: 0.6347179359172188\n",
      "f1_score: 0.6325855450911163\n"
     ]
    },
    {
     "name": "stderr",
     "output_type": "stream",
     "text": [
      "100%|██████████| 1/1 [00:00<00:00, 41.66it/s, EPOCH=25, AVG_LOSS=0.623]\n",
      "100%|██████████| 1/1 [00:00<00:00, 39.99it/s]\n"
     ]
    },
    {
     "name": "stdout",
     "output_type": "stream",
     "text": [
      "Accuracy: 0.6411251212415131\n",
      "Precision: 0.6425793563071582\n",
      "Recall: 0.6317244561435358\n",
      "f1_score: 0.6294508252774238\n"
     ]
    },
    {
     "name": "stderr",
     "output_type": "stream",
     "text": [
      "100%|██████████| 1/1 [00:00<00:00, 47.61it/s, EPOCH=26, AVG_LOSS=0.621]\n",
      "100%|██████████| 1/1 [00:00<00:00, 42.54it/s]\n"
     ]
    },
    {
     "name": "stdout",
     "output_type": "stream",
     "text": [
      "Accuracy: 0.6459747817652765\n",
      "Precision: 0.6477531994929877\n",
      "Recall: 0.6366675743547849\n",
      "f1_score: 0.634587803700974\n"
     ]
    },
    {
     "name": "stderr",
     "output_type": "stream",
     "text": [
      "100%|██████████| 1/1 [00:00<00:00, 43.47it/s, EPOCH=27, AVG_LOSS=0.62]\n",
      "100%|██████████| 1/1 [00:00<00:00, 12.98it/s]\n"
     ]
    },
    {
     "name": "stdout",
     "output_type": "stream",
     "text": [
      "Accuracy: 0.6479146459747818\n",
      "Precision: 0.6492650641546207\n",
      "Recall: 0.6390313454963541\n",
      "f1_score: 0.6373464730592016\n"
     ]
    },
    {
     "name": "stderr",
     "output_type": "stream",
     "text": [
      "100%|██████████| 1/1 [00:00<00:00, 40.80it/s, EPOCH=28, AVG_LOSS=0.618]\n",
      "100%|██████████| 1/1 [00:00<00:00, 36.35it/s]\n"
     ]
    },
    {
     "name": "stdout",
     "output_type": "stream",
     "text": [
      "Accuracy: 0.6450048496605237\n",
      "Precision: 0.6458572769801059\n",
      "Recall: 0.6363139541920063\n",
      "f1_score: 0.6347199312315592\n"
     ]
    },
    {
     "name": "stderr",
     "output_type": "stream",
     "text": [
      "100%|██████████| 1/1 [00:00<00:00, 39.99it/s, EPOCH=29, AVG_LOSS=0.617]\n",
      "100%|██████████| 1/1 [00:00<00:00, 38.45it/s]\n"
     ]
    },
    {
     "name": "stdout",
     "output_type": "stream",
     "text": [
      "Accuracy: 0.646944713870029\n",
      "Precision: 0.6477670098929942\n",
      "Recall: 0.6384016368642401\n",
      "f1_score: 0.6369577835390627\n"
     ]
    },
    {
     "name": "stderr",
     "output_type": "stream",
     "text": [
      "100%|██████████| 1/1 [00:00<00:00, 41.65it/s, EPOCH=30, AVG_LOSS=0.616]\n",
      "100%|██████████| 1/1 [00:00<00:00, 39.20it/s]\n"
     ]
    },
    {
     "name": "stdout",
     "output_type": "stream",
     "text": [
      "Accuracy: 0.6498545101842871\n",
      "Precision: 0.6509802732638047\n",
      "Recall: 0.6412570724032556\n",
      "f1_score: 0.6398303813613038\n"
     ]
    },
    {
     "name": "stderr",
     "output_type": "stream",
     "text": [
      "100%|██████████| 1/1 [00:00<00:00, 41.66it/s, EPOCH=31, AVG_LOSS=0.614]\n",
      "100%|██████████| 1/1 [00:00<00:00, 39.99it/s]\n"
     ]
    },
    {
     "name": "stdout",
     "output_type": "stream",
     "text": [
      "Accuracy: 0.6517943743937924\n",
      "Precision: 0.6528791777926573\n",
      "Recall: 0.6433447550754894\n",
      "f1_score: 0.6420627022970598\n"
     ]
    },
    {
     "name": "stderr",
     "output_type": "stream",
     "text": [
      "100%|██████████| 1/1 [00:00<00:00, 41.66it/s, EPOCH=32, AVG_LOSS=0.613]\n",
      "100%|██████████| 1/1 [00:00<00:00, 39.99it/s]\n"
     ]
    },
    {
     "name": "stdout",
     "output_type": "stream",
     "text": [
      "Accuracy: 0.6517943743937924\n",
      "Precision: 0.6528791777926573\n",
      "Recall: 0.6433447550754894\n",
      "f1_score: 0.6420627022970598\n"
     ]
    },
    {
     "name": "stderr",
     "output_type": "stream",
     "text": [
      "100%|██████████| 1/1 [00:00<00:00, 11.68it/s, EPOCH=33, AVG_LOSS=0.611]\n",
      "100%|██████████| 1/1 [00:00<00:00, 11.54it/s]\n"
     ]
    },
    {
     "name": "stdout",
     "output_type": "stream",
     "text": [
      "Accuracy: 0.6547041707080504\n",
      "Precision: 0.6560932768019383\n",
      "Recall: 0.6462001906145048\n",
      "f1_score: 0.6449367333513911\n"
     ]
    },
    {
     "name": "stderr",
     "output_type": "stream",
     "text": [
      "100%|██████████| 1/1 [00:00<00:00, 42.54it/s, EPOCH=34, AVG_LOSS=0.61]\n",
      "100%|██████████| 1/1 [00:00<00:00, 39.20it/s]\n"
     ]
    },
    {
     "name": "stdout",
     "output_type": "stream",
     "text": [
      "Accuracy: 0.6595538312318138\n",
      "Precision: 0.6613994664079554\n",
      "Recall: 0.6510052645910864\n",
      "f1_score: 0.6498073791075281\n"
     ]
    },
    {
     "name": "stderr",
     "output_type": "stream",
     "text": [
      "100%|██████████| 1/1 [00:00<00:00, 43.47it/s, EPOCH=35, AVG_LOSS=0.609]\n",
      "100%|██████████| 1/1 [00:00<00:00, 39.99it/s]\n"
     ]
    },
    {
     "name": "stdout",
     "output_type": "stream",
     "text": [
      "Accuracy: 0.6547041707080504\n",
      "Precision: 0.6560932768019383\n",
      "Recall: 0.6462001906145048\n",
      "f1_score: 0.6449367333513911\n"
     ]
    },
    {
     "name": "stderr",
     "output_type": "stream",
     "text": [
      "100%|██████████| 1/1 [00:00<00:00, 41.66it/s, EPOCH=36, AVG_LOSS=0.607]\n",
      "100%|██████████| 1/1 [00:00<00:00, 38.45it/s]\n"
     ]
    },
    {
     "name": "stdout",
     "output_type": "stream",
     "text": [
      "Accuracy: 0.6614936954413191\n",
      "Precision: 0.6623291335313468\n",
      "Recall: 0.6537831684366584\n",
      "f1_score: 0.6531400351468775\n"
     ]
    },
    {
     "name": "stderr",
     "output_type": "stream",
     "text": [
      "100%|██████████| 1/1 [00:00<00:00, 44.43it/s, EPOCH=37, AVG_LOSS=0.606]\n",
      "100%|██████████| 1/1 [00:00<00:00, 39.20it/s]\n"
     ]
    },
    {
     "name": "stdout",
     "output_type": "stream",
     "text": [
      "Accuracy: 0.6605237633365665\n",
      "Precision: 0.661214673717964\n",
      "Recall: 0.6528773713352092\n",
      "f1_score: 0.6522531030760929\n"
     ]
    },
    {
     "name": "stderr",
     "output_type": "stream",
     "text": [
      "100%|██████████| 1/1 [00:00<00:00, 45.44it/s, EPOCH=38, AVG_LOSS=0.604]\n",
      "100%|██████████| 1/1 [00:00<00:00, 41.66it/s]\n"
     ]
    },
    {
     "name": "stdout",
     "output_type": "stream",
     "text": [
      "Accuracy: 0.6682832201745877\n",
      "Precision: 0.6696271579283888\n",
      "Recall: 0.6605378808508063\n",
      "f1_score: 0.6599919000231428\n"
     ]
    },
    {
     "name": "stderr",
     "output_type": "stream",
     "text": [
      "100%|██████████| 1/1 [00:00<00:00, 37.03it/s, EPOCH=39, AVG_LOSS=0.603]\n",
      "100%|██████████| 1/1 [00:00<00:00, 34.47it/s]\n"
     ]
    },
    {
     "name": "stdout",
     "output_type": "stream",
     "text": [
      "Accuracy: 0.6711930164888458\n",
      "Precision: 0.672427463761764\n",
      "Recall: 0.663669404859157\n",
      "f1_score: 0.6632851540033353\n"
     ]
    },
    {
     "name": "stderr",
     "output_type": "stream",
     "text": [
      "100%|██████████| 1/1 [00:00<00:00, 39.99it/s, EPOCH=40, AVG_LOSS=0.601]\n",
      "100%|██████████| 1/1 [00:00<00:00, 37.03it/s]\n"
     ]
    },
    {
     "name": "stdout",
     "output_type": "stream",
     "text": [
      "Accuracy: 0.6721629485935985\n",
      "Precision: 0.6739502999143101\n",
      "Recall: 0.664299113491271\n",
      "f1_score: 0.6637585006445437\n"
     ]
    },
    {
     "name": "stderr",
     "output_type": "stream",
     "text": [
      "100%|██████████| 1/1 [00:00<00:00, 40.80it/s, EPOCH=41, AVG_LOSS=0.6]\n",
      "100%|██████████| 1/1 [00:00<00:00, 37.72it/s]\n"
     ]
    },
    {
     "name": "stdout",
     "output_type": "stream",
     "text": [
      "Accuracy: 0.6721629485935985\n",
      "Precision: 0.6737472026854221\n",
      "Recall: 0.6644371577259387\n",
      "f1_score: 0.6639686029468488\n"
     ]
    },
    {
     "name": "stderr",
     "output_type": "stream",
     "text": [
      "100%|██████████| 1/1 [00:00<00:00, 41.66it/s, EPOCH=42, AVG_LOSS=0.599]\n",
      "100%|██████████| 1/1 [00:00<00:00, 39.99it/s]\n"
     ]
    },
    {
     "name": "stdout",
     "output_type": "stream",
     "text": [
      "Accuracy: 0.6731328806983511\n",
      "Precision: 0.6741090920637944\n",
      "Recall: 0.6658951317660585\n",
      "f1_score: 0.665673638073794\n"
     ]
    },
    {
     "name": "stderr",
     "output_type": "stream",
     "text": [
      "100%|██████████| 1/1 [00:00<00:00, 12.57it/s, EPOCH=43, AVG_LOSS=0.597]\n",
      "100%|██████████| 1/1 [00:00<00:00, 12.27it/s]\n"
     ]
    },
    {
     "name": "stdout",
     "output_type": "stream",
     "text": [
      "Accuracy: 0.6779825412221144\n",
      "Precision: 0.6793200581649437\n",
      "Recall: 0.6707002057426401\n",
      "f1_score: 0.670536009917839\n"
     ]
    },
    {
     "name": "stderr",
     "output_type": "stream",
     "text": [
      "100%|██████████| 1/1 [00:00<00:00, 43.47it/s, EPOCH=44, AVG_LOSS=0.596]\n",
      "100%|██████████| 1/1 [00:00<00:00, 41.66it/s]\n"
     ]
    },
    {
     "name": "stdout",
     "output_type": "stream",
     "text": [
      "Accuracy: 0.6750727449078564\n",
      "Precision: 0.6756320368878994\n",
      "Recall: 0.6682589029076276\n",
      "f1_score: 0.6682362252979424\n"
     ]
    },
    {
     "name": "stderr",
     "output_type": "stream",
     "text": [
      "100%|██████████| 1/1 [00:00<00:00, 40.80it/s, EPOCH=45, AVG_LOSS=0.595]\n",
      "100%|██████████| 1/1 [00:00<00:00, 37.72it/s]\n"
     ]
    },
    {
     "name": "stdout",
     "output_type": "stream",
     "text": [
      "Accuracy: 0.6731328806983511\n",
      "Precision: 0.673139311103256\n",
      "Recall: 0.6667233971740643\n",
      "f1_score: 0.6668124284975887\n"
     ]
    },
    {
     "name": "stderr",
     "output_type": "stream",
     "text": [
      "100%|██████████| 1/1 [00:00<00:00, 43.47it/s, EPOCH=46, AVG_LOSS=0.594]\n",
      "100%|██████████| 1/1 [00:00<00:00, 39.99it/s]\n"
     ]
    },
    {
     "name": "stdout",
     "output_type": "stream",
     "text": [
      "Accuracy: 0.6750727449078564\n",
      "Precision: 0.6754699507389162\n",
      "Recall: 0.6683969471422953\n",
      "f1_score: 0.6684235032088667\n"
     ]
    },
    {
     "name": "stderr",
     "output_type": "stream",
     "text": [
      "100%|██████████| 1/1 [00:00<00:00, 41.66it/s, EPOCH=47, AVG_LOSS=0.593]\n",
      "100%|██████████| 1/1 [00:00<00:00, 37.03it/s]\n"
     ]
    },
    {
     "name": "stdout",
     "output_type": "stream",
     "text": [
      "Accuracy: 0.6750727449078564\n",
      "Precision: 0.675974643423138\n",
      "Recall: 0.6679828144382923\n",
      "f1_score: 0.6678533682996797\n"
     ]
    },
    {
     "name": "stderr",
     "output_type": "stream",
     "text": [
      "100%|██████████| 1/1 [00:00<00:00, 32.25it/s, EPOCH=48, AVG_LOSS=0.591]\n",
      "100%|██████████| 1/1 [00:00<00:00, 37.03it/s]\n"
     ]
    },
    {
     "name": "stdout",
     "output_type": "stream",
     "text": [
      "Accuracy: 0.6789524733268671\n",
      "Precision: 0.6798776388328627\n",
      "Recall: 0.6720201355480924\n",
      "f1_score: 0.6720098110356851\n"
     ]
    },
    {
     "name": "stderr",
     "output_type": "stream",
     "text": [
      "100%|██████████| 1/1 [00:00<00:00, 10.58it/s, EPOCH=49, AVG_LOSS=0.59]\n",
      "100%|██████████| 1/1 [00:00<00:00, 10.36it/s]"
     ]
    },
    {
     "name": "stdout",
     "output_type": "stream",
     "text": [
      "Accuracy: 0.6760426770126091"
     ]
    },
    {
     "name": "stderr",
     "output_type": "stream",
     "text": [
      "\n"
     ]
    },
    {
     "name": "stdout",
     "output_type": "stream",
     "text": [
      "\n",
      "Precision: 0.6764060826560827\n",
      "Recall: 0.6694407884784122\n",
      "f1_score: 0.6695056126287987\n"
     ]
    },
    {
     "name": "stderr",
     "output_type": "stream",
     "text": [
      "100%|██████████| 1/1 [00:00<00:00, 41.66it/s, EPOCH=50, AVG_LOSS=0.588]\n",
      "100%|██████████| 1/1 [00:00<00:00, 38.45it/s]\n"
     ]
    },
    {
     "name": "stdout",
     "output_type": "stream",
     "text": [
      "Accuracy: 0.6799224054316197\n",
      "Precision: 0.6803040904409625\n",
      "Recall: 0.6734781095882121\n",
      "f1_score: 0.6736440443851006\n"
     ]
    },
    {
     "name": "stderr",
     "output_type": "stream",
     "text": [
      "100%|██████████| 1/1 [00:00<00:00, 46.49it/s, EPOCH=51, AVG_LOSS=0.587]\n",
      "100%|██████████| 1/1 [00:00<00:00, 42.54it/s]\n"
     ]
    },
    {
     "name": "stdout",
     "output_type": "stream",
     "text": [
      "Accuracy: 0.6808923375363725\n",
      "Precision: 0.6813981210461713\n",
      "Recall: 0.6743839066896614\n",
      "f1_score: 0.674543404735062\n"
     ]
    },
    {
     "name": "stderr",
     "output_type": "stream",
     "text": [
      "100%|██████████| 1/1 [00:00<00:00, 43.47it/s, EPOCH=52, AVG_LOSS=0.586]\n",
      "100%|██████████| 1/1 [00:00<00:00, 39.99it/s]\n"
     ]
    },
    {
     "name": "stdout",
     "output_type": "stream",
     "text": [
      "Accuracy: 0.6847720659553831\n",
      "Precision: 0.6849724786445244\n",
      "Recall: 0.6786973162687967\n",
      "f1_score: 0.679021416453607\n"
     ]
    },
    {
     "name": "stderr",
     "output_type": "stream",
     "text": [
      "100%|██████████| 1/1 [00:00<00:00, 43.30it/s, EPOCH=53, AVG_LOSS=0.584]\n",
      "100%|██████████| 1/1 [00:00<00:00, 39.85it/s]\n"
     ]
    },
    {
     "name": "stdout",
     "output_type": "stream",
     "text": [
      "Accuracy: 0.6896217264791464\n",
      "Precision: 0.6896399769135976\n",
      "Recall: 0.6839165229493812\n",
      "f1_score: 0.6843692359500684\n"
     ]
    },
    {
     "name": "stderr",
     "output_type": "stream",
     "text": [
      "100%|██████████| 1/1 [00:00<00:00, 41.60it/s, EPOCH=54, AVG_LOSS=0.583]\n",
      "100%|██████████| 1/1 [00:00<00:00, 38.41it/s]\n"
     ]
    },
    {
     "name": "stdout",
     "output_type": "stream",
     "text": [
      "Accuracy: 0.6896217264791464\n",
      "Precision: 0.6899389766859647\n",
      "Recall: 0.683640434480046\n",
      "f1_score: 0.6840427814041863\n"
     ]
    },
    {
     "name": "stderr",
     "output_type": "stream",
     "text": [
      "100%|██████████| 1/1 [00:00<00:00, 12.57it/s, EPOCH=55, AVG_LOSS=0.582]\n",
      "100%|██████████| 1/1 [00:00<00:00, 12.27it/s]\n"
     ]
    },
    {
     "name": "stdout",
     "output_type": "stream",
     "text": [
      "Accuracy: 0.6935014548981572\n",
      "Precision: 0.694137536535101\n",
      "Recall: 0.6874016671205108\n",
      "f1_score: 0.6878272201142156\n"
     ]
    },
    {
     "name": "stderr",
     "output_type": "stream",
     "text": [
      "100%|██████████| 1/1 [00:00<00:00, 41.66it/s, EPOCH=56, AVG_LOSS=0.581]\n",
      "100%|██████████| 1/1 [00:00<00:00, 37.03it/s]\n"
     ]
    },
    {
     "name": "stdout",
     "output_type": "stream",
     "text": [
      "Accuracy: 0.6905916585838991\n",
      "Precision: 0.6913612976709477\n",
      "Recall: 0.6842701431121601\n",
      "f1_score: 0.6846087973018717\n"
     ]
    },
    {
     "name": "stderr",
     "output_type": "stream",
     "text": [
      "100%|██████████| 1/1 [00:00<00:00, 47.60it/s, EPOCH=57, AVG_LOSS=0.579]\n",
      "100%|██████████| 1/1 [00:00<00:00, 43.46it/s]\n"
     ]
    },
    {
     "name": "stdout",
     "output_type": "stream",
     "text": [
      "Accuracy: 0.6954413191076625\n",
      "Precision: 0.6958264007686359\n",
      "Recall: 0.6896273940274122\n",
      "f1_score: 0.6901284152168586\n"
     ]
    },
    {
     "name": "stderr",
     "output_type": "stream",
     "text": [
      "100%|██████████| 1/1 [00:00<00:00, 42.53it/s, EPOCH=58, AVG_LOSS=0.578]\n",
      "100%|██████████| 1/1 [00:00<00:00, 37.72it/s]\n"
     ]
    },
    {
     "name": "stdout",
     "output_type": "stream",
     "text": [
      "Accuracy: 0.6973811833171678\n",
      "Precision: 0.6976812204595442\n",
      "Recall: 0.691715076699646\n",
      "f1_score: 0.6922600050513168\n"
     ]
    },
    {
     "name": "stderr",
     "output_type": "stream",
     "text": [
      "100%|██████████| 1/1 [00:00<00:00, 45.44it/s, EPOCH=59, AVG_LOSS=0.577]\n",
      "100%|██████████| 1/1 [00:00<00:00, 43.47it/s]\n"
     ]
    },
    {
     "name": "stdout",
     "output_type": "stream",
     "text": [
      "Accuracy: 0.6944713870029098\n",
      "Precision: 0.6939345277251093\n",
      "Recall: 0.6895498623339688\n",
      "f1_score: 0.690132499806789\n"
     ]
    },
    {
     "name": "stderr",
     "output_type": "stream",
     "text": [
      "100%|██████████| 1/1 [00:00<00:00, 41.66it/s, EPOCH=60, AVG_LOSS=0.576]\n",
      "100%|██████████| 1/1 [00:00<00:00, 37.03it/s]\n"
     ]
    },
    {
     "name": "stdout",
     "output_type": "stream",
     "text": [
      "Accuracy: 0.6935014548981572\n",
      "Precision: 0.6932420889147739\n",
      "Recall: 0.6882299325285165\n",
      "f1_score: 0.6887790973145642\n"
     ]
    },
    {
     "name": "stderr",
     "output_type": "stream",
     "text": [
      "100%|██████████| 1/1 [00:00<00:00, 38.45it/s, EPOCH=61, AVG_LOSS=0.575]\n",
      "100%|██████████| 1/1 [00:00<00:00, 37.02it/s]\n"
     ]
    },
    {
     "name": "stdout",
     "output_type": "stream",
     "text": [
      "Accuracy: 0.6964112512124151\n",
      "Precision: 0.6967537485267372\n",
      "Recall: 0.6906712353635291\n",
      "f1_score: 0.6911947789723494\n"
     ]
    },
    {
     "name": "stderr",
     "output_type": "stream",
     "text": [
      "100%|██████████| 1/1 [00:00<00:00, 29.40it/s, EPOCH=62, AVG_LOSS=0.574]\n",
      "100%|██████████| 1/1 [00:00<00:00, 27.77it/s]"
     ]
    },
    {
     "name": "stdout",
     "output_type": "stream",
     "text": [
      "Accuracy: 0.6954413191076625"
     ]
    },
    {
     "name": "stderr",
     "output_type": "stream",
     "text": [
      "\n"
     ]
    },
    {
     "name": "stdout",
     "output_type": "stream",
     "text": [
      "\n",
      "Precision: 0.6953795726017171\n",
      "Recall: 0.6900415267314151\n",
      "f1_score: 0.6905975227463874\n"
     ]
    },
    {
     "name": "stderr",
     "output_type": "stream",
     "text": [
      "100%|██████████| 1/1 [00:00<00:00, 45.44it/s, EPOCH=63, AVG_LOSS=0.574]\n",
      "100%|██████████| 1/1 [00:00<00:00, 41.66it/s]\n"
     ]
    },
    {
     "name": "stdout",
     "output_type": "stream",
     "text": [
      "Accuracy: 0.6944713870029098\n",
      "Precision: 0.6938222655042354\n",
      "Recall: 0.6896879065686363\n",
      "f1_score: 0.690275529988241\n"
     ]
    },
    {
     "name": "stderr",
     "output_type": "stream",
     "text": [
      "100%|██████████| 1/1 [00:00<00:00, 35.08it/s, EPOCH=64, AVG_LOSS=0.573]\n",
      "100%|██████████| 1/1 [00:00<00:00, 32.77it/s]\n"
     ]
    },
    {
     "name": "stdout",
     "output_type": "stream",
     "text": [
      "Accuracy: 0.6954413191076625\n",
      "Precision: 0.6947639166737469\n",
      "Recall: 0.6907317479047532\n",
      "f1_score: 0.6913291380625477\n"
     ]
    },
    {
     "name": "stderr",
     "output_type": "stream",
     "text": [
      "100%|██████████| 1/1 [00:00<00:00, 11.43it/s, EPOCH=65, AVG_LOSS=0.572]\n",
      "100%|██████████| 1/1 [00:00<00:00, 11.43it/s]\n"
     ]
    },
    {
     "name": "stdout",
     "output_type": "stream",
     "text": [
      "Accuracy: 0.6993210475266731\n",
      "Precision: 0.699111698745289\n",
      "Recall: 0.6942168920758827\n",
      "f1_score: 0.6948352773131068\n"
     ]
    },
    {
     "name": "stderr",
     "output_type": "stream",
     "text": [
      "100%|██████████| 1/1 [00:00<00:00, 41.66it/s, EPOCH=66, AVG_LOSS=0.571]\n",
      "100%|██████████| 1/1 [00:00<00:00, 38.45it/s]\n"
     ]
    },
    {
     "name": "stdout",
     "output_type": "stream",
     "text": [
      "Accuracy: 0.6954413191076625\n",
      "Precision: 0.69524364201126\n",
      "Recall: 0.6901795709660827\n",
      "f1_score: 0.6907488498632063\n"
     ]
    },
    {
     "name": "stderr",
     "output_type": "stream",
     "text": [
      "100%|██████████| 1/1 [00:00<00:00, 45.44it/s, EPOCH=67, AVG_LOSS=0.57]\n",
      "100%|██████████| 1/1 [00:00<00:00, 43.47it/s]\n"
     ]
    },
    {
     "name": "stdout",
     "output_type": "stream",
     "text": [
      "Accuracy: 0.6964112512124151\n",
      "Precision: 0.6959292651781914\n",
      "Recall: 0.691499500771535\n",
      "f1_score: 0.6920999125064284\n"
     ]
    },
    {
     "name": "stderr",
     "output_type": "stream",
     "text": [
      "100%|██████████| 1/1 [00:00<00:00, 46.49it/s, EPOCH=68, AVG_LOSS=0.569]\n",
      "100%|██████████| 1/1 [00:00<00:00, 42.54it/s]\n"
     ]
    },
    {
     "name": "stdout",
     "output_type": "stream",
     "text": [
      "Accuracy: 0.7002909796314258\n",
      "Precision: 0.6999187400843556\n",
      "Recall: 0.6953987776466672\n",
      "f1_score: 0.6960347379057074\n"
     ]
    },
    {
     "name": "stderr",
     "output_type": "stream",
     "text": [
      "100%|██████████| 1/1 [00:00<00:00, 43.47it/s, EPOCH=69, AVG_LOSS=0.568]\n",
      "100%|██████████| 1/1 [00:00<00:00, 39.99it/s]\n"
     ]
    },
    {
     "name": "stdout",
     "output_type": "stream",
     "text": [
      "Accuracy: 0.6935014548981572\n",
      "Precision: 0.6926714495101443\n",
      "Recall: 0.6889201537018548\n",
      "f1_score: 0.6895028171913479\n"
     ]
    },
    {
     "name": "stderr",
     "output_type": "stream",
     "text": [
      "100%|██████████| 1/1 [00:00<00:00, 45.44it/s, EPOCH=70, AVG_LOSS=0.567]\n",
      "100%|██████████| 1/1 [00:00<00:00, 41.66it/s]\n"
     ]
    },
    {
     "name": "stdout",
     "output_type": "stream",
     "text": [
      "Accuracy: 0.6915615906886518\n",
      "Precision: 0.6905901116427433\n",
      "Recall: 0.6871085594989561\n",
      "f1_score: 0.6876757584764169\n"
     ]
    },
    {
     "name": "stderr",
     "output_type": "stream",
     "text": [
      "100%|██████████| 1/1 [00:00<00:00, 12.34it/s, EPOCH=71, AVG_LOSS=0.566]\n",
      "100%|██████████| 1/1 [00:00<00:00, 12.05it/s]\n"
     ]
    },
    {
     "name": "stdout",
     "output_type": "stream",
     "text": [
      "Accuracy: 0.6915615906886518\n",
      "Precision: 0.6906830980482912\n",
      "Recall: 0.6869705152642885\n",
      "f1_score: 0.6875376451482551\n"
     ]
    },
    {
     "name": "stderr",
     "output_type": "stream",
     "text": [
      "100%|██████████| 1/1 [00:00<00:00, 42.53it/s, EPOCH=72, AVG_LOSS=0.565]\n",
      "100%|██████████| 1/1 [00:00<00:00, 40.80it/s]\n"
     ]
    },
    {
     "name": "stdout",
     "output_type": "stream",
     "text": [
      "Accuracy: 0.6925315227934045\n",
      "Precision: 0.6921778605517401\n",
      "Recall: 0.6873241354270673\n",
      "f1_score: 0.6878696571911544\n"
     ]
    },
    {
     "name": "stderr",
     "output_type": "stream",
     "text": [
      "100%|██████████| 1/1 [00:00<00:00, 45.45it/s, EPOCH=73, AVG_LOSS=0.564]\n",
      "100%|██████████| 1/1 [00:00<00:00, 41.66it/s]\n"
     ]
    },
    {
     "name": "stdout",
     "output_type": "stream",
     "text": [
      "Accuracy: 0.6905916585838991\n",
      "Precision: 0.6903033788194337\n",
      "Recall: 0.6852364527548335\n",
      "f1_score: 0.6857479191688716\n"
     ]
    },
    {
     "name": "stderr",
     "output_type": "stream",
     "text": [
      "100%|██████████| 1/1 [00:00<00:00, 39.99it/s, EPOCH=74, AVG_LOSS=0.563]\n",
      "100%|██████████| 1/1 [00:00<00:00, 37.02it/s]\n"
     ]
    },
    {
     "name": "stdout",
     "output_type": "stream",
     "text": [
      "Accuracy: 0.6944713870029098\n",
      "Precision: 0.6937162772387282\n",
      "Recall: 0.689825950803304\n",
      "f1_score: 0.6904160673074449\n"
     ]
    },
    {
     "name": "stderr",
     "output_type": "stream",
     "text": [
      "100%|██████████| 1/1 [00:00<00:00, 45.44it/s, EPOCH=75, AVG_LOSS=0.562]\n",
      "100%|██████████| 1/1 [00:00<00:00, 41.66it/s]\n"
     ]
    },
    {
     "name": "stdout",
     "output_type": "stream",
     "text": [
      "Accuracy: 0.6935014548981572\n",
      "Precision: 0.6924867635289047\n",
      "Recall: 0.6891962421711899\n",
      "f1_score: 0.6897748221277633\n"
     ]
    },
    {
     "name": "stderr",
     "output_type": "stream",
     "text": [
      "100%|██████████| 1/1 [00:00<00:00, 35.71it/s, EPOCH=76, AVG_LOSS=0.562]\n",
      "100%|██████████| 1/1 [00:00<00:00, 32.25it/s]\n"
     ]
    },
    {
     "name": "stdout",
     "output_type": "stream",
     "text": [
      "Accuracy: 0.6915615906886518\n",
      "Precision: 0.6906830980482912\n",
      "Recall: 0.6869705152642885\n",
      "f1_score: 0.6875376451482551\n"
     ]
    },
    {
     "name": "stderr",
     "output_type": "stream",
     "text": [
      "100%|██████████| 1/1 [00:00<00:00, 12.57it/s, EPOCH=77, AVG_LOSS=0.561]\n",
      "100%|██████████| 1/1 [00:00<00:00, 12.27it/s]\n"
     ]
    },
    {
     "name": "stdout",
     "output_type": "stream",
     "text": [
      "Accuracy: 0.6925315227934045\n",
      "Precision: 0.6920556872956092\n",
      "Recall: 0.6874621796617348\n",
      "f1_score: 0.6880186333328561\n"
     ]
    },
    {
     "name": "stderr",
     "output_type": "stream",
     "text": [
      "100%|██████████| 1/1 [00:00<00:00, 45.44it/s, EPOCH=78, AVG_LOSS=0.56]\n",
      "100%|██████████| 1/1 [00:00<00:00, 43.46it/s]\n"
     ]
    },
    {
     "name": "stdout",
     "output_type": "stream",
     "text": [
      "Accuracy: 0.6935014548981572\n",
      "Precision: 0.6928808971384377\n",
      "Recall: 0.6886440652325194\n",
      "f1_score: 0.6892208485958486\n"
     ]
    },
    {
     "name": "stderr",
     "output_type": "stream",
     "text": [
      "100%|██████████| 1/1 [00:00<00:00, 43.47it/s, EPOCH=79, AVG_LOSS=0.56]\n",
      "100%|██████████| 1/1 [00:00<00:00, 39.99it/s]\n"
     ]
    },
    {
     "name": "stdout",
     "output_type": "stream",
     "text": [
      "Accuracy: 0.6925315227934045\n",
      "Precision: 0.6913013950918551\n",
      "Recall: 0.688566533539076\n",
      "f1_score: 0.6891202010468973\n"
     ]
    },
    {
     "name": "stderr",
     "output_type": "stream",
     "text": [
      "100%|██████████| 1/1 [00:00<00:00, 41.66it/s, EPOCH=80, AVG_LOSS=0.559]\n",
      "100%|██████████| 1/1 [00:00<00:00, 39.99it/s]\n"
     ]
    },
    {
     "name": "stdout",
     "output_type": "stream",
     "text": [
      "Accuracy: 0.6925315227934045\n",
      "Precision: 0.6913013950918551\n",
      "Recall: 0.688566533539076\n",
      "f1_score: 0.6891202010468973\n"
     ]
    },
    {
     "name": "stderr",
     "output_type": "stream",
     "text": [
      "100%|██████████| 1/1 [00:00<00:00, 44.42it/s, EPOCH=81, AVG_LOSS=0.558]\n",
      "100%|██████████| 1/1 [00:00<00:00, 40.79it/s]\n"
     ]
    },
    {
     "name": "stdout",
     "output_type": "stream",
     "text": [
      "Accuracy: 0.6925315227934045\n",
      "Precision: 0.6917266825679859\n",
      "Recall: 0.6878763123657379\n",
      "f1_score: 0.688450455036381\n"
     ]
    },
    {
     "name": "stderr",
     "output_type": "stream",
     "text": [
      "100%|██████████| 1/1 [00:00<00:00, 39.99it/s, EPOCH=82, AVG_LOSS=0.558]\n",
      "100%|██████████| 1/1 [00:00<00:00, 35.71it/s]\n"
     ]
    },
    {
     "name": "stdout",
     "output_type": "stream",
     "text": [
      "Accuracy: 0.6896217264791464\n",
      "Precision: 0.6887913522364773\n",
      "Recall: 0.6848828325920546\n",
      "f1_score: 0.6854309687261633\n"
     ]
    },
    {
     "name": "stderr",
     "output_type": "stream",
     "text": [
      "100%|██████████| 1/1 [00:00<00:00, 39.99it/s, EPOCH=83, AVG_LOSS=0.557]\n",
      "100%|██████████| 1/1 [00:00<00:00, 35.71it/s]\n"
     ]
    },
    {
     "name": "stdout",
     "output_type": "stream",
     "text": [
      "Accuracy: 0.6867119301648884\n",
      "Precision: 0.6853676504443114\n",
      "Recall: 0.6827176182263774\n",
      "f1_score: 0.6832360408143465\n"
     ]
    },
    {
     "name": "stderr",
     "output_type": "stream",
     "text": [
      "100%|██████████| 1/1 [00:00<00:00, 39.99it/s, EPOCH=84, AVG_LOSS=0.556]\n",
      "100%|██████████| 1/1 [00:00<00:00, 37.03it/s]\n"
     ]
    },
    {
     "name": "stdout",
     "output_type": "stream",
     "text": [
      "Accuracy: 0.6847720659553831\n",
      "Precision: 0.6833314169637039\n",
      "Recall: 0.6809060240234789\n",
      "f1_score: 0.6814043595046233\n"
     ]
    },
    {
     "name": "stderr",
     "output_type": "stream",
     "text": [
      "100%|██████████| 1/1 [00:00<00:00, 44.43it/s, EPOCH=85, AVG_LOSS=0.556]\n",
      "100%|██████████| 1/1 [00:00<00:00, 40.80it/s]\n"
     ]
    },
    {
     "name": "stdout",
     "output_type": "stream",
     "text": [
      "Accuracy: 0.6896217264791464\n",
      "Precision: 0.688604196041267\n",
      "Recall: 0.68515892106139\n",
      "f1_score: 0.6857114550706083\n"
     ]
    },
    {
     "name": "stderr",
     "output_type": "stream",
     "text": [
      "100%|██████████| 1/1 [00:00<00:00, 45.45it/s, EPOCH=86, AVG_LOSS=0.555]\n",
      "100%|██████████| 1/1 [00:00<00:00, 39.99it/s]\n"
     ]
    },
    {
     "name": "stdout",
     "output_type": "stream",
     "text": [
      "Accuracy: 0.6905916585838991\n",
      "Precision: 0.6897370878972435\n",
      "Recall: 0.6859266739281716\n",
      "f1_score: 0.6864848427653172\n"
     ]
    },
    {
     "name": "stderr",
     "output_type": "stream",
     "text": [
      "100%|██████████| 1/1 [00:00<00:00, 12.42it/s, EPOCH=87, AVG_LOSS=0.554]\n",
      "100%|██████████| 1/1 [00:00<00:00, 12.12it/s]\n"
     ]
    },
    {
     "name": "stdout",
     "output_type": "stream",
     "text": [
      "Accuracy: 0.6935014548981572\n",
      "Precision: 0.692326592036363\n",
      "Recall: 0.6894723306405253\n",
      "f1_score: 0.690036914411843\n"
     ]
    },
    {
     "name": "stderr",
     "output_type": "stream",
     "text": [
      "100%|██████████| 1/1 [00:00<00:00, 41.66it/s, EPOCH=88, AVG_LOSS=0.554]\n",
      "100%|██████████| 1/1 [00:00<00:00, 39.99it/s]\n"
     ]
    },
    {
     "name": "stdout",
     "output_type": "stream",
     "text": [
      "Accuracy: 0.6925315227934045\n",
      "Precision: 0.6911736553540799\n",
      "Recall: 0.6888426220084112\n",
      "f1_score: 0.6893707616345657\n"
     ]
    },
    {
     "name": "stderr",
     "output_type": "stream",
     "text": [
      "100%|██████████| 1/1 [00:00<00:00, 42.54it/s, EPOCH=89, AVG_LOSS=0.553]\n",
      "100%|██████████| 1/1 [00:00<00:00, 39.20it/s]\n"
     ]
    },
    {
     "name": "stdout",
     "output_type": "stream",
     "text": [
      "Accuracy: 0.6915615906886518\n",
      "Precision: 0.6905901116427433\n",
      "Recall: 0.6871085594989561\n",
      "f1_score: 0.6876757584764169\n"
     ]
    },
    {
     "name": "stderr",
     "output_type": "stream",
     "text": [
      "100%|██████████| 1/1 [00:00<00:00, 41.52it/s, EPOCH=90, AVG_LOSS=0.553]\n",
      "100%|██████████| 1/1 [00:00<00:00, 38.33it/s]\n"
     ]
    },
    {
     "name": "stdout",
     "output_type": "stream",
     "text": [
      "Accuracy: 0.6886517943743938\n",
      "Precision: 0.6878458696593087\n",
      "Recall: 0.6838389912559377\n",
      "f1_score: 0.6843760162737313\n"
     ]
    },
    {
     "name": "stderr",
     "output_type": "stream",
     "text": [
      "100%|██████████| 1/1 [00:00<00:00, 43.47it/s, EPOCH=91, AVG_LOSS=0.552]\n",
      "100%|██████████| 1/1 [00:00<00:00, 41.66it/s]\n"
     ]
    },
    {
     "name": "stdout",
     "output_type": "stream",
     "text": [
      "Accuracy: 0.6886517943743938\n",
      "Precision: 0.6875688204085719\n",
      "Recall: 0.6842531239599408\n",
      "f1_score: 0.6847980646973947\n"
     ]
    },
    {
     "name": "stderr",
     "output_type": "stream",
     "text": [
      "100%|██████████| 1/1 [00:00<00:00, 44.43it/s, EPOCH=92, AVG_LOSS=0.552]\n",
      "100%|██████████| 1/1 [00:00<00:00, 40.80it/s]\n"
     ]
    },
    {
     "name": "stdout",
     "output_type": "stream",
     "text": [
      "Accuracy: 0.6896217264791464\n",
      "Precision: 0.6883019519116462\n",
      "Recall: 0.6857110980000605\n",
      "f1_score: 0.6862422872967688\n"
     ]
    },
    {
     "name": "stderr",
     "output_type": "stream",
     "text": [
      "100%|██████████| 1/1 [00:00<00:00, 11.69it/s, EPOCH=93, AVG_LOSS=0.551]\n",
      "100%|██████████| 1/1 [00:00<00:00, 11.56it/s]\n"
     ]
    },
    {
     "name": "stdout",
     "output_type": "stream",
     "text": [
      "Accuracy: 0.6915615906886518\n",
      "Precision: 0.6904223836427226\n",
      "Recall: 0.6873846479682915\n",
      "f1_score: 0.6879444909769283\n"
     ]
    },
    {
     "name": "stderr",
     "output_type": "stream",
     "text": [
      "100%|██████████| 1/1 [00:00<00:00, 45.44it/s, EPOCH=94, AVG_LOSS=0.55]\n",
      "100%|██████████| 1/1 [00:00<00:00, 38.45it/s]\n"
     ]
    },
    {
     "name": "stdout",
     "output_type": "stream",
     "text": [
      "Accuracy: 0.6905916585838991\n",
      "Precision: 0.6898380016076177\n",
      "Recall: 0.685788629693504\n",
      "f1_score: 0.6863425208452345\n"
     ]
    },
    {
     "name": "stderr",
     "output_type": "stream",
     "text": [
      "100%|██████████| 1/1 [00:00<00:00, 45.44it/s, EPOCH=95, AVG_LOSS=0.55]\n",
      "100%|██████████| 1/1 [00:00<00:00, 41.66it/s]\n"
     ]
    },
    {
     "name": "stdout",
     "output_type": "stream",
     "text": [
      "Accuracy: 0.6935014548981572\n",
      "Precision: 0.6925760272442194\n",
      "Recall: 0.6890581979365223\n",
      "f1_score: 0.6896400618822257\n"
     ]
    },
    {
     "name": "stderr",
     "output_type": "stream",
     "text": [
      "100%|██████████| 1/1 [00:00<00:00, 37.72it/s, EPOCH=96, AVG_LOSS=0.549]\n",
      "100%|██████████| 1/1 [00:00<00:00, 33.32it/s]\n"
     ]
    },
    {
     "name": "stdout",
     "output_type": "stream",
     "text": [
      "Accuracy: 0.6896217264791464\n",
      "Precision: 0.688241242989795\n",
      "Recall: 0.6858491422347281\n",
      "f1_score: 0.6863687524716333\n"
     ]
    },
    {
     "name": "stderr",
     "output_type": "stream",
     "text": [
      "100%|██████████| 1/1 [00:00<00:00, 34.48it/s, EPOCH=97, AVG_LOSS=0.549]\n",
      "100%|██████████| 1/1 [00:00<00:00, 32.25it/s]\n"
     ]
    },
    {
     "name": "stdout",
     "output_type": "stream",
     "text": [
      "Accuracy: 0.6896217264791464\n",
      "Precision: 0.6884411391675314\n",
      "Recall: 0.6854350095307252\n",
      "f1_score: 0.6859818777126323\n"
     ]
    },
    {
     "name": "stderr",
     "output_type": "stream",
     "text": [
      "100%|██████████| 1/1 [00:00<00:00, 42.53it/s, EPOCH=98, AVG_LOSS=0.548]\n",
      "100%|██████████| 1/1 [00:00<00:00, 37.72it/s]\n"
     ]
    },
    {
     "name": "stdout",
     "output_type": "stream",
     "text": [
      "Accuracy: 0.6876818622696411\n",
      "Precision: 0.6864598946923403\n",
      "Recall: 0.683485371093159\n",
      "f1_score: 0.6840192644483363\n"
     ]
    },
    {
     "name": "stderr",
     "output_type": "stream",
     "text": [
      "100%|██████████| 1/1 [00:00<00:00, 12.27it/s, EPOCH=99, AVG_LOSS=0.547]\n",
      "100%|██████████| 1/1 [00:00<00:00, 12.12it/s]\n"
     ]
    },
    {
     "name": "stdout",
     "output_type": "stream",
     "text": [
      "Accuracy: 0.6886517943743938\n",
      "Precision: 0.6871753681392236\n",
      "Recall: 0.6850813893679466\n",
      "f1_score: 0.6855742729372376\n"
     ]
    },
    {
     "name": "stderr",
     "output_type": "stream",
     "text": [
      "100%|██████████| 1/1 [00:00<00:00, 41.66it/s, EPOCH=100, AVG_LOSS=0.546]\n",
      "100%|██████████| 1/1 [00:00<00:00, 38.45it/s]\n"
     ]
    },
    {
     "name": "stdout",
     "output_type": "stream",
     "text": [
      "Accuracy: 0.6828322017458778\n",
      "Precision: 0.6811087272422949\n",
      "Recall: 0.6800607394632537\n",
      "f1_score: 0.6803967536955106\n"
     ]
    },
    {
     "name": "stderr",
     "output_type": "stream",
     "text": [
      "100%|██████████| 1/1 [00:00<00:00, 39.99it/s, EPOCH=101, AVG_LOSS=0.546]\n",
      "100%|██████████| 1/1 [00:00<00:00, 38.45it/s]\n"
     ]
    },
    {
     "name": "stdout",
     "output_type": "stream",
     "text": [
      "Accuracy: 0.6828322017458778\n",
      "Precision: 0.6812210555275345\n",
      "Recall: 0.6793705182899156\n",
      "f1_score: 0.6798200503152538\n"
     ]
    },
    {
     "name": "stderr",
     "output_type": "stream",
     "text": [
      "100%|██████████| 1/1 [00:00<00:00, 43.41it/s, EPOCH=102, AVG_LOSS=0.546]\n",
      "100%|██████████| 1/1 [00:00<00:00, 39.94it/s]\n"
     ]
    },
    {
     "name": "stdout",
     "output_type": "stream",
     "text": [
      "Accuracy: 0.6876818622696411\n",
      "Precision: 0.6865361232530937\n",
      "Recall: 0.6833473268584914\n",
      "f1_score: 0.6838844706491766\n"
     ]
    },
    {
     "name": "stderr",
     "output_type": "stream",
     "text": [
      "100%|██████████| 1/1 [00:00<00:00, 45.45it/s, EPOCH=103, AVG_LOSS=0.545]\n",
      "100%|██████████| 1/1 [00:00<00:00, 43.47it/s]\n"
     ]
    },
    {
     "name": "stdout",
     "output_type": "stream",
     "text": [
      "Accuracy: 0.6808923375363725\n",
      "Precision: 0.6793314291840236\n",
      "Recall: 0.6771447913830142\n",
      "f1_score: 0.6776119261128456\n"
     ]
    },
    {
     "name": "stderr",
     "output_type": "stream",
     "text": [
      "100%|██████████| 1/1 [00:00<00:00, 41.65it/s, EPOCH=104, AVG_LOSS=0.545]\n",
      "100%|██████████| 1/1 [00:00<00:00, 38.45it/s]\n"
     ]
    },
    {
     "name": "stdout",
     "output_type": "stream",
     "text": [
      "Accuracy: 0.6828322017458778\n",
      "Precision: 0.6812602792120864\n",
      "Recall: 0.679232474055248\n",
      "f1_score: 0.6796971565435411\n"
     ]
    },
    {
     "name": "stderr",
     "output_type": "stream",
     "text": [
      "100%|██████████| 1/1 [00:00<00:00, 43.47it/s, EPOCH=105, AVG_LOSS=0.544]\n",
      "100%|██████████| 1/1 [00:00<00:00, 39.99it/s]\n"
     ]
    },
    {
     "name": "stdout",
     "output_type": "stream",
     "text": [
      "Accuracy: 0.6847720659553831\n",
      "Precision: 0.6834538177292597\n",
      "Recall: 0.6806299355541436\n",
      "f1_score: 0.6811424156001602\n"
     ]
    },
    {
     "name": "stderr",
     "output_type": "stream",
     "text": [
      "100%|██████████| 1/1 [00:00<00:00, 39.45it/s, EPOCH=106, AVG_LOSS=0.544]\n",
      "100%|██████████| 1/1 [00:00<00:00, 36.56it/s]\n"
     ]
    },
    {
     "name": "stdout",
     "output_type": "stream",
     "text": [
      "Accuracy: 0.6905916585838991\n",
      "Precision: 0.6893234802093405\n",
      "Recall: 0.6866168951015097\n",
      "f1_score: 0.6871588143027137\n"
     ]
    },
    {
     "name": "stderr",
     "output_type": "stream",
     "text": [
      "100%|██████████| 1/1 [00:00<00:00, 43.47it/s, EPOCH=107, AVG_LOSS=0.543]\n",
      "100%|██████████| 1/1 [00:00<00:00, 39.99it/s]\n"
     ]
    },
    {
     "name": "stdout",
     "output_type": "stream",
     "text": [
      "Accuracy: 0.6876818622696411\n",
      "Precision: 0.6860604304698876\n",
      "Recall: 0.6845897249705002\n",
      "f1_score: 0.6850074387818615\n"
     ]
    },
    {
     "name": "stderr",
     "output_type": "stream",
     "text": [
      "100%|██████████| 1/1 [00:00<00:00, 45.44it/s, EPOCH=108, AVG_LOSS=0.542]\n",
      "100%|██████████| 1/1 [00:00<00:00, 43.47it/s]\n"
     ]
    },
    {
     "name": "stdout",
     "output_type": "stream",
     "text": [
      "Accuracy: 0.6828322017458778\n",
      "Precision: 0.6811087272422949\n",
      "Recall: 0.6800607394632537\n",
      "f1_score: 0.6803967536955106\n"
     ]
    },
    {
     "name": "stderr",
     "output_type": "stream",
     "text": [
      "100%|██████████| 1/1 [00:00<00:00, 11.90it/s, EPOCH=109, AVG_LOSS=0.542]\n",
      "100%|██████████| 1/1 [00:00<00:00, 11.62it/s]\n"
     ]
    },
    {
     "name": "stdout",
     "output_type": "stream",
     "text": [
      "Accuracy: 0.6857419980601358\n",
      "Precision: 0.6841231684981685\n",
      "Recall: 0.6825020422982664\n",
      "f1_score: 0.6829354412501708\n"
     ]
    },
    {
     "name": "stderr",
     "output_type": "stream",
     "text": [
      "100%|██████████| 1/1 [00:00<00:00, 40.93it/s, EPOCH=110, AVG_LOSS=0.541]\n",
      "100%|██████████| 1/1 [00:00<00:00, 37.84it/s]\n"
     ]
    },
    {
     "name": "stdout",
     "output_type": "stream",
     "text": [
      "Accuracy: 0.6915615906886518\n",
      "Precision: 0.6903475837287512\n",
      "Recall: 0.687522692202959\n",
      "f1_score: 0.6880751227309053\n"
     ]
    },
    {
     "name": "stderr",
     "output_type": "stream",
     "text": [
      "100%|██████████| 1/1 [00:00<00:00, 45.44it/s, EPOCH=111, AVG_LOSS=0.541]\n",
      "100%|██████████| 1/1 [00:00<00:00, 41.66it/s]\n"
     ]
    },
    {
     "name": "stdout",
     "output_type": "stream",
     "text": [
      "Accuracy: 0.6896217264791464\n",
      "Precision: 0.6884411391675314\n",
      "Recall: 0.6854350095307252\n",
      "f1_score: 0.6859818777126323\n"
     ]
    },
    {
     "name": "stderr",
     "output_type": "stream",
     "text": [
      "100%|██████████| 1/1 [00:00<00:00, 35.70it/s, EPOCH=112, AVG_LOSS=0.54]\n",
      "100%|██████████| 1/1 [00:00<00:00, 32.77it/s]\n"
     ]
    },
    {
     "name": "stdout",
     "output_type": "stream",
     "text": [
      "Accuracy: 0.6886517943743938\n",
      "Precision: 0.6873455653268259\n",
      "Recall: 0.6846672566639436\n",
      "f1_score: 0.68519742755853\n"
     ]
    },
    {
     "name": "stderr",
     "output_type": "stream",
     "text": [
      "100%|██████████| 1/1 [00:00<00:00, 41.66it/s, EPOCH=113, AVG_LOSS=0.54]\n",
      "100%|██████████| 1/1 [00:00<00:00, 38.45it/s]\n"
     ]
    },
    {
     "name": "stdout",
     "output_type": "stream",
     "text": [
      "Accuracy: 0.6905916585838991\n",
      "Precision: 0.6891470644482693\n",
      "Recall: 0.6870310278055127\n",
      "f1_score: 0.6875333117351365\n"
     ]
    },
    {
     "name": "stderr",
     "output_type": "stream",
     "text": [
      "100%|██████████| 1/1 [00:00<00:00, 35.71it/s, EPOCH=114, AVG_LOSS=0.539]\n",
      "100%|██████████| 1/1 [00:00<00:00, 33.33it/s]\n"
     ]
    },
    {
     "name": "stdout",
     "output_type": "stream",
     "text": [
      "Accuracy: 0.6896217264791464\n",
      "Precision: 0.688241242989795\n",
      "Recall: 0.6858491422347281\n",
      "f1_score: 0.6863687524716333\n"
     ]
    },
    {
     "name": "stderr",
     "output_type": "stream",
     "text": [
      "100%|██████████| 1/1 [00:00<00:00, 11.83it/s, EPOCH=115, AVG_LOSS=0.538]\n",
      "100%|██████████| 1/1 [00:00<00:00, 11.56it/s]\n"
     ]
    },
    {
     "name": "stdout",
     "output_type": "stream",
     "text": [
      "Accuracy: 0.6847720659553831\n",
      "Precision: 0.6832319755211321\n",
      "Recall: 0.6811821124928141\n",
      "f1_score: 0.68165619534144\n"
     ]
    },
    {
     "name": "stderr",
     "output_type": "stream",
     "text": [
      "100%|██████████| 1/1 [00:00<00:00, 46.49it/s, EPOCH=116, AVG_LOSS=0.538]\n",
      "100%|██████████| 1/1 [00:00<00:00, 42.54it/s]\n"
     ]
    },
    {
     "name": "stdout",
     "output_type": "stream",
     "text": [
      "Accuracy: 0.6847720659553831\n",
      "Precision: 0.6831012749872349\n",
      "Recall: 0.6817342894314846\n",
      "f1_score: 0.6821297284477648\n"
     ]
    },
    {
     "name": "stderr",
     "output_type": "stream",
     "text": [
      "100%|██████████| 1/1 [00:00<00:00, 39.99it/s, EPOCH=117, AVG_LOSS=0.537]\n",
      "100%|██████████| 1/1 [00:00<00:00, 37.03it/s]\n"
     ]
    },
    {
     "name": "stdout",
     "output_type": "stream",
     "text": [
      "Accuracy: 0.6886517943743938\n",
      "Precision: 0.6871303131734605\n",
      "Recall: 0.6852194336026142\n",
      "f1_score: 0.6856949117773593\n"
     ]
    },
    {
     "name": "stderr",
     "output_type": "stream",
     "text": [
      "100%|██████████| 1/1 [00:00<00:00, 43.47it/s, EPOCH=118, AVG_LOSS=0.537]\n",
      "100%|██████████| 1/1 [00:00<00:00, 39.99it/s]\n"
     ]
    },
    {
     "name": "stdout",
     "output_type": "stream",
     "text": [
      "Accuracy: 0.6867119301648884\n",
      "Precision: 0.6852525422690517\n",
      "Recall: 0.6829937066957127\n",
      "f1_score: 0.6834913438737056\n"
     ]
    },
    {
     "name": "stderr",
     "output_type": "stream",
     "text": [
      "100%|██████████| 1/1 [00:00<00:00, 46.49it/s, EPOCH=119, AVG_LOSS=0.536]\n",
      "100%|██████████| 1/1 [00:00<00:00, 42.53it/s]\n"
     ]
    },
    {
     "name": "stdout",
     "output_type": "stream",
     "text": [
      "Accuracy: 0.6867119301648884\n",
      "Precision: 0.6852036718301778\n",
      "Recall: 0.6831317509303804\n",
      "f1_score: 0.6836152341393387\n"
     ]
    },
    {
     "name": "stderr",
     "output_type": "stream",
     "text": [
      "100%|██████████| 1/1 [00:00<00:00, 43.47it/s, EPOCH=120, AVG_LOSS=0.536]\n",
      "100%|██████████| 1/1 [00:00<00:00, 38.45it/s]\n"
     ]
    },
    {
     "name": "stdout",
     "output_type": "stream",
     "text": [
      "Accuracy: 0.6876818622696411\n",
      "Precision: 0.6862137319281488\n",
      "Recall: 0.6840375480318297\n",
      "f1_score: 0.6845333120476799\n"
     ]
    },
    {
     "name": "stderr",
     "output_type": "stream",
     "text": [
      "100%|██████████| 1/1 [00:00<00:00, 11.97it/s, EPOCH=121, AVG_LOSS=0.536]\n",
      "100%|██████████| 1/1 [00:00<00:00, 11.56it/s]\n"
     ]
    },
    {
     "name": "stdout",
     "output_type": "stream",
     "text": [
      "Accuracy: 0.6857419980601358\n",
      "Precision: 0.6841960394525575\n",
      "Recall: 0.682225953828931\n",
      "f1_score: 0.6826969109768608\n"
     ]
    },
    {
     "name": "stderr",
     "output_type": "stream",
     "text": [
      "100%|██████████| 1/1 [00:00<00:00, 43.47it/s, EPOCH=122, AVG_LOSS=0.535]\n",
      "100%|██████████| 1/1 [00:00<00:00, 38.45it/s]\n"
     ]
    },
    {
     "name": "stdout",
     "output_type": "stream",
     "text": [
      "Accuracy: 0.6867119301648884\n",
      "Precision: 0.6852525422690517\n",
      "Recall: 0.6829937066957127\n",
      "f1_score: 0.6834913438737056\n"
     ]
    },
    {
     "name": "stderr",
     "output_type": "stream",
     "text": [
      "100%|██████████| 1/1 [00:00<00:00, 40.80it/s, EPOCH=123, AVG_LOSS=0.534]\n",
      "100%|██████████| 1/1 [00:00<00:00, 37.03it/s]\n"
     ]
    },
    {
     "name": "stdout",
     "output_type": "stream",
     "text": [
      "Accuracy: 0.6847720659553831\n",
      "Precision: 0.6832319755211321\n",
      "Recall: 0.6811821124928141\n",
      "f1_score: 0.68165619534144\n"
     ]
    },
    {
     "name": "stderr",
     "output_type": "stream",
     "text": [
      "100%|██████████| 1/1 [00:00<00:00, 45.45it/s, EPOCH=124, AVG_LOSS=0.534]\n",
      "100%|██████████| 1/1 [00:00<00:00, 39.99it/s]\n"
     ]
    },
    {
     "name": "stdout",
     "output_type": "stream",
     "text": [
      "Accuracy: 0.6867119301648884\n",
      "Precision: 0.6851605606248186\n",
      "Recall: 0.6832697951650479\n",
      "f1_score: 0.6837366246233241\n"
     ]
    },
    {
     "name": "stderr",
     "output_type": "stream",
     "text": [
      "100%|██████████| 1/1 [00:00<00:00, 39.99it/s, EPOCH=125, AVG_LOSS=0.534]\n",
      "100%|██████████| 1/1 [00:00<00:00, 37.71it/s]\n"
     ]
    },
    {
     "name": "stdout",
     "output_type": "stream",
     "text": [
      "Accuracy: 0.6857419980601358\n",
      "Precision: 0.6841567558071144\n",
      "Recall: 0.6823639980635987\n",
      "f1_score: 0.6828174256523225\n"
     ]
    },
    {
     "name": "stderr",
     "output_type": "stream",
     "text": [
      "100%|██████████| 1/1 [00:00<00:00, 45.45it/s, EPOCH=126, AVG_LOSS=0.533]\n",
      "100%|██████████| 1/1 [00:00<00:00, 41.66it/s]\n"
     ]
    },
    {
     "name": "stdout",
     "output_type": "stream",
     "text": [
      "Accuracy: 0.6867119301648884\n",
      "Precision: 0.6852036718301778\n",
      "Recall: 0.6831317509303804\n",
      "f1_score: 0.6836152341393387\n"
     ]
    },
    {
     "name": "stderr",
     "output_type": "stream",
     "text": [
      "100%|██████████| 1/1 [00:00<00:00, 43.47it/s, EPOCH=127, AVG_LOSS=0.533]\n",
      "100%|██████████| 1/1 [00:00<00:00, 39.99it/s]\n"
     ]
    },
    {
     "name": "stdout",
     "output_type": "stream",
     "text": [
      "Accuracy: 0.6876818622696411\n",
      "Precision: 0.6862665103735711\n",
      "Recall: 0.683899503797162\n",
      "f1_score: 0.684408557174581\n"
     ]
    },
    {
     "name": "stderr",
     "output_type": "stream",
     "text": [
      "100%|██████████| 1/1 [00:00<00:00, 43.47it/s, EPOCH=128, AVG_LOSS=0.532]\n",
      "100%|██████████| 1/1 [00:00<00:00, 38.33it/s]\n"
     ]
    },
    {
     "name": "stdout",
     "output_type": "stream",
     "text": [
      "Accuracy: 0.6867119301648884\n",
      "Precision: 0.6851605606248186\n",
      "Recall: 0.6832697951650479\n",
      "f1_score: 0.6837366246233241\n"
     ]
    },
    {
     "name": "stderr",
     "output_type": "stream",
     "text": [
      "100%|██████████| 1/1 [00:00<00:00, 40.80it/s, EPOCH=129, AVG_LOSS=0.532]\n",
      "100%|██████████| 1/1 [00:00<00:00, 39.20it/s]\n"
     ]
    },
    {
     "name": "stdout",
     "output_type": "stream",
     "text": [
      "Accuracy: 0.6896217264791464\n",
      "Precision: 0.6880943651321065\n",
      "Recall: 0.6862632749387311\n",
      "f1_score: 0.6867332599035284\n"
     ]
    },
    {
     "name": "stderr",
     "output_type": "stream",
     "text": [
      "100%|██████████| 1/1 [00:00<00:00, 45.44it/s, EPOCH=130, AVG_LOSS=0.532]\n",
      "100%|██████████| 1/1 [00:00<00:00, 41.66it/s]\n"
     ]
    },
    {
     "name": "stdout",
     "output_type": "stream",
     "text": [
      "Accuracy: 0.6857419980601358\n",
      "Precision: 0.6842917777573473\n",
      "Recall: 0.6819498653595958\n",
      "f1_score: 0.6824483618775287\n"
     ]
    },
    {
     "name": "stderr",
     "output_type": "stream",
     "text": [
      "100%|██████████| 1/1 [00:00<00:00, 10.81it/s, EPOCH=131, AVG_LOSS=0.531]\n",
      "100%|██████████| 1/1 [00:00<00:00, 10.47it/s]\n"
     ]
    },
    {
     "name": "stdout",
     "output_type": "stream",
     "text": [
      "Accuracy: 0.6915615906886518\n",
      "Precision: 0.6904223836427226\n",
      "Recall: 0.6873846479682915\n",
      "f1_score: 0.6879444909769283\n"
     ]
    },
    {
     "name": "stderr",
     "output_type": "stream",
     "text": [
      "100%|██████████| 1/1 [00:00<00:00, 43.47it/s, EPOCH=132, AVG_LOSS=0.531]\n",
      "100%|██████████| 1/1 [00:00<00:00, 39.99it/s]\n"
     ]
    },
    {
     "name": "stdout",
     "output_type": "stream",
     "text": [
      "Accuracy: 0.6857419980601358\n",
      "Precision: 0.6842917777573473\n",
      "Recall: 0.6819498653595958\n",
      "f1_score: 0.6824483618775287\n"
     ]
    },
    {
     "name": "stderr",
     "output_type": "stream",
     "text": [
      "100%|██████████| 1/1 [00:00<00:00, 46.49it/s, EPOCH=133, AVG_LOSS=0.531]\n",
      "100%|██████████| 1/1 [00:00<00:00, 41.65it/s]\n"
     ]
    },
    {
     "name": "stdout",
     "output_type": "stream",
     "text": [
      "Accuracy: 0.6896217264791464\n",
      "Precision: 0.6880570818070818\n",
      "Recall: 0.6864013191733986\n",
      "f1_score: 0.6868498185186873\n"
     ]
    },
    {
     "name": "stderr",
     "output_type": "stream",
     "text": [
      "100%|██████████| 1/1 [00:00<00:00, 45.44it/s, EPOCH=134, AVG_LOSS=0.53]\n",
      "100%|██████████| 1/1 [00:00<00:00, 41.66it/s]\n"
     ]
    },
    {
     "name": "stdout",
     "output_type": "stream",
     "text": [
      "Accuracy: 0.6915615906886518\n",
      "Precision: 0.6899417741751341\n",
      "Recall: 0.6887650903149678\n",
      "f1_score: 0.6891398338832632\n"
     ]
    },
    {
     "name": "stderr",
     "output_type": "stream",
     "text": [
      "100%|██████████| 1/1 [00:00<00:00, 29.84it/s, EPOCH=135, AVG_LOSS=0.53]\n",
      "100%|██████████| 1/1 [00:00<00:00, 28.97it/s]\n"
     ]
    },
    {
     "name": "stdout",
     "output_type": "stream",
     "text": [
      "Accuracy: 0.6828322017458778\n",
      "Precision: 0.681159420289855\n",
      "Recall: 0.6796466067592508\n",
      "f1_score: 0.6800582683666351\n"
     ]
    },
    {
     "name": "stderr",
     "output_type": "stream",
     "text": [
      "100%|██████████| 1/1 [00:00<00:00, 45.44it/s, EPOCH=136, AVG_LOSS=0.529]\n",
      "100%|██████████| 1/1 [00:00<00:00, 41.66it/s]\n"
     ]
    },
    {
     "name": "stdout",
     "output_type": "stream",
     "text": [
      "Accuracy: 0.6876818622696411\n",
      "Precision: 0.6863251140852091\n",
      "Recall: 0.6837614595624943\n",
      "f1_score: 0.6842813015923737\n"
     ]
    },
    {
     "name": "stderr",
     "output_type": "stream",
     "text": [
      "100%|██████████| 1/1 [00:00<00:00, 11.83it/s, EPOCH=137, AVG_LOSS=0.529]\n",
      "100%|██████████| 1/1 [00:00<00:00, 11.43it/s]\n"
     ]
    },
    {
     "name": "stdout",
     "output_type": "stream",
     "text": [
      "Accuracy: 0.6886517943743938\n",
      "Precision: 0.6870910603989953\n",
      "Recall: 0.6853574778372817\n",
      "f1_score: 0.6858130719214853\n"
     ]
    },
    {
     "name": "stderr",
     "output_type": "stream",
     "text": [
      "100%|██████████| 1/1 [00:00<00:00, 47.61it/s, EPOCH=138, AVG_LOSS=0.528]\n",
      "100%|██████████| 1/1 [00:00<00:00, 43.47it/s]\n"
     ]
    },
    {
     "name": "stdout",
     "output_type": "stream",
     "text": [
      "Accuracy: 0.6905916585838991\n",
      "Precision: 0.689023646071701\n",
      "Recall: 0.6874451605095155\n",
      "f1_score: 0.6878855890182161\n"
     ]
    },
    {
     "name": "stderr",
     "output_type": "stream",
     "text": [
      "100%|██████████| 1/1 [00:00<00:00, 47.50it/s, EPOCH=139, AVG_LOSS=0.528]\n",
      "100%|██████████| 1/1 [00:00<00:00, 43.37it/s]\n"
     ]
    },
    {
     "name": "stdout",
     "output_type": "stream",
     "text": [
      "Accuracy: 0.6876818622696411\n",
      "Precision: 0.6863251140852091\n",
      "Recall: 0.6837614595624943\n",
      "f1_score: 0.6842813015923737\n"
     ]
    },
    {
     "name": "stderr",
     "output_type": "stream",
     "text": [
      "100%|██████████| 1/1 [00:00<00:00, 45.44it/s, EPOCH=140, AVG_LOSS=0.528]\n",
      "100%|██████████| 1/1 [00:00<00:00, 41.65it/s]\n"
     ]
    },
    {
     "name": "stdout",
     "output_type": "stream",
     "text": [
      "Accuracy: 0.6905916585838991\n",
      "Precision: 0.6891000657221025\n",
      "Recall: 0.6871690720401804\n",
      "f1_score: 0.6876531989313945\n"
     ]
    },
    {
     "name": "stderr",
     "output_type": "stream",
     "text": [
      "100%|██████████| 1/1 [00:00<00:00, 45.44it/s, EPOCH=141, AVG_LOSS=0.527]\n",
      "100%|██████████| 1/1 [00:00<00:00, 43.47it/s]\n"
     ]
    },
    {
     "name": "stdout",
     "output_type": "stream",
     "text": [
      "Accuracy: 0.6876818622696411\n",
      "Precision: 0.6860056125087458\n",
      "Recall: 0.685003857674503\n",
      "f1_score: 0.6853370488322719\n"
     ]
    },
    {
     "name": "stderr",
     "output_type": "stream",
     "text": [
      "100%|██████████| 1/1 [00:00<00:00, 44.42it/s, EPOCH=142, AVG_LOSS=0.527]\n",
      "100%|██████████| 1/1 [00:00<00:00, 40.79it/s]\n"
     ]
    },
    {
     "name": "stdout",
     "output_type": "stream",
     "text": [
      "Accuracy: 0.6896217264791464\n",
      "Precision: 0.6880570818070818\n",
      "Recall: 0.6864013191733986\n",
      "f1_score: 0.6868498185186873\n"
     ]
    },
    {
     "name": "stderr",
     "output_type": "stream",
     "text": [
      "100%|██████████| 1/1 [00:00<00:00, 13.51it/s, EPOCH=143, AVG_LOSS=0.527]\n",
      "100%|██████████| 1/1 [00:00<00:00, 13.15it/s]\n"
     ]
    },
    {
     "name": "stdout",
     "output_type": "stream",
     "text": [
      "Accuracy: 0.6925315227934045\n",
      "Precision: 0.6910268058238344\n",
      "Recall: 0.6892567547124142\n",
      "f1_score: 0.6897281738290058\n"
     ]
    },
    {
     "name": "stderr",
     "output_type": "stream",
     "text": [
      "100%|██████████| 1/1 [00:00<00:00, 45.44it/s, EPOCH=144, AVG_LOSS=0.526]\n",
      "100%|██████████| 1/1 [00:00<00:00, 41.66it/s]\n"
     ]
    },
    {
     "name": "stdout",
     "output_type": "stream",
     "text": [
      "Accuracy: 0.6925315227934045\n",
      "Precision: 0.6909136557642709\n",
      "Recall: 0.6898089316510847\n",
      "f1_score: 0.6901705532766877\n"
     ]
    },
    {
     "name": "stderr",
     "output_type": "stream",
     "text": [
      "100%|██████████| 1/1 [00:00<00:00, 45.44it/s, EPOCH=145, AVG_LOSS=0.526]\n",
      "100%|██████████| 1/1 [00:00<00:00, 39.99it/s]\n"
     ]
    },
    {
     "name": "stdout",
     "output_type": "stream",
     "text": [
      "Accuracy: 0.6915615906886518\n",
      "Precision: 0.6901081886994418\n",
      "Recall: 0.6880748691416296\n",
      "f1_score: 0.688572894106919\n"
     ]
    },
    {
     "name": "stderr",
     "output_type": "stream",
     "text": [
      "100%|██████████| 1/1 [00:00<00:00, 45.44it/s, EPOCH=146, AVG_LOSS=0.526]\n",
      "100%|██████████| 1/1 [00:00<00:00, 41.65it/s]\n"
     ]
    },
    {
     "name": "stdout",
     "output_type": "stream",
     "text": [
      "Accuracy: 0.6886517943743938\n",
      "Precision: 0.6871303131734605\n",
      "Recall: 0.6852194336026142\n",
      "f1_score: 0.6856949117773593\n"
     ]
    },
    {
     "name": "stderr",
     "output_type": "stream",
     "text": [
      "100%|██████████| 1/1 [00:00<00:00, 45.45it/s, EPOCH=147, AVG_LOSS=0.526]\n",
      "100%|██████████| 1/1 [00:00<00:00, 41.66it/s]\n"
     ]
    },
    {
     "name": "stdout",
     "output_type": "stream",
     "text": [
      "Accuracy: 0.6896217264791464\n",
      "Precision: 0.6879999085881439\n",
      "Recall: 0.686677407642734\n",
      "f1_score: 0.6870755525878487\n"
     ]
    },
    {
     "name": "stderr",
     "output_type": "stream",
     "text": [
      "100%|██████████| 1/1 [00:00<00:00, 43.30it/s, EPOCH=148, AVG_LOSS=0.525]\n",
      "100%|██████████| 1/1 [00:00<00:00, 39.85it/s]\n"
     ]
    },
    {
     "name": "stdout",
     "output_type": "stream",
     "text": [
      "Accuracy: 0.6915615906886518\n",
      "Precision: 0.6901081886994418\n",
      "Recall: 0.6880748691416296\n",
      "f1_score: 0.688572894106919\n"
     ]
    },
    {
     "name": "stderr",
     "output_type": "stream",
     "text": [
      "100%|██████████| 1/1 [00:00<00:00, 43.47it/s, EPOCH=149, AVG_LOSS=0.525]\n",
      "100%|██████████| 1/1 [00:00<00:00, 39.99it/s]\n"
     ]
    },
    {
     "name": "stdout",
     "output_type": "stream",
     "text": [
      "Accuracy: 0.6876818622696411\n",
      "Precision: 0.6861667558681857\n",
      "Recall: 0.6841755922664973\n",
      "f1_score: 0.6846555720202135\n"
     ]
    },
    {
     "name": "stderr",
     "output_type": "stream",
     "text": [
      "100%|██████████| 1/1 [00:00<00:00, 45.44it/s, EPOCH=150, AVG_LOSS=0.524]\n",
      "100%|██████████| 1/1 [00:00<00:00, 41.65it/s]\n"
     ]
    },
    {
     "name": "stdout",
     "output_type": "stream",
     "text": [
      "Accuracy: 0.6857419980601358\n",
      "Precision: 0.6840454172116934\n",
      "Recall: 0.6830542192369369\n",
      "f1_score: 0.6833826205641492\n"
     ]
    },
    {
     "name": "stderr",
     "output_type": "stream",
     "text": [
      "100%|██████████| 1/1 [00:00<00:00, 42.54it/s, EPOCH=151, AVG_LOSS=0.524]\n",
      "100%|██████████| 1/1 [00:00<00:00, 39.99it/s]\n"
     ]
    },
    {
     "name": "stdout",
     "output_type": "stream",
     "text": [
      "Accuracy: 0.6886517943743938\n",
      "Precision: 0.6870298817988523\n",
      "Recall: 0.6856335663066171\n",
      "f1_score: 0.6860419779437923\n"
     ]
    },
    {
     "name": "stderr",
     "output_type": "stream",
     "text": [
      "100%|██████████| 1/1 [00:00<00:00, 45.44it/s, EPOCH=152, AVG_LOSS=0.524]\n",
      "100%|██████████| 1/1 [00:00<00:00, 41.66it/s]\n"
     ]
    },
    {
     "name": "stdout",
     "output_type": "stream",
     "text": [
      "Accuracy: 0.6915615906886518\n",
      "Precision: 0.6900631697946027\n",
      "Recall: 0.6882129133762973\n",
      "f1_score: 0.6886911770291314\n"
     ]
    },
    {
     "name": "stderr",
     "output_type": "stream",
     "text": [
      "100%|██████████| 1/1 [00:00<00:00, 13.07it/s, EPOCH=153, AVG_LOSS=0.523]\n",
      "100%|██████████| 1/1 [00:00<00:00, 12.74it/s]\n"
     ]
    },
    {
     "name": "stdout",
     "output_type": "stream",
     "text": [
      "Accuracy: 0.6905916585838991\n",
      "Precision: 0.6890589331114148\n",
      "Recall: 0.687307116274848\n",
      "f1_score: 0.6877706228752456\n"
     ]
    },
    {
     "name": "stderr",
     "output_type": "stream",
     "text": [
      "100%|██████████| 1/1 [00:00<00:00, 45.44it/s, EPOCH=154, AVG_LOSS=0.523]\n",
      "100%|██████████| 1/1 [00:00<00:00, 41.66it/s]\n"
     ]
    },
    {
     "name": "stdout",
     "output_type": "stream",
     "text": [
      "Accuracy: 0.6867119301648884\n",
      "Precision: 0.6850915331807781\n",
      "Recall: 0.6835458836343833\n",
      "f1_score: 0.6839719286924255\n"
     ]
    },
    {
     "name": "stderr",
     "output_type": "stream",
     "text": [
      "100%|██████████| 1/1 [00:00<00:00, 41.56it/s, EPOCH=155, AVG_LOSS=0.522]\n",
      "100%|██████████| 1/1 [00:00<00:00, 38.37it/s]\n"
     ]
    },
    {
     "name": "stdout",
     "output_type": "stream",
     "text": [
      "Accuracy: 0.6905916585838991\n",
      "Precision: 0.6890589331114148\n",
      "Recall: 0.687307116274848\n",
      "f1_score: 0.6877706228752456\n"
     ]
    },
    {
     "name": "stderr",
     "output_type": "stream",
     "text": [
      "100%|██████████| 1/1 [00:00<00:00, 43.47it/s, EPOCH=156, AVG_LOSS=0.522]\n",
      "100%|██████████| 1/1 [00:00<00:00, 41.66it/s]\n"
     ]
    },
    {
     "name": "stdout",
     "output_type": "stream",
     "text": [
      "Accuracy: 0.6944713870029098\n",
      "Precision: 0.6930395708193864\n",
      "Recall: 0.6910683489153127\n",
      "f1_score: 0.6915697732394647\n"
     ]
    },
    {
     "name": "stderr",
     "output_type": "stream",
     "text": [
      "100%|██████████| 1/1 [00:00<00:00, 47.61it/s, EPOCH=157, AVG_LOSS=0.522]\n",
      "100%|██████████| 1/1 [00:00<00:00, 43.47it/s]\n"
     ]
    },
    {
     "name": "stdout",
     "output_type": "stream",
     "text": [
      "Accuracy: 0.6905916585838991\n",
      "Precision: 0.6890589331114148\n",
      "Recall: 0.687307116274848\n",
      "f1_score: 0.6877706228752456\n"
     ]
    },
    {
     "name": "stderr",
     "output_type": "stream",
     "text": [
      "100%|██████████| 1/1 [00:00<00:00, 46.49it/s, EPOCH=158, AVG_LOSS=0.521]\n",
      "100%|██████████| 1/1 [00:00<00:00, 42.54it/s]\n"
     ]
    },
    {
     "name": "stdout",
     "output_type": "stream",
     "text": [
      "Accuracy: 0.6867119301648884\n",
      "Precision: 0.6851605606248186\n",
      "Recall: 0.6832697951650479\n",
      "f1_score: 0.6837366246233241\n"
     ]
    },
    {
     "name": "stderr",
     "output_type": "stream",
     "text": [
      "100%|██████████| 1/1 [00:00<00:00, 13.58it/s, EPOCH=159, AVG_LOSS=0.521]\n",
      "100%|██████████| 1/1 [00:00<00:00, 13.22it/s]\n"
     ]
    },
    {
     "name": "stdout",
     "output_type": "stream",
     "text": [
      "Accuracy: 0.6886517943743938\n",
      "Precision: 0.6871303131734605\n",
      "Recall: 0.6852194336026142\n",
      "f1_score: 0.6856949117773593\n"
     ]
    },
    {
     "name": "stderr",
     "output_type": "stream",
     "text": [
      "100%|██████████| 1/1 [00:00<00:00, 47.61it/s, EPOCH=160, AVG_LOSS=0.521]\n",
      "100%|██████████| 1/1 [00:00<00:00, 43.47it/s]\n"
     ]
    },
    {
     "name": "stdout",
     "output_type": "stream",
     "text": [
      "Accuracy: 0.6876818622696411\n",
      "Precision: 0.6860056125087458\n",
      "Recall: 0.685003857674503\n",
      "f1_score: 0.6853370488322719\n"
     ]
    },
    {
     "name": "stderr",
     "output_type": "stream",
     "text": [
      "100%|██████████| 1/1 [00:00<00:00, 45.45it/s, EPOCH=161, AVG_LOSS=0.521]\n",
      "100%|██████████| 1/1 [00:00<00:00, 41.66it/s]\n"
     ]
    },
    {
     "name": "stdout",
     "output_type": "stream",
     "text": [
      "Accuracy: 0.6905916585838991\n",
      "Precision: 0.6890589331114148\n",
      "Recall: 0.687307116274848\n",
      "f1_score: 0.6877706228752456\n"
     ]
    },
    {
     "name": "stderr",
     "output_type": "stream",
     "text": [
      "100%|██████████| 1/1 [00:00<00:00, 47.10it/s, EPOCH=162, AVG_LOSS=0.52]\n",
      "100%|██████████| 1/1 [00:00<00:00, 43.05it/s]\n"
     ]
    },
    {
     "name": "stdout",
     "output_type": "stream",
     "text": [
      "Accuracy: 0.6905916585838991\n",
      "Precision: 0.689258748227358\n",
      "Recall: 0.6867549393361774\n",
      "f1_score: 0.6872861251753073\n"
     ]
    },
    {
     "name": "stderr",
     "output_type": "stream",
     "text": [
      "100%|██████████| 1/1 [00:00<00:00, 45.44it/s, EPOCH=163, AVG_LOSS=0.52]\n",
      "100%|██████████| 1/1 [00:00<00:00, 41.66it/s]\n"
     ]
    },
    {
     "name": "stdout",
     "output_type": "stream",
     "text": [
      "Accuracy: 0.6905916585838991\n",
      "Precision: 0.689258748227358\n",
      "Recall: 0.6867549393361774\n",
      "f1_score: 0.6872861251753073\n"
     ]
    },
    {
     "name": "stderr",
     "output_type": "stream",
     "text": [
      "100%|██████████| 1/1 [00:00<00:00, 45.44it/s, EPOCH=164, AVG_LOSS=0.52]\n",
      "100%|██████████| 1/1 [00:00<00:00, 41.66it/s]\n"
     ]
    },
    {
     "name": "stdout",
     "output_type": "stream",
     "text": [
      "Accuracy: 0.6896217264791464\n",
      "Precision: 0.6880943651321065\n",
      "Recall: 0.6862632749387311\n",
      "f1_score: 0.6867332599035284\n"
     ]
    },
    {
     "name": "stderr",
     "output_type": "stream",
     "text": [
      "100%|██████████| 1/1 [00:00<00:00, 13.60it/s, EPOCH=165, AVG_LOSS=0.519]\n",
      "100%|██████████| 1/1 [00:00<00:00, 13.24it/s]\n"
     ]
    },
    {
     "name": "stdout",
     "output_type": "stream",
     "text": [
      "Accuracy: 0.6925315227934045\n",
      "Precision: 0.6909331455113075\n",
      "Recall: 0.689670887416417\n",
      "f1_score: 0.6900636037845531\n"
     ]
    },
    {
     "name": "stderr",
     "output_type": "stream",
     "text": [
      "100%|██████████| 1/1 [00:00<00:00, 45.44it/s, EPOCH=166, AVG_LOSS=0.519]\n",
      "100%|██████████| 1/1 [00:00<00:00, 43.47it/s]\n"
     ]
    },
    {
     "name": "stdout",
     "output_type": "stream",
     "text": [
      "Accuracy: 0.6915615906886518\n",
      "Precision: 0.6899907745560732\n",
      "Recall: 0.6884890018456324\n",
      "f1_score: 0.6889203898528943\n"
     ]
    },
    {
     "name": "stderr",
     "output_type": "stream",
     "text": [
      "100%|██████████| 1/1 [00:00<00:00, 47.61it/s, EPOCH=167, AVG_LOSS=0.518]\n",
      "100%|██████████| 1/1 [00:00<00:00, 43.47it/s]\n"
     ]
    },
    {
     "name": "stdout",
     "output_type": "stream",
     "text": [
      "Accuracy: 0.6905916585838991\n",
      "Precision: 0.689258748227358\n",
      "Recall: 0.6867549393361774\n",
      "f1_score: 0.6872861251753073\n"
     ]
    },
    {
     "name": "stderr",
     "output_type": "stream",
     "text": [
      "100%|██████████| 1/1 [00:00<00:00, 45.45it/s, EPOCH=168, AVG_LOSS=0.519]\n",
      "100%|██████████| 1/1 [00:00<00:00, 43.47it/s]\n"
     ]
    },
    {
     "name": "stdout",
     "output_type": "stream",
     "text": [
      "Accuracy: 0.6925315227934045\n",
      "Precision: 0.6910268058238344\n",
      "Recall: 0.6892567547124142\n",
      "f1_score: 0.6897281738290058\n"
     ]
    },
    {
     "name": "stderr",
     "output_type": "stream",
     "text": [
      "100%|██████████| 1/1 [00:00<00:00, 43.47it/s, EPOCH=169, AVG_LOSS=0.518]\n",
      "100%|██████████| 1/1 [00:00<00:00, 39.99it/s]\n"
     ]
    },
    {
     "name": "stdout",
     "output_type": "stream",
     "text": [
      "Accuracy: 0.6935014548981572\n",
      "Precision: 0.6919559465991658\n",
      "Recall: 0.6904386402831988\n",
      "f1_score: 0.6908768653884108\n"
     ]
    },
    {
     "name": "stderr",
     "output_type": "stream",
     "text": [
      "100%|██████████| 1/1 [00:00<00:00, 34.47it/s, EPOCH=170, AVG_LOSS=0.517]\n",
      "100%|██████████| 1/1 [00:00<00:00, 33.32it/s]\n"
     ]
    },
    {
     "name": "stdout",
     "output_type": "stream",
     "text": [
      "Accuracy: 0.6905916585838991\n",
      "Precision: 0.6889705322470113\n",
      "Recall: 0.6877212489788509\n",
      "f1_score: 0.688108169108115\n"
     ]
    },
    {
     "name": "stderr",
     "output_type": "stream",
     "text": [
      "100%|██████████| 1/1 [00:00<00:00, 38.45it/s, EPOCH=171, AVG_LOSS=0.517]\n",
      "100%|██████████| 1/1 [00:00<00:00, 37.03it/s]\n"
     ]
    },
    {
     "name": "stdout",
     "output_type": "stream",
     "text": [
      "Accuracy: 0.6915615906886518\n",
      "Precision: 0.6899633590810061\n",
      "Recall: 0.6886270460803001\n",
      "f1_score: 0.6890313303841746\n"
     ]
    },
    {
     "name": "stderr",
     "output_type": "stream",
     "text": [
      "100%|██████████| 1/1 [00:00<00:00, 45.44it/s, EPOCH=172, AVG_LOSS=0.517]\n",
      "100%|██████████| 1/1 [00:00<00:00, 41.66it/s]\n"
     ]
    },
    {
     "name": "stdout",
     "output_type": "stream",
     "text": [
      "Accuracy: 0.6915615906886518\n",
      "Precision: 0.6902787897380833\n",
      "Recall: 0.6876607364376267\n",
      "f1_score: 0.688203273001164\n"
     ]
    },
    {
     "name": "stderr",
     "output_type": "stream",
     "text": [
      "100%|██████████| 1/1 [00:00<00:00, 46.48it/s, EPOCH=173, AVG_LOSS=0.517]\n",
      "100%|██████████| 1/1 [00:00<00:00, 42.53it/s]\n"
     ]
    },
    {
     "name": "stdout",
     "output_type": "stream",
     "text": [
      "Accuracy: 0.6915615906886518\n",
      "Precision: 0.6900631697946027\n",
      "Recall: 0.6882129133762973\n",
      "f1_score: 0.6886911770291314\n"
     ]
    },
    {
     "name": "stderr",
     "output_type": "stream",
     "text": [
      "100%|██████████| 1/1 [00:00<00:00, 45.44it/s, EPOCH=174, AVG_LOSS=0.516]\n",
      "100%|██████████| 1/1 [00:00<00:00, 41.66it/s]\n"
     ]
    },
    {
     "name": "stdout",
     "output_type": "stream",
     "text": [
      "Accuracy: 0.6973811833171678\n",
      "Precision: 0.6959249084249084\n",
      "Recall: 0.6941998729236634\n",
      "f1_score: 0.6946785730557201\n"
     ]
    },
    {
     "name": "stderr",
     "output_type": "stream",
     "text": [
      "100%|██████████| 1/1 [00:00<00:00, 13.42it/s, EPOCH=175, AVG_LOSS=0.516]\n",
      "100%|██████████| 1/1 [00:00<00:00, 13.07it/s]\n"
     ]
    },
    {
     "name": "stdout",
     "output_type": "stream",
     "text": [
      "Accuracy: 0.6905916585838991\n",
      "Precision: 0.6891000657221025\n",
      "Recall: 0.6871690720401804\n",
      "f1_score: 0.6876531989313945\n"
     ]
    },
    {
     "name": "stderr",
     "output_type": "stream",
     "text": [
      "100%|██████████| 1/1 [00:00<00:00, 45.44it/s, EPOCH=176, AVG_LOSS=0.516]\n",
      "100%|██████████| 1/1 [00:00<00:00, 39.99it/s]\n"
     ]
    },
    {
     "name": "stdout",
     "output_type": "stream",
     "text": [
      "Accuracy: 0.6896217264791464\n",
      "Precision: 0.6879999085881439\n",
      "Recall: 0.686677407642734\n",
      "f1_score: 0.6870755525878487\n"
     ]
    },
    {
     "name": "stderr",
     "output_type": "stream",
     "text": [
      "100%|██████████| 1/1 [00:00<00:00, 39.99it/s, EPOCH=177, AVG_LOSS=0.516]\n",
      "100%|██████████| 1/1 [00:00<00:00, 37.03it/s]\n"
     ]
    },
    {
     "name": "stdout",
     "output_type": "stream",
     "text": [
      "Accuracy: 0.6973811833171678\n",
      "Precision: 0.6958271492179473\n",
      "Recall: 0.6946140056276664\n",
      "f1_score: 0.6950051200364091\n"
     ]
    },
    {
     "name": "stderr",
     "output_type": "stream",
     "text": [
      "100%|██████████| 1/1 [00:00<00:00, 45.44it/s, EPOCH=178, AVG_LOSS=0.515]\n",
      "100%|██████████| 1/1 [00:00<00:00, 41.66it/s]\n"
     ]
    },
    {
     "name": "stdout",
     "output_type": "stream",
     "text": [
      "Accuracy: 0.6935014548981572\n",
      "Precision: 0.69207890511507\n",
      "Recall: 0.6900245075791958\n",
      "f1_score: 0.6905315551502716\n"
     ]
    },
    {
     "name": "stderr",
     "output_type": "stream",
     "text": [
      "100%|██████████| 1/1 [00:00<00:00, 35.71it/s, EPOCH=179, AVG_LOSS=0.515]\n",
      "100%|██████████| 1/1 [00:00<00:00, 32.25it/s]\n"
     ]
    },
    {
     "name": "stdout",
     "output_type": "stream",
     "text": [
      "Accuracy: 0.6905916585838991\n",
      "Precision: 0.6891000657221025\n",
      "Recall: 0.6871690720401804\n",
      "f1_score: 0.6876531989313945\n"
     ]
    },
    {
     "name": "stderr",
     "output_type": "stream",
     "text": [
      "100%|██████████| 1/1 [00:00<00:00, 46.49it/s, EPOCH=180, AVG_LOSS=0.515]\n",
      "100%|██████████| 1/1 [00:00<00:00, 40.80it/s]\n"
     ]
    },
    {
     "name": "stdout",
     "output_type": "stream",
     "text": [
      "Accuracy: 0.6925315227934045\n",
      "Precision: 0.6909584886104697\n",
      "Recall: 0.6895328431817495\n",
      "f1_score: 0.6899542274398198\n"
     ]
    },
    {
     "name": "stderr",
     "output_type": "stream",
     "text": [
      "100%|██████████| 1/1 [00:00<00:00, 12.82it/s, EPOCH=181, AVG_LOSS=0.515]\n",
      "100%|██████████| 1/1 [00:00<00:00, 12.34it/s]\n"
     ]
    },
    {
     "name": "stdout",
     "output_type": "stream",
     "text": [
      "Accuracy: 0.6935014548981572\n",
      "Precision: 0.6922556275645204\n",
      "Recall: 0.6896103748751929\n",
      "f1_score: 0.6901642587055592\n"
     ]
    },
    {
     "name": "stderr",
     "output_type": "stream",
     "text": [
      "100%|██████████| 1/1 [00:00<00:00, 39.99it/s, EPOCH=182, AVG_LOSS=0.515]\n",
      "100%|██████████| 1/1 [00:00<00:00, 37.03it/s]\n"
     ]
    },
    {
     "name": "stdout",
     "output_type": "stream",
     "text": [
      "Accuracy: 0.6886517943743938\n",
      "Precision: 0.6870298817988523\n",
      "Recall: 0.6856335663066171\n",
      "f1_score: 0.6860419779437923\n"
     ]
    },
    {
     "name": "stderr",
     "output_type": "stream",
     "text": [
      "100%|██████████| 1/1 [00:00<00:00, 43.47it/s, EPOCH=183, AVG_LOSS=0.514]\n",
      "100%|██████████| 1/1 [00:00<00:00, 41.66it/s]\n"
     ]
    },
    {
     "name": "stdout",
     "output_type": "stream",
     "text": [
      "Accuracy: 0.6915615906886518\n",
      "Precision: 0.6899260031028503\n",
      "Recall: 0.6889031345496355\n",
      "f1_score: 0.6892459053685168\n"
     ]
    },
    {
     "name": "stderr",
     "output_type": "stream",
     "text": [
      "100%|██████████| 1/1 [00:00<00:00, 49.17it/s, EPOCH=184, AVG_LOSS=0.514]\n",
      "100%|██████████| 1/1 [00:00<00:00, 44.77it/s]\n"
     ]
    },
    {
     "name": "stdout",
     "output_type": "stream",
     "text": [
      "Accuracy: 0.6935014548981572\n",
      "Precision: 0.6919559465991658\n",
      "Recall: 0.6904386402831988\n",
      "f1_score: 0.6908768653884108\n"
     ]
    },
    {
     "name": "stderr",
     "output_type": "stream",
     "text": [
      "100%|██████████| 1/1 [00:00<00:00, 45.45it/s, EPOCH=185, AVG_LOSS=0.514]\n",
      "100%|██████████| 1/1 [00:00<00:00, 41.66it/s]\n"
     ]
    },
    {
     "name": "stdout",
     "output_type": "stream",
     "text": [
      "Accuracy: 0.6896217264791464\n",
      "Precision: 0.6883019519116462\n",
      "Recall: 0.6857110980000605\n",
      "f1_score: 0.6862422872967688\n"
     ]
    },
    {
     "name": "stderr",
     "output_type": "stream",
     "text": [
      "100%|██████████| 1/1 [00:00<00:00, 45.44it/s, EPOCH=186, AVG_LOSS=0.513]\n",
      "100%|██████████| 1/1 [00:00<00:00, 43.47it/s]\n"
     ]
    },
    {
     "name": "stdout",
     "output_type": "stream",
     "text": [
      "Accuracy: 0.6896217264791464\n",
      "Precision: 0.6880943651321065\n",
      "Recall: 0.6862632749387311\n",
      "f1_score: 0.6867332599035284\n"
     ]
    },
    {
     "name": "stderr",
     "output_type": "stream",
     "text": [
      "100%|██████████| 1/1 [00:00<00:00, 12.74it/s, EPOCH=187, AVG_LOSS=0.514]\n",
      "100%|██████████| 1/1 [00:00<00:00, 12.42it/s]\n"
     ]
    },
    {
     "name": "stdout",
     "output_type": "stream",
     "text": [
      "Accuracy: 0.6905916585838991\n",
      "Precision: 0.6889941852046609\n",
      "Recall: 0.6875832047441832\n",
      "f1_score: 0.687998102691806\n"
     ]
    },
    {
     "name": "stderr",
     "output_type": "stream",
     "text": [
      "100%|██████████| 1/1 [00:00<00:00, 37.03it/s, EPOCH=188, AVG_LOSS=0.513]\n",
      "100%|██████████| 1/1 [00:00<00:00, 35.07it/s]\n"
     ]
    },
    {
     "name": "stdout",
     "output_type": "stream",
     "text": [
      "Accuracy: 0.6886517943743938\n",
      "Precision: 0.6870910603989953\n",
      "Recall: 0.6853574778372817\n",
      "f1_score: 0.6858130719214853\n"
     ]
    },
    {
     "name": "stderr",
     "output_type": "stream",
     "text": [
      "100%|██████████| 1/1 [00:00<00:00, 43.47it/s, EPOCH=189, AVG_LOSS=0.513]\n",
      "100%|██████████| 1/1 [00:00<00:00, 38.45it/s]\n"
     ]
    },
    {
     "name": "stdout",
     "output_type": "stream",
     "text": [
      "Accuracy: 0.6896217264791464\n",
      "Precision: 0.6880943651321065\n",
      "Recall: 0.6862632749387311\n",
      "f1_score: 0.6867332599035284\n"
     ]
    },
    {
     "name": "stderr",
     "output_type": "stream",
     "text": [
      "100%|██████████| 1/1 [00:00<00:00, 41.66it/s, EPOCH=190, AVG_LOSS=0.513]\n",
      "100%|██████████| 1/1 [00:00<00:00, 37.03it/s]\n"
     ]
    },
    {
     "name": "stdout",
     "output_type": "stream",
     "text": [
      "Accuracy: 0.6915615906886518\n",
      "Precision: 0.6899633590810061\n",
      "Recall: 0.6886270460803001\n",
      "f1_score: 0.6890313303841746\n"
     ]
    },
    {
     "name": "stderr",
     "output_type": "stream",
     "text": [
      "100%|██████████| 1/1 [00:00<00:00, 42.53it/s, EPOCH=191, AVG_LOSS=0.512]\n",
      "100%|██████████| 1/1 [00:00<00:00, 39.20it/s]\n"
     ]
    },
    {
     "name": "stdout",
     "output_type": "stream",
     "text": [
      "Accuracy: 0.6896217264791464\n",
      "Precision: 0.6879799824941965\n",
      "Recall: 0.6868154518774017\n",
      "f1_score: 0.6871847384988812\n"
     ]
    },
    {
     "name": "stderr",
     "output_type": "stream",
     "text": [
      "100%|██████████| 1/1 [00:00<00:00, 45.45it/s, EPOCH=192, AVG_LOSS=0.512]\n",
      "100%|██████████| 1/1 [00:00<00:00, 41.66it/s]\n"
     ]
    },
    {
     "name": "stdout",
     "output_type": "stream",
     "text": [
      "Accuracy: 0.6896217264791464\n",
      "Precision: 0.6881374722838137\n",
      "Recall: 0.6861252307040635\n",
      "f1_score: 0.6866142330635663\n"
     ]
    },
    {
     "name": "stderr",
     "output_type": "stream",
     "text": [
      "100%|██████████| 1/1 [00:00<00:00, 41.66it/s, EPOCH=193, AVG_LOSS=0.511]\n",
      "100%|██████████| 1/1 [00:00<00:00, 39.99it/s]\n"
     ]
    },
    {
     "name": "stdout",
     "output_type": "stream",
     "text": [
      "Accuracy: 0.6915615906886518\n",
      "Precision: 0.6901081886994418\n",
      "Recall: 0.6880748691416296\n",
      "f1_score: 0.688572894106919\n"
     ]
    },
    {
     "name": "stderr",
     "output_type": "stream",
     "text": [
      "100%|██████████| 1/1 [00:00<00:00, 43.47it/s, EPOCH=194, AVG_LOSS=0.511]\n",
      "100%|██████████| 1/1 [00:00<00:00, 38.45it/s]\n"
     ]
    },
    {
     "name": "stdout",
     "output_type": "stream",
     "text": [
      "Accuracy: 0.6905916585838991\n",
      "Precision: 0.6890589331114148\n",
      "Recall: 0.687307116274848\n",
      "f1_score: 0.6877706228752456\n"
     ]
    },
    {
     "name": "stderr",
     "output_type": "stream",
     "text": [
      "100%|██████████| 1/1 [00:00<00:00, 44.43it/s, EPOCH=195, AVG_LOSS=0.51]\n",
      "100%|██████████| 1/1 [00:00<00:00, 40.80it/s]\n"
     ]
    },
    {
     "name": "stdout",
     "output_type": "stream",
     "text": [
      "Accuracy: 0.6905916585838991\n",
      "Precision: 0.6890589331114148\n",
      "Recall: 0.687307116274848\n",
      "f1_score: 0.6877706228752456\n"
     ]
    },
    {
     "name": "stderr",
     "output_type": "stream",
     "text": [
      "100%|██████████| 1/1 [00:00<00:00, 39.99it/s, EPOCH=196, AVG_LOSS=0.511]\n",
      "100%|██████████| 1/1 [00:00<00:00, 37.03it/s]\n"
     ]
    },
    {
     "name": "stdout",
     "output_type": "stream",
     "text": [
      "Accuracy: 0.6925315227934045\n",
      "Precision: 0.6909897025171625\n",
      "Recall: 0.6893947989470818\n",
      "f1_score: 0.6898424191811112\n"
     ]
    },
    {
     "name": "stderr",
     "output_type": "stream",
     "text": [
      "100%|██████████| 1/1 [00:00<00:00, 12.12it/s, EPOCH=197, AVG_LOSS=0.51]\n",
      "100%|██████████| 1/1 [00:00<00:00, 11.83it/s]\n"
     ]
    },
    {
     "name": "stdout",
     "output_type": "stream",
     "text": [
      "Accuracy: 0.6896217264791464\n",
      "Precision: 0.6880570818070818\n",
      "Recall: 0.6864013191733986\n",
      "f1_score: 0.6868498185186873\n"
     ]
    },
    {
     "name": "stderr",
     "output_type": "stream",
     "text": [
      "100%|██████████| 1/1 [00:00<00:00, 41.66it/s, EPOCH=198, AVG_LOSS=0.51]\n",
      "100%|██████████| 1/1 [00:00<00:00, 38.45it/s]\n"
     ]
    },
    {
     "name": "stdout",
     "output_type": "stream",
     "text": [
      "Accuracy: 0.6915615906886518\n",
      "Precision: 0.6899907745560732\n",
      "Recall: 0.6884890018456324\n",
      "f1_score: 0.6889203898528943\n"
     ]
    },
    {
     "name": "stderr",
     "output_type": "stream",
     "text": [
      "100%|██████████| 1/1 [00:00<00:00, 44.43it/s, EPOCH=199, AVG_LOSS=0.509]\n",
      "100%|██████████| 1/1 [00:00<00:00, 40.80it/s]\n"
     ]
    },
    {
     "name": "stdout",
     "output_type": "stream",
     "text": [
      "Accuracy: 0.6876818622696411\n",
      "Precision: 0.6861255604696106\n",
      "Recall: 0.6843136365011648\n",
      "f1_score: 0.6847753427779255\n"
     ]
    }
   ],
   "source": [
    "#RNNbased, LSTMbased, GRUbased, BI_RNNbased, BI_LSTMbased, BI_GRUbased\n",
    "RNNmodel = RNNbased().cuda()\n",
    "loss_fn = torch.nn.CrossEntropyLoss()\n",
    "optimizer = torch.optim.Adam(RNNmodel.parameters(), lr=1e-3)\n",
    "epoch(RNNmodel, optimizer, loss_fn)"
   ]
  },
  {
   "cell_type": "code",
   "execution_count": 12,
   "metadata": {},
   "outputs": [
    {
     "data": {
      "image/png": "[encoded data removed]",
      "text/plain": [
       "<Figure size 640x480 with 1 Axes>"
      ]
     },
     "metadata": {},
     "output_type": "display_data"
    }
   ],
   "source": [
    "plt.plot(train_losses, label = \"Training Loss\")\n",
    "plt.plot(val_losses, label = \"Val Loss\")\n",
    "plt.title('Loss')\n",
    "plt.legend()\n",
    "plt.show()"
   ]
  },
  {
   "cell_type": "code",
   "execution_count": 13,
   "metadata": {},
   "outputs": [
    {
     "name": "stderr",
     "output_type": "stream",
     "text": [
      "100%|██████████| 1/1 [00:00<00:00, 38.45it/s, EPOCH=0, AVG_LOSS=0.695]\n",
      "100%|██████████| 1/1 [00:00<00:00, 34.48it/s]\n"
     ]
    },
    {
     "name": "stdout",
     "output_type": "stream",
     "text": [
      "Accuracy: 0.5383123181377304\n",
      "Precision: 0.526702871977555\n",
      "Recall: 0.5173500801791171\n",
      "f1_score: 0.48085288243458246\n"
     ]
    },
    {
     "name": "stderr",
     "output_type": "stream",
     "text": [
      "100%|██████████| 1/1 [00:00<00:00, 43.47it/s, EPOCH=1, AVG_LOSS=0.689]\n",
      "100%|██████████| 1/1 [00:00<00:00, 39.99it/s]\n"
     ]
    },
    {
     "name": "stdout",
     "output_type": "stream",
     "text": [
      "Accuracy: 0.5470417070805044\n",
      "Precision: 0.5441203178206584\n",
      "Recall: 0.5220511482254697\n",
      "f1_score: 0.46583096375797817\n"
     ]
    },
    {
     "name": "stderr",
     "output_type": "stream",
     "text": [
      "100%|██████████| 1/1 [00:00<00:00, 12.34it/s, EPOCH=2, AVG_LOSS=0.684]\n",
      "100%|██████████| 1/1 [00:00<00:00, 12.04it/s]\n"
     ]
    },
    {
     "name": "stdout",
     "output_type": "stream",
     "text": [
      "Accuracy: 0.5441319107662463\n",
      "Precision: 0.5406269315673289\n",
      "Recall: 0.517401137635775\n",
      "f1_score: 0.4497474541011455\n"
     ]
    },
    {
     "name": "stderr",
     "output_type": "stream",
     "text": [
      "100%|██████████| 1/1 [00:00<00:00, 44.43it/s, EPOCH=3, AVG_LOSS=0.681]\n",
      "100%|██████████| 1/1 [00:00<00:00, 40.80it/s]\n"
     ]
    },
    {
     "name": "stdout",
     "output_type": "stream",
     "text": [
      "Accuracy: 0.5402521823472357\n",
      "Precision: 0.5321577748243782\n",
      "Recall: 0.5128116395873045\n",
      "f1_score: 0.43956595932072773\n"
     ]
    },
    {
     "name": "stderr",
     "output_type": "stream",
     "text": [
      "100%|██████████| 1/1 [00:00<00:00, 43.47it/s, EPOCH=4, AVG_LOSS=0.678]\n",
      "100%|██████████| 1/1 [00:00<00:00, 38.45it/s]\n"
     ]
    },
    {
     "name": "stdout",
     "output_type": "stream",
     "text": [
      "Accuracy: 0.553831231813773\n",
      "Precision: 0.5657624043838486\n",
      "Recall: 0.5265971528849355\n",
      "f1_score: 0.4572044645064413\n"
     ]
    },
    {
     "name": "stderr",
     "output_type": "stream",
     "text": [
      "100%|██████████| 1/1 [00:00<00:00, 41.66it/s, EPOCH=5, AVG_LOSS=0.676]\n",
      "100%|██████████| 1/1 [00:00<00:00, 38.45it/s]\n"
     ]
    },
    {
     "name": "stdout",
     "output_type": "stream",
     "text": [
      "Accuracy: 0.5528612997090203\n",
      "Precision: 0.5613730127680763\n",
      "Recall: 0.5261054884874891\n",
      "f1_score: 0.45975968910303405\n"
     ]
    },
    {
     "name": "stderr",
     "output_type": "stream",
     "text": [
      "100%|██████████| 1/1 [00:00<00:00, 46.49it/s, EPOCH=6, AVG_LOSS=0.674]\n",
      "100%|██████████| 1/1 [00:00<00:00, 42.54it/s]\n"
     ]
    },
    {
     "name": "stdout",
     "output_type": "stream",
     "text": [
      "Accuracy: 0.565470417070805\n",
      "Precision: 0.5821328531412565\n",
      "Recall: 0.5403656470303471\n",
      "f1_score: 0.4861836660229427\n"
     ]
    },
    {
     "name": "stderr",
     "output_type": "stream",
     "text": [
      "100%|██████████| 1/1 [00:00<00:00, 43.47it/s, EPOCH=7, AVG_LOSS=0.671]\n",
      "100%|██████████| 1/1 [00:00<00:00, 39.99it/s]\n"
     ]
    },
    {
     "name": "stdout",
     "output_type": "stream",
     "text": [
      "Accuracy: 0.5703200775945684\n",
      "Precision: 0.585147326601556\n",
      "Recall: 0.5466892075882727\n",
      "f1_score: 0.5011135930442762\n"
     ]
    },
    {
     "name": "stderr",
     "output_type": "stream",
     "text": [
      "100%|██████████| 1/1 [00:00<00:00, 12.88it/s, EPOCH=8, AVG_LOSS=0.669]\n",
      "100%|██████████| 1/1 [00:00<00:00, 12.56it/s]\n"
     ]
    },
    {
     "name": "stdout",
     "output_type": "stream",
     "text": [
      "Accuracy: 0.5809893307468477\n",
      "Precision: 0.594602289756039\n",
      "Recall: 0.5596899488669027\n",
      "f1_score: 0.5260577168638801\n"
     ]
    },
    {
     "name": "stderr",
     "output_type": "stream",
     "text": [
      "100%|██████████| 1/1 [00:00<00:00, 47.61it/s, EPOCH=9, AVG_LOSS=0.666]\n",
      "100%|██████████| 1/1 [00:00<00:00, 43.47it/s]\n"
     ]
    },
    {
     "name": "stdout",
     "output_type": "stream",
     "text": [
      "Accuracy: 0.5984481086323957\n",
      "Precision: 0.6129755719771532\n",
      "Recall: 0.5794454025596805\n",
      "f1_score: 0.555936329588015\n"
     ]
    },
    {
     "name": "stderr",
     "output_type": "stream",
     "text": [
      "100%|██████████| 1/1 [00:00<00:00, 46.49it/s, EPOCH=10, AVG_LOSS=0.664]\n",
      "100%|██████████| 1/1 [00:00<00:00, 42.54it/s]\n"
     ]
    },
    {
     "name": "stdout",
     "output_type": "stream",
     "text": [
      "Accuracy: 0.6071774975751697\n",
      "Precision: 0.6210550576184379\n",
      "Recall: 0.5893921515234032\n",
      "f1_score: 0.5703092439776611\n"
     ]
    },
    {
     "name": "stderr",
     "output_type": "stream",
     "text": [
      "100%|██████████| 1/1 [00:00<00:00, 45.44it/s, EPOCH=11, AVG_LOSS=0.661]\n",
      "100%|██████████| 1/1 [00:00<00:00, 41.66it/s]\n"
     ]
    },
    {
     "name": "stdout",
     "output_type": "stream",
     "text": [
      "Accuracy: 0.6197866149369544\n",
      "Precision: 0.6347829531051965\n",
      "Recall: 0.602962088892923\n",
      "f1_score: 0.5873642081189251\n"
     ]
    },
    {
     "name": "stderr",
     "output_type": "stream",
     "text": [
      "100%|██████████| 1/1 [00:00<00:00, 45.44it/s, EPOCH=12, AVG_LOSS=0.658]\n",
      "100%|██████████| 1/1 [00:00<00:00, 43.47it/s]\n"
     ]
    },
    {
     "name": "stdout",
     "output_type": "stream",
     "text": [
      "Accuracy: 0.6188166828322017\n",
      "Precision: 0.6289170767577352\n",
      "Recall: 0.6034367341381501\n",
      "f1_score: 0.5911937502080944\n"
     ]
    },
    {
     "name": "stderr",
     "output_type": "stream",
     "text": [
      "100%|██████████| 1/1 [00:00<00:00, 42.62it/s, EPOCH=13, AVG_LOSS=0.655]\n",
      "100%|██████████| 1/1 [00:00<00:00, 39.27it/s]\n"
     ]
    },
    {
     "name": "stdout",
     "output_type": "stream",
     "text": [
      "Accuracy: 0.6275460717749758\n",
      "Precision: 0.6375736919675755\n",
      "Recall: 0.6129693503978699\n",
      "f1_score: 0.6028696615147576\n"
     ]
    },
    {
     "name": "stderr",
     "output_type": "stream",
     "text": [
      "100%|██████████| 1/1 [00:00<00:00, 13.70it/s, EPOCH=14, AVG_LOSS=0.652]\n",
      "100%|██████████| 1/1 [00:00<00:00, 13.51it/s]\n"
     ]
    },
    {
     "name": "stdout",
     "output_type": "stream",
     "text": [
      "Accuracy: 0.6285160038797284\n",
      "Precision: 0.637797537619699\n",
      "Recall: 0.6142892802033222\n",
      "f1_score: 0.6049124674698362\n"
     ]
    },
    {
     "name": "stderr",
     "output_type": "stream",
     "text": [
      "100%|██████████| 1/1 [00:00<00:00, 47.61it/s, EPOCH=15, AVG_LOSS=0.649]\n",
      "100%|██████████| 1/1 [00:00<00:00, 43.47it/s]\n"
     ]
    },
    {
     "name": "stdout",
     "output_type": "stream",
     "text": [
      "Accuracy: 0.6265761396702231\n",
      "Precision: 0.635084802732583\n",
      "Recall: 0.6124776860004236\n",
      "f1_score: 0.6032479027168476\n"
     ]
    },
    {
     "name": "stderr",
     "output_type": "stream",
     "text": [
      "100%|██████████| 1/1 [00:00<00:00, 47.61it/s, EPOCH=16, AVG_LOSS=0.647]\n",
      "100%|██████████| 1/1 [00:00<00:00, 41.66it/s]\n"
     ]
    },
    {
     "name": "stdout",
     "output_type": "stream",
     "text": [
      "Accuracy: 0.6294859359844811\n",
      "Precision: 0.6373432303292723\n",
      "Recall: 0.6158852984781096\n",
      "f1_score: 0.6076927061336053\n"
     ]
    },
    {
     "name": "stderr",
     "output_type": "stream",
     "text": [
      "100%|██████████| 1/1 [00:00<00:00, 47.61it/s, EPOCH=17, AVG_LOSS=0.644]\n",
      "100%|██████████| 1/1 [00:00<00:00, 43.47it/s]\n"
     ]
    },
    {
     "name": "stdout",
     "output_type": "stream",
     "text": [
      "Accuracy: 0.6333656644034917\n",
      "Precision: 0.6412558847348421\n",
      "Recall: 0.6200606638225772\n",
      "f1_score: 0.6125447387258411\n"
     ]
    },
    {
     "name": "stderr",
     "output_type": "stream",
     "text": [
      "100%|██████████| 1/1 [00:00<00:00, 43.47it/s, EPOCH=18, AVG_LOSS=0.642]\n",
      "100%|██████████| 1/1 [00:00<00:00, 39.99it/s]\n"
     ]
    },
    {
     "name": "stdout",
     "output_type": "stream",
     "text": [
      "Accuracy: 0.6362754607177498\n",
      "Precision: 0.6428353152775595\n",
      "Recall: 0.6237443647695985\n",
      "f1_score: 0.61757290225198\n"
     ]
    },
    {
     "name": "stderr",
     "output_type": "stream",
     "text": [
      "100%|██████████| 1/1 [00:00<00:00, 13.60it/s, EPOCH=19, AVG_LOSS=0.64]\n",
      "100%|██████████| 1/1 [00:00<00:00, 13.24it/s]\n"
     ]
    },
    {
     "name": "stdout",
     "output_type": "stream",
     "text": [
      "Accuracy: 0.6440349175557711\n",
      "Precision: 0.6492849238103345\n",
      "Recall: 0.6326472723972043\n",
      "f1_score: 0.6283195663726636\n"
     ]
    },
    {
     "name": "stderr",
     "output_type": "stream",
     "text": [
      "100%|██████████| 1/1 [00:00<00:00, 45.44it/s, EPOCH=20, AVG_LOSS=0.638]\n",
      "100%|██████████| 1/1 [00:00<00:00, 41.66it/s]\n"
     ]
    },
    {
     "name": "stdout",
     "output_type": "stream",
     "text": [
      "Accuracy: 0.6391852570320078\n",
      "Precision: 0.6419201600133344\n",
      "Recall: 0.6288085080632961\n",
      "f1_score: 0.6255126192205844\n"
     ]
    },
    {
     "name": "stderr",
     "output_type": "stream",
     "text": [
      "100%|██████████| 1/1 [00:00<00:00, 47.61it/s, EPOCH=21, AVG_LOSS=0.636]\n",
      "100%|██████████| 1/1 [00:00<00:00, 43.46it/s]\n"
     ]
    },
    {
     "name": "stdout",
     "output_type": "stream",
     "text": [
      "Accuracy: 0.6420950533462657\n",
      "Precision: 0.6428125784940486\n",
      "Recall: 0.6333204744183232\n",
      "f1_score: 0.6316020858248159\n"
     ]
    },
    {
     "name": "stderr",
     "output_type": "stream",
     "text": [
      "100%|██████████| 1/1 [00:00<00:00, 44.43it/s, EPOCH=22, AVG_LOSS=0.634]\n",
      "100%|██████████| 1/1 [00:00<00:00, 40.80it/s]\n"
     ]
    },
    {
     "name": "stdout",
     "output_type": "stream",
     "text": [
      "Accuracy: 0.6382153249272551\n",
      "Precision: 0.6378946144842956\n",
      "Recall: 0.630111418716529\n",
      "f1_score: 0.6288234811522444\n"
     ]
    },
    {
     "name": "stderr",
     "output_type": "stream",
     "text": [
      "100%|██████████| 1/1 [00:00<00:00, 45.44it/s, EPOCH=23, AVG_LOSS=0.632]\n",
      "100%|██████████| 1/1 [00:00<00:00, 41.66it/s]\n"
     ]
    },
    {
     "name": "stdout",
     "output_type": "stream",
     "text": [
      "Accuracy: 0.6411251212415131\n",
      "Precision: 0.6401773344416737\n",
      "Recall: 0.633933163898218\n",
      "f1_score: 0.63325834487002\n"
     ]
    },
    {
     "name": "stderr",
     "output_type": "stream",
     "text": [
      "100%|██████████| 1/1 [00:00<00:00, 13.24it/s, EPOCH=24, AVG_LOSS=0.63]\n",
      "100%|██████████| 1/1 [00:00<00:00, 13.07it/s]\n"
     ]
    },
    {
     "name": "stdout",
     "output_type": "stream",
     "text": [
      "Accuracy: 0.6430649854510184\n",
      "Precision: 0.6421069684373568\n",
      "Recall: 0.6360208465704518\n",
      "f1_score: 0.635451016564818\n"
     ]
    },
    {
     "name": "stderr",
     "output_type": "stream",
     "text": [
      "100%|██████████| 1/1 [00:00<00:00, 45.44it/s, EPOCH=25, AVG_LOSS=0.629]\n",
      "100%|██████████| 1/1 [00:00<00:00, 43.47it/s]\n"
     ]
    },
    {
     "name": "stdout",
     "output_type": "stream",
     "text": [
      "Accuracy: 0.6450048496605237\n",
      "Precision: 0.6437347931873479\n",
      "Recall: 0.6385226619466884\n",
      "f1_score: 0.6382386777620125\n"
     ]
    },
    {
     "name": "stderr",
     "output_type": "stream",
     "text": [
      "100%|██████████| 1/1 [00:00<00:00, 46.49it/s, EPOCH=26, AVG_LOSS=0.627]\n",
      "100%|██████████| 1/1 [00:00<00:00, 42.54it/s]\n"
     ]
    },
    {
     "name": "stdout",
     "output_type": "stream",
     "text": [
      "Accuracy: 0.6430649854510184\n",
      "Precision: 0.6418997668997669\n",
      "Recall: 0.636296935039787\n",
      "f1_score: 0.635862471399395\n"
     ]
    },
    {
     "name": "stderr",
     "output_type": "stream",
     "text": [
      "100%|██████████| 1/1 [00:00<00:00, 47.61it/s, EPOCH=27, AVG_LOSS=0.626]\n",
      "100%|██████████| 1/1 [00:00<00:00, 43.47it/s]\n"
     ]
    },
    {
     "name": "stdout",
     "output_type": "stream",
     "text": [
      "Accuracy: 0.6440349175557711\n",
      "Precision: 0.643070886035972\n",
      "Recall: 0.6370646879065687\n",
      "f1_score: 0.636545357266701\n"
     ]
    },
    {
     "name": "stderr",
     "output_type": "stream",
     "text": [
      "100%|██████████| 1/1 [00:00<00:00, 47.61it/s, EPOCH=28, AVG_LOSS=0.624]\n",
      "100%|██████████| 1/1 [00:00<00:00, 45.44it/s]\n"
     ]
    },
    {
     "name": "stdout",
     "output_type": "stream",
     "text": [
      "Accuracy: 0.646944713870029\n",
      "Precision: 0.6461807147034186\n",
      "Recall: 0.639920123445584\n",
      "f1_score: 0.6394135055152004\n"
     ]
    },
    {
     "name": "stderr",
     "output_type": "stream",
     "text": [
      "100%|██████████| 1/1 [00:00<00:00, 46.49it/s, EPOCH=29, AVG_LOSS=0.623]\n",
      "100%|██████████| 1/1 [00:00<00:00, 42.54it/s]\n"
     ]
    },
    {
     "name": "stdout",
     "output_type": "stream",
     "text": [
      "Accuracy: 0.6479146459747818\n",
      "Precision: 0.6472585403665299\n",
      "Recall: 0.6408259205470334\n",
      "f1_score: 0.6403007897460837\n"
     ]
    },
    {
     "name": "stderr",
     "output_type": "stream",
     "text": [
      "100%|██████████| 1/1 [00:00<00:00, 13.33it/s, EPOCH=30, AVG_LOSS=0.621]\n",
      "100%|██████████| 1/1 [00:00<00:00, 13.15it/s]\n"
     ]
    },
    {
     "name": "stdout",
     "output_type": "stream",
     "text": [
      "Accuracy: 0.646944713870029\n",
      "Precision: 0.6460675265254605\n",
      "Recall: 0.6400581676802517\n",
      "f1_score: 0.6396184959552582\n"
     ]
    },
    {
     "name": "stderr",
     "output_type": "stream",
     "text": [
      "100%|██████████| 1/1 [00:00<00:00, 47.61it/s, EPOCH=31, AVG_LOSS=0.62]\n",
      "100%|██████████| 1/1 [00:00<00:00, 41.66it/s]\n"
     ]
    },
    {
     "name": "stdout",
     "output_type": "stream",
     "text": [
      "Accuracy: 0.6479146459747818\n",
      "Precision: 0.6467211443449348\n",
      "Recall: 0.6415161417203716\n",
      "f1_score: 0.6413005661511213\n"
     ]
    },
    {
     "name": "stderr",
     "output_type": "stream",
     "text": [
      "100%|██████████| 1/1 [00:00<00:00, 45.44it/s, EPOCH=32, AVG_LOSS=0.618]\n",
      "100%|██████████| 1/1 [00:00<00:00, 41.66it/s]\n"
     ]
    },
    {
     "name": "stdout",
     "output_type": "stream",
     "text": [
      "Accuracy: 0.6508244422890398\n",
      "Precision: 0.6492783376881921\n",
      "Recall: 0.6451998426673928\n",
      "f1_score: 0.6452710451869409\n"
     ]
    },
    {
     "name": "stderr",
     "output_type": "stream",
     "text": [
      "100%|██████████| 1/1 [00:00<00:00, 43.47it/s, EPOCH=33, AVG_LOSS=0.617]\n",
      "100%|██████████| 1/1 [00:00<00:00, 39.20it/s]\n"
     ]
    },
    {
     "name": "stdout",
     "output_type": "stream",
     "text": [
      "Accuracy: 0.6479146459747818\n",
      "Precision: 0.6460608288511396\n",
      "Recall: 0.6427585398323803\n",
      "f1_score: 0.6429145950154425\n"
     ]
    },
    {
     "name": "stderr",
     "output_type": "stream",
     "text": [
      "100%|██████████| 1/1 [00:00<00:00, 43.47it/s, EPOCH=34, AVG_LOSS=0.616]\n",
      "100%|██████████| 1/1 [00:00<00:00, 39.99it/s]\n"
     ]
    },
    {
     "name": "stdout",
     "output_type": "stream",
     "text": [
      "Accuracy: 0.6498545101842871\n",
      "Precision: 0.6478743637721669\n",
      "Recall: 0.645260355208617\n",
      "f1_score: 0.6455205649712132\n"
     ]
    },
    {
     "name": "stderr",
     "output_type": "stream",
     "text": [
      "100%|██████████| 1/1 [00:00<00:00, 43.46it/s, EPOCH=35, AVG_LOSS=0.614]\n",
      "100%|██████████| 1/1 [00:00<00:00, 39.99it/s]\n"
     ]
    },
    {
     "name": "stdout",
     "output_type": "stream",
     "text": [
      "Accuracy: 0.6488845780795345\n",
      "Precision: 0.647085472666868\n",
      "Recall: 0.6436643369338295\n",
      "f1_score: 0.6438150390520618\n"
     ]
    },
    {
     "name": "stderr",
     "output_type": "stream",
     "text": [
      "100%|██████████| 1/1 [00:00<00:00, 13.98it/s, EPOCH=36, AVG_LOSS=0.613]\n",
      "100%|██████████| 1/1 [00:00<00:00, 13.60it/s]\n"
     ]
    },
    {
     "name": "stdout",
     "output_type": "stream",
     "text": [
      "Accuracy: 0.6566440349175557\n",
      "Precision: 0.6553755694871695\n",
      "Recall: 0.6509107137454238\n",
      "f1_score: 0.65100975329891\n"
     ]
    },
    {
     "name": "stderr",
     "output_type": "stream",
     "text": [
      "100%|██████████| 1/1 [00:00<00:00, 45.44it/s, EPOCH=37, AVG_LOSS=0.611]\n",
      "100%|██████████| 1/1 [00:00<00:00, 41.65it/s]\n"
     ]
    },
    {
     "name": "stdout",
     "output_type": "stream",
     "text": [
      "Accuracy: 0.6576139670223085\n",
      "Precision: 0.6568278777232304\n",
      "Recall: 0.6512643339082025\n",
      "f1_score: 0.6511820932543961\n"
     ]
    },
    {
     "name": "stderr",
     "output_type": "stream",
     "text": [
      "100%|██████████| 1/1 [00:00<00:00, 44.43it/s, EPOCH=38, AVG_LOSS=0.609]\n",
      "100%|██████████| 1/1 [00:00<00:00, 40.80it/s]\n"
     ]
    },
    {
     "name": "stdout",
     "output_type": "stream",
     "text": [
      "Accuracy: 0.6585838991270611\n",
      "Precision: 0.6581380331380331\n",
      "Recall: 0.6518940425403165\n",
      "f1_score: 0.6516945378602907\n"
     ]
    },
    {
     "name": "stderr",
     "output_type": "stream",
     "text": [
      "100%|██████████| 1/1 [00:00<00:00, 45.44it/s, EPOCH=39, AVG_LOSS=0.608]\n",
      "100%|██████████| 1/1 [00:00<00:00, 41.66it/s]\n"
     ]
    },
    {
     "name": "stdout",
     "output_type": "stream",
     "text": [
      "Accuracy: 0.6614936954413191\n",
      "Precision: 0.6609913200581281\n",
      "Recall: 0.6550255665486673\n",
      "f1_score: 0.6549481826280665\n"
     ]
    },
    {
     "name": "stderr",
     "output_type": "stream",
     "text": [
      "100%|██████████| 1/1 [00:00<00:00, 39.99it/s, EPOCH=40, AVG_LOSS=0.607]\n",
      "100%|██████████| 1/1 [00:00<00:00, 38.45it/s]\n"
     ]
    },
    {
     "name": "stdout",
     "output_type": "stream",
     "text": [
      "Accuracy: 0.6624636275460718\n",
      "Precision: 0.6615990595146033\n",
      "Recall: 0.656483540588787\n",
      "f1_score: 0.6565754410683655\n"
     ]
    },
    {
     "name": "stderr",
     "output_type": "stream",
     "text": [
      "100%|██████████| 1/1 [00:00<00:00, 12.98it/s, EPOCH=41, AVG_LOSS=0.605]\n",
      "100%|██████████| 1/1 [00:00<00:00, 12.66it/s]\n"
     ]
    },
    {
     "name": "stdout",
     "output_type": "stream",
     "text": [
      "Accuracy: 0.6605237633365665\n",
      "Precision: 0.6591362036074879\n",
      "Recall: 0.655224123324559\n",
      "f1_score: 0.6554591840631852\n"
     ]
    },
    {
     "name": "stderr",
     "output_type": "stream",
     "text": [
      "100%|██████████| 1/1 [00:00<00:00, 44.43it/s, EPOCH=42, AVG_LOSS=0.604]\n",
      "100%|██████████| 1/1 [00:00<00:00, 39.20it/s]\n"
     ]
    },
    {
     "name": "stdout",
     "output_type": "stream",
     "text": [
      "Accuracy: 0.6605237633365665\n",
      "Precision: 0.6592156862745098\n",
      "Recall: 0.6550860790898914\n",
      "f1_score: 0.6552933039876503\n"
     ]
    },
    {
     "name": "stderr",
     "output_type": "stream",
     "text": [
      "100%|██████████| 1/1 [00:00<00:00, 45.44it/s, EPOCH=43, AVG_LOSS=0.602]\n",
      "100%|██████████| 1/1 [00:00<00:00, 43.47it/s]\n"
     ]
    },
    {
     "name": "stdout",
     "output_type": "stream",
     "text": [
      "Accuracy: 0.6624636275460718\n",
      "Precision: 0.661217239370996\n",
      "Recall: 0.6570357175274576\n",
      "f1_score: 0.6572630565362924\n"
     ]
    },
    {
     "name": "stderr",
     "output_type": "stream",
     "text": [
      "100%|██████████| 1/1 [00:00<00:00, 45.45it/s, EPOCH=44, AVG_LOSS=0.601]\n",
      "100%|██████████| 1/1 [00:00<00:00, 41.65it/s]\n"
     ]
    },
    {
     "name": "stdout",
     "output_type": "stream",
     "text": [
      "Accuracy: 0.6595538312318138\n",
      "Precision: 0.6585289227815201\n",
      "Recall: 0.6536281050497716\n",
      "f1_score: 0.6537040492629222\n"
     ]
    },
    {
     "name": "stderr",
     "output_type": "stream",
     "text": [
      "100%|██████████| 1/1 [00:00<00:00, 44.42it/s, EPOCH=45, AVG_LOSS=0.6]\n",
      "100%|██████████| 1/1 [00:00<00:00, 40.80it/s]\n"
     ]
    },
    {
     "name": "stdout",
     "output_type": "stream",
     "text": [
      "Accuracy: 0.6653734238603298\n",
      "Precision: 0.664913264425867\n",
      "Recall: 0.6590628876584672\n",
      "f1_score: 0.6590873149370161\n"
     ]
    },
    {
     "name": "stderr",
     "output_type": "stream",
     "text": [
      "100%|██████████| 1/1 [00:00<00:00, 12.90it/s, EPOCH=46, AVG_LOSS=0.599]\n",
      "100%|██████████| 1/1 [00:00<00:00, 12.58it/s]\n"
     ]
    },
    {
     "name": "stdout",
     "output_type": "stream",
     "text": [
      "Accuracy: 0.6644034917555771\n",
      "Precision: 0.6639647594380347\n",
      "Recall: 0.6580190463223503\n",
      "f1_score: 0.6580070560263833\n"
     ]
    },
    {
     "name": "stderr",
     "output_type": "stream",
     "text": [
      "100%|██████████| 1/1 [00:00<00:00, 45.44it/s, EPOCH=47, AVG_LOSS=0.598]\n",
      "100%|██████████| 1/1 [00:00<00:00, 41.66it/s]\n"
     ]
    },
    {
     "name": "stdout",
     "output_type": "stream",
     "text": [
      "Accuracy: 0.6585838991270611\n",
      "Precision: 0.6575723134847171\n",
      "Recall: 0.6525842637136547\n",
      "f1_score: 0.6526280323450135\n"
     ]
    },
    {
     "name": "stderr",
     "output_type": "stream",
     "text": [
      "100%|██████████| 1/1 [00:00<00:00, 47.61it/s, EPOCH=48, AVG_LOSS=0.596]\n",
      "100%|██████████| 1/1 [00:00<00:00, 41.65it/s]\n"
     ]
    },
    {
     "name": "stdout",
     "output_type": "stream",
     "text": [
      "Accuracy: 0.6634335596508244\n",
      "Precision: 0.6623534035284321\n",
      "Recall: 0.6578034703942393\n",
      "f1_score: 0.6579960442077469\n"
     ]
    },
    {
     "name": "stderr",
     "output_type": "stream",
     "text": [
      "100%|██████████| 1/1 [00:00<00:00, 46.50it/s, EPOCH=49, AVG_LOSS=0.595]\n",
      "100%|██████████| 1/1 [00:00<00:00, 42.54it/s]\n"
     ]
    },
    {
     "name": "stdout",
     "output_type": "stream",
     "text": [
      "Accuracy: 0.6653734238603298\n",
      "Precision: 0.6640919235597713\n",
      "Recall: 0.6601672415358083\n",
      "f1_score: 0.6604619195578402\n"
     ]
    },
    {
     "name": "stderr",
     "output_type": "stream",
     "text": [
      "100%|██████████| 1/1 [00:00<00:00, 47.61it/s, EPOCH=50, AVG_LOSS=0.594]\n",
      "100%|██████████| 1/1 [00:00<00:00, 41.66it/s]\n"
     ]
    },
    {
     "name": "stdout",
     "output_type": "stream",
     "text": [
      "Accuracy: 0.6644034917555771\n",
      "Precision: 0.663218792467482\n",
      "Recall: 0.6589853559650238\n",
      "f1_score: 0.6592328090849344\n"
     ]
    },
    {
     "name": "stderr",
     "output_type": "stream",
     "text": [
      "100%|██████████| 1/1 [00:00<00:00, 34.47it/s, EPOCH=51, AVG_LOSS=0.593]\n",
      "100%|██████████| 1/1 [00:00<00:00, 33.32it/s]\n"
     ]
    },
    {
     "name": "stdout",
     "output_type": "stream",
     "text": [
      "Accuracy: 0.6673132880698351\n",
      "Precision: 0.6662677566752666\n",
      "Recall: 0.6618407915040392\n",
      "f1_score: 0.6621051293884732\n"
     ]
    },
    {
     "name": "stderr",
     "output_type": "stream",
     "text": [
      "100%|██████████| 1/1 [00:00<00:00, 13.51it/s, EPOCH=52, AVG_LOSS=0.591]\n",
      "100%|██████████| 1/1 [00:00<00:00, 13.15it/s]\n"
     ]
    },
    {
     "name": "stdout",
     "output_type": "stream",
     "text": [
      "Accuracy: 0.6692531522793405\n",
      "Precision: 0.668588087451314\n",
      "Recall: 0.6633762972376025\n",
      "f1_score: 0.6635700307654031\n"
     ]
    },
    {
     "name": "stderr",
     "output_type": "stream",
     "text": [
      "100%|██████████| 1/1 [00:00<00:00, 42.54it/s, EPOCH=53, AVG_LOSS=0.59]\n",
      "100%|██████████| 1/1 [00:00<00:00, 39.20it/s]\n"
     ]
    },
    {
     "name": "stdout",
     "output_type": "stream",
     "text": [
      "Accuracy: 0.6702230843840931\n",
      "Precision: 0.6699009536347038\n",
      "Recall: 0.6640060058697165\n",
      "f1_score: 0.6641178950595991\n"
     ]
    },
    {
     "name": "stderr",
     "output_type": "stream",
     "text": [
      "100%|██████████| 1/1 [00:00<00:00, 41.65it/s, EPOCH=54, AVG_LOSS=0.589]\n",
      "100%|██████████| 1/1 [00:00<00:00, 38.45it/s]\n"
     ]
    },
    {
     "name": "stdout",
     "output_type": "stream",
     "text": [
      "Accuracy: 0.6682832201745877\n",
      "Precision: 0.6677573932092005\n",
      "Recall: 0.6621944116668179\n",
      "f1_score: 0.662320722625724\n"
     ]
    },
    {
     "name": "stderr",
     "output_type": "stream",
     "text": [
      "100%|██████████| 1/1 [00:00<00:00, 43.47it/s, EPOCH=55, AVG_LOSS=0.588]\n",
      "100%|██████████| 1/1 [00:00<00:00, 39.99it/s]\n"
     ]
    },
    {
     "name": "stdout",
     "output_type": "stream",
     "text": [
      "Accuracy: 0.6673132880698351\n",
      "Precision: 0.6664679292338866\n",
      "Recall: 0.6615647030347039\n",
      "f1_score: 0.6617690239561106\n"
     ]
    },
    {
     "name": "stderr",
     "output_type": "stream",
     "text": [
      "100%|██████████| 1/1 [00:00<00:00, 46.49it/s, EPOCH=56, AVG_LOSS=0.587]\n",
      "100%|██████████| 1/1 [00:00<00:00, 44.43it/s]\n"
     ]
    },
    {
     "name": "stdout",
     "output_type": "stream",
     "text": [
      "Accuracy: 0.6702230843840931\n",
      "Precision: 0.6691300773919382\n",
      "Recall: 0.6649723155123899\n",
      "f1_score: 0.6653032073756655\n"
     ]
    },
    {
     "name": "stderr",
     "output_type": "stream",
     "text": [
      "100%|██████████| 1/1 [00:00<00:00, 45.44it/s, EPOCH=57, AVG_LOSS=0.586]\n",
      "100%|██████████| 1/1 [00:00<00:00, 43.47it/s]\n"
     ]
    },
    {
     "name": "stdout",
     "output_type": "stream",
     "text": [
      "Accuracy: 0.6741028128031038\n",
      "Precision: 0.6730343300110742\n",
      "Recall: 0.6690096366221899\n",
      "f1_score: 0.6693973843135159\n"
     ]
    },
    {
     "name": "stderr",
     "output_type": "stream",
     "text": [
      "100%|██████████| 1/1 [00:00<00:00, 13.68it/s, EPOCH=58, AVG_LOSS=0.584]\n",
      "100%|██████████| 1/1 [00:00<00:00, 13.32it/s]\n"
     ]
    },
    {
     "name": "stdout",
     "output_type": "stream",
     "text": [
      "Accuracy: 0.6721629485935985\n",
      "Precision: 0.6710382640615199\n",
      "Recall: 0.6670599981846237\n",
      "f1_score: 0.6674295116010964\n"
     ]
    },
    {
     "name": "stderr",
     "output_type": "stream",
     "text": [
      "100%|██████████| 1/1 [00:00<00:00, 45.45it/s, EPOCH=59, AVG_LOSS=0.583]\n",
      "100%|██████████| 1/1 [00:00<00:00, 41.66it/s]"
     ]
    },
    {
     "name": "stdout",
     "output_type": "stream",
     "text": [
      "Accuracy: 0.6721629485935985"
     ]
    },
    {
     "name": "stderr",
     "output_type": "stream",
     "text": [
      "\n"
     ]
    },
    {
     "name": "stdout",
     "output_type": "stream",
     "text": [
      "\n",
      "Precision: 0.6710382640615199\n",
      "Recall: 0.6670599981846237\n",
      "f1_score: 0.6674295116010964\n"
     ]
    },
    {
     "name": "stderr",
     "output_type": "stream",
     "text": [
      "100%|██████████| 1/1 [00:00<00:00, 42.53it/s, EPOCH=60, AVG_LOSS=0.582]\n",
      "100%|██████████| 1/1 [00:00<00:00, 39.19it/s]"
     ]
    },
    {
     "name": "stdout",
     "output_type": "stream",
     "text": [
      "Accuracy: 0.6721629485935985\n",
      "Precision: 0.6709532095901005\n",
      "Recall: 0.6671980424192914\n",
      "f1_score: 0.6675843253968253\n"
     ]
    },
    {
     "name": "stderr",
     "output_type": "stream",
     "text": [
      "\n",
      "100%|██████████| 1/1 [00:00<00:00, 41.66it/s, EPOCH=61, AVG_LOSS=0.581]\n",
      "100%|██████████| 1/1 [00:00<00:00, 38.45it/s]\n"
     ]
    },
    {
     "name": "stdout",
     "output_type": "stream",
     "text": [
      "Accuracy: 0.6711930164888458\n",
      "Precision: 0.6697063149221896\n",
      "Recall: 0.666706378021845\n",
      "f1_score: 0.667123189820613\n"
     ]
    },
    {
     "name": "stderr",
     "output_type": "stream",
     "text": [
      "100%|██████████| 1/1 [00:00<00:00, 45.44it/s, EPOCH=62, AVG_LOSS=0.579]\n",
      "100%|██████████| 1/1 [00:00<00:00, 43.47it/s]\n"
     ]
    },
    {
     "name": "stdout",
     "output_type": "stream",
     "text": [
      "Accuracy: 0.6721629485935985\n",
      "Precision: 0.6707309556279808\n",
      "Recall: 0.6676121751232943\n",
      "f1_score: 0.66803272441833\n"
     ]
    },
    {
     "name": "stderr",
     "output_type": "stream",
     "text": [
      "100%|██████████| 1/1 [00:00<00:00, 13.42it/s, EPOCH=63, AVG_LOSS=0.578]\n",
      "100%|██████████| 1/1 [00:00<00:00, 13.07it/s]\n"
     ]
    },
    {
     "name": "stdout",
     "output_type": "stream",
     "text": [
      "Accuracy: 0.6741028128031038\n",
      "Precision: 0.672716871229457\n",
      "Recall: 0.6695618135608605\n",
      "f1_score: 0.6699970278241387\n"
     ]
    },
    {
     "name": "stderr",
     "output_type": "stream",
     "text": [
      "100%|██████████| 1/1 [00:00<00:00, 45.44it/s, EPOCH=64, AVG_LOSS=0.577]\n",
      "100%|██████████| 1/1 [00:00<00:00, 41.65it/s]\n"
     ]
    },
    {
     "name": "stdout",
     "output_type": "stream",
     "text": [
      "Accuracy: 0.6702230843840931\n",
      "Precision: 0.6688112319679087\n",
      "Recall: 0.6655244924510605\n",
      "f1_score: 0.665920752674235\n"
     ]
    },
    {
     "name": "stderr",
     "output_type": "stream",
     "text": [
      "100%|██████████| 1/1 [00:00<00:00, 45.44it/s, EPOCH=65, AVG_LOSS=0.576]\n",
      "100%|██████████| 1/1 [00:00<00:00, 41.66it/s]\n"
     ]
    },
    {
     "name": "stdout",
     "output_type": "stream",
     "text": [
      "Accuracy: 0.6653734238603298\n",
      "Precision: 0.6637521464267289\n",
      "Recall: 0.6608574627091465\n",
      "f1_score: 0.661231564861686\n"
     ]
    },
    {
     "name": "stderr",
     "output_type": "stream",
     "text": [
      "100%|██████████| 1/1 [00:00<00:00, 39.99it/s, EPOCH=66, AVG_LOSS=0.575]\n",
      "100%|██████████| 1/1 [00:00<00:00, 38.45it/s]\n"
     ]
    },
    {
     "name": "stdout",
     "output_type": "stream",
     "text": [
      "Accuracy: 0.6653734238603298\n",
      "Precision: 0.6637521464267289\n",
      "Recall: 0.6608574627091465\n",
      "f1_score: 0.661231564861686\n"
     ]
    },
    {
     "name": "stderr",
     "output_type": "stream",
     "text": [
      "100%|██████████| 1/1 [00:00<00:00, 44.23it/s, EPOCH=67, AVG_LOSS=0.574]\n",
      "100%|██████████| 1/1 [00:00<00:00, 40.63it/s]\n"
     ]
    },
    {
     "name": "stdout",
     "output_type": "stream",
     "text": [
      "Accuracy: 0.6682832201745877\n",
      "Precision: 0.6667006556670566\n",
      "Recall: 0.6638509424828296\n",
      "f1_score: 0.6642499657205541\n"
     ]
    },
    {
     "name": "stderr",
     "output_type": "stream",
     "text": [
      "100%|██████████| 1/1 [00:00<00:00, 13.33it/s, EPOCH=68, AVG_LOSS=0.572]\n",
      "100%|██████████| 1/1 [00:00<00:00, 12.98it/s]\n"
     ]
    },
    {
     "name": "stdout",
     "output_type": "stream",
     "text": [
      "Accuracy: 0.6682832201745877\n",
      "Precision: 0.6667006556670566\n",
      "Recall: 0.6638509424828296\n",
      "f1_score: 0.6642499657205541\n"
     ]
    },
    {
     "name": "stderr",
     "output_type": "stream",
     "text": [
      "100%|██████████| 1/1 [00:00<00:00, 45.31it/s, EPOCH=69, AVG_LOSS=0.571]\n",
      "100%|██████████| 1/1 [00:00<00:00, 43.47it/s]\n"
     ]
    },
    {
     "name": "stdout",
     "output_type": "stream",
     "text": [
      "Accuracy: 0.6750727449078564\n",
      "Precision: 0.6739009460211464\n",
      "Recall: 0.6701915221929744\n",
      "f1_score: 0.6706104842732087\n"
     ]
    },
    {
     "name": "stderr",
     "output_type": "stream",
     "text": [
      "100%|██████████| 1/1 [00:00<00:00, 45.45it/s, EPOCH=70, AVG_LOSS=0.57]\n",
      "100%|██████████| 1/1 [00:00<00:00, 43.47it/s]\n"
     ]
    },
    {
     "name": "stdout",
     "output_type": "stream",
     "text": [
      "Accuracy: 0.6731328806983511\n",
      "Precision: 0.6719088140728374\n",
      "Recall: 0.6682418837554083\n",
      "f1_score: 0.6686439797017055\n"
     ]
    },
    {
     "name": "stderr",
     "output_type": "stream",
     "text": [
      "100%|██████████| 1/1 [00:00<00:00, 43.47it/s, EPOCH=71, AVG_LOSS=0.569]\n",
      "100%|██████████| 1/1 [00:00<00:00, 41.66it/s]\n"
     ]
    },
    {
     "name": "stdout",
     "output_type": "stream",
     "text": [
      "Accuracy: 0.6731328806983511\n",
      "Precision: 0.6718307358605624\n",
      "Recall: 0.668379927990076\n",
      "f1_score: 0.6687943323257426\n"
     ]
    },
    {
     "name": "stderr",
     "output_type": "stream",
     "text": [
      "100%|██████████| 1/1 [00:00<00:00, 45.44it/s, EPOCH=72, AVG_LOSS=0.568]\n",
      "100%|██████████| 1/1 [00:00<00:00, 41.66it/s]\n"
     ]
    },
    {
     "name": "stdout",
     "output_type": "stream",
     "text": [
      "Accuracy: 0.6731328806983511\n",
      "Precision: 0.6718307358605624\n",
      "Recall: 0.668379927990076\n",
      "f1_score: 0.6687943323257426\n"
     ]
    },
    {
     "name": "stderr",
     "output_type": "stream",
     "text": [
      "100%|██████████| 1/1 [00:00<00:00, 43.47it/s, EPOCH=73, AVG_LOSS=0.567]\n",
      "100%|██████████| 1/1 [00:00<00:00, 39.99it/s]\n"
     ]
    },
    {
     "name": "stdout",
     "output_type": "stream",
     "text": [
      "Accuracy: 0.6711930164888458\n",
      "Precision: 0.6699166821245286\n",
      "Recall: 0.6662922453178421\n",
      "f1_score: 0.6666774751302023\n"
     ]
    },
    {
     "name": "stderr",
     "output_type": "stream",
     "text": [
      "100%|██████████| 1/1 [00:00<00:00, 12.90it/s, EPOCH=74, AVG_LOSS=0.566]\n",
      "100%|██████████| 1/1 [00:00<00:00, 12.74it/s]\n"
     ]
    },
    {
     "name": "stdout",
     "output_type": "stream",
     "text": [
      "Accuracy: 0.6692531522793405\n",
      "Precision: 0.6678515465190777\n",
      "Recall: 0.6644806511149436\n",
      "f1_score: 0.6648631077836149\n"
     ]
    },
    {
     "name": "stderr",
     "output_type": "stream",
     "text": [
      "100%|██████████| 1/1 [00:00<00:00, 45.44it/s, EPOCH=75, AVG_LOSS=0.564]\n",
      "100%|██████████| 1/1 [00:00<00:00, 41.66it/s]\n"
     ]
    },
    {
     "name": "stdout",
     "output_type": "stream",
     "text": [
      "Accuracy: 0.6692531522793405\n",
      "Precision: 0.6677839025518464\n",
      "Recall: 0.6646186953496112\n",
      "f1_score: 0.6650125535371437\n"
     ]
    },
    {
     "name": "stderr",
     "output_type": "stream",
     "text": [
      "100%|██████████| 1/1 [00:00<00:00, 42.54it/s, EPOCH=76, AVG_LOSS=0.563]\n",
      "100%|██████████| 1/1 [00:00<00:00, 40.80it/s]\n"
     ]
    },
    {
     "name": "stdout",
     "output_type": "stream",
     "text": [
      "Accuracy: 0.6692531522793405\n",
      "Precision: 0.6677215920903694\n",
      "Recall: 0.6647567395842788\n",
      "f1_score: 0.665159314834304\n"
     ]
    },
    {
     "name": "stderr",
     "output_type": "stream",
     "text": [
      "100%|██████████| 1/1 [00:00<00:00, 45.44it/s, EPOCH=77, AVG_LOSS=0.562]\n",
      "100%|██████████| 1/1 [00:00<00:00, 41.66it/s]\n"
     ]
    },
    {
     "name": "stdout",
     "output_type": "stream",
     "text": [
      "Accuracy: 0.6682832201745877\n",
      "Precision: 0.6667006556670566\n",
      "Recall: 0.6638509424828296\n",
      "f1_score: 0.6642499657205541\n"
     ]
    },
    {
     "name": "stderr",
     "output_type": "stream",
     "text": [
      "100%|██████████| 1/1 [00:00<00:00, 45.44it/s, EPOCH=78, AVG_LOSS=0.562]\n",
      "100%|██████████| 1/1 [00:00<00:00, 41.65it/s]\n"
     ]
    },
    {
     "name": "stdout",
     "output_type": "stream",
     "text": [
      "Accuracy: 0.6682832201745877\n",
      "Precision: 0.6668919492998215\n",
      "Recall: 0.6634368097788267\n",
      "f1_score: 0.6638043478260869\n"
     ]
    },
    {
     "name": "stderr",
     "output_type": "stream",
     "text": [
      "100%|██████████| 1/1 [00:00<00:00, 45.44it/s, EPOCH=79, AVG_LOSS=0.56]\n",
      "100%|██████████| 1/1 [00:00<00:00, 41.66it/s]\n"
     ]
    },
    {
     "name": "stdout",
     "output_type": "stream",
     "text": [
      "Accuracy: 0.6682832201745877\n",
      "Precision: 0.6668228805060556\n",
      "Recall: 0.6635748540134943\n",
      "f1_score: 0.6639555806311424\n"
     ]
    },
    {
     "name": "stderr",
     "output_type": "stream",
     "text": [
      "100%|██████████| 1/1 [00:00<00:00, 13.42it/s, EPOCH=80, AVG_LOSS=0.56]\n",
      "100%|██████████| 1/1 [00:00<00:00, 13.07it/s]"
     ]
    },
    {
     "name": "stdout",
     "output_type": "stream",
     "text": [
      "Accuracy: 0.6682832201745877\n",
      "Precision: 0.6667591244250284\n",
      "Recall: 0.6637128982481619\n",
      "f1_score: 0.6641041176067126\n"
     ]
    },
    {
     "name": "stderr",
     "output_type": "stream",
     "text": [
      "\n",
      "100%|██████████| 1/1 [00:00<00:00, 45.45it/s, EPOCH=81, AVG_LOSS=0.559]\n",
      "100%|██████████| 1/1 [00:00<00:00, 41.66it/s]\n"
     ]
    },
    {
     "name": "stdout",
     "output_type": "stream",
     "text": [
      "Accuracy: 0.6692531522793405\n",
      "Precision: 0.6677215920903694\n",
      "Recall: 0.6647567395842788\n",
      "f1_score: 0.665159314834304\n"
     ]
    },
    {
     "name": "stderr",
     "output_type": "stream",
     "text": [
      "100%|██████████| 1/1 [00:00<00:00, 45.44it/s, EPOCH=82, AVG_LOSS=0.558]\n",
      "100%|██████████| 1/1 [00:00<00:00, 41.66it/s]\n"
     ]
    },
    {
     "name": "stdout",
     "output_type": "stream",
     "text": [
      "Accuracy: 0.6682832201745877\n",
      "Precision: 0.6668228805060556\n",
      "Recall: 0.6635748540134943\n",
      "f1_score: 0.6639555806311424\n"
     ]
    },
    {
     "name": "stderr",
     "output_type": "stream",
     "text": [
      "100%|██████████| 1/1 [00:00<00:00, 46.50it/s, EPOCH=83, AVG_LOSS=0.557]\n",
      "100%|██████████| 1/1 [00:00<00:00, 42.54it/s]\n"
     ]
    },
    {
     "name": "stdout",
     "output_type": "stream",
     "text": [
      "Accuracy: 0.6692531522793405\n",
      "Precision: 0.6678515465190777\n",
      "Recall: 0.6644806511149436\n",
      "f1_score: 0.6648631077836149\n"
     ]
    },
    {
     "name": "stderr",
     "output_type": "stream",
     "text": [
      "100%|██████████| 1/1 [00:00<00:00, 45.44it/s, EPOCH=84, AVG_LOSS=0.556]\n",
      "100%|██████████| 1/1 [00:00<00:00, 41.66it/s]\n"
     ]
    },
    {
     "name": "stdout",
     "output_type": "stream",
     "text": [
      "Accuracy: 0.6731328806983511\n",
      "Precision: 0.67169103775401\n",
      "Recall: 0.6686560164594113\n",
      "f1_score: 0.669087064806922\n"
     ]
    },
    {
     "name": "stderr",
     "output_type": "stream",
     "text": [
      "100%|██████████| 1/1 [00:00<00:00, 12.57it/s, EPOCH=85, AVG_LOSS=0.555]\n",
      "100%|██████████| 1/1 [00:00<00:00, 12.27it/s]\n"
     ]
    },
    {
     "name": "stdout",
     "output_type": "stream",
     "text": [
      "Accuracy: 0.6711930164888458\n",
      "Precision: 0.6695929906506157\n",
      "Recall: 0.6669824664911803\n",
      "f1_score: 0.6674070119644748\n"
     ]
    },
    {
     "name": "stderr",
     "output_type": "stream",
     "text": [
      "100%|██████████| 1/1 [00:00<00:00, 38.45it/s, EPOCH=86, AVG_LOSS=0.554]\n",
      "100%|██████████| 1/1 [00:00<00:00, 35.71it/s]\n"
     ]
    },
    {
     "name": "stdout",
     "output_type": "stream",
     "text": [
      "Accuracy: 0.6750727449078564\n",
      "Precision: 0.6735532269587997\n",
      "Recall: 0.6708817433663127\n",
      "f1_score: 0.6713314130032422\n"
     ]
    },
    {
     "name": "stderr",
     "output_type": "stream",
     "text": [
      "100%|██████████| 1/1 [00:00<00:00, 40.80it/s, EPOCH=87, AVG_LOSS=0.553]\n",
      "100%|██████████| 1/1 [00:00<00:00, 37.72it/s]\n"
     ]
    },
    {
     "name": "stdout",
     "output_type": "stream",
     "text": [
      "Accuracy: 0.6741028128031038\n",
      "Precision: 0.6726512959428677\n",
      "Recall: 0.6696998577955282\n",
      "f1_score: 0.6701403171991407\n"
     ]
    },
    {
     "name": "stderr",
     "output_type": "stream",
     "text": [
      "100%|██████████| 1/1 [00:00<00:00, 43.47it/s, EPOCH=88, AVG_LOSS=0.552]\n",
      "100%|██████████| 1/1 [00:00<00:00, 39.99it/s]\n"
     ]
    },
    {
     "name": "stdout",
     "output_type": "stream",
     "text": [
      "Accuracy: 0.6750727449078564\n",
      "Precision: 0.6735001611492242\n",
      "Recall: 0.6710197876009802\n",
      "f1_score: 0.6714677203492447\n"
     ]
    },
    {
     "name": "stderr",
     "output_type": "stream",
     "text": [
      "100%|██████████| 1/1 [00:00<00:00, 39.99it/s, EPOCH=89, AVG_LOSS=0.551]\n",
      "100%|██████████| 1/1 [00:00<00:00, 35.70it/s]\n"
     ]
    },
    {
     "name": "stdout",
     "output_type": "stream",
     "text": [
      "Accuracy: 0.6741028128031038\n",
      "Precision: 0.6724872493001495\n",
      "Recall: 0.670113990499531\n",
      "f1_score: 0.6705544016616072\n"
     ]
    },
    {
     "name": "stderr",
     "output_type": "stream",
     "text": [
      "100%|██████████| 1/1 [00:00<00:00, 11.07it/s, EPOCH=90, AVG_LOSS=0.551]\n",
      "100%|██████████| 1/1 [00:00<00:00, 10.71it/s]"
     ]
    },
    {
     "name": "stdout",
     "output_type": "stream",
     "text": [
      "Accuracy: 0.6750727449078564\n",
      "Precision: 0.6735001611492242\n",
      "Recall: 0.6710197876009802\n",
      "f1_score: 0.6714677203492447\n"
     ]
    },
    {
     "name": "stderr",
     "output_type": "stream",
     "text": [
      "\n",
      "100%|██████████| 1/1 [00:00<00:00, 39.99it/s, EPOCH=91, AVG_LOSS=0.55]\n",
      "100%|██████████| 1/1 [00:00<00:00, 35.71it/s]\n"
     ]
    },
    {
     "name": "stdout",
     "output_type": "stream",
     "text": [
      "Accuracy: 0.6721629485935985\n",
      "Precision: 0.6705575006526312\n",
      "Recall: 0.6680263078272972\n",
      "f1_score: 0.6684572059215284\n"
     ]
    },
    {
     "name": "stderr",
     "output_type": "stream",
     "text": [
      "100%|██████████| 1/1 [00:00<00:00, 43.47it/s, EPOCH=92, AVG_LOSS=0.549]\n",
      "100%|██████████| 1/1 [00:00<00:00, 39.99it/s]\n"
     ]
    },
    {
     "name": "stdout",
     "output_type": "stream",
     "text": [
      "Accuracy: 0.6731328806983511\n",
      "Precision: 0.6714767544363958\n",
      "Recall: 0.6692081933980818\n",
      "f1_score: 0.6696408281632557\n"
     ]
    },
    {
     "name": "stderr",
     "output_type": "stream",
     "text": [
      "100%|██████████| 1/1 [00:00<00:00, 42.71it/s, EPOCH=93, AVG_LOSS=0.548]\n",
      "100%|██████████| 1/1 [00:00<00:00, 37.86it/s]\n"
     ]
    },
    {
     "name": "stdout",
     "output_type": "stream",
     "text": [
      "Accuracy: 0.6741028128031038\n",
      "Precision: 0.6725365089602433\n",
      "Recall: 0.6699759462648633\n",
      "f1_score: 0.6704189976024661\n"
     ]
    },
    {
     "name": "stderr",
     "output_type": "stream",
     "text": [
      "100%|██████████| 1/1 [00:00<00:00, 41.66it/s, EPOCH=94, AVG_LOSS=0.547]\n",
      "100%|██████████| 1/1 [00:00<00:00, 37.03it/s]\n"
     ]
    },
    {
     "name": "stdout",
     "output_type": "stream",
     "text": [
      "Accuracy: 0.6731328806983511\n",
      "Precision: 0.6715731088047077\n",
      "Recall: 0.6689321049287464\n",
      "f1_score: 0.6693692124838586\n"
     ]
    },
    {
     "name": "stderr",
     "output_type": "stream",
     "text": [
      "100%|██████████| 1/1 [00:00<00:00, 43.27it/s, EPOCH=95, AVG_LOSS=0.547]\n",
      "100%|██████████| 1/1 [00:00<00:00, 39.82it/s]\n"
     ]
    },
    {
     "name": "stdout",
     "output_type": "stream",
     "text": [
      "Accuracy: 0.6750727449078564\n",
      "Precision: 0.6735001611492242\n",
      "Recall: 0.6710197876009802\n",
      "f1_score: 0.6714677203492447\n"
     ]
    },
    {
     "name": "stderr",
     "output_type": "stream",
     "text": [
      "100%|██████████| 1/1 [00:00<00:00, 11.97it/s, EPOCH=96, AVG_LOSS=0.545]\n",
      "100%|██████████| 1/1 [00:00<00:00, 11.69it/s]\n"
     ]
    },
    {
     "name": "stdout",
     "output_type": "stream",
     "text": [
      "Accuracy: 0.6750727449078564\n",
      "Precision: 0.6735001611492242\n",
      "Recall: 0.6710197876009802\n",
      "f1_score: 0.6714677203492447\n"
     ]
    },
    {
     "name": "stderr",
     "output_type": "stream",
     "text": [
      "100%|██████████| 1/1 [00:00<00:00, 37.72it/s, EPOCH=97, AVG_LOSS=0.545]\n",
      "100%|██████████| 1/1 [00:00<00:00, 35.07it/s]\n"
     ]
    },
    {
     "name": "stdout",
     "output_type": "stream",
     "text": [
      "Accuracy: 0.6750727449078564\n",
      "Precision: 0.6736117520381479\n",
      "Recall: 0.6707436991316451\n",
      "f1_score: 0.6711924883165448\n"
     ]
    },
    {
     "name": "stderr",
     "output_type": "stream",
     "text": [
      "100%|██████████| 1/1 [00:00<00:00, 39.99it/s, EPOCH=98, AVG_LOSS=0.544]\n",
      "100%|██████████| 1/1 [00:00<00:00, 37.03it/s]\n"
     ]
    },
    {
     "name": "stdout",
     "output_type": "stream",
     "text": [
      "Accuracy: 0.6750727449078564\n",
      "Precision: 0.6736757605858301\n",
      "Recall: 0.6706056548969774\n",
      "f1_score: 0.6710509397932312\n"
     ]
    },
    {
     "name": "stderr",
     "output_type": "stream",
     "text": [
      "100%|██████████| 1/1 [00:00<00:00, 43.47it/s, EPOCH=99, AVG_LOSS=0.543]\n",
      "100%|██████████| 1/1 [00:00<00:00, 39.99it/s]\n"
     ]
    },
    {
     "name": "stdout",
     "output_type": "stream",
     "text": [
      "Accuracy: 0.6731328806983511\n",
      "Precision: 0.6715222462667096\n",
      "Recall: 0.6690701491634141\n",
      "f1_score: 0.6695063336050612\n"
     ]
    },
    {
     "name": "stderr",
     "output_type": "stream",
     "text": [
      "100%|██████████| 1/1 [00:00<00:00, 44.43it/s, EPOCH=100, AVG_LOSS=0.542]\n",
      "100%|██████████| 1/1 [00:00<00:00, 40.80it/s]\n"
     ]
    },
    {
     "name": "stdout",
     "output_type": "stream",
     "text": [
      "Accuracy: 0.6770126091173618\n",
      "Precision: 0.6756604834176503\n",
      "Recall: 0.6725552933345436\n",
      "f1_score: 0.6730148147795403\n"
     ]
    },
    {
     "name": "stderr",
     "output_type": "stream",
     "text": [
      "100%|██████████| 1/1 [00:00<00:00, 41.66it/s, EPOCH=101, AVG_LOSS=0.541]\n",
      "100%|██████████| 1/1 [00:00<00:00, 37.03it/s]\n"
     ]
    },
    {
     "name": "stdout",
     "output_type": "stream",
     "text": [
      "Accuracy: 0.6799224054316197\n",
      "Precision: 0.678837078174361\n",
      "Recall: 0.6751346404042238\n",
      "f1_score: 0.6756006864988559\n"
     ]
    },
    {
     "name": "stderr",
     "output_type": "stream",
     "text": [
      "100%|██████████| 1/1 [00:00<00:00, 12.42it/s, EPOCH=102, AVG_LOSS=0.541]\n",
      "100%|██████████| 1/1 [00:00<00:00, 12.12it/s]\n"
     ]
    },
    {
     "name": "stdout",
     "output_type": "stream",
     "text": [
      "Accuracy: 0.6789524733268671\n",
      "Precision: 0.6777195281782438\n",
      "Recall: 0.6743668875374421\n",
      "f1_score: 0.6748362323190457\n"
     ]
    },
    {
     "name": "stderr",
     "output_type": "stream",
     "text": [
      "100%|██████████| 1/1 [00:00<00:00, 43.47it/s, EPOCH=103, AVG_LOSS=0.54]\n",
      "100%|██████████| 1/1 [00:00<00:00, 39.99it/s]\n"
     ]
    },
    {
     "name": "stdout",
     "output_type": "stream",
     "text": [
      "Accuracy: 0.6731328806983511\n",
      "Precision: 0.6715222462667096\n",
      "Recall: 0.6690701491634141\n",
      "f1_score: 0.6695063336050612\n"
     ]
    },
    {
     "name": "stderr",
     "output_type": "stream",
     "text": [
      "100%|██████████| 1/1 [00:00<00:00, 42.53it/s, EPOCH=104, AVG_LOSS=0.539]\n",
      "100%|██████████| 1/1 [00:00<00:00, 39.20it/s]\n"
     ]
    },
    {
     "name": "stdout",
     "output_type": "stream",
     "text": [
      "Accuracy: 0.6770126091173618\n",
      "Precision: 0.6755333451128918\n",
      "Recall: 0.6728313818038789\n",
      "f1_score: 0.6732936135226257\n"
     ]
    },
    {
     "name": "stderr",
     "output_type": "stream",
     "text": [
      "100%|██████████| 1/1 [00:00<00:00, 41.65it/s, EPOCH=105, AVG_LOSS=0.538]\n",
      "100%|██████████| 1/1 [00:00<00:00, 38.45it/s]\n"
     ]
    },
    {
     "name": "stdout",
     "output_type": "stream",
     "text": [
      "Accuracy: 0.6789524733268671\n",
      "Precision: 0.6775765266882019\n",
      "Recall: 0.6746429760067774\n",
      "f1_score: 0.6751185481575412\n"
     ]
    },
    {
     "name": "stderr",
     "output_type": "stream",
     "text": [
      "100%|██████████| 1/1 [00:00<00:00, 43.47it/s, EPOCH=106, AVG_LOSS=0.537]\n",
      "100%|██████████| 1/1 [00:00<00:00, 38.45it/s]\n"
     ]
    },
    {
     "name": "stdout",
     "output_type": "stream",
     "text": [
      "Accuracy: 0.6770126091173618\n",
      "Precision: 0.6755333451128918\n",
      "Recall: 0.6728313818038789\n",
      "f1_score: 0.6732936135226257\n"
     ]
    },
    {
     "name": "stderr",
     "output_type": "stream",
     "text": [
      "100%|██████████| 1/1 [00:00<00:00, 12.82it/s, EPOCH=107, AVG_LOSS=0.536]\n",
      "100%|██████████| 1/1 [00:00<00:00, 12.50it/s]\n"
     ]
    },
    {
     "name": "stdout",
     "output_type": "stream",
     "text": [
      "Accuracy: 0.6760426770126091\n",
      "Precision: 0.674572427841193\n",
      "Recall: 0.671787540467762\n",
      "f1_score: 0.67224358486256\n"
     ]
    },
    {
     "name": "stderr",
     "output_type": "stream",
     "text": [
      "100%|██████████| 1/1 [00:00<00:00, 44.43it/s, EPOCH=108, AVG_LOSS=0.536]\n",
      "100%|██████████| 1/1 [00:00<00:00, 42.53it/s]\n"
     ]
    },
    {
     "name": "stdout",
     "output_type": "stream",
     "text": [
      "Accuracy: 0.6741028128031038\n",
      "Precision: 0.6725365089602433\n",
      "Recall: 0.6699759462648633\n",
      "f1_score: 0.6704189976024661\n"
     ]
    },
    {
     "name": "stderr",
     "output_type": "stream",
     "text": [
      "100%|██████████| 1/1 [00:00<00:00, 45.44it/s, EPOCH=109, AVG_LOSS=0.535]\n",
      "100%|██████████| 1/1 [00:00<00:00, 43.47it/s]\n"
     ]
    },
    {
     "name": "stdout",
     "output_type": "stream",
     "text": [
      "Accuracy: 0.6770126091173618\n",
      "Precision: 0.6755333451128918\n",
      "Recall: 0.6728313818038789\n",
      "f1_score: 0.6732936135226257\n"
     ]
    },
    {
     "name": "stderr",
     "output_type": "stream",
     "text": [
      "100%|██████████| 1/1 [00:00<00:00, 47.61it/s, EPOCH=110, AVG_LOSS=0.534]\n",
      "100%|██████████| 1/1 [00:00<00:00, 43.47it/s]\n"
     ]
    },
    {
     "name": "stdout",
     "output_type": "stream",
     "text": [
      "Accuracy: 0.6750727449078564\n",
      "Precision: 0.6735001611492242\n",
      "Recall: 0.6710197876009802\n",
      "f1_score: 0.6714677203492447\n"
     ]
    },
    {
     "name": "stderr",
     "output_type": "stream",
     "text": [
      "100%|██████████| 1/1 [00:00<00:00, 46.49it/s, EPOCH=111, AVG_LOSS=0.533]\n",
      "100%|██████████| 1/1 [00:00<00:00, 42.54it/s]\n"
     ]
    },
    {
     "name": "stdout",
     "output_type": "stream",
     "text": [
      "Accuracy: 0.6760426770126091\n",
      "Precision: 0.6744640871265866\n",
      "Recall: 0.6720636289370971\n",
      "f1_score: 0.6725153873660024\n"
     ]
    },
    {
     "name": "stderr",
     "output_type": "stream",
     "text": [
      "100%|██████████| 1/1 [00:00<00:00, 13.42it/s, EPOCH=112, AVG_LOSS=0.532]\n",
      "100%|██████████| 1/1 [00:00<00:00, 13.07it/s]\n"
     ]
    },
    {
     "name": "stdout",
     "output_type": "stream",
     "text": [
      "Accuracy: 0.6750727449078564\n",
      "Precision: 0.6735001611492242\n",
      "Recall: 0.6710197876009802\n",
      "f1_score: 0.6714677203492447\n"
     ]
    },
    {
     "name": "stderr",
     "output_type": "stream",
     "text": [
      "100%|██████████| 1/1 [00:00<00:00, 43.47it/s, EPOCH=113, AVG_LOSS=0.531]\n",
      "100%|██████████| 1/1 [00:00<00:00, 41.66it/s]"
     ]
    },
    {
     "name": "stdout",
     "output_type": "stream",
     "text": [
      "Accuracy: 0.6741028128031038\n",
      "Precision: 0.6725911833660018\n",
      "Recall: 0.6698379020301958\n",
      "f1_score: 0.6702809715982639\n"
     ]
    },
    {
     "name": "stderr",
     "output_type": "stream",
     "text": [
      "\n",
      "100%|██████████| 1/1 [00:00<00:00, 45.44it/s, EPOCH=114, AVG_LOSS=0.53]\n",
      "100%|██████████| 1/1 [00:00<00:00, 41.66it/s]"
     ]
    },
    {
     "name": "stdout",
     "output_type": "stream",
     "text": [
      "Accuracy: 0.6731328806983511"
     ]
    },
    {
     "name": "stderr",
     "output_type": "stream",
     "text": [
      "\n"
     ]
    },
    {
     "name": "stdout",
     "output_type": "stream",
     "text": [
      "\n",
      "Precision: 0.6715731088047077\n",
      "Recall: 0.6689321049287464\n",
      "f1_score: 0.6693692124838586\n"
     ]
    },
    {
     "name": "stderr",
     "output_type": "stream",
     "text": [
      "100%|██████████| 1/1 [00:00<00:00, 46.49it/s, EPOCH=115, AVG_LOSS=0.529]\n",
      "100%|██████████| 1/1 [00:00<00:00, 42.54it/s]\n"
     ]
    },
    {
     "name": "stdout",
     "output_type": "stream",
     "text": [
      "Accuracy: 0.6721629485935985\n",
      "Precision: 0.6705104114737125\n",
      "Recall: 0.6681643520619649\n",
      "f1_score: 0.6685934159572121\n"
     ]
    },
    {
     "name": "stderr",
     "output_type": "stream",
     "text": [
      "100%|██████████| 1/1 [00:00<00:00, 47.61it/s, EPOCH=116, AVG_LOSS=0.528]\n",
      "100%|██████████| 1/1 [00:00<00:00, 43.47it/s]\n"
     ]
    },
    {
     "name": "stdout",
     "output_type": "stream",
     "text": [
      "Accuracy: 0.6741028128031038\n",
      "Precision: 0.6724872493001495\n",
      "Recall: 0.670113990499531\n",
      "f1_score: 0.6705544016616072\n"
     ]
    },
    {
     "name": "stderr",
     "output_type": "stream",
     "text": [
      "100%|██████████| 1/1 [00:00<00:00, 43.47it/s, EPOCH=117, AVG_LOSS=0.528]\n",
      "100%|██████████| 1/1 [00:00<00:00, 41.66it/s]\n"
     ]
    },
    {
     "name": "stdout",
     "output_type": "stream",
     "text": [
      "Accuracy: 0.6779825412221144\n",
      "Precision: 0.6767646378153205\n",
      "Recall: 0.6733230462013252\n",
      "f1_score: 0.6737814408466061\n"
     ]
    },
    {
     "name": "stderr",
     "output_type": "stream",
     "text": [
      "100%|██████████| 1/1 [00:00<00:00, 13.07it/s, EPOCH=118, AVG_LOSS=0.527]\n",
      "100%|██████████| 1/1 [00:00<00:00, 12.58it/s]\n"
     ]
    },
    {
     "name": "stdout",
     "output_type": "stream",
     "text": [
      "Accuracy: 0.6750727449078564\n",
      "Precision: 0.6736117520381479\n",
      "Recall: 0.6707436991316451\n",
      "f1_score: 0.6711924883165448\n"
     ]
    },
    {
     "name": "stderr",
     "output_type": "stream",
     "text": [
      "100%|██████████| 1/1 [00:00<00:00, 44.23it/s, EPOCH=119, AVG_LOSS=0.526]\n",
      "100%|██████████| 1/1 [00:00<00:00, 40.63it/s]\n"
     ]
    },
    {
     "name": "stdout",
     "output_type": "stream",
     "text": [
      "Accuracy: 0.6731328806983511\n",
      "Precision: 0.6715731088047077\n",
      "Recall: 0.6689321049287464\n",
      "f1_score: 0.6693692124838586\n"
     ]
    },
    {
     "name": "stderr",
     "output_type": "stream",
     "text": [
      "100%|██████████| 1/1 [00:00<00:00, 45.44it/s, EPOCH=120, AVG_LOSS=0.525]\n",
      "100%|██████████| 1/1 [00:00<00:00, 41.66it/s]\n"
     ]
    },
    {
     "name": "stdout",
     "output_type": "stream",
     "text": [
      "Accuracy: 0.6750727449078564\n",
      "Precision: 0.6736117520381479\n",
      "Recall: 0.6707436991316451\n",
      "f1_score: 0.6711924883165448\n"
     ]
    },
    {
     "name": "stderr",
     "output_type": "stream",
     "text": [
      "100%|██████████| 1/1 [00:00<00:00, 45.44it/s, EPOCH=121, AVG_LOSS=0.525]\n",
      "100%|██████████| 1/1 [00:00<00:00, 41.66it/s]\n"
     ]
    },
    {
     "name": "stdout",
     "output_type": "stream",
     "text": [
      "Accuracy: 0.6750727449078564\n",
      "Precision: 0.6736117520381479\n",
      "Recall: 0.6707436991316451\n",
      "f1_score: 0.6711924883165448\n"
     ]
    },
    {
     "name": "stderr",
     "output_type": "stream",
     "text": [
      "100%|██████████| 1/1 [00:00<00:00, 44.42it/s, EPOCH=122, AVG_LOSS=0.524]\n",
      "100%|██████████| 1/1 [00:00<00:00, 42.53it/s]\n"
     ]
    },
    {
     "name": "stdout",
     "output_type": "stream",
     "text": [
      "Accuracy: 0.6702230843840931\n",
      "Precision: 0.6685335736472754\n",
      "Recall: 0.6662147136243987\n",
      "f1_score: 0.6666324302528169\n"
     ]
    },
    {
     "name": "stderr",
     "output_type": "stream",
     "text": [
      "100%|██████████| 1/1 [00:00<00:00, 47.61it/s, EPOCH=123, AVG_LOSS=0.523]\n",
      "100%|██████████| 1/1 [00:00<00:00, 43.47it/s]\n"
     ]
    },
    {
     "name": "stdout",
     "output_type": "stream",
     "text": [
      "Accuracy: 0.6750727449078564\n",
      "Precision: 0.6736117520381479\n",
      "Recall: 0.6707436991316451\n",
      "f1_score: 0.6711924883165448\n"
     ]
    },
    {
     "name": "stderr",
     "output_type": "stream",
     "text": [
      "100%|██████████| 1/1 [00:00<00:00, 13.79it/s, EPOCH=124, AVG_LOSS=0.522]\n",
      "100%|██████████| 1/1 [00:00<00:00, 13.42it/s]"
     ]
    },
    {
     "name": "stdout",
     "output_type": "stream",
     "text": [
      "Accuracy: 0.6770126091173618"
     ]
    },
    {
     "name": "stderr",
     "output_type": "stream",
     "text": [
      "\n"
     ]
    },
    {
     "name": "stdout",
     "output_type": "stream",
     "text": [
      "\n",
      "Precision: 0.6756604834176503\n",
      "Recall: 0.6725552933345436\n",
      "f1_score: 0.6730148147795403\n"
     ]
    },
    {
     "name": "stderr",
     "output_type": "stream",
     "text": [
      "100%|██████████| 1/1 [00:00<00:00, 47.61it/s, EPOCH=125, AVG_LOSS=0.522]\n",
      "100%|██████████| 1/1 [00:00<00:00, 43.47it/s]\n"
     ]
    },
    {
     "name": "stdout",
     "output_type": "stream",
     "text": [
      "Accuracy: 0.6731328806983511\n",
      "Precision: 0.6715222462667096\n",
      "Recall: 0.6690701491634141\n",
      "f1_score: 0.6695063336050612\n"
     ]
    },
    {
     "name": "stderr",
     "output_type": "stream",
     "text": [
      "100%|██████████| 1/1 [00:00<00:00, 43.47it/s, EPOCH=126, AVG_LOSS=0.521]\n",
      "100%|██████████| 1/1 [00:00<00:00, 41.66it/s]\n"
     ]
    },
    {
     "name": "stdout",
     "output_type": "stream",
     "text": [
      "Accuracy: 0.6692531522793405\n",
      "Precision: 0.6674892030139672\n",
      "Recall: 0.665446960757617\n",
      "f1_score: 0.6658530905911257\n"
     ]
    },
    {
     "name": "stderr",
     "output_type": "stream",
     "text": [
      "100%|██████████| 1/1 [00:00<00:00, 45.44it/s, EPOCH=127, AVG_LOSS=0.52]\n",
      "100%|██████████| 1/1 [00:00<00:00, 41.66it/s]\n"
     ]
    },
    {
     "name": "stdout",
     "output_type": "stream",
     "text": [
      "Accuracy: 0.6760426770126091\n",
      "Precision: 0.6746348427014714\n",
      "Recall: 0.6716494962330943\n",
      "f1_score: 0.672103767692003\n"
     ]
    },
    {
     "name": "stderr",
     "output_type": "stream",
     "text": [
      "100%|██████████| 1/1 [00:00<00:00, 45.44it/s, EPOCH=128, AVG_LOSS=0.519]\n",
      "100%|██████████| 1/1 [00:00<00:00, 39.99it/s]\n"
     ]
    },
    {
     "name": "stdout",
     "output_type": "stream",
     "text": [
      "Accuracy: 0.6721629485935985\n",
      "Precision: 0.6705575006526312\n",
      "Recall: 0.6680263078272972\n",
      "f1_score: 0.6684572059215284\n"
     ]
    },
    {
     "name": "stderr",
     "output_type": "stream",
     "text": [
      "100%|██████████| 1/1 [00:00<00:00, 12.90it/s, EPOCH=129, AVG_LOSS=0.519]\n",
      "100%|██████████| 1/1 [00:00<00:00, 12.57it/s]\n"
     ]
    },
    {
     "name": "stdout",
     "output_type": "stream",
     "text": [
      "Accuracy: 0.6682832201745877\n",
      "Precision: 0.6664595917119045\n",
      "Recall: 0.6646792078908353\n",
      "f1_score: 0.6650689615866864\n"
     ]
    },
    {
     "name": "stderr",
     "output_type": "stream",
     "text": [
      "100%|██████████| 1/1 [00:00<00:00, 43.47it/s, EPOCH=130, AVG_LOSS=0.518]\n",
      "100%|██████████| 1/1 [00:00<00:00, 41.66it/s]\n"
     ]
    },
    {
     "name": "stdout",
     "output_type": "stream",
     "text": [
      "Accuracy: 0.6721629485935985\n",
      "Precision: 0.6705575006526312\n",
      "Recall: 0.6680263078272972\n",
      "f1_score: 0.6684572059215284\n"
     ]
    },
    {
     "name": "stderr",
     "output_type": "stream",
     "text": [
      "100%|██████████| 1/1 [00:00<00:00, 44.42it/s, EPOCH=131, AVG_LOSS=0.517]\n",
      "100%|██████████| 1/1 [00:00<00:00, 42.54it/s]\n"
     ]
    },
    {
     "name": "stdout",
     "output_type": "stream",
     "text": [
      "Accuracy: 0.6731328806983511\n",
      "Precision: 0.67169103775401\n",
      "Recall: 0.6686560164594113\n",
      "f1_score: 0.669087064806922\n"
     ]
    },
    {
     "name": "stderr",
     "output_type": "stream",
     "text": [
      "100%|██████████| 1/1 [00:00<00:00, 45.44it/s, EPOCH=132, AVG_LOSS=0.517]\n",
      "100%|██████████| 1/1 [00:00<00:00, 41.66it/s]\n"
     ]
    },
    {
     "name": "stdout",
     "output_type": "stream",
     "text": [
      "Accuracy: 0.6750727449078564\n",
      "Precision: 0.6735001611492242\n",
      "Recall: 0.6710197876009802\n",
      "f1_score: 0.6714677203492447\n"
     ]
    },
    {
     "name": "stderr",
     "output_type": "stream",
     "text": [
      "100%|██████████| 1/1 [00:00<00:00, 45.44it/s, EPOCH=133, AVG_LOSS=0.516]\n",
      "100%|██████████| 1/1 [00:00<00:00, 41.66it/s]\n"
     ]
    },
    {
     "name": "stdout",
     "output_type": "stream",
     "text": [
      "Accuracy: 0.6721629485935985\n",
      "Precision: 0.6705104114737125\n",
      "Recall: 0.6681643520619649\n",
      "f1_score: 0.6685934159572121\n"
     ]
    },
    {
     "name": "stderr",
     "output_type": "stream",
     "text": [
      "100%|██████████| 1/1 [00:00<00:00, 12.80it/s, EPOCH=134, AVG_LOSS=0.515]\n",
      "100%|██████████| 1/1 [00:00<00:00, 12.50it/s]\n"
     ]
    },
    {
     "name": "stdout",
     "output_type": "stream",
     "text": [
      "Accuracy: 0.6779825412221144\n",
      "Precision: 0.6767646378153205\n",
      "Recall: 0.6733230462013252\n",
      "f1_score: 0.6737814408466061\n"
     ]
    },
    {
     "name": "stderr",
     "output_type": "stream",
     "text": [
      "100%|██████████| 1/1 [00:00<00:00, 44.43it/s, EPOCH=135, AVG_LOSS=0.514]\n",
      "100%|██████████| 1/1 [00:00<00:00, 39.20it/s]\n"
     ]
    },
    {
     "name": "stdout",
     "output_type": "stream",
     "text": [
      "Accuracy: 0.6789524733268671\n",
      "Precision: 0.6775134632669837\n",
      "Recall: 0.674781020241445\n",
      "f1_score: 0.6752558140420094\n"
     ]
    },
    {
     "name": "stderr",
     "output_type": "stream",
     "text": [
      "100%|██████████| 1/1 [00:00<00:00, 34.48it/s, EPOCH=136, AVG_LOSS=0.513]\n",
      "100%|██████████| 1/1 [00:00<00:00, 33.33it/s]\n"
     ]
    },
    {
     "name": "stdout",
     "output_type": "stream",
     "text": [
      "Accuracy: 0.6731328806983511\n",
      "Precision: 0.6714017976668579\n",
      "Recall: 0.6694842818674169\n",
      "f1_score: 0.669901962554047\n"
     ]
    },
    {
     "name": "stderr",
     "output_type": "stream",
     "text": [
      "100%|██████████| 1/1 [00:00<00:00, 43.46it/s, EPOCH=137, AVG_LOSS=0.512]\n",
      "100%|██████████| 1/1 [00:00<00:00, 41.65it/s]\n"
     ]
    },
    {
     "name": "stdout",
     "output_type": "stream",
     "text": [
      "Accuracy: 0.6731328806983511\n",
      "Precision: 0.6715731088047077\n",
      "Recall: 0.6689321049287464\n",
      "f1_score: 0.6693692124838586\n"
     ]
    },
    {
     "name": "stderr",
     "output_type": "stream",
     "text": [
      "100%|██████████| 1/1 [00:00<00:00, 45.45it/s, EPOCH=138, AVG_LOSS=0.512]\n",
      "100%|██████████| 1/1 [00:00<00:00, 41.66it/s]\n"
     ]
    },
    {
     "name": "stdout",
     "output_type": "stream",
     "text": [
      "Accuracy: 0.6741028128031038\n",
      "Precision: 0.6725365089602433\n",
      "Recall: 0.6699759462648633\n",
      "f1_score: 0.6704189976024661\n"
     ]
    },
    {
     "name": "stderr",
     "output_type": "stream",
     "text": [
      "100%|██████████| 1/1 [00:00<00:00, 45.45it/s, EPOCH=139, AVG_LOSS=0.511]\n",
      "100%|██████████| 1/1 [00:00<00:00, 43.47it/s]\n"
     ]
    },
    {
     "name": "stdout",
     "output_type": "stream",
     "text": [
      "Accuracy: 0.6731328806983511\n",
      "Precision: 0.6715222462667096\n",
      "Recall: 0.6690701491634141\n",
      "f1_score: 0.6695063336050612\n"
     ]
    },
    {
     "name": "stderr",
     "output_type": "stream",
     "text": [
      "100%|██████████| 1/1 [00:00<00:00, 13.07it/s, EPOCH=140, AVG_LOSS=0.51]\n",
      "100%|██████████| 1/1 [00:00<00:00, 12.90it/s]\n"
     ]
    },
    {
     "name": "stdout",
     "output_type": "stream",
     "text": [
      "Accuracy: 0.6770126091173618\n",
      "Precision: 0.6755333451128918\n",
      "Recall: 0.6728313818038789\n",
      "f1_score: 0.6732936135226257\n"
     ]
    },
    {
     "name": "stderr",
     "output_type": "stream",
     "text": [
      "100%|██████████| 1/1 [00:00<00:00, 43.47it/s, EPOCH=141, AVG_LOSS=0.509]\n",
      "100%|██████████| 1/1 [00:00<00:00, 39.99it/s]\n"
     ]
    },
    {
     "name": "stdout",
     "output_type": "stream",
     "text": [
      "Accuracy: 0.6760426770126091\n",
      "Precision: 0.6745155172678552\n",
      "Recall: 0.6719255847024296\n",
      "f1_score: 0.6723807892834037\n"
     ]
    },
    {
     "name": "stderr",
     "output_type": "stream",
     "text": [
      "100%|██████████| 1/1 [00:00<00:00, 44.43it/s, EPOCH=142, AVG_LOSS=0.509]\n",
      "100%|██████████| 1/1 [00:00<00:00, 41.65it/s]\n"
     ]
    },
    {
     "name": "stdout",
     "output_type": "stream",
     "text": [
      "Accuracy: 0.6750727449078564\n",
      "Precision: 0.6735001611492242\n",
      "Recall: 0.6710197876009802\n",
      "f1_score: 0.6714677203492447\n"
     ]
    },
    {
     "name": "stderr",
     "output_type": "stream",
     "text": [
      "100%|██████████| 1/1 [00:00<00:00, 45.44it/s, EPOCH=143, AVG_LOSS=0.508]\n",
      "100%|██████████| 1/1 [00:00<00:00, 41.66it/s]\n"
     ]
    },
    {
     "name": "stdout",
     "output_type": "stream",
     "text": [
      "Accuracy: 0.6750727449078564\n",
      "Precision: 0.6735001611492242\n",
      "Recall: 0.6710197876009802\n",
      "f1_score: 0.6714677203492447\n"
     ]
    },
    {
     "name": "stderr",
     "output_type": "stream",
     "text": [
      "100%|██████████| 1/1 [00:00<00:00, 45.44it/s, EPOCH=144, AVG_LOSS=0.507]\n",
      "100%|██████████| 1/1 [00:00<00:00, 41.65it/s]\n"
     ]
    },
    {
     "name": "stdout",
     "output_type": "stream",
     "text": [
      "Accuracy: 0.6770126091173618\n",
      "Precision: 0.6755333451128918\n",
      "Recall: 0.6728313818038789\n",
      "f1_score: 0.6732936135226257\n"
     ]
    },
    {
     "name": "stderr",
     "output_type": "stream",
     "text": [
      "100%|██████████| 1/1 [00:00<00:00, 47.61it/s, EPOCH=145, AVG_LOSS=0.507]\n",
      "100%|██████████| 1/1 [00:00<00:00, 43.47it/s]\n"
     ]
    },
    {
     "name": "stdout",
     "output_type": "stream",
     "text": [
      "Accuracy: 0.6770126091173618\n",
      "Precision: 0.6756604834176503\n",
      "Recall: 0.6725552933345436\n",
      "f1_score: 0.6730148147795403\n"
     ]
    },
    {
     "name": "stderr",
     "output_type": "stream",
     "text": [
      "100%|██████████| 1/1 [00:00<00:00, 13.24it/s, EPOCH=146, AVG_LOSS=0.506]\n",
      "100%|██████████| 1/1 [00:00<00:00, 12.90it/s]\n"
     ]
    },
    {
     "name": "stdout",
     "output_type": "stream",
     "text": [
      "Accuracy: 0.6779825412221144\n",
      "Precision: 0.6766183894600751\n",
      "Recall: 0.6735991346706605\n",
      "f1_score: 0.6740672181848653\n"
     ]
    },
    {
     "name": "stderr",
     "output_type": "stream",
     "text": [
      "100%|██████████| 1/1 [00:00<00:00, 45.44it/s, EPOCH=147, AVG_LOSS=0.505]\n",
      "100%|██████████| 1/1 [00:00<00:00, 41.66it/s]\n"
     ]
    },
    {
     "name": "stdout",
     "output_type": "stream",
     "text": [
      "Accuracy: 0.6799224054316197\n",
      "Precision: 0.6784177627794609\n",
      "Recall: 0.6759629058122296\n",
      "f1_score: 0.6764373587747928\n"
     ]
    },
    {
     "name": "stderr",
     "output_type": "stream",
     "text": [
      "100%|██████████| 1/1 [00:00<00:00, 45.26it/s, EPOCH=148, AVG_LOSS=0.504]\n",
      "100%|██████████| 1/1 [00:00<00:00, 41.50it/s]\n"
     ]
    },
    {
     "name": "stdout",
     "output_type": "stream",
     "text": [
      "Accuracy: 0.6857419980601358\n",
      "Precision: 0.6846323648383146\n",
      "Recall: 0.6812596441862575\n",
      "f1_score: 0.6817828482589908\n"
     ]
    },
    {
     "name": "stderr",
     "output_type": "stream",
     "text": [
      "100%|██████████| 1/1 [00:00<00:00, 44.43it/s, EPOCH=149, AVG_LOSS=0.503]\n",
      "100%|██████████| 1/1 [00:00<00:00, 40.80it/s]\n"
     ]
    },
    {
     "name": "stdout",
     "output_type": "stream",
     "text": [
      "Accuracy: 0.6828322017458778\n",
      "Precision: 0.6816146519131111\n",
      "Recall: 0.6784042086472422\n",
      "f1_score: 0.6789064397384674\n"
     ]
    },
    {
     "name": "stderr",
     "output_type": "stream",
     "text": [
      "100%|██████████| 1/1 [00:00<00:00, 43.47it/s, EPOCH=150, AVG_LOSS=0.503]\n",
      "100%|██████████| 1/1 [00:00<00:00, 41.65it/s]\n"
     ]
    },
    {
     "name": "stdout",
     "output_type": "stream",
     "text": [
      "Accuracy: 0.6799224054316197\n",
      "Precision: 0.6784177627794609\n",
      "Recall: 0.6759629058122296\n",
      "f1_score: 0.6764373587747928\n"
     ]
    },
    {
     "name": "stderr",
     "output_type": "stream",
     "text": [
      "100%|██████████| 1/1 [00:00<00:00, 13.24it/s, EPOCH=151, AVG_LOSS=0.503]\n",
      "100%|██████████| 1/1 [00:00<00:00, 13.07it/s]\n"
     ]
    },
    {
     "name": "stdout",
     "output_type": "stream",
     "text": [
      "Accuracy: 0.6818622696411252\n",
      "Precision: 0.680660533635362\n",
      "Recall: 0.6773603673111253\n",
      "f1_score: 0.6778542414473734\n"
     ]
    },
    {
     "name": "stderr",
     "output_type": "stream",
     "text": [
      "100%|██████████| 1/1 [00:00<00:00, 45.45it/s, EPOCH=152, AVG_LOSS=0.502]\n",
      "100%|██████████| 1/1 [00:00<00:00, 41.66it/s]\n"
     ]
    },
    {
     "name": "stdout",
     "output_type": "stream",
     "text": [
      "Accuracy: 0.6838021338506305\n",
      "Precision: 0.6825690297358862\n",
      "Recall: 0.6794480499833591\n",
      "f1_score: 0.679957569663452\n"
     ]
    },
    {
     "name": "stderr",
     "output_type": "stream",
     "text": [
      "100%|██████████| 1/1 [00:00<00:00, 44.43it/s, EPOCH=153, AVG_LOSS=0.501]\n",
      "100%|██████████| 1/1 [00:00<00:00, 39.20it/s]\n"
     ]
    },
    {
     "name": "stdout",
     "output_type": "stream",
     "text": [
      "Accuracy: 0.6799224054316197\n",
      "Precision: 0.6782503418196262\n",
      "Recall: 0.6765150827509001\n",
      "f1_score: 0.6769436742755137\n"
     ]
    },
    {
     "name": "stderr",
     "output_type": "stream",
     "text": [
      "100%|██████████| 1/1 [00:00<00:00, 45.44it/s, EPOCH=154, AVG_LOSS=0.501]\n",
      "100%|██████████| 1/1 [00:00<00:00, 39.99it/s]\n"
     ]
    },
    {
     "name": "stdout",
     "output_type": "stream",
     "text": [
      "Accuracy: 0.6847720659553831\n",
      "Precision: 0.6836809035540822\n",
      "Recall: 0.6802158028501406\n",
      "f1_score: 0.6807304395881868\n"
     ]
    },
    {
     "name": "stderr",
     "output_type": "stream",
     "text": [
      "100%|██████████| 1/1 [00:00<00:00, 43.47it/s, EPOCH=155, AVG_LOSS=0.5]\n",
      "100%|██████████| 1/1 [00:00<00:00, 39.99it/s]\n"
     ]
    },
    {
     "name": "stdout",
     "output_type": "stream",
     "text": [
      "Accuracy: 0.6828322017458778\n",
      "Precision: 0.6814118206792823\n",
      "Recall: 0.6788183413512451\n",
      "f1_score: 0.6793132673259793\n"
     ]
    },
    {
     "name": "stderr",
     "output_type": "stream",
     "text": [
      "100%|██████████| 1/1 [00:00<00:00, 12.88it/s, EPOCH=156, AVG_LOSS=0.5]\n",
      "100%|██████████| 1/1 [00:00<00:00, 12.56it/s]\n"
     ]
    },
    {
     "name": "stdout",
     "output_type": "stream",
     "text": [
      "Accuracy: 0.6828322017458778\n",
      "Precision: 0.6812602792120864\n",
      "Recall: 0.679232474055248\n",
      "f1_score: 0.6796971565435411\n"
     ]
    },
    {
     "name": "stderr",
     "output_type": "stream",
     "text": [
      "100%|██████████| 1/1 [00:00<00:00, 46.49it/s, EPOCH=157, AVG_LOSS=0.499]\n",
      "100%|██████████| 1/1 [00:00<00:00, 42.54it/s]\n"
     ]
    },
    {
     "name": "stdout",
     "output_type": "stream",
     "text": [
      "Accuracy: 0.6847720659553831\n",
      "Precision: 0.6835993747449314\n",
      "Recall: 0.6803538470848083\n",
      "f1_score: 0.6808703147247765\n"
     ]
    },
    {
     "name": "stderr",
     "output_type": "stream",
     "text": [
      "100%|██████████| 1/1 [00:00<00:00, 45.44it/s, EPOCH=158, AVG_LOSS=0.499]\n",
      "100%|██████████| 1/1 [00:00<00:00, 41.66it/s]\n"
     ]
    },
    {
     "name": "stdout",
     "output_type": "stream",
     "text": [
      "Accuracy: 0.6838021338506305\n",
      "Precision: 0.6824974057419577\n",
      "Recall: 0.6795860942180267\n",
      "f1_score: 0.6800940379197442\n"
     ]
    },
    {
     "name": "stderr",
     "output_type": "stream",
     "text": [
      "100%|██████████| 1/1 [00:00<00:00, 45.45it/s, EPOCH=159, AVG_LOSS=0.498]\n",
      "100%|██████████| 1/1 [00:00<00:00, 43.47it/s]\n"
     ]
    },
    {
     "name": "stdout",
     "output_type": "stream",
     "text": [
      "Accuracy: 0.6808923375363725\n",
      "Precision: 0.6794339057967678\n",
      "Recall: 0.6768687029136788\n",
      "f1_score: 0.6773518805817956\n"
     ]
    },
    {
     "name": "stderr",
     "output_type": "stream",
     "text": [
      "100%|██████████| 1/1 [00:00<00:00, 48.76it/s, EPOCH=160, AVG_LOSS=0.497]\n",
      "100%|██████████| 1/1 [00:00<00:00, 44.42it/s]\n"
     ]
    },
    {
     "name": "stdout",
     "output_type": "stream",
     "text": [
      "Accuracy: 0.6770126091173618\n",
      "Precision: 0.6756604834176503\n",
      "Recall: 0.6725552933345436\n",
      "f1_score: 0.6730148147795403\n"
     ]
    },
    {
     "name": "stderr",
     "output_type": "stream",
     "text": [
      "100%|██████████| 1/1 [00:00<00:00, 45.44it/s, EPOCH=161, AVG_LOSS=0.497]\n",
      "100%|██████████| 1/1 [00:00<00:00, 41.66it/s]\n"
     ]
    },
    {
     "name": "stdout",
     "output_type": "stream",
     "text": [
      "Accuracy: 0.6828322017458778\n",
      "Precision: 0.6816937784288026\n",
      "Recall: 0.6782661644125745\n",
      "f1_score: 0.6787657038318065\n"
     ]
    },
    {
     "name": "stderr",
     "output_type": "stream",
     "text": [
      "100%|██████████| 1/1 [00:00<00:00, 13.07it/s, EPOCH=162, AVG_LOSS=0.496]\n",
      "100%|██████████| 1/1 [00:00<00:00, 12.90it/s]\n"
     ]
    },
    {
     "name": "stdout",
     "output_type": "stream",
     "text": [
      "Accuracy: 0.6828322017458778\n",
      "Precision: 0.6812602792120864\n",
      "Recall: 0.679232474055248\n",
      "f1_score: 0.6796971565435411\n"
     ]
    },
    {
     "name": "stderr",
     "output_type": "stream",
     "text": [
      "100%|██████████| 1/1 [00:00<00:00, 45.44it/s, EPOCH=163, AVG_LOSS=0.496]\n",
      "100%|██████████| 1/1 [00:00<00:00, 41.66it/s]\n"
     ]
    },
    {
     "name": "stdout",
     "output_type": "stream",
     "text": [
      "Accuracy: 0.6799224054316197\n",
      "Precision: 0.6786746180338857\n",
      "Recall: 0.675410728873559\n",
      "f1_score: 0.6758899380415646\n"
     ]
    },
    {
     "name": "stderr",
     "output_type": "stream",
     "text": [
      "100%|██████████| 1/1 [00:00<00:00, 45.44it/s, EPOCH=164, AVG_LOSS=0.495]\n",
      "100%|██████████| 1/1 [00:00<00:00, 41.66it/s]\n"
     ]
    },
    {
     "name": "stdout",
     "output_type": "stream",
     "text": [
      "Accuracy: 0.6818622696411252\n",
      "Precision: 0.6805161612667666\n",
      "Recall: 0.6776364557804605\n",
      "f1_score: 0.6781314246554482\n"
     ]
    },
    {
     "name": "stderr",
     "output_type": "stream",
     "text": [
      "100%|██████████| 1/1 [00:00<00:00, 47.61it/s, EPOCH=165, AVG_LOSS=0.495]\n",
      "100%|██████████| 1/1 [00:00<00:00, 41.66it/s]\n"
     ]
    },
    {
     "name": "stdout",
     "output_type": "stream",
     "text": [
      "Accuracy: 0.6876818622696411\n",
      "Precision: 0.6862665103735711\n",
      "Recall: 0.683899503797162\n",
      "f1_score: 0.684408557174581\n"
     ]
    },
    {
     "name": "stderr",
     "output_type": "stream",
     "text": [
      "100%|██████████| 1/1 [00:00<00:00, 45.44it/s, EPOCH=166, AVG_LOSS=0.494]\n",
      "100%|██████████| 1/1 [00:00<00:00, 41.66it/s]\n"
     ]
    },
    {
     "name": "stdout",
     "output_type": "stream",
     "text": [
      "Accuracy: 0.6847720659553831\n",
      "Precision: 0.6831908080761765\n",
      "Recall: 0.6813201567274818\n",
      "f1_score: 0.681778337469289\n"
     ]
    },
    {
     "name": "stderr",
     "output_type": "stream",
     "text": [
      "100%|██████████| 1/1 [00:00<00:00, 47.60it/s, EPOCH=167, AVG_LOSS=0.494]\n",
      "100%|██████████| 1/1 [00:00<00:00, 43.46it/s]\n"
     ]
    },
    {
     "name": "stdout",
     "output_type": "stream",
     "text": [
      "Accuracy: 0.6838021338506305\n",
      "Precision: 0.6825690297358862\n",
      "Recall: 0.6794480499833591\n",
      "f1_score: 0.679957569663452\n"
     ]
    },
    {
     "name": "stderr",
     "output_type": "stream",
     "text": [
      "100%|██████████| 1/1 [00:00<00:00, 14.08it/s, EPOCH=168, AVG_LOSS=0.494]\n",
      "100%|██████████| 1/1 [00:00<00:00, 13.70it/s]\n"
     ]
    },
    {
     "name": "stdout",
     "output_type": "stream",
     "text": [
      "Accuracy: 0.6867119301648884\n",
      "Precision: 0.6850915331807781\n",
      "Recall: 0.6835458836343833\n",
      "f1_score: 0.6839719286924255\n"
     ]
    },
    {
     "name": "stderr",
     "output_type": "stream",
     "text": [
      "100%|██████████| 1/1 [00:00<00:00, 44.43it/s, EPOCH=169, AVG_LOSS=0.493]\n",
      "100%|██████████| 1/1 [00:00<00:00, 39.20it/s]\n"
     ]
    },
    {
     "name": "stdout",
     "output_type": "stream",
     "text": [
      "Accuracy: 0.6847720659553831\n",
      "Precision: 0.6833897355617968\n",
      "Recall: 0.6807679797888113\n",
      "f1_score: 0.6812746540701629\n"
     ]
    },
    {
     "name": "stderr",
     "output_type": "stream",
     "text": [
      "100%|██████████| 1/1 [00:00<00:00, 45.44it/s, EPOCH=170, AVG_LOSS=0.492]\n",
      "100%|██████████| 1/1 [00:00<00:00, 41.66it/s]\n"
     ]
    },
    {
     "name": "stdout",
     "output_type": "stream",
     "text": [
      "Accuracy: 0.6818622696411252\n",
      "Precision: 0.6804525421906912\n",
      "Recall: 0.6777745000151282\n",
      "f1_score: 0.6782661643262169\n"
     ]
    },
    {
     "name": "stderr",
     "output_type": "stream",
     "text": [
      "100%|██████████| 1/1 [00:00<00:00, 43.47it/s, EPOCH=171, AVG_LOSS=0.492]\n",
      "100%|██████████| 1/1 [00:00<00:00, 39.99it/s]\n"
     ]
    },
    {
     "name": "stdout",
     "output_type": "stream",
     "text": [
      "Accuracy: 0.6838021338506305\n",
      "Precision: 0.6822253230369295\n",
      "Recall: 0.6802763153913649\n",
      "f1_score: 0.6807382499335081\n"
     ]
    },
    {
     "name": "stderr",
     "output_type": "stream",
     "text": [
      "100%|██████████| 1/1 [00:00<00:00, 46.50it/s, EPOCH=172, AVG_LOSS=0.491]\n",
      "100%|██████████| 1/1 [00:00<00:00, 42.54it/s]\n"
     ]
    },
    {
     "name": "stdout",
     "output_type": "stream",
     "text": [
      "Accuracy: 0.6867119301648884\n",
      "Precision: 0.6854339358833517\n",
      "Recall: 0.6825795739917098\n",
      "f1_score: 0.6831046161195439\n"
     ]
    },
    {
     "name": "stderr",
     "output_type": "stream",
     "text": [
      "100%|██████████| 1/1 [00:00<00:00, 13.51it/s, EPOCH=173, AVG_LOSS=0.491]\n",
      "100%|██████████| 1/1 [00:00<00:00, 13.07it/s]\n"
     ]
    },
    {
     "name": "stdout",
     "output_type": "stream",
     "text": [
      "Accuracy: 0.6867119301648884\n",
      "Precision: 0.6854339358833517\n",
      "Recall: 0.6825795739917098\n",
      "f1_score: 0.6831046161195439\n"
     ]
    },
    {
     "name": "stderr",
     "output_type": "stream",
     "text": [
      "100%|██████████| 1/1 [00:00<00:00, 45.44it/s, EPOCH=174, AVG_LOSS=0.49]\n",
      "100%|██████████| 1/1 [00:00<00:00, 41.65it/s]\n"
     ]
    },
    {
     "name": "stdout",
     "output_type": "stream",
     "text": [
      "Accuracy: 0.6857419980601358\n",
      "Precision: 0.684095258426795\n",
      "Recall: 0.682640086532934\n",
      "f1_score: 0.6830509632463452\n"
     ]
    },
    {
     "name": "stderr",
     "output_type": "stream",
     "text": [
      "100%|██████████| 1/1 [00:00<00:00, 45.45it/s, EPOCH=175, AVG_LOSS=0.49]\n",
      "100%|██████████| 1/1 [00:00<00:00, 41.66it/s]\n"
     ]
    },
    {
     "name": "stdout",
     "output_type": "stream",
     "text": [
      "Accuracy: 0.6828322017458778\n",
      "Precision: 0.6814736995751677\n",
      "Recall: 0.6786802971165775\n",
      "f1_score: 0.6791802150807766\n"
     ]
    },
    {
     "name": "stderr",
     "output_type": "stream",
     "text": [
      "100%|██████████| 1/1 [00:00<00:00, 47.61it/s, EPOCH=176, AVG_LOSS=0.489]\n",
      "100%|██████████| 1/1 [00:00<00:00, 42.73it/s]\n"
     ]
    },
    {
     "name": "stdout",
     "output_type": "stream",
     "text": [
      "Accuracy: 0.6847720659553831\n",
      "Precision: 0.6833314169637039\n",
      "Recall: 0.6809060240234789\n",
      "f1_score: 0.6814043595046233\n"
     ]
    },
    {
     "name": "stderr",
     "output_type": "stream",
     "text": [
      "100%|██████████| 1/1 [00:00<00:00, 45.45it/s, EPOCH=177, AVG_LOSS=0.488]\n",
      "100%|██████████| 1/1 [00:00<00:00, 41.66it/s]\n"
     ]
    },
    {
     "name": "stdout",
     "output_type": "stream",
     "text": [
      "Accuracy: 0.6828322017458778\n",
      "Precision: 0.6812602792120864\n",
      "Recall: 0.679232474055248\n",
      "f1_score: 0.6796971565435411\n"
     ]
    },
    {
     "name": "stderr",
     "output_type": "stream",
     "text": [
      "100%|██████████| 1/1 [00:00<00:00, 12.89it/s, EPOCH=178, AVG_LOSS=0.488]\n",
      "100%|██████████| 1/1 [00:00<00:00, 12.56it/s]\n"
     ]
    },
    {
     "name": "stdout",
     "output_type": "stream",
     "text": [
      "Accuracy: 0.6857419980601358\n",
      "Precision: 0.6844786502171489\n",
      "Recall: 0.6815357326555929\n",
      "f1_score: 0.6820566511840402\n"
     ]
    },
    {
     "name": "stderr",
     "output_type": "stream",
     "text": [
      "100%|██████████| 1/1 [00:00<00:00, 41.66it/s, EPOCH=179, AVG_LOSS=0.487]\n",
      "100%|██████████| 1/1 [00:00<00:00, 38.45it/s]\n"
     ]
    },
    {
     "name": "stdout",
     "output_type": "stream",
     "text": [
      "Accuracy: 0.6857419980601358\n",
      "Precision: 0.6841960394525575\n",
      "Recall: 0.682225953828931\n",
      "f1_score: 0.6826969109768608\n"
     ]
    },
    {
     "name": "stderr",
     "output_type": "stream",
     "text": [
      "100%|██████████| 1/1 [00:00<00:00, 43.47it/s, EPOCH=180, AVG_LOSS=0.487]\n",
      "100%|██████████| 1/1 [00:00<00:00, 39.99it/s]\n"
     ]
    },
    {
     "name": "stdout",
     "output_type": "stream",
     "text": [
      "Accuracy: 0.6818622696411252\n",
      "Precision: 0.6805161612667666\n",
      "Recall: 0.6776364557804605\n",
      "f1_score: 0.6781314246554482\n"
     ]
    },
    {
     "name": "stderr",
     "output_type": "stream",
     "text": [
      "100%|██████████| 1/1 [00:00<00:00, 45.44it/s, EPOCH=181, AVG_LOSS=0.486]\n",
      "100%|██████████| 1/1 [00:00<00:00, 41.66it/s]\n"
     ]
    },
    {
     "name": "stdout",
     "output_type": "stream",
     "text": [
      "Accuracy: 0.6847720659553831\n",
      "Precision: 0.6836809035540822\n",
      "Recall: 0.6802158028501406\n",
      "f1_score: 0.6807304395881868\n"
     ]
    },
    {
     "name": "stderr",
     "output_type": "stream",
     "text": [
      "100%|██████████| 1/1 [00:00<00:00, 45.44it/s, EPOCH=182, AVG_LOSS=0.486]\n",
      "100%|██████████| 1/1 [00:00<00:00, 43.47it/s]\n"
     ]
    },
    {
     "name": "stdout",
     "output_type": "stream",
     "text": [
      "Accuracy: 0.6779825412221144\n",
      "Precision: 0.6763502705515885\n",
      "Recall: 0.6742893558439986\n",
      "f1_score: 0.6747362099373593\n"
     ]
    },
    {
     "name": "stderr",
     "output_type": "stream",
     "text": [
      "100%|██████████| 1/1 [00:00<00:00, 42.54it/s, EPOCH=183, AVG_LOSS=0.485]\n",
      "100%|██████████| 1/1 [00:00<00:00, 39.20it/s]\n"
     ]
    },
    {
     "name": "stdout",
     "output_type": "stream",
     "text": [
      "Accuracy: 0.6808923375363725\n",
      "Precision: 0.6796299290812908\n",
      "Recall: 0.6764545702096759\n",
      "f1_score: 0.6769425647521583\n"
     ]
    },
    {
     "name": "stderr",
     "output_type": "stream",
     "text": [
      "100%|██████████| 1/1 [00:00<00:00, 13.15it/s, EPOCH=184, AVG_LOSS=0.485]\n",
      "100%|██████████| 1/1 [00:00<00:00, 12.82it/s]\n"
     ]
    },
    {
     "name": "stdout",
     "output_type": "stream",
     "text": [
      "Accuracy: 0.6857419980601358\n",
      "Precision: 0.6846323648383146\n",
      "Recall: 0.6812596441862575\n",
      "f1_score: 0.6817828482589908\n"
     ]
    },
    {
     "name": "stderr",
     "output_type": "stream",
     "text": [
      "100%|██████████| 1/1 [00:00<00:00, 45.31it/s, EPOCH=185, AVG_LOSS=0.484]\n",
      "100%|██████████| 1/1 [00:00<00:00, 39.99it/s]\n"
     ]
    },
    {
     "name": "stdout",
     "output_type": "stream",
     "text": [
      "Accuracy: 0.6818622696411252\n",
      "Precision: 0.6802546066213013\n",
      "Recall: 0.6783266769537987\n",
      "f1_score: 0.6787795888901553\n"
     ]
    },
    {
     "name": "stderr",
     "output_type": "stream",
     "text": [
      "100%|██████████| 1/1 [00:00<00:00, 47.61it/s, EPOCH=186, AVG_LOSS=0.484]\n",
      "100%|██████████| 1/1 [00:00<00:00, 41.66it/s]\n"
     ]
    },
    {
     "name": "stdout",
     "output_type": "stream",
     "text": [
      "Accuracy: 0.6818622696411252\n",
      "Precision: 0.6805161612667666\n",
      "Recall: 0.6776364557804605\n",
      "f1_score: 0.6781314246554482\n"
     ]
    },
    {
     "name": "stderr",
     "output_type": "stream",
     "text": [
      "100%|██████████| 1/1 [00:00<00:00, 43.47it/s, EPOCH=187, AVG_LOSS=0.483]\n",
      "100%|██████████| 1/1 [00:00<00:00, 39.99it/s]\n"
     ]
    },
    {
     "name": "stdout",
     "output_type": "stream",
     "text": [
      "Accuracy: 0.6838021338506305\n",
      "Precision: 0.6824974057419577\n",
      "Recall: 0.6795860942180267\n",
      "f1_score: 0.6800940379197442\n"
     ]
    },
    {
     "name": "stderr",
     "output_type": "stream",
     "text": [
      "100%|██████████| 1/1 [00:00<00:00, 43.47it/s, EPOCH=188, AVG_LOSS=0.482]\n",
      "100%|██████████| 1/1 [00:00<00:00, 39.99it/s]\n"
     ]
    },
    {
     "name": "stdout",
     "output_type": "stream",
     "text": [
      "Accuracy: 0.6818622696411252\n",
      "Precision: 0.6802546066213013\n",
      "Recall: 0.6783266769537987\n",
      "f1_score: 0.6787795888901553\n"
     ]
    },
    {
     "name": "stderr",
     "output_type": "stream",
     "text": [
      "100%|██████████| 1/1 [00:00<00:00, 43.47it/s, EPOCH=189, AVG_LOSS=0.482]\n",
      "100%|██████████| 1/1 [00:00<00:00, 39.99it/s]\n"
     ]
    },
    {
     "name": "stdout",
     "output_type": "stream",
     "text": [
      "Accuracy: 0.6828322017458778\n",
      "Precision: 0.6813556398758193\n",
      "Recall: 0.6789563855859126\n",
      "f1_score: 0.6794437709477288\n"
     ]
    },
    {
     "name": "stderr",
     "output_type": "stream",
     "text": [
      "100%|██████████| 1/1 [00:00<00:00, 13.60it/s, EPOCH=190, AVG_LOSS=0.481]\n",
      "100%|██████████| 1/1 [00:00<00:00, 13.24it/s]\n"
     ]
    },
    {
     "name": "stdout",
     "output_type": "stream",
     "text": [
      "Accuracy: 0.6838021338506305\n",
      "Precision: 0.6826464492368383\n",
      "Recall: 0.6793100057486914\n",
      "f1_score: 0.679818544853182\n"
     ]
    },
    {
     "name": "stderr",
     "output_type": "stream",
     "text": [
      "100%|██████████| 1/1 [00:00<00:00, 43.47it/s, EPOCH=191, AVG_LOSS=0.481]\n",
      "100%|██████████| 1/1 [00:00<00:00, 39.99it/s]\n"
     ]
    },
    {
     "name": "stdout",
     "output_type": "stream",
     "text": [
      "Accuracy: 0.6828322017458778\n",
      "Precision: 0.681159420289855\n",
      "Recall: 0.6796466067592508\n",
      "f1_score: 0.6800582683666351\n"
     ]
    },
    {
     "name": "stderr",
     "output_type": "stream",
     "text": [
      "100%|██████████| 1/1 [00:00<00:00, 44.43it/s, EPOCH=192, AVG_LOSS=0.48]\n",
      "100%|██████████| 1/1 [00:00<00:00, 40.80it/s]\n"
     ]
    },
    {
     "name": "stdout",
     "output_type": "stream",
     "text": [
      "Accuracy: 0.6818622696411252\n",
      "Precision: 0.6804525421906912\n",
      "Recall: 0.6777745000151282\n",
      "f1_score: 0.6782661643262169\n"
     ]
    },
    {
     "name": "stderr",
     "output_type": "stream",
     "text": [
      "100%|██████████| 1/1 [00:00<00:00, 41.66it/s, EPOCH=193, AVG_LOSS=0.479]\n",
      "100%|██████████| 1/1 [00:00<00:00, 39.99it/s]\n"
     ]
    },
    {
     "name": "stdout",
     "output_type": "stream",
     "text": [
      "Accuracy: 0.6857419980601358\n",
      "Precision: 0.6847180436627324\n",
      "Recall: 0.6811215999515899\n",
      "f1_score: 0.6816421290189769\n"
     ]
    },
    {
     "name": "stderr",
     "output_type": "stream",
     "text": [
      "100%|██████████| 1/1 [00:00<00:00, 43.47it/s, EPOCH=194, AVG_LOSS=0.479]\n",
      "100%|██████████| 1/1 [00:00<00:00, 39.99it/s]\n"
     ]
    },
    {
     "name": "stdout",
     "output_type": "stream",
     "text": [
      "Accuracy: 0.6838021338506305\n",
      "Precision: 0.6821300863837023\n",
      "Recall: 0.6806904480953677\n",
      "f1_score: 0.6810944877108287\n"
     ]
    },
    {
     "name": "stderr",
     "output_type": "stream",
     "text": [
      "100%|██████████| 1/1 [00:00<00:00, 13.24it/s, EPOCH=195, AVG_LOSS=0.479]\n",
      "100%|██████████| 1/1 [00:00<00:00, 12.90it/s]\n"
     ]
    },
    {
     "name": "stdout",
     "output_type": "stream",
     "text": [
      "Accuracy: 0.6838021338506305\n",
      "Precision: 0.6823170451411236\n",
      "Recall: 0.6800002269220295\n",
      "f1_score: 0.6804881665804764\n"
     ]
    },
    {
     "name": "stderr",
     "output_type": "stream",
     "text": [
      "100%|██████████| 1/1 [00:00<00:00, 46.49it/s, EPOCH=196, AVG_LOSS=0.478]\n",
      "100%|██████████| 1/1 [00:00<00:00, 44.42it/s]\n"
     ]
    },
    {
     "name": "stdout",
     "output_type": "stream",
     "text": [
      "Accuracy: 0.6847720659553831\n",
      "Precision: 0.6837683038850164\n",
      "Recall: 0.680077758615473\n",
      "f1_score: 0.6805880059521257\n"
     ]
    },
    {
     "name": "stderr",
     "output_type": "stream",
     "text": [
      "100%|██████████| 1/1 [00:00<00:00, 47.61it/s, EPOCH=197, AVG_LOSS=0.478]\n",
      "100%|██████████| 1/1 [00:00<00:00, 41.66it/s]"
     ]
    },
    {
     "name": "stdout",
     "output_type": "stream",
     "text": [
      "Accuracy: 0.6857419980601358\n",
      "Precision: 0.6840730076024193\n",
      "Recall: 0.6827781307676015\n",
      "f1_score: 0.6831639969951968\n"
     ]
    },
    {
     "name": "stderr",
     "output_type": "stream",
     "text": [
      "\n",
      "100%|██████████| 1/1 [00:00<00:00, 47.61it/s, EPOCH=198, AVG_LOSS=0.477]\n",
      "100%|██████████| 1/1 [00:00<00:00, 43.47it/s]\n"
     ]
    },
    {
     "name": "stdout",
     "output_type": "stream",
     "text": [
      "Accuracy: 0.6867119301648884\n",
      "Precision: 0.6853676504443114\n",
      "Recall: 0.6827176182263774\n",
      "f1_score: 0.6832360408143465\n"
     ]
    },
    {
     "name": "stderr",
     "output_type": "stream",
     "text": [
      "100%|██████████| 1/1 [00:00<00:00, 46.49it/s, EPOCH=199, AVG_LOSS=0.476]\n",
      "100%|██████████| 1/1 [00:00<00:00, 42.54it/s]"
     ]
    },
    {
     "name": "stdout",
     "output_type": "stream",
     "text": [
      "Accuracy: 0.6857419980601358\n",
      "Precision: 0.6846323648383146\n",
      "Recall: 0.6812596441862575\n",
      "f1_score: 0.6817828482589908\n"
     ]
    },
    {
     "name": "stderr",
     "output_type": "stream",
     "text": [
      "\n"
     ]
    }
   ],
   "source": [
    "#RNNbased, LSTMbased, GRUbased, BI_RNNbased, BI_LSTMbased, BI_GRUbased\n",
    "train_losses = []\n",
    "val_losses = []\n",
    "LSTMmodel = LSTMbased().cuda()\n",
    "loss_fn = torch.nn.CrossEntropyLoss()\n",
    "optimizer = torch.optim.Adam(LSTMmodel.parameters(), lr=1e-3)\n",
    "epoch(LSTMmodel, optimizer, loss_fn)"
   ]
  },
  {
   "cell_type": "code",
   "execution_count": 14,
   "metadata": {},
   "outputs": [
    {
     "data": {
      "image/png": "[encoded data removed]",
      "text/plain": [
       "<Figure size 640x480 with 1 Axes>"
      ]
     },
     "metadata": {},
     "output_type": "display_data"
    }
   ],
   "source": [
    "plt.plot(train_losses, label = \"Training Loss\")\n",
    "plt.plot(val_losses, label = \"Val Loss\")\n",
    "plt.title('Loss')\n",
    "plt.legend()\n",
    "plt.show()"
   ]
  },
  {
   "cell_type": "code",
   "execution_count": 15,
   "metadata": {},
   "outputs": [
    {
     "name": "stderr",
     "output_type": "stream",
     "text": [
      "100%|██████████| 1/1 [00:00<00:00, 13.07it/s, EPOCH=0, AVG_LOSS=0.7]\n",
      "100%|██████████| 1/1 [00:00<00:00, 12.58it/s]\n"
     ]
    },
    {
     "name": "stdout",
     "output_type": "stream",
     "text": [
      "Accuracy: 0.5383123181377304\n",
      "Precision: 0.5582483877678386\n",
      "Recall: 0.5042358778856918\n",
      "f1_score: 0.3699144403701764\n"
     ]
    },
    {
     "name": "stderr",
     "output_type": "stream",
     "text": [
      "100%|██████████| 1/1 [00:00<00:00, 45.45it/s, EPOCH=1, AVG_LOSS=0.698]\n",
      "100%|██████████| 1/1 [00:00<00:00, 41.66it/s]\n"
     ]
    },
    {
     "name": "stdout",
     "output_type": "stream",
     "text": [
      "Accuracy: 0.542192046556741\n",
      "Precision: 0.5591728645481181\n",
      "Recall: 0.5099297298115034\n",
      "f1_score: 0.396172286800544\n"
     ]
    },
    {
     "name": "stderr",
     "output_type": "stream",
     "text": [
      "100%|██████████| 1/1 [00:00<00:00, 44.42it/s, EPOCH=2, AVG_LOSS=0.693]\n",
      "100%|██████████| 1/1 [00:00<00:00, 42.53it/s]\n"
     ]
    },
    {
     "name": "stdout",
     "output_type": "stream",
     "text": [
      "Accuracy: 0.550921435499515\n",
      "Precision: 0.5722262201547199\n",
      "Recall: 0.5212569211219025\n",
      "f1_score: 0.43311351552916\n"
     ]
    },
    {
     "name": "stderr",
     "output_type": "stream",
     "text": [
      "100%|██████████| 1/1 [00:00<00:00, 45.45it/s, EPOCH=3, AVG_LOSS=0.69]\n",
      "100%|██████████| 1/1 [00:00<00:00, 41.66it/s]\n"
     ]
    },
    {
     "name": "stdout",
     "output_type": "stream",
     "text": [
      "Accuracy: 0.5383123181377304\n",
      "Precision: 0.5266674635429118\n",
      "Recall: 0.5126565762004175\n",
      "f1_score: 0.45108048856874405\n"
     ]
    },
    {
     "name": "stderr",
     "output_type": "stream",
     "text": [
      "100%|██████████| 1/1 [00:00<00:00, 45.27it/s, EPOCH=4, AVG_LOSS=0.688]\n",
      "100%|██████████| 1/1 [00:00<00:00, 41.50it/s]\n"
     ]
    },
    {
     "name": "stdout",
     "output_type": "stream",
     "text": [
      "Accuracy: 0.5489815712900097\n",
      "Precision: 0.5488264123762996\n",
      "Recall: 0.523586653959033\n",
      "f1_score: 0.4652352433973566\n"
     ]
    },
    {
     "name": "stderr",
     "output_type": "stream",
     "text": [
      "100%|██████████| 1/1 [00:00<00:00, 13.24it/s, EPOCH=5, AVG_LOSS=0.685]\n",
      "100%|██████████| 1/1 [00:00<00:00, 12.90it/s]\n"
     ]
    },
    {
     "name": "stdout",
     "output_type": "stream",
     "text": [
      "Accuracy: 0.5460717749757517\n",
      "Precision: 0.5480059304662779\n",
      "Recall: 0.5182464221960001\n",
      "f1_score: 0.4432891202614017\n"
     ]
    },
    {
     "name": "stderr",
     "output_type": "stream",
     "text": [
      "100%|██████████| 1/1 [00:00<00:00, 45.44it/s, EPOCH=6, AVG_LOSS=0.683]\n",
      "100%|██████████| 1/1 [00:00<00:00, 42.53it/s]\n"
     ]
    },
    {
     "name": "stdout",
     "output_type": "stream",
     "text": [
      "Accuracy: 0.5499515033947624\n",
      "Precision: 0.5772168489559795\n",
      "Recall: 0.5193848143777798\n",
      "f1_score: 0.4234058760570442\n"
     ]
    },
    {
     "name": "stderr",
     "output_type": "stream",
     "text": [
      "100%|██████████| 1/1 [00:00<00:00, 47.61it/s, EPOCH=7, AVG_LOSS=0.68]\n",
      "100%|██████████| 1/1 [00:00<00:00, 43.47it/s]\n"
     ]
    },
    {
     "name": "stdout",
     "output_type": "stream",
     "text": [
      "Accuracy: 0.5441319107662463\n",
      "Precision: 0.5634139753829532\n",
      "Recall: 0.5124315451877401\n",
      "f1_score: 0.4046759054498993\n"
     ]
    },
    {
     "name": "stderr",
     "output_type": "stream",
     "text": [
      "100%|██████████| 1/1 [00:00<00:00, 43.47it/s, EPOCH=8, AVG_LOSS=0.678]\n",
      "100%|██████████| 1/1 [00:00<00:00, 41.66it/s]\n"
     ]
    },
    {
     "name": "stdout",
     "output_type": "stream",
     "text": [
      "Accuracy: 0.5441319107662463\n",
      "Precision: 0.5687056737588652\n",
      "Recall: 0.5120174124837372\n",
      "f1_score: 0.4002371474968314\n"
     ]
    },
    {
     "name": "stderr",
     "output_type": "stream",
     "text": [
      "100%|██████████| 1/1 [00:00<00:00, 45.27it/s, EPOCH=9, AVG_LOSS=0.677]\n",
      "100%|██████████| 1/1 [00:00<00:00, 40.66it/s]\n"
     ]
    },
    {
     "name": "stdout",
     "output_type": "stream",
     "text": [
      "Accuracy: 0.5480116391852571\n",
      "Precision: 0.5833043947987807\n",
      "Recall: 0.5163308220628725\n",
      "f1_score: 0.4097424934886235\n"
     ]
    },
    {
     "name": "stderr",
     "output_type": "stream",
     "text": [
      "100%|██████████| 1/1 [00:00<00:00, 13.51it/s, EPOCH=10, AVG_LOSS=0.675]\n",
      "100%|██████████| 1/1 [00:00<00:00, 13.15it/s]\n"
     ]
    },
    {
     "name": "stdout",
     "output_type": "stream",
     "text": [
      "Accuracy: 0.5460717749757517\n",
      "Precision: 0.5606073943661971\n",
      "Recall: 0.515623581737315\n",
      "f1_score: 0.41978354978354976\n"
     ]
    },
    {
     "name": "stderr",
     "output_type": "stream",
     "text": [
      "100%|██████████| 1/1 [00:00<00:00, 46.49it/s, EPOCH=11, AVG_LOSS=0.673]\n",
      "100%|██████████| 1/1 [00:00<00:00, 42.53it/s]"
     ]
    },
    {
     "name": "stdout",
     "output_type": "stream",
     "text": [
      "Accuracy: 0.5645004849660524\n",
      "Precision: 0.601247388083328\n",
      "Recall: 0.5362848325315421\n",
      "f1_score: 0.46201048042851445\n"
     ]
    },
    {
     "name": "stderr",
     "output_type": "stream",
     "text": [
      "\n",
      "100%|██████████| 1/1 [00:00<00:00, 45.45it/s, EPOCH=12, AVG_LOSS=0.671]\n",
      "100%|██████████| 1/1 [00:00<00:00, 41.66it/s]\n"
     ]
    },
    {
     "name": "stdout",
     "output_type": "stream",
     "text": [
      "Accuracy: 0.5761396702230844\n",
      "Precision: 0.6035054023445869\n",
      "Recall: 0.5511576805542949\n",
      "f1_score: 0.49925034315278216\n"
     ]
    },
    {
     "name": "stderr",
     "output_type": "stream",
     "text": [
      "100%|██████████| 1/1 [00:00<00:00, 45.44it/s, EPOCH=13, AVG_LOSS=0.669]\n",
      "100%|██████████| 1/1 [00:00<00:00, 41.65it/s]\n"
     ]
    },
    {
     "name": "stdout",
     "output_type": "stream",
     "text": [
      "Accuracy: 0.5790494665373423\n",
      "Precision: 0.5956807871701488\n",
      "Recall: 0.5566359565519954\n",
      "f1_score: 0.5179710257338366\n"
     ]
    },
    {
     "name": "stderr",
     "output_type": "stream",
     "text": [
      "100%|██████████| 1/1 [00:00<00:00, 46.31it/s, EPOCH=14, AVG_LOSS=0.667]\n",
      "100%|██████████| 1/1 [00:00<00:00, 43.29it/s]\n"
     ]
    },
    {
     "name": "stdout",
     "output_type": "stream",
     "text": [
      "Accuracy: 0.5790494665373423\n",
      "Precision: 0.5924783016226612\n",
      "Recall: 0.5574642219600012\n",
      "f1_score: 0.5224284262745801\n"
     ]
    },
    {
     "name": "stderr",
     "output_type": "stream",
     "text": [
      "100%|██████████| 1/1 [00:00<00:00, 45.44it/s, EPOCH=15, AVG_LOSS=0.665]\n",
      "100%|██████████| 1/1 [00:00<00:00, 41.66it/s]\n"
     ]
    },
    {
     "name": "stdout",
     "output_type": "stream",
     "text": [
      "Accuracy: 0.5780795344325897\n",
      "Precision: 0.5901985559566787\n",
      "Recall: 0.5566964690932196\n",
      "f1_score: 0.5224091828291573\n"
     ]
    },
    {
     "name": "stderr",
     "output_type": "stream",
     "text": [
      "100%|██████████| 1/1 [00:00<00:00, 13.60it/s, EPOCH=16, AVG_LOSS=0.663]\n",
      "100%|██████████| 1/1 [00:00<00:00, 13.07it/s]"
     ]
    },
    {
     "name": "stdout",
     "output_type": "stream",
     "text": [
      "Accuracy: 0.5819592628516004\n",
      "Precision: 0.6003149456003054\n",
      "Recall: 0.5596294363256785\n",
      "f1_score: 0.5216807229239886\n"
     ]
    },
    {
     "name": "stderr",
     "output_type": "stream",
     "text": [
      "\n",
      "100%|██████████| 1/1 [00:00<00:00, 43.47it/s, EPOCH=17, AVG_LOSS=0.66]\n",
      "100%|██████████| 1/1 [00:00<00:00, 39.99it/s]\n"
     ]
    },
    {
     "name": "stdout",
     "output_type": "stream",
     "text": [
      "Accuracy: 0.5897187196896218\n",
      "Precision: 0.6149089426474585\n",
      "Recall: 0.567151901606608\n",
      "f1_score: 0.5290666597556749\n"
     ]
    },
    {
     "name": "stderr",
     "output_type": "stream",
     "text": [
      "100%|██████████| 1/1 [00:00<00:00, 44.43it/s, EPOCH=18, AVG_LOSS=0.658]\n",
      "100%|██████████| 1/1 [00:00<00:00, 40.80it/s]\n"
     ]
    },
    {
     "name": "stdout",
     "output_type": "stream",
     "text": [
      "Accuracy: 0.5906886517943744\n",
      "Precision: 0.6126170131203086\n",
      "Recall: 0.5688859641160631\n",
      "f1_score: 0.5342133436108256\n"
     ]
    },
    {
     "name": "stderr",
     "output_type": "stream",
     "text": [
      "100%|██████████| 1/1 [00:00<00:00, 43.47it/s, EPOCH=19, AVG_LOSS=0.656]\n",
      "100%|██████████| 1/1 [00:00<00:00, 39.99it/s]\n"
     ]
    },
    {
     "name": "stdout",
     "output_type": "stream",
     "text": [
      "Accuracy: 0.5926285160038798\n",
      "Precision: 0.611902793362074\n",
      "Recall: 0.571663867961635\n",
      "f1_score: 0.5405876811040664\n"
     ]
    },
    {
     "name": "stderr",
     "output_type": "stream",
     "text": [
      "100%|██████████| 1/1 [00:00<00:00, 45.45it/s, EPOCH=20, AVG_LOSS=0.654]\n",
      "100%|██████████| 1/1 [00:00<00:00, 41.66it/s]\n"
     ]
    },
    {
     "name": "stdout",
     "output_type": "stream",
     "text": [
      "Accuracy: 0.5945683802133851\n",
      "Precision: 0.6069790441569549\n",
      "Recall: 0.5756841699192157\n",
      "f1_score: 0.5522384027795093\n"
     ]
    },
    {
     "name": "stderr",
     "output_type": "stream",
     "text": [
      "100%|██████████| 1/1 [00:00<00:00, 46.49it/s, EPOCH=21, AVG_LOSS=0.651]\n",
      "100%|██████████| 1/1 [00:00<00:00, 42.53it/s]\n"
     ]
    },
    {
     "name": "stdout",
     "output_type": "stream",
     "text": [
      "Accuracy: 0.6032977691561591\n",
      "Precision: 0.6140778402880152\n",
      "Recall: 0.5860450515869414\n",
      "f1_score: 0.5681841222702952\n"
     ]
    },
    {
     "name": "stderr",
     "output_type": "stream",
     "text": [
      "100%|██████████| 1/1 [00:00<00:00, 13.51it/s, EPOCH=22, AVG_LOSS=0.649]\n",
      "100%|██████████| 1/1 [00:00<00:00, 13.24it/s]\n"
     ]
    },
    {
     "name": "stdout",
     "output_type": "stream",
     "text": [
      "Accuracy: 0.6100872938894277\n",
      "Precision: 0.6185053380782918\n",
      "Recall: 0.5944562948171008\n",
      "f1_score: 0.581148435605142\n"
     ]
    },
    {
     "name": "stderr",
     "output_type": "stream",
     "text": [
      "100%|██████████| 1/1 [00:00<00:00, 43.47it/s, EPOCH=23, AVG_LOSS=0.647]\n",
      "100%|██████████| 1/1 [00:00<00:00, 41.66it/s]\n"
     ]
    },
    {
     "name": "stdout",
     "output_type": "stream",
     "text": [
      "Accuracy: 0.6159068865179438\n",
      "Precision: 0.6236646410832709\n",
      "Recall: 0.6011334755378053\n",
      "f1_score: 0.590034943969153\n"
     ]
    },
    {
     "name": "stderr",
     "output_type": "stream",
     "text": [
      "100%|██████████| 1/1 [00:00<00:00, 43.47it/s, EPOCH=24, AVG_LOSS=0.644]\n",
      "100%|██████████| 1/1 [00:00<00:00, 41.66it/s]\n"
     ]
    },
    {
     "name": "stdout",
     "output_type": "stream",
     "text": [
      "Accuracy: 0.6207565470417071\n",
      "Precision: 0.6283948928408573\n",
      "Recall: 0.6064907264530575\n",
      "f1_score: 0.5966599863726003\n"
     ]
    },
    {
     "name": "stderr",
     "output_type": "stream",
     "text": [
      "100%|██████████| 1/1 [00:00<00:00, 46.48it/s, EPOCH=25, AVG_LOSS=0.642]\n",
      "100%|██████████| 1/1 [00:00<00:00, 42.53it/s]\n"
     ]
    },
    {
     "name": "stdout",
     "output_type": "stream",
     "text": [
      "Accuracy: 0.6217264791464597\n",
      "Precision: 0.6284147965519102\n",
      "Recall: 0.6079487004931772\n",
      "f1_score: 0.5990870803321449\n"
     ]
    },
    {
     "name": "stderr",
     "output_type": "stream",
     "text": [
      "100%|██████████| 1/1 [00:00<00:00, 43.47it/s, EPOCH=26, AVG_LOSS=0.639]\n",
      "100%|██████████| 1/1 [00:00<00:00, 41.66it/s]\n"
     ]
    },
    {
     "name": "stdout",
     "output_type": "stream",
     "text": [
      "Accuracy: 0.6256062075654704\n",
      "Precision: 0.6327219428233333\n",
      "Recall: 0.6119860216029772\n",
      "f1_score: 0.6035847763548997\n"
     ]
    },
    {
     "name": "stderr",
     "output_type": "stream",
     "text": [
      "100%|██████████| 1/1 [00:00<00:00, 13.24it/s, EPOCH=27, AVG_LOSS=0.637]\n",
      "100%|██████████| 1/1 [00:00<00:00, 12.90it/s]\n"
     ]
    },
    {
     "name": "stdout",
     "output_type": "stream",
     "text": [
      "Accuracy: 0.6333656644034917\n",
      "Precision: 0.6412558847348421\n",
      "Recall: 0.6200606638225772\n",
      "f1_score: 0.6125447387258411\n"
     ]
    },
    {
     "name": "stderr",
     "output_type": "stream",
     "text": [
      "100%|██████████| 1/1 [00:00<00:00, 47.61it/s, EPOCH=28, AVG_LOSS=0.634]\n",
      "100%|██████████| 1/1 [00:00<00:00, 41.66it/s]\n"
     ]
    },
    {
     "name": "stdout",
     "output_type": "stream",
     "text": [
      "Accuracy: 0.6382153249272551\n",
      "Precision: 0.646096306685367\n",
      "Recall: 0.6252798705031618\n",
      "f1_score: 0.6185666605501858\n"
     ]
    },
    {
     "name": "stderr",
     "output_type": "stream",
     "text": [
      "100%|██████████| 1/1 [00:00<00:00, 47.61it/s, EPOCH=29, AVG_LOSS=0.632]\n",
      "100%|██████████| 1/1 [00:00<00:00, 43.47it/s]\n"
     ]
    },
    {
     "name": "stdout",
     "output_type": "stream",
     "text": [
      "Accuracy: 0.6372453928225025\n",
      "Precision: 0.6451325009499067\n",
      "Recall: 0.6242360291670449\n",
      "f1_score: 0.6173660561893195\n"
     ]
    },
    {
     "name": "stderr",
     "output_type": "stream",
     "text": [
      "100%|██████████| 1/1 [00:00<00:00, 45.45it/s, EPOCH=30, AVG_LOSS=0.629]\n",
      "100%|██████████| 1/1 [00:00<00:00, 41.66it/s]\n"
     ]
    },
    {
     "name": "stdout",
     "output_type": "stream",
     "text": [
      "Accuracy: 0.6382153249272551\n",
      "Precision: 0.6457520218002812\n",
      "Recall: 0.6254179147378294\n",
      "f1_score: 0.6189189376665409\n"
     ]
    },
    {
     "name": "stderr",
     "output_type": "stream",
     "text": [
      "100%|██████████| 1/1 [00:00<00:00, 41.66it/s, EPOCH=31, AVG_LOSS=0.627]\n",
      "100%|██████████| 1/1 [00:00<00:00, 38.45it/s]\n"
     ]
    },
    {
     "name": "stdout",
     "output_type": "stream",
     "text": [
      "Accuracy: 0.6391852570320078\n",
      "Precision: 0.6463766594951986\n",
      "Recall: 0.626599800308614\n",
      "f1_score: 0.6204607528797055\n"
     ]
    },
    {
     "name": "stderr",
     "output_type": "stream",
     "text": [
      "100%|██████████| 1/1 [00:00<00:00, 12.90it/s, EPOCH=32, AVG_LOSS=0.626]\n",
      "100%|██████████| 1/1 [00:00<00:00, 12.74it/s]\n"
     ]
    },
    {
     "name": "stdout",
     "output_type": "stream",
     "text": [
      "Accuracy: 0.6430649854510184\n",
      "Precision: 0.649235912129895\n",
      "Recall: 0.6311892983570845\n",
      "f1_score: 0.6261990147783252\n"
     ]
    },
    {
     "name": "stderr",
     "output_type": "stream",
     "text": [
      "100%|██████████| 1/1 [00:00<00:00, 47.61it/s, EPOCH=33, AVG_LOSS=0.623]\n",
      "100%|██████████| 1/1 [00:00<00:00, 43.46it/s]\n"
     ]
    },
    {
     "name": "stdout",
     "output_type": "stream",
     "text": [
      "Accuracy: 0.6411251212415131\n",
      "Precision: 0.6461349259126639\n",
      "Recall: 0.6296537926235212\n",
      "f1_score: 0.6251248044402864\n"
     ]
    },
    {
     "name": "stderr",
     "output_type": "stream",
     "text": [
      "100%|██████████| 1/1 [00:00<00:00, 46.49it/s, EPOCH=34, AVG_LOSS=0.621]\n",
      "100%|██████████| 1/1 [00:00<00:00, 42.54it/s]\n"
     ]
    },
    {
     "name": "stdout",
     "output_type": "stream",
     "text": [
      "Accuracy: 0.6450048496605237\n",
      "Precision: 0.6499487253373111\n",
      "Recall: 0.6338291579679889\n",
      "f1_score: 0.6297916176124323\n"
     ]
    },
    {
     "name": "stderr",
     "output_type": "stream",
     "text": [
      "100%|██████████| 1/1 [00:00<00:00, 45.44it/s, EPOCH=35, AVG_LOSS=0.619]\n",
      "100%|██████████| 1/1 [00:00<00:00, 41.66it/s]"
     ]
    },
    {
     "name": "stdout",
     "output_type": "stream",
     "text": [
      "Accuracy: 0.6450048496605237\n",
      "Precision: 0.6508307750194546\n",
      "Recall: 0.633415025263986\n",
      "f1_score: 0.6288653101690116\n"
     ]
    },
    {
     "name": "stderr",
     "output_type": "stream",
     "text": [
      "\n",
      "100%|██████████| 1/1 [00:00<00:00, 43.46it/s, EPOCH=36, AVG_LOSS=0.617]\n",
      "100%|██████████| 1/1 [00:00<00:00, 43.47it/s]\n"
     ]
    },
    {
     "name": "stdout",
     "output_type": "stream",
     "text": [
      "Accuracy: 0.6508244422890398\n",
      "Precision: 0.6568086191508351\n",
      "Recall: 0.6395400290460198\n",
      "f1_score: 0.6355602686461647\n"
     ]
    },
    {
     "name": "stderr",
     "output_type": "stream",
     "text": [
      "100%|██████████| 1/1 [00:00<00:00, 46.49it/s, EPOCH=37, AVG_LOSS=0.615]\n",
      "100%|██████████| 1/1 [00:00<00:00, 42.53it/s]\n"
     ]
    },
    {
     "name": "stdout",
     "output_type": "stream",
     "text": [
      "Accuracy: 0.6488845780795345\n",
      "Precision: 0.6540245912029408\n",
      "Recall: 0.6378664790777888\n",
      "f1_score: 0.634136251705695\n"
     ]
    },
    {
     "name": "stderr",
     "output_type": "stream",
     "text": [
      "100%|██████████| 1/1 [00:00<00:00, 13.60it/s, EPOCH=38, AVG_LOSS=0.613]\n",
      "100%|██████████| 1/1 [00:00<00:00, 13.42it/s]\n"
     ]
    },
    {
     "name": "stdout",
     "output_type": "stream",
     "text": [
      "Accuracy: 0.6556741028128031\n",
      "Precision: 0.6597719707471756\n",
      "Recall: 0.6455875011346102\n",
      "f1_score: 0.6430351352010337\n"
     ]
    },
    {
     "name": "stderr",
     "output_type": "stream",
     "text": [
      "100%|██████████| 1/1 [00:00<00:00, 45.45it/s, EPOCH=39, AVG_LOSS=0.612]\n",
      "100%|██████████| 1/1 [00:00<00:00, 41.66it/s]\n"
     ]
    },
    {
     "name": "stdout",
     "output_type": "stream",
     "text": [
      "Accuracy: 0.6595538312318138\n",
      "Precision: 0.6627483769427504\n",
      "Recall: 0.6501769991830807\n",
      "f1_score: 0.6483536665354848\n"
     ]
    },
    {
     "name": "stderr",
     "output_type": "stream",
     "text": [
      "100%|██████████| 1/1 [00:00<00:00, 45.45it/s, EPOCH=40, AVG_LOSS=0.61]\n",
      "100%|██████████| 1/1 [00:00<00:00, 41.66it/s]\n"
     ]
    },
    {
     "name": "stdout",
     "output_type": "stream",
     "text": [
      "Accuracy: 0.6576139670223085\n",
      "Precision: 0.6595201633486473\n",
      "Recall: 0.6489175819188526\n",
      "f1_score: 0.6475759791223848\n"
     ]
    },
    {
     "name": "stderr",
     "output_type": "stream",
     "text": [
      "100%|██████████| 1/1 [00:00<00:00, 44.42it/s, EPOCH=41, AVG_LOSS=0.609]\n",
      "100%|██████████| 1/1 [00:00<00:00, 39.20it/s]\n"
     ]
    },
    {
     "name": "stdout",
     "output_type": "stream",
     "text": [
      "Accuracy: 0.6576139670223085\n",
      "Precision: 0.6593156277791252\n",
      "Recall: 0.6490556261535203\n",
      "f1_score: 0.6478119795582832\n"
     ]
    },
    {
     "name": "stderr",
     "output_type": "stream",
     "text": [
      "100%|██████████| 1/1 [00:00<00:00, 43.47it/s, EPOCH=42, AVG_LOSS=0.607]\n",
      "100%|██████████| 1/1 [00:00<00:00, 39.99it/s]\n"
     ]
    },
    {
     "name": "stdout",
     "output_type": "stream",
     "text": [
      "Accuracy: 0.6605237633365665\n",
      "Precision: 0.6627608919605124\n",
      "Recall: 0.6517730174578682\n",
      "f1_score: 0.6504529533020256\n"
     ]
    },
    {
     "name": "stderr",
     "output_type": "stream",
     "text": [
      "100%|██████████| 1/1 [00:00<00:00, 45.45it/s, EPOCH=43, AVG_LOSS=0.605]\n",
      "100%|██████████| 1/1 [00:00<00:00, 41.66it/s]\n"
     ]
    },
    {
     "name": "stdout",
     "output_type": "stream",
     "text": [
      "Accuracy: 0.6634335596508244\n",
      "Precision: 0.6669740638730408\n",
      "Recall: 0.6540762760582131\n",
      "f1_score: 0.6523610321590121\n"
     ]
    },
    {
     "name": "stderr",
     "output_type": "stream",
     "text": [
      "100%|██████████| 1/1 [00:00<00:00, 12.74it/s, EPOCH=44, AVG_LOSS=0.604]\n",
      "100%|██████████| 1/1 [00:00<00:00, 12.58it/s]\n"
     ]
    },
    {
     "name": "stdout",
     "output_type": "stream",
     "text": [
      "Accuracy: 0.6634335596508244\n",
      "Precision: 0.666723228523531\n",
      "Recall: 0.6542143202928807\n",
      "f1_score: 0.6526081311896931\n"
     ]
    },
    {
     "name": "stderr",
     "output_type": "stream",
     "text": [
      "100%|██████████| 1/1 [00:00<00:00, 35.07it/s, EPOCH=45, AVG_LOSS=0.603]\n",
      "100%|██████████| 1/1 [00:00<00:00, 32.77it/s]\n"
     ]
    },
    {
     "name": "stdout",
     "output_type": "stream",
     "text": [
      "Accuracy: 0.6634335596508244\n",
      "Precision: 0.6669740638730408\n",
      "Recall: 0.6540762760582131\n",
      "f1_score: 0.6523610321590121\n"
     ]
    },
    {
     "name": "stderr",
     "output_type": "stream",
     "text": [
      "100%|██████████| 1/1 [00:00<00:00, 43.47it/s, EPOCH=46, AVG_LOSS=0.602]\n",
      "100%|██████████| 1/1 [00:00<00:00, 39.99it/s]\n"
     ]
    },
    {
     "name": "stdout",
     "output_type": "stream",
     "text": [
      "Accuracy: 0.6624636275460718\n",
      "Precision: 0.6655476598872825\n",
      "Recall: 0.6533085231914315\n",
      "f1_score: 0.6517297612114152\n"
     ]
    },
    {
     "name": "stderr",
     "output_type": "stream",
     "text": [
      "100%|██████████| 1/1 [00:00<00:00, 41.66it/s, EPOCH=47, AVG_LOSS=0.6]\n",
      "100%|██████████| 1/1 [00:00<00:00, 38.45it/s]\n"
     ]
    },
    {
     "name": "stdout",
     "output_type": "stream",
     "text": [
      "Accuracy: 0.6663433559650824\n",
      "Precision: 0.6697582291921915\n",
      "Recall: 0.6572078000665638\n",
      "f1_score: 0.6557328674043874\n"
     ]
    },
    {
     "name": "stderr",
     "output_type": "stream",
     "text": [
      "100%|██████████| 1/1 [00:00<00:00, 44.43it/s, EPOCH=48, AVG_LOSS=0.599]\n",
      "100%|██████████| 1/1 [00:00<00:00, 40.80it/s]\n"
     ]
    },
    {
     "name": "stdout",
     "output_type": "stream",
     "text": [
      "Accuracy: 0.6634335596508244\n",
      "Precision: 0.6653550770819384\n",
      "Recall: 0.6550425857008866\n",
      "f1_score: 0.6540271802147068\n"
     ]
    },
    {
     "name": "stderr",
     "output_type": "stream",
     "text": [
      "100%|██████████| 1/1 [00:00<00:00, 13.07it/s, EPOCH=49, AVG_LOSS=0.598]\n",
      "100%|██████████| 1/1 [00:00<00:00, 12.74it/s]\n"
     ]
    },
    {
     "name": "stdout",
     "output_type": "stream",
     "text": [
      "Accuracy: 0.6653734238603298\n",
      "Precision: 0.6670201229063742\n",
      "Recall: 0.657268312607788\n",
      "f1_score: 0.6564677589928578\n"
     ]
    },
    {
     "name": "stderr",
     "output_type": "stream",
     "text": [
      "100%|██████████| 1/1 [00:00<00:00, 45.45it/s, EPOCH=50, AVG_LOSS=0.596]\n",
      "100%|██████████| 1/1 [00:00<00:00, 41.66it/s]\n"
     ]
    },
    {
     "name": "stdout",
     "output_type": "stream",
     "text": [
      "Accuracy: 0.6605237633365665\n",
      "Precision: 0.6619396083792368\n",
      "Recall: 0.6523251943965387\n",
      "f1_score: 0.6513769090459408\n"
     ]
    },
    {
     "name": "stderr",
     "output_type": "stream",
     "text": [
      "100%|██████████| 1/1 [00:00<00:00, 47.61it/s, EPOCH=51, AVG_LOSS=0.595]\n",
      "100%|██████████| 1/1 [00:00<00:00, 43.47it/s]\n"
     ]
    },
    {
     "name": "stdout",
     "output_type": "stream",
     "text": [
      "Accuracy: 0.6663433559650824\n",
      "Precision: 0.6685826771653544\n",
      "Recall: 0.6578980212399019\n",
      "f1_score: 0.6569051580698835\n"
     ]
    },
    {
     "name": "stderr",
     "output_type": "stream",
     "text": [
      "100%|██████████| 1/1 [00:00<00:00, 46.49it/s, EPOCH=52, AVG_LOSS=0.594]\n",
      "100%|██████████| 1/1 [00:00<00:00, 42.53it/s]\n"
     ]
    },
    {
     "name": "stdout",
     "output_type": "stream",
     "text": [
      "Accuracy: 0.6682832201745877\n",
      "Precision: 0.6702303888062402\n",
      "Recall: 0.6601237481468034\n",
      "f1_score: 0.6593454368391765\n"
     ]
    },
    {
     "name": "stderr",
     "output_type": "stream",
     "text": [
      "100%|██████████| 1/1 [00:00<00:00, 45.45it/s, EPOCH=53, AVG_LOSS=0.593]\n",
      "100%|██████████| 1/1 [00:00<00:00, 41.66it/s]\n"
     ]
    },
    {
     "name": "stdout",
     "output_type": "stream",
     "text": [
      "Accuracy: 0.6702230843840931\n",
      "Precision: 0.6718861366712314\n",
      "Recall: 0.6623494750537049\n",
      "f1_score: 0.6617689059738014\n"
     ]
    },
    {
     "name": "stderr",
     "output_type": "stream",
     "text": [
      "100%|██████████| 1/1 [00:00<00:00, 12.27it/s, EPOCH=54, AVG_LOSS=0.592]\n",
      "100%|██████████| 1/1 [00:00<00:00, 11.97it/s]\n"
     ]
    },
    {
     "name": "stdout",
     "output_type": "stream",
     "text": [
      "Accuracy: 0.6721629485935985\n",
      "Precision: 0.6733600031844598\n",
      "Recall: 0.6647132461952739\n",
      "f1_score: 0.6643802633505149\n"
     ]
    },
    {
     "name": "stderr",
     "output_type": "stream",
     "text": [
      "100%|██████████| 1/1 [00:00<00:00, 45.44it/s, EPOCH=55, AVG_LOSS=0.59]\n",
      "100%|██████████| 1/1 [00:00<00:00, 41.66it/s]\n"
     ]
    },
    {
     "name": "stdout",
     "output_type": "stream",
     "text": [
      "Accuracy: 0.6721629485935985\n",
      "Precision: 0.6729977633958313\n",
      "Recall: 0.6649893346646092\n",
      "f1_score: 0.6647805977959736\n"
     ]
    },
    {
     "name": "stderr",
     "output_type": "stream",
     "text": [
      "100%|██████████| 1/1 [00:00<00:00, 44.42it/s, EPOCH=56, AVG_LOSS=0.589]\n",
      "100%|██████████| 1/1 [00:00<00:00, 42.53it/s]\n"
     ]
    },
    {
     "name": "stdout",
     "output_type": "stream",
     "text": [
      "Accuracy: 0.6731328806983511\n",
      "Precision: 0.6737615578704252\n",
      "Recall: 0.6661712202353938\n",
      "f1_score: 0.6660643695438849\n"
     ]
    },
    {
     "name": "stderr",
     "output_type": "stream",
     "text": [
      "100%|██████████| 1/1 [00:00<00:00, 45.44it/s, EPOCH=57, AVG_LOSS=0.588]\n",
      "100%|██████████| 1/1 [00:00<00:00, 41.66it/s]\n"
     ]
    },
    {
     "name": "stdout",
     "output_type": "stream",
     "text": [
      "Accuracy: 0.6702230843840931\n",
      "Precision: 0.6716871803069053\n",
      "Recall: 0.6624875192883726\n",
      "f1_score: 0.6619802514849957\n"
     ]
    },
    {
     "name": "stderr",
     "output_type": "stream",
     "text": [
      "100%|██████████| 1/1 [00:00<00:00, 47.61it/s, EPOCH=58, AVG_LOSS=0.587]\n",
      "100%|██████████| 1/1 [00:00<00:00, 43.47it/s]\n"
     ]
    },
    {
     "name": "stdout",
     "output_type": "stream",
     "text": [
      "Accuracy: 0.6682832201745877\n",
      "Precision: 0.6704441059858814\n",
      "Recall: 0.6599857039121357\n",
      "f1_score: 0.6591241299303945\n"
     ]
    },
    {
     "name": "stderr",
     "output_type": "stream",
     "text": [
      "100%|██████████| 1/1 [00:00<00:00, 46.49it/s, EPOCH=59, AVG_LOSS=0.586]\n",
      "100%|██████████| 1/1 [00:00<00:00, 42.53it/s]\n"
     ]
    },
    {
     "name": "stdout",
     "output_type": "stream",
     "text": [
      "Accuracy: 0.6653734238603298\n",
      "Precision: 0.6678739557759465\n",
      "Recall: 0.6567161356691174\n",
      "f1_score: 0.6555629257711693\n"
     ]
    },
    {
     "name": "stderr",
     "output_type": "stream",
     "text": [
      "100%|██████████| 1/1 [00:00<00:00, 13.33it/s, EPOCH=60, AVG_LOSS=0.585]\n",
      "100%|██████████| 1/1 [00:00<00:00, 12.98it/s]\n"
     ]
    },
    {
     "name": "stdout",
     "output_type": "stream",
     "text": [
      "Accuracy: 0.6673132880698351\n",
      "Precision: 0.6690906534923886\n",
      "Recall: 0.6592179510453542\n",
      "f1_score: 0.6584592502450732\n"
     ]
    },
    {
     "name": "stderr",
     "output_type": "stream",
     "text": [
      "100%|██████████| 1/1 [00:00<00:00, 43.47it/s, EPOCH=61, AVG_LOSS=0.584]\n",
      "100%|██████████| 1/1 [00:00<00:00, 39.99it/s]\n"
     ]
    },
    {
     "name": "stdout",
     "output_type": "stream",
     "text": [
      "Accuracy: 0.6741028128031038\n",
      "Precision: 0.6752238794110402\n",
      "Recall: 0.6668009288675079\n",
      "f1_score: 0.6665665642541986\n"
     ]
    },
    {
     "name": "stderr",
     "output_type": "stream",
     "text": [
      "100%|██████████| 1/1 [00:00<00:00, 47.61it/s, EPOCH=62, AVG_LOSS=0.583]\n",
      "100%|██████████| 1/1 [00:00<00:00, 43.47it/s]\n"
     ]
    },
    {
     "name": "stdout",
     "output_type": "stream",
     "text": [
      "Accuracy: 0.6721629485935985\n",
      "Precision: 0.6726600654328208\n",
      "Recall: 0.6652654231339445\n",
      "f1_score: 0.665169683692686\n"
     ]
    },
    {
     "name": "stderr",
     "output_type": "stream",
     "text": [
      "100%|██████████| 1/1 [00:00<00:00, 45.44it/s, EPOCH=63, AVG_LOSS=0.582]\n",
      "100%|██████████| 1/1 [00:00<00:00, 41.66it/s]\n"
     ]
    },
    {
     "name": "stdout",
     "output_type": "stream",
     "text": [
      "Accuracy: 0.6760426770126091\n",
      "Precision: 0.6762513856241008\n",
      "Recall: 0.6695788327130798\n",
      "f1_score: 0.6696882146200716\n"
     ]
    },
    {
     "name": "stderr",
     "output_type": "stream",
     "text": [
      "100%|██████████| 1/1 [00:00<00:00, 45.44it/s, EPOCH=64, AVG_LOSS=0.581]\n",
      "100%|██████████| 1/1 [00:00<00:00, 43.47it/s]\n"
     ]
    },
    {
     "name": "stdout",
     "output_type": "stream",
     "text": [
      "Accuracy: 0.6731328806983511\n",
      "Precision: 0.6739322503961965\n",
      "Recall: 0.6660331760007261\n",
      "f1_score: 0.6658704033343046\n"
     ]
    },
    {
     "name": "stderr",
     "output_type": "stream",
     "text": [
      "100%|██████████| 1/1 [00:00<00:00, 47.61it/s, EPOCH=65, AVG_LOSS=0.58]\n",
      "100%|██████████| 1/1 [00:00<00:00, 43.47it/s]\n"
     ]
    },
    {
     "name": "stdout",
     "output_type": "stream",
     "text": [
      "Accuracy: 0.6721629485935985\n",
      "Precision: 0.6733600031844598\n",
      "Recall: 0.6647132461952739\n",
      "f1_score: 0.6643802633505149\n"
     ]
    },
    {
     "name": "stderr",
     "output_type": "stream",
     "text": [
      "100%|██████████| 1/1 [00:00<00:00, 10.67it/s, EPOCH=66, AVG_LOSS=0.579]\n",
      "100%|██████████| 1/1 [00:00<00:00, 10.45it/s]\n"
     ]
    },
    {
     "name": "stdout",
     "output_type": "stream",
     "text": [
      "Accuracy: 0.6711930164888458\n",
      "Precision: 0.6726190476190477\n",
      "Recall: 0.6635313606244895\n",
      "f1_score: 0.6630787160882277\n"
     ]
    },
    {
     "name": "stderr",
     "output_type": "stream",
     "text": [
      "100%|██████████| 1/1 [00:00<00:00, 44.42it/s, EPOCH=67, AVG_LOSS=0.579]\n",
      "100%|██████████| 1/1 [00:00<00:00, 42.53it/s]\n"
     ]
    },
    {
     "name": "stdout",
     "output_type": "stream",
     "text": [
      "Accuracy: 0.6741028128031038\n",
      "Precision: 0.6752238794110402\n",
      "Recall: 0.6668009288675079\n",
      "f1_score: 0.6665665642541986\n"
     ]
    },
    {
     "name": "stderr",
     "output_type": "stream",
     "text": [
      "100%|██████████| 1/1 [00:00<00:00, 43.47it/s, EPOCH=68, AVG_LOSS=0.578]\n",
      "100%|██████████| 1/1 [00:00<00:00, 39.99it/s]\n"
     ]
    },
    {
     "name": "stdout",
     "output_type": "stream",
     "text": [
      "Accuracy: 0.6721629485935985\n",
      "Precision: 0.6726600654328208\n",
      "Recall: 0.6652654231339445\n",
      "f1_score: 0.665169683692686\n"
     ]
    },
    {
     "name": "stderr",
     "output_type": "stream",
     "text": [
      "100%|██████████| 1/1 [00:00<00:00, 43.47it/s, EPOCH=69, AVG_LOSS=0.577]\n",
      "100%|██████████| 1/1 [00:00<00:00, 39.99it/s]\n"
     ]
    },
    {
     "name": "stdout",
     "output_type": "stream",
     "text": [
      "Accuracy: 0.6692531522793405\n",
      "Precision: 0.669526821103163\n",
      "Recall: 0.6624099875949291\n",
      "f1_score: 0.6622941875420847\n"
     ]
    },
    {
     "name": "stderr",
     "output_type": "stream",
     "text": [
      "100%|██████████| 1/1 [00:00<00:00, 40.80it/s, EPOCH=70, AVG_LOSS=0.576]\n",
      "100%|██████████| 1/1 [00:00<00:00, 39.20it/s]\n"
     ]
    },
    {
     "name": "stdout",
     "output_type": "stream",
     "text": [
      "Accuracy: 0.6711930164888458\n",
      "Precision: 0.6718898573692551\n",
      "Recall: 0.66408353756316\n",
      "f1_score: 0.6638874383689295\n"
     ]
    },
    {
     "name": "stderr",
     "output_type": "stream",
     "text": [
      "100%|██████████| 1/1 [00:00<00:00, 13.47it/s, EPOCH=71, AVG_LOSS=0.576]\n",
      "100%|██████████| 1/1 [00:00<00:00, 13.11it/s]\n"
     ]
    },
    {
     "name": "stdout",
     "output_type": "stream",
     "text": [
      "Accuracy: 0.6760426770126091\n",
      "Precision: 0.677662383242799\n",
      "Recall: 0.6684744788357386\n",
      "f1_score: 0.6681501040783284\n"
     ]
    },
    {
     "name": "stderr",
     "output_type": "stream",
     "text": [
      "100%|██████████| 1/1 [00:00<00:00, 45.44it/s, EPOCH=72, AVG_LOSS=0.575]\n",
      "100%|██████████| 1/1 [00:00<00:00, 41.66it/s]\n"
     ]
    },
    {
     "name": "stdout",
     "output_type": "stream",
     "text": [
      "Accuracy: 0.6731328806983511\n",
      "Precision: 0.6742921339378032\n",
      "Recall: 0.6657570875313908\n",
      "f1_score: 0.6654740642676615\n"
     ]
    },
    {
     "name": "stderr",
     "output_type": "stream",
     "text": [
      "100%|██████████| 1/1 [00:00<00:00, 43.47it/s, EPOCH=73, AVG_LOSS=0.574]\n",
      "100%|██████████| 1/1 [00:00<00:00, 41.66it/s]\n"
     ]
    },
    {
     "name": "stdout",
     "output_type": "stream",
     "text": [
      "Accuracy: 0.6702230843840931\n",
      "Precision: 0.6703167328167328\n",
      "Recall: 0.6635918731657136\n",
      "f1_score: 0.6635685877059627\n"
     ]
    },
    {
     "name": "stderr",
     "output_type": "stream",
     "text": [
      "100%|██████████| 1/1 [00:00<00:00, 45.44it/s, EPOCH=74, AVG_LOSS=0.573]\n",
      "100%|██████████| 1/1 [00:00<00:00, 40.80it/s]\n"
     ]
    },
    {
     "name": "stdout",
     "output_type": "stream",
     "text": [
      "Accuracy: 0.6702230843840931\n",
      "Precision: 0.6697739007979971\n",
      "Recall: 0.6641440501043842\n",
      "f1_score: 0.6642954552419478\n"
     ]
    },
    {
     "name": "stderr",
     "output_type": "stream",
     "text": [
      "100%|██████████| 1/1 [00:00<00:00, 45.45it/s, EPOCH=75, AVG_LOSS=0.572]\n",
      "100%|██████████| 1/1 [00:00<00:00, 41.66it/s]\n"
     ]
    },
    {
     "name": "stdout",
     "output_type": "stream",
     "text": [
      "Accuracy: 0.6721629485935985\n",
      "Precision: 0.6717904083867939\n",
      "Recall: 0.6660936885419504\n",
      "f1_score: 0.6662701878581718\n"
     ]
    },
    {
     "name": "stderr",
     "output_type": "stream",
     "text": [
      "100%|██████████| 1/1 [00:00<00:00, 13.42it/s, EPOCH=76, AVG_LOSS=0.571]\n",
      "100%|██████████| 1/1 [00:00<00:00, 13.07it/s]\n"
     ]
    },
    {
     "name": "stdout",
     "output_type": "stream",
     "text": [
      "Accuracy: 0.6721629485935985\n",
      "Precision: 0.6712250048534265\n",
      "Recall: 0.6667839097152886\n",
      "f1_score: 0.6671118192795024\n"
     ]
    },
    {
     "name": "stderr",
     "output_type": "stream",
     "text": [
      "100%|██████████| 1/1 [00:00<00:00, 45.44it/s, EPOCH=77, AVG_LOSS=0.57]\n",
      "100%|██████████| 1/1 [00:00<00:00, 41.66it/s]\n"
     ]
    },
    {
     "name": "stdout",
     "output_type": "stream",
     "text": [
      "Accuracy: 0.6741028128031038\n",
      "Precision: 0.6731276269057183\n",
      "Recall: 0.6688715923875224\n",
      "f1_score: 0.6692408167006576\n"
     ]
    },
    {
     "name": "stderr",
     "output_type": "stream",
     "text": [
      "100%|██████████| 1/1 [00:00<00:00, 45.44it/s, EPOCH=78, AVG_LOSS=0.57]\n",
      "100%|██████████| 1/1 [00:00<00:00, 43.47it/s]\n"
     ]
    },
    {
     "name": "stdout",
     "output_type": "stream",
     "text": [
      "Accuracy: 0.6750727449078564\n",
      "Precision: 0.6750199978041627\n",
      "Recall: 0.6688110798462982\n",
      "f1_score: 0.6689688420402911\n"
     ]
    },
    {
     "name": "stderr",
     "output_type": "stream",
     "text": [
      "100%|██████████| 1/1 [00:00<00:00, 42.53it/s, EPOCH=79, AVG_LOSS=0.569]\n",
      "100%|██████████| 1/1 [00:00<00:00, 40.80it/s]\n"
     ]
    },
    {
     "name": "stdout",
     "output_type": "stream",
     "text": [
      "Accuracy: 0.6770126091173618\n",
      "Precision: 0.6780170364500793\n",
      "Recall: 0.6699324528758586\n",
      "f1_score: 0.6698363332650548\n"
     ]
    },
    {
     "name": "stderr",
     "output_type": "stream",
     "text": [
      "100%|██████████| 1/1 [00:00<00:00, 45.45it/s, EPOCH=80, AVG_LOSS=0.568]\n",
      "100%|██████████| 1/1 [00:00<00:00, 41.66it/s]\n"
     ]
    },
    {
     "name": "stdout",
     "output_type": "stream",
     "text": [
      "Accuracy: 0.6770126091173618\n",
      "Precision: 0.6775014778325124\n",
      "Recall: 0.6703465855798614\n",
      "f1_score: 0.6704030643837392\n"
     ]
    },
    {
     "name": "stderr",
     "output_type": "stream",
     "text": [
      "100%|██████████| 1/1 [00:00<00:00, 43.47it/s, EPOCH=81, AVG_LOSS=0.568]\n",
      "100%|██████████| 1/1 [00:00<00:00, 38.45it/s]\n"
     ]
    },
    {
     "name": "stdout",
     "output_type": "stream",
     "text": [
      "Accuracy: 0.6799224054316197\n",
      "Precision: 0.6799995298432027\n",
      "Recall: 0.6737541980575474\n",
      "f1_score: 0.6739967804990228\n"
     ]
    },
    {
     "name": "stderr",
     "output_type": "stream",
     "text": [
      "100%|██████████| 1/1 [00:00<00:00, 13.33it/s, EPOCH=82, AVG_LOSS=0.567]\n",
      "100%|██████████| 1/1 [00:00<00:00, 13.15it/s]\n"
     ]
    },
    {
     "name": "stdout",
     "output_type": "stream",
     "text": [
      "Accuracy: 0.6808923375363725\n",
      "Precision: 0.6810840378311401\n",
      "Recall: 0.6746599951589967\n",
      "f1_score: 0.6748977583022558\n"
     ]
    },
    {
     "name": "stderr",
     "output_type": "stream",
     "text": [
      "100%|██████████| 1/1 [00:00<00:00, 44.42it/s, EPOCH=83, AVG_LOSS=0.566]\n",
      "100%|██████████| 1/1 [00:00<00:00, 40.80it/s]\n"
     ]
    },
    {
     "name": "stdout",
     "output_type": "stream",
     "text": [
      "Accuracy: 0.6760426770126091\n",
      "Precision: 0.675448775359215\n",
      "Recall: 0.6704070981210857\n",
      "f1_score: 0.6707267163893671\n"
     ]
    },
    {
     "name": "stderr",
     "output_type": "stream",
     "text": [
      "100%|██████████| 1/1 [00:00<00:00, 45.45it/s, EPOCH=84, AVG_LOSS=0.565]\n",
      "100%|██████████| 1/1 [00:00<00:00, 41.66it/s]\n"
     ]
    },
    {
     "name": "stdout",
     "output_type": "stream",
     "text": [
      "Accuracy: 0.6770126091173618\n",
      "Precision: 0.6763943688277729\n",
      "Recall: 0.6714509394572026\n",
      "f1_score: 0.6717944747008062\n"
     ]
    },
    {
     "name": "stderr",
     "output_type": "stream",
     "text": [
      "100%|██████████| 1/1 [00:00<00:00, 47.61it/s, EPOCH=85, AVG_LOSS=0.565]\n",
      "100%|██████████| 1/1 [00:00<00:00, 43.47it/s]\n"
     ]
    },
    {
     "name": "stdout",
     "output_type": "stream",
     "text": [
      "Accuracy: 0.6760426770126091\n",
      "Precision: 0.6752281110463987\n",
      "Recall: 0.6706831865904208\n",
      "f1_score: 0.6710513243767864\n"
     ]
    },
    {
     "name": "stderr",
     "output_type": "stream",
     "text": [
      "100%|██████████| 1/1 [00:00<00:00, 42.54it/s, EPOCH=86, AVG_LOSS=0.564]\n",
      "100%|██████████| 1/1 [00:00<00:00, 40.80it/s]\n"
     ]
    },
    {
     "name": "stdout",
     "output_type": "stream",
     "text": [
      "Accuracy: 0.6799224054316197\n",
      "Precision: 0.6793443604578823\n",
      "Recall: 0.6744444192308856\n",
      "f1_score: 0.6748317914213624\n"
     ]
    },
    {
     "name": "stderr",
     "output_type": "stream",
     "text": [
      "100%|██████████| 1/1 [00:00<00:00, 47.61it/s, EPOCH=87, AVG_LOSS=0.564]\n",
      "100%|██████████| 1/1 [00:00<00:00, 43.47it/s]\n"
     ]
    },
    {
     "name": "stdout",
     "output_type": "stream",
     "text": [
      "Accuracy: 0.6760426770126091\n",
      "Precision: 0.6751264016626084\n",
      "Recall: 0.6708212308250885\n",
      "f1_score: 0.6712096213631538\n"
     ]
    },
    {
     "name": "stderr",
     "output_type": "stream",
     "text": [
      "100%|██████████| 1/1 [00:00<00:00, 13.67it/s, EPOCH=88, AVG_LOSS=0.563]\n",
      "100%|██████████| 1/1 [00:00<00:00, 13.30it/s]\n"
     ]
    },
    {
     "name": "stdout",
     "output_type": "stream",
     "text": [
      "Accuracy: 0.6779825412221144\n",
      "Precision: 0.677339958939903\n",
      "Recall: 0.6724947807933195\n",
      "f1_score: 0.6728610750057344\n"
     ]
    },
    {
     "name": "stderr",
     "output_type": "stream",
     "text": [
      "100%|██████████| 1/1 [00:00<00:00, 45.44it/s, EPOCH=89, AVG_LOSS=0.563]\n",
      "100%|██████████| 1/1 [00:00<00:00, 41.66it/s]\n"
     ]
    },
    {
     "name": "stdout",
     "output_type": "stream",
     "text": [
      "Accuracy: 0.6808923375363725\n",
      "Precision: 0.6805295768061725\n",
      "Recall: 0.6752121720976673\n",
      "f1_score: 0.6755743699170857\n"
     ]
    },
    {
     "name": "stderr",
     "output_type": "stream",
     "text": [
      "100%|██████████| 1/1 [00:00<00:00, 48.75it/s, EPOCH=90, AVG_LOSS=0.562]\n",
      "100%|██████████| 1/1 [00:00<00:00, 44.42it/s]\n"
     ]
    },
    {
     "name": "stdout",
     "output_type": "stream",
     "text": [
      "Accuracy: 0.6818622696411252\n",
      "Precision: 0.6818729463307776\n",
      "Recall: 0.6758418807297812\n",
      "f1_score: 0.6761438509392909\n"
     ]
    },
    {
     "name": "stderr",
     "output_type": "stream",
     "text": [
      "100%|██████████| 1/1 [00:00<00:00, 45.44it/s, EPOCH=91, AVG_LOSS=0.562]\n",
      "100%|██████████| 1/1 [00:00<00:00, 41.66it/s]\n"
     ]
    },
    {
     "name": "stdout",
     "output_type": "stream",
     "text": [
      "Accuracy: 0.6838021338506305\n",
      "Precision: 0.6838894539195743\n",
      "Recall: 0.6777915191673474\n",
      "f1_score: 0.6781185835555147\n"
     ]
    },
    {
     "name": "stderr",
     "output_type": "stream",
     "text": [
      "100%|██████████| 1/1 [00:00<00:00, 45.45it/s, EPOCH=92, AVG_LOSS=0.561]\n",
      "100%|██████████| 1/1 [00:00<00:00, 41.66it/s]\n"
     ]
    },
    {
     "name": "stdout",
     "output_type": "stream",
     "text": [
      "Accuracy: 0.6808923375363725\n",
      "Precision: 0.6805295768061725\n",
      "Recall: 0.6752121720976673\n",
      "f1_score: 0.6755743699170857\n"
     ]
    },
    {
     "name": "stderr",
     "output_type": "stream",
     "text": [
      "100%|██████████| 1/1 [00:00<00:00, 13.79it/s, EPOCH=93, AVG_LOSS=0.561]\n",
      "100%|██████████| 1/1 [00:00<00:00, 13.42it/s]\n"
     ]
    },
    {
     "name": "stdout",
     "output_type": "stream",
     "text": [
      "Accuracy: 0.6818622696411252\n",
      "Precision: 0.6817327896640342\n",
      "Recall: 0.6759799249644489\n",
      "f1_score: 0.6763124846851263\n"
     ]
    },
    {
     "name": "stderr",
     "output_type": "stream",
     "text": [
      "100%|██████████| 1/1 [00:00<00:00, 45.44it/s, EPOCH=94, AVG_LOSS=0.56]\n",
      "100%|██████████| 1/1 [00:00<00:00, 41.66it/s]\n"
     ]
    },
    {
     "name": "stdout",
     "output_type": "stream",
     "text": [
      "Accuracy: 0.6799224054316197\n",
      "Precision: 0.6795884224811644\n",
      "Recall: 0.6741683307615504\n",
      "f1_score: 0.6745057745735081\n"
     ]
    },
    {
     "name": "stderr",
     "output_type": "stream",
     "text": [
      "100%|██████████| 1/1 [00:00<00:00, 44.99it/s, EPOCH=95, AVG_LOSS=0.56]\n",
      "100%|██████████| 1/1 [00:00<00:00, 41.66it/s]\n"
     ]
    },
    {
     "name": "stdout",
     "output_type": "stream",
     "text": [
      "Accuracy: 0.6808923375363725\n",
      "Precision: 0.6800712171231071\n",
      "Recall: 0.6757643490363378\n",
      "f1_score: 0.6762086131435635\n"
     ]
    },
    {
     "name": "stderr",
     "output_type": "stream",
     "text": [
      "100%|██████████| 1/1 [00:00<00:00, 45.44it/s, EPOCH=96, AVG_LOSS=0.559]\n",
      "100%|██████████| 1/1 [00:00<00:00, 41.66it/s]\n"
     ]
    },
    {
     "name": "stdout",
     "output_type": "stream",
     "text": [
      "Accuracy: 0.6799224054316197\n",
      "Precision: 0.6791239511763885\n",
      "Recall: 0.6747205077002209\n",
      "f1_score: 0.675147230688146\n"
     ]
    },
    {
     "name": "stderr",
     "output_type": "stream",
     "text": [
      "100%|██████████| 1/1 [00:00<00:00, 47.61it/s, EPOCH=97, AVG_LOSS=0.558]\n",
      "100%|██████████| 1/1 [00:00<00:00, 43.47it/s]\n"
     ]
    },
    {
     "name": "stdout",
     "output_type": "stream",
     "text": [
      "Accuracy: 0.6857419980601358\n",
      "Precision: 0.6854853782952377\n",
      "Recall: 0.6801552903089165\n",
      "f1_score: 0.6805851979345956\n"
     ]
    },
    {
     "name": "stderr",
     "output_type": "stream",
     "text": [
      "100%|██████████| 1/1 [00:00<00:00, 13.33it/s, EPOCH=98, AVG_LOSS=0.558]\n",
      "100%|██████████| 1/1 [00:00<00:00, 12.98it/s]\n"
     ]
    },
    {
     "name": "stdout",
     "output_type": "stream",
     "text": [
      "Accuracy: 0.6828322017458778\n",
      "Precision: 0.6821770845458426\n",
      "Recall: 0.6775759432392363\n",
      "f1_score: 0.6780232741372477\n"
     ]
    },
    {
     "name": "stderr",
     "output_type": "stream",
     "text": [
      "100%|██████████| 1/1 [00:00<00:00, 46.49it/s, EPOCH=99, AVG_LOSS=0.557]\n",
      "100%|██████████| 1/1 [00:00<00:00, 42.53it/s]\n"
     ]
    },
    {
     "name": "stdout",
     "output_type": "stream",
     "text": [
      "Accuracy: 0.6818622696411252\n",
      "Precision: 0.6813487619758616\n",
      "Recall: 0.6763940576684517\n",
      "f1_score: 0.6768025078369906\n"
     ]
    },
    {
     "name": "stderr",
     "output_type": "stream",
     "text": [
      "100%|██████████| 1/1 [00:00<00:00, 45.44it/s, EPOCH=100, AVG_LOSS=0.557]\n",
      "100%|██████████| 1/1 [00:00<00:00, 41.66it/s]\n"
     ]
    },
    {
     "name": "stdout",
     "output_type": "stream",
     "text": [
      "Accuracy: 0.6799224054316197\n",
      "Precision: 0.6793443604578823\n",
      "Recall: 0.6744444192308856\n",
      "f1_score: 0.6748317914213624\n"
     ]
    },
    {
     "name": "stderr",
     "output_type": "stream",
     "text": [
      "100%|██████████| 1/1 [00:00<00:00, 43.47it/s, EPOCH=101, AVG_LOSS=0.556]\n",
      "100%|██████████| 1/1 [00:00<00:00, 41.66it/s]\n"
     ]
    },
    {
     "name": "stdout",
     "output_type": "stream",
     "text": [
      "Accuracy: 0.6789524733268671\n",
      "Precision: 0.67828556774735\n",
      "Recall: 0.6735386221294364\n",
      "f1_score: 0.6739265242786723\n"
     ]
    },
    {
     "name": "stderr",
     "output_type": "stream",
     "text": [
      "100%|██████████| 1/1 [00:00<00:00, 46.49it/s, EPOCH=102, AVG_LOSS=0.556]\n",
      "100%|██████████| 1/1 [00:00<00:00, 44.43it/s]\n"
     ]
    },
    {
     "name": "stdout",
     "output_type": "stream",
     "text": [
      "Accuracy: 0.6770126091173618\n",
      "Precision: 0.6763943688277729\n",
      "Recall: 0.6714509394572026\n",
      "f1_score: 0.6717944747008062\n"
     ]
    },
    {
     "name": "stderr",
     "output_type": "stream",
     "text": [
      "100%|██████████| 1/1 [00:00<00:00, 45.44it/s, EPOCH=103, AVG_LOSS=0.555]\n",
      "100%|██████████| 1/1 [00:00<00:00, 41.66it/s]\n"
     ]
    },
    {
     "name": "stdout",
     "output_type": "stream",
     "text": [
      "Accuracy: 0.6770126091173618\n",
      "Precision: 0.6763943688277729\n",
      "Recall: 0.6714509394572026\n",
      "f1_score: 0.6717944747008062\n"
     ]
    },
    {
     "name": "stderr",
     "output_type": "stream",
     "text": [
      "100%|██████████| 1/1 [00:00<00:00, 13.42it/s, EPOCH=104, AVG_LOSS=0.554]\n",
      "100%|██████████| 1/1 [00:00<00:00, 13.07it/s]\n"
     ]
    },
    {
     "name": "stdout",
     "output_type": "stream",
     "text": [
      "Accuracy: 0.6779825412221144\n",
      "Precision: 0.6774560959464195\n",
      "Recall: 0.6723567365586518\n",
      "f1_score: 0.6726984126984127\n"
     ]
    },
    {
     "name": "stderr",
     "output_type": "stream",
     "text": [
      "100%|██████████| 1/1 [00:00<00:00, 47.61it/s, EPOCH=105, AVG_LOSS=0.554]\n",
      "100%|██████████| 1/1 [00:00<00:00, 43.47it/s]\n"
     ]
    },
    {
     "name": "stdout",
     "output_type": "stream",
     "text": [
      "Accuracy: 0.6789524733268671\n",
      "Precision: 0.6787797060662915\n",
      "Recall: 0.6729864451907658\n",
      "f1_score: 0.6732671750609163\n"
     ]
    },
    {
     "name": "stderr",
     "output_type": "stream",
     "text": [
      "100%|██████████| 1/1 [00:00<00:00, 45.44it/s, EPOCH=106, AVG_LOSS=0.553]\n",
      "100%|██████████| 1/1 [00:00<00:00, 42.53it/s]\n"
     ]
    },
    {
     "name": "stdout",
     "output_type": "stream",
     "text": [
      "Accuracy: 0.6770126091173618\n",
      "Precision: 0.676176618942304\n",
      "Recall: 0.6717270279265377\n",
      "f1_score: 0.6721154443049036\n"
     ]
    },
    {
     "name": "stderr",
     "output_type": "stream",
     "text": [
      "100%|██████████| 1/1 [00:00<00:00, 45.45it/s, EPOCH=107, AVG_LOSS=0.553]\n",
      "100%|██████████| 1/1 [00:00<00:00, 41.66it/s]\n"
     ]
    },
    {
     "name": "stdout",
     "output_type": "stream",
     "text": [
      "Accuracy: 0.6789524733268671\n",
      "Precision: 0.6778852099177641\n",
      "Recall: 0.6740907990681069\n",
      "f1_score: 0.6745434934162153\n"
     ]
    },
    {
     "name": "stderr",
     "output_type": "stream",
     "text": [
      "100%|██████████| 1/1 [00:00<00:00, 45.45it/s, EPOCH=108, AVG_LOSS=0.553]\n",
      "100%|██████████| 1/1 [00:00<00:00, 41.66it/s]\n"
     ]
    },
    {
     "name": "stdout",
     "output_type": "stream",
     "text": [
      "Accuracy: 0.6828322017458778\n",
      "Precision: 0.6817787092142742\n",
      "Recall: 0.6781281201779068\n",
      "f1_score: 0.6786223936810618\n"
     ]
    },
    {
     "name": "stderr",
     "output_type": "stream",
     "text": [
      "100%|██████████| 1/1 [00:00<00:00, 46.49it/s, EPOCH=109, AVG_LOSS=0.552]\n",
      "100%|██████████| 1/1 [00:00<00:00, 42.53it/s]\n"
     ]
    },
    {
     "name": "stdout",
     "output_type": "stream",
     "text": [
      "Accuracy: 0.6828322017458778\n",
      "Precision: 0.681869473814382\n",
      "Recall: 0.6779900759432392\n",
      "f1_score: 0.6784765025592217\n"
     ]
    },
    {
     "name": "stderr",
     "output_type": "stream",
     "text": [
      "100%|██████████| 1/1 [00:00<00:00, 12.19it/s, EPOCH=110, AVG_LOSS=0.552]\n",
      "100%|██████████| 1/1 [00:00<00:00, 11.90it/s]\n"
     ]
    },
    {
     "name": "stdout",
     "output_type": "stream",
     "text": [
      "Accuracy: 0.6779825412221144\n",
      "Precision: 0.6771251764194984\n",
      "Recall: 0.6727708692626546\n",
      "f1_score: 0.6731784260256499\n"
     ]
    },
    {
     "name": "stderr",
     "output_type": "stream",
     "text": [
      "100%|██████████| 1/1 [00:00<00:00, 45.45it/s, EPOCH=111, AVG_LOSS=0.551]\n",
      "100%|██████████| 1/1 [00:00<00:00, 41.66it/s]\n"
     ]
    },
    {
     "name": "stdout",
     "output_type": "stream",
     "text": [
      "Accuracy: 0.6760426770126091\n",
      "Precision: 0.6752281110463987\n",
      "Recall: 0.6706831865904208\n",
      "f1_score: 0.6710513243767864\n"
     ]
    },
    {
     "name": "stderr",
     "output_type": "stream",
     "text": [
      "100%|██████████| 1/1 [00:00<00:00, 45.45it/s, EPOCH=112, AVG_LOSS=0.551]\n",
      "100%|██████████| 1/1 [00:00<00:00, 41.66it/s]\n"
     ]
    },
    {
     "name": "stdout",
     "output_type": "stream",
     "text": [
      "Accuracy: 0.6750727449078564\n",
      "Precision: 0.6742796307233223\n",
      "Recall: 0.6696393452543039\n",
      "f1_score: 0.6699860593152724\n"
     ]
    },
    {
     "name": "stderr",
     "output_type": "stream",
     "text": [
      "100%|██████████| 1/1 [00:00<00:00, 47.60it/s, EPOCH=113, AVG_LOSS=0.55]\n",
      "100%|██████████| 1/1 [00:00<00:00, 42.53it/s]\n"
     ]
    },
    {
     "name": "stdout",
     "output_type": "stream",
     "text": [
      "Accuracy: 0.6760426770126091\n",
      "Precision: 0.6752281110463987\n",
      "Recall: 0.6706831865904208\n",
      "f1_score: 0.6710513243767864\n"
     ]
    },
    {
     "name": "stderr",
     "output_type": "stream",
     "text": [
      "100%|██████████| 1/1 [00:00<00:00, 47.61it/s, EPOCH=114, AVG_LOSS=0.55]\n",
      "100%|██████████| 1/1 [00:00<00:00, 43.47it/s]\n"
     ]
    },
    {
     "name": "stdout",
     "output_type": "stream",
     "text": [
      "Accuracy: 0.6818622696411252\n",
      "Precision: 0.6812327703358572\n",
      "Recall: 0.6765321019031194\n",
      "f1_score: 0.6769605820227124\n"
     ]
    },
    {
     "name": "stderr",
     "output_type": "stream",
     "text": [
      "100%|██████████| 1/1 [00:00<00:00, 13.24it/s, EPOCH=115, AVG_LOSS=0.549]\n",
      "100%|██████████| 1/1 [00:00<00:00, 13.07it/s]\n"
     ]
    },
    {
     "name": "stdout",
     "output_type": "stream",
     "text": [
      "Accuracy: 0.6779825412221144\n",
      "Precision: 0.6772296641428849\n",
      "Recall: 0.672632825027987\n",
      "f1_score: 0.6730210769254283\n"
     ]
    },
    {
     "name": "stderr",
     "output_type": "stream",
     "text": [
      "100%|██████████| 1/1 [00:00<00:00, 45.45it/s, EPOCH=116, AVG_LOSS=0.549]\n",
      "100%|██████████| 1/1 [00:00<00:00, 41.66it/s]\n"
     ]
    },
    {
     "name": "stdout",
     "output_type": "stream",
     "text": [
      "Accuracy: 0.6760426770126091\n",
      "Precision: 0.675448775359215\n",
      "Recall: 0.6704070981210857\n",
      "f1_score: 0.6707267163893671\n"
     ]
    },
    {
     "name": "stderr",
     "output_type": "stream",
     "text": [
      "100%|██████████| 1/1 [00:00<00:00, 45.44it/s, EPOCH=117, AVG_LOSS=0.549]\n",
      "100%|██████████| 1/1 [00:00<00:00, 41.66it/s]\n"
     ]
    },
    {
     "name": "stdout",
     "output_type": "stream",
     "text": [
      "Accuracy: 0.6770126091173618\n",
      "Precision: 0.676176618942304\n",
      "Recall: 0.6717270279265377\n",
      "f1_score: 0.6721154443049036\n"
     ]
    },
    {
     "name": "stderr",
     "output_type": "stream",
     "text": [
      "100%|██████████| 1/1 [00:00<00:00, 43.47it/s, EPOCH=118, AVG_LOSS=0.548]\n",
      "100%|██████████| 1/1 [00:00<00:00, 39.99it/s]\n"
     ]
    },
    {
     "name": "stdout",
     "output_type": "stream",
     "text": [
      "Accuracy: 0.6779825412221144\n",
      "Precision: 0.6769334880123743\n",
      "Recall: 0.67304695773199\n",
      "f1_score: 0.6734851953601955\n"
     ]
    },
    {
     "name": "stderr",
     "output_type": "stream",
     "text": [
      "100%|██████████| 1/1 [00:00<00:00, 45.45it/s, EPOCH=119, AVG_LOSS=0.548]\n",
      "100%|██████████| 1/1 [00:00<00:00, 41.66it/s]\n"
     ]
    },
    {
     "name": "stdout",
     "output_type": "stream",
     "text": [
      "Accuracy: 0.6770126091173618\n",
      "Precision: 0.676176618942304\n",
      "Recall: 0.6717270279265377\n",
      "f1_score: 0.6721154443049036\n"
     ]
    },
    {
     "name": "stderr",
     "output_type": "stream",
     "text": [
      "100%|██████████| 1/1 [00:00<00:00, 12.74it/s, EPOCH=120, AVG_LOSS=0.547]\n",
      "100%|██████████| 1/1 [00:00<00:00, 12.42it/s]\n"
     ]
    },
    {
     "name": "stdout",
     "output_type": "stream",
     "text": [
      "Accuracy: 0.6750727449078564\n",
      "Precision: 0.6742796307233223\n",
      "Recall: 0.6696393452543039\n",
      "f1_score: 0.6699860593152724\n"
     ]
    },
    {
     "name": "stderr",
     "output_type": "stream",
     "text": [
      "100%|██████████| 1/1 [00:00<00:00, 45.45it/s, EPOCH=121, AVG_LOSS=0.547]\n",
      "100%|██████████| 1/1 [00:00<00:00, 41.66it/s]\n"
     ]
    },
    {
     "name": "stdout",
     "output_type": "stream",
     "text": [
      "Accuracy: 0.6760426770126091\n",
      "Precision: 0.6749400618716164\n",
      "Recall: 0.6710973192944237\n",
      "f1_score: 0.6715182387057387\n"
     ]
    },
    {
     "name": "stderr",
     "output_type": "stream",
     "text": [
      "100%|██████████| 1/1 [00:00<00:00, 44.42it/s, EPOCH=122, AVG_LOSS=0.546]\n",
      "100%|██████████| 1/1 [00:00<00:00, 40.80it/s]\n"
     ]
    },
    {
     "name": "stdout",
     "output_type": "stream",
     "text": [
      "Accuracy: 0.6741028128031038\n",
      "Precision: 0.6732265579499126\n",
      "Recall: 0.6687335481528547\n",
      "f1_score: 0.6690815718281444\n"
     ]
    },
    {
     "name": "stderr",
     "output_type": "stream",
     "text": [
      "100%|██████████| 1/1 [00:00<00:00, 45.45it/s, EPOCH=123, AVG_LOSS=0.546]\n",
      "100%|██████████| 1/1 [00:00<00:00, 41.66it/s]\n"
     ]
    },
    {
     "name": "stdout",
     "output_type": "stream",
     "text": [
      "Accuracy: 0.6750727449078564\n",
      "Precision: 0.6741764637411245\n",
      "Recall: 0.6697773894889716\n",
      "f1_score: 0.6701461676941223\n"
     ]
    },
    {
     "name": "stderr",
     "output_type": "stream",
     "text": [
      "100%|██████████| 1/1 [00:00<00:00, 43.46it/s, EPOCH=124, AVG_LOSS=0.545]\n",
      "100%|██████████| 1/1 [00:00<00:00, 41.66it/s]\n"
     ]
    },
    {
     "name": "stdout",
     "output_type": "stream",
     "text": [
      "Accuracy: 0.6770126091173618\n",
      "Precision: 0.676176618942304\n",
      "Recall: 0.6717270279265377\n",
      "f1_score: 0.6721154443049036\n"
     ]
    },
    {
     "name": "stderr",
     "output_type": "stream",
     "text": [
      "100%|██████████| 1/1 [00:00<00:00, 45.44it/s, EPOCH=125, AVG_LOSS=0.545]\n",
      "100%|██████████| 1/1 [00:00<00:00, 41.66it/s]\n"
     ]
    },
    {
     "name": "stdout",
     "output_type": "stream",
     "text": [
      "Accuracy: 0.6828322017458778\n",
      "Precision: 0.6832626369741959\n",
      "Recall: 0.6764715893618952\n",
      "f1_score: 0.6766993000555238\n"
     ]
    },
    {
     "name": "stderr",
     "output_type": "stream",
     "text": [
      "100%|██████████| 1/1 [00:00<00:00, 13.42it/s, EPOCH=126, AVG_LOSS=0.545]\n",
      "100%|██████████| 1/1 [00:00<00:00, 13.07it/s]\n"
     ]
    },
    {
     "name": "stdout",
     "output_type": "stream",
     "text": [
      "Accuracy: 0.6721629485935985\n",
      "Precision: 0.6709532095901005\n",
      "Recall: 0.6671980424192914\n",
      "f1_score: 0.6675843253968253\n"
     ]
    },
    {
     "name": "stderr",
     "output_type": "stream",
     "text": [
      "100%|██████████| 1/1 [00:00<00:00, 45.44it/s, EPOCH=127, AVG_LOSS=0.544]\n",
      "100%|██████████| 1/1 [00:00<00:00, 41.66it/s]\n"
     ]
    },
    {
     "name": "stdout",
     "output_type": "stream",
     "text": [
      "Accuracy: 0.6721629485935985\n",
      "Precision: 0.6711288521488282\n",
      "Recall: 0.6669219539499561\n",
      "f1_score: 0.6672720120381616\n"
     ]
    },
    {
     "name": "stderr",
     "output_type": "stream",
     "text": [
      "100%|██████████| 1/1 [00:00<00:00, 45.45it/s, EPOCH=128, AVG_LOSS=0.544]\n",
      "100%|██████████| 1/1 [00:00<00:00, 41.66it/s]"
     ]
    },
    {
     "name": "stdout",
     "output_type": "stream",
     "text": [
      "Accuracy: 0.6750727449078564\n",
      "Precision: 0.6740789820368562\n",
      "Recall: 0.6699154337236393\n",
      "f1_score: 0.6703036030489173\n"
     ]
    },
    {
     "name": "stderr",
     "output_type": "stream",
     "text": [
      "\n",
      "100%|██████████| 1/1 [00:00<00:00, 44.43it/s, EPOCH=129, AVG_LOSS=0.543]\n",
      "100%|██████████| 1/1 [00:00<00:00, 40.80it/s]\n"
     ]
    },
    {
     "name": "stdout",
     "output_type": "stream",
     "text": [
      "Accuracy: 0.6731328806983511\n",
      "Precision: 0.6719924157412065\n",
      "Recall: 0.6681038395207406\n",
      "f1_score: 0.6684909601107552\n"
     ]
    },
    {
     "name": "stderr",
     "output_type": "stream",
     "text": [
      "100%|██████████| 1/1 [00:00<00:00, 43.47it/s, EPOCH=130, AVG_LOSS=0.543]\n",
      "100%|██████████| 1/1 [00:00<00:00, 41.66it/s]\n"
     ]
    },
    {
     "name": "stdout",
     "output_type": "stream",
     "text": [
      "Accuracy: 0.6741028128031038\n",
      "Precision: 0.6736792976042618\n",
      "Recall: 0.6681813712141842\n",
      "f1_score: 0.6684176672384219\n"
     ]
    },
    {
     "name": "stderr",
     "output_type": "stream",
     "text": [
      "100%|██████████| 1/1 [00:00<00:00, 45.44it/s, EPOCH=131, AVG_LOSS=0.543]\n",
      "100%|██████████| 1/1 [00:00<00:00, 41.66it/s]\n"
     ]
    },
    {
     "name": "stdout",
     "output_type": "stream",
     "text": [
      "Accuracy: 0.6750727449078564\n",
      "Precision: 0.6740789820368562\n",
      "Recall: 0.6699154337236393\n",
      "f1_score: 0.6703036030489173\n"
     ]
    },
    {
     "name": "stderr",
     "output_type": "stream",
     "text": [
      "100%|██████████| 1/1 [00:00<00:00, 13.42it/s, EPOCH=132, AVG_LOSS=0.542]\n",
      "100%|██████████| 1/1 [00:00<00:00, 13.24it/s]\n"
     ]
    },
    {
     "name": "stdout",
     "output_type": "stream",
     "text": [
      "Accuracy: 0.6682832201745877\n",
      "Precision: 0.6667006556670566\n",
      "Recall: 0.6638509424828296\n",
      "f1_score: 0.6642499657205541\n"
     ]
    },
    {
     "name": "stderr",
     "output_type": "stream",
     "text": [
      "100%|██████████| 1/1 [00:00<00:00, 47.60it/s, EPOCH=133, AVG_LOSS=0.542]\n",
      "100%|██████████| 1/1 [00:00<00:00, 42.53it/s]\n"
     ]
    },
    {
     "name": "stdout",
     "output_type": "stream",
     "text": [
      "Accuracy: 0.6770126091173618\n",
      "Precision: 0.6769000696842287\n",
      "Recall: 0.670898762518532\n",
      "f1_score: 0.6711204051663111\n"
     ]
    },
    {
     "name": "stderr",
     "output_type": "stream",
     "text": [
      "100%|██████████| 1/1 [00:00<00:00, 45.44it/s, EPOCH=134, AVG_LOSS=0.541]\n",
      "100%|██████████| 1/1 [00:00<00:00, 43.47it/s]\n"
     ]
    },
    {
     "name": "stdout",
     "output_type": "stream",
     "text": [
      "Accuracy: 0.6770126091173618\n",
      "Precision: 0.6769000696842287\n",
      "Recall: 0.670898762518532\n",
      "f1_score: 0.6711204051663111\n"
     ]
    },
    {
     "name": "stderr",
     "output_type": "stream",
     "text": [
      "100%|██████████| 1/1 [00:00<00:00, 47.61it/s, EPOCH=135, AVG_LOSS=0.541]\n",
      "100%|██████████| 1/1 [00:00<00:00, 43.47it/s]\n"
     ]
    },
    {
     "name": "stdout",
     "output_type": "stream",
     "text": [
      "Accuracy: 0.6711930164888458\n",
      "Precision: 0.6696469773880942\n",
      "Recall: 0.6668444222565126\n",
      "f1_score: 0.6672664284755483\n"
     ]
    },
    {
     "name": "stderr",
     "output_type": "stream",
     "text": [
      "100%|██████████| 1/1 [00:00<00:00, 44.42it/s, EPOCH=136, AVG_LOSS=0.541]\n",
      "100%|██████████| 1/1 [00:00<00:00, 42.53it/s]\n"
     ]
    },
    {
     "name": "stdout",
     "output_type": "stream",
     "text": [
      "Accuracy: 0.6711930164888458\n",
      "Precision: 0.6699976782881244\n",
      "Recall: 0.6661542010831745\n",
      "f1_score: 0.6665235474111157\n"
     ]
    },
    {
     "name": "stderr",
     "output_type": "stream",
     "text": [
      "100%|██████████| 1/1 [00:00<00:00, 13.31it/s, EPOCH=137, AVG_LOSS=0.54]\n",
      "100%|██████████| 1/1 [00:00<00:00, 12.80it/s]\n"
     ]
    },
    {
     "name": "stdout",
     "output_type": "stream",
     "text": [
      "Accuracy: 0.6702230843840931\n",
      "Precision: 0.6694268135976014\n",
      "Recall: 0.6645581828083871\n",
      "f1_score: 0.6648116274622299\n"
     ]
    },
    {
     "name": "stderr",
     "output_type": "stream",
     "text": [
      "100%|██████████| 1/1 [00:00<00:00, 44.43it/s, EPOCH=138, AVG_LOSS=0.54]\n",
      "100%|██████████| 1/1 [00:00<00:00, 41.65it/s]\n"
     ]
    },
    {
     "name": "stdout",
     "output_type": "stream",
     "text": [
      "Accuracy: 0.6692531522793405\n",
      "Precision: 0.6677215920903694\n",
      "Recall: 0.6647567395842788\n",
      "f1_score: 0.665159314834304\n"
     ]
    },
    {
     "name": "stderr",
     "output_type": "stream",
     "text": [
      "100%|██████████| 1/1 [00:00<00:00, 47.61it/s, EPOCH=139, AVG_LOSS=0.539]\n",
      "100%|██████████| 1/1 [00:00<00:00, 43.47it/s]\n"
     ]
    },
    {
     "name": "stdout",
     "output_type": "stream",
     "text": [
      "Accuracy: 0.6682832201745877\n",
      "Precision: 0.6670461321624113\n",
      "Recall: 0.6631607213094914\n",
      "f1_score: 0.6634937661762573\n"
     ]
    },
    {
     "name": "stderr",
     "output_type": "stream",
     "text": [
      "100%|██████████| 1/1 [00:00<00:00, 45.44it/s, EPOCH=140, AVG_LOSS=0.539]\n",
      "100%|██████████| 1/1 [00:00<00:00, 41.66it/s]\n"
     ]
    },
    {
     "name": "stdout",
     "output_type": "stream",
     "text": [
      "Accuracy: 0.6770126091173618\n",
      "Precision: 0.6767647748592871\n",
      "Recall: 0.6710368067531995\n",
      "f1_score: 0.6712929585960277\n"
     ]
    },
    {
     "name": "stderr",
     "output_type": "stream",
     "text": [
      "100%|██████████| 1/1 [00:00<00:00, 43.47it/s, EPOCH=141, AVG_LOSS=0.539]\n",
      "100%|██████████| 1/1 [00:00<00:00, 39.99it/s]\n"
     ]
    },
    {
     "name": "stdout",
     "output_type": "stream",
     "text": [
      "Accuracy: 0.6770126091173618\n",
      "Precision: 0.6762825992353362\n",
      "Recall: 0.6715889836918701\n",
      "f1_score: 0.6719562917969724\n"
     ]
    },
    {
     "name": "stderr",
     "output_type": "stream",
     "text": [
      "100%|██████████| 1/1 [00:00<00:00, 13.42it/s, EPOCH=142, AVG_LOSS=0.538]\n",
      "100%|██████████| 1/1 [00:00<00:00, 13.07it/s]\n"
     ]
    },
    {
     "name": "stdout",
     "output_type": "stream",
     "text": [
      "Accuracy: 0.6702230843840931\n",
      "Precision: 0.6686286944156195\n",
      "Recall: 0.6659386251550634\n",
      "f1_score: 0.6663557450696718\n"
     ]
    },
    {
     "name": "stderr",
     "output_type": "stream",
     "text": [
      "100%|██████████| 1/1 [00:00<00:00, 45.45it/s, EPOCH=143, AVG_LOSS=0.538]\n",
      "100%|██████████| 1/1 [00:00<00:00, 41.66it/s]\n"
     ]
    },
    {
     "name": "stdout",
     "output_type": "stream",
     "text": [
      "Accuracy: 0.6702230843840931\n",
      "Precision: 0.669536868048731\n",
      "Recall: 0.6644201385737194\n",
      "f1_score: 0.6646423131969477\n"
     ]
    },
    {
     "name": "stderr",
     "output_type": "stream",
     "text": [
      "100%|██████████| 1/1 [00:00<00:00, 43.47it/s, EPOCH=144, AVG_LOSS=0.537]\n",
      "100%|██████████| 1/1 [00:00<00:00, 41.66it/s]\n"
     ]
    },
    {
     "name": "stdout",
     "output_type": "stream",
     "text": [
      "Accuracy: 0.6711930164888458\n",
      "Precision: 0.6707199812382739\n",
      "Recall: 0.6651878914405011\n",
      "f1_score: 0.6653703092013614\n"
     ]
    },
    {
     "name": "stderr",
     "output_type": "stream",
     "text": [
      "100%|██████████| 1/1 [00:00<00:00, 46.49it/s, EPOCH=145, AVG_LOSS=0.537]\n",
      "100%|██████████| 1/1 [00:00<00:00, 42.54it/s]\n"
     ]
    },
    {
     "name": "stdout",
     "output_type": "stream",
     "text": [
      "Accuracy: 0.6702230843840931\n",
      "Precision: 0.6688112319679087\n",
      "Recall: 0.6655244924510605\n",
      "f1_score: 0.665920752674235\n"
     ]
    },
    {
     "name": "stderr",
     "output_type": "stream",
     "text": [
      "100%|██████████| 1/1 [00:00<00:00, 45.44it/s, EPOCH=146, AVG_LOSS=0.537]\n",
      "100%|██████████| 1/1 [00:00<00:00, 41.66it/s]\n"
     ]
    },
    {
     "name": "stdout",
     "output_type": "stream",
     "text": [
      "Accuracy: 0.6692531522793405\n",
      "Precision: 0.6677215920903694\n",
      "Recall: 0.6647567395842788\n",
      "f1_score: 0.665159314834304\n"
     ]
    },
    {
     "name": "stderr",
     "output_type": "stream",
     "text": [
      "100%|██████████| 1/1 [00:00<00:00, 45.45it/s, EPOCH=147, AVG_LOSS=0.536]\n",
      "100%|██████████| 1/1 [00:00<00:00, 41.66it/s]\n"
     ]
    },
    {
     "name": "stdout",
     "output_type": "stream",
     "text": [
      "Accuracy: 0.6741028128031038\n",
      "Precision: 0.6732265579499126\n",
      "Recall: 0.6687335481528547\n",
      "f1_score: 0.6690815718281444\n"
     ]
    },
    {
     "name": "stderr",
     "output_type": "stream",
     "text": [
      "100%|██████████| 1/1 [00:00<00:00, 13.79it/s, EPOCH=148, AVG_LOSS=0.536]\n",
      "100%|██████████| 1/1 [00:00<00:00, 13.42it/s]"
     ]
    },
    {
     "name": "stdout",
     "output_type": "stream",
     "text": [
      "Accuracy: 0.6721629485935985\n",
      "Precision: 0.6712250048534265\n",
      "Recall: 0.6667839097152886\n",
      "f1_score: 0.6671118192795024\n"
     ]
    },
    {
     "name": "stderr",
     "output_type": "stream",
     "text": [
      "\n",
      "100%|██████████| 1/1 [00:00<00:00, 45.44it/s, EPOCH=149, AVG_LOSS=0.536]\n",
      "100%|██████████| 1/1 [00:00<00:00, 42.53it/s]\n"
     ]
    },
    {
     "name": "stdout",
     "output_type": "stream",
     "text": [
      "Accuracy: 0.6731328806983511\n",
      "Precision: 0.6718307358605624\n",
      "Recall: 0.668379927990076\n",
      "f1_score: 0.6687943323257426\n"
     ]
    },
    {
     "name": "stderr",
     "output_type": "stream",
     "text": [
      "100%|██████████| 1/1 [00:00<00:00, 45.44it/s, EPOCH=150, AVG_LOSS=0.535]\n",
      "100%|██████████| 1/1 [00:00<00:00, 43.47it/s]\n"
     ]
    },
    {
     "name": "stdout",
     "output_type": "stream",
     "text": [
      "Accuracy: 0.6741028128031038\n",
      "Precision: 0.6730343300110742\n",
      "Recall: 0.6690096366221899\n",
      "f1_score: 0.6693973843135159\n"
     ]
    },
    {
     "name": "stderr",
     "output_type": "stream",
     "text": [
      "100%|██████████| 1/1 [00:00<00:00, 45.44it/s, EPOCH=151, AVG_LOSS=0.535]\n",
      "100%|██████████| 1/1 [00:00<00:00, 43.47it/s]\n"
     ]
    },
    {
     "name": "stdout",
     "output_type": "stream",
     "text": [
      "Accuracy: 0.6770126091173618\n",
      "Precision: 0.6762825992353362\n",
      "Recall: 0.6715889836918701\n",
      "f1_score: 0.6719562917969724\n"
     ]
    },
    {
     "name": "stderr",
     "output_type": "stream",
     "text": [
      "100%|██████████| 1/1 [00:00<00:00, 47.60it/s, EPOCH=152, AVG_LOSS=0.535]\n",
      "100%|██████████| 1/1 [00:00<00:00, 42.53it/s]\n"
     ]
    },
    {
     "name": "stdout",
     "output_type": "stream",
     "text": [
      "Accuracy: 0.6741028128031038\n",
      "Precision: 0.6727879348916146\n",
      "Recall: 0.6694237693261929\n",
      "f1_score: 0.6698510967604205\n"
     ]
    },
    {
     "name": "stderr",
     "output_type": "stream",
     "text": [
      "100%|██████████| 1/1 [00:00<00:00, 47.61it/s, EPOCH=153, AVG_LOSS=0.534]\n",
      "100%|██████████| 1/1 [00:00<00:00, 43.47it/s]\n"
     ]
    },
    {
     "name": "stdout",
     "output_type": "stream",
     "text": [
      "Accuracy: 0.6721629485935985\n",
      "Precision: 0.6707995834297616\n",
      "Recall: 0.6674741308886267\n",
      "f1_score: 0.6678859247173279\n"
     ]
    },
    {
     "name": "stderr",
     "output_type": "stream",
     "text": [
      "100%|██████████| 1/1 [00:00<00:00, 13.60it/s, EPOCH=154, AVG_LOSS=0.534]\n",
      "100%|██████████| 1/1 [00:00<00:00, 13.24it/s]\n"
     ]
    },
    {
     "name": "stdout",
     "output_type": "stream",
     "text": [
      "Accuracy: 0.6731328806983511\n",
      "Precision: 0.6719924157412065\n",
      "Recall: 0.6681038395207406\n",
      "f1_score: 0.6684909601107552\n"
     ]
    },
    {
     "name": "stderr",
     "output_type": "stream",
     "text": [
      "100%|██████████| 1/1 [00:00<00:00, 45.45it/s, EPOCH=155, AVG_LOSS=0.533]\n",
      "100%|██████████| 1/1 [00:00<00:00, 41.66it/s]\n"
     ]
    },
    {
     "name": "stdout",
     "output_type": "stream",
     "text": [
      "Accuracy: 0.6760426770126091\n",
      "Precision: 0.6748553685495146\n",
      "Recall: 0.6712353635290913\n",
      "f1_score: 0.6716685736079329\n"
     ]
    },
    {
     "name": "stderr",
     "output_type": "stream",
     "text": [
      "100%|██████████| 1/1 [00:00<00:00, 45.44it/s, EPOCH=156, AVG_LOSS=0.533]\n",
      "100%|██████████| 1/1 [00:00<00:00, 41.65it/s]\n"
     ]
    },
    {
     "name": "stdout",
     "output_type": "stream",
     "text": [
      "Accuracy: 0.6770126091173618\n",
      "Precision: 0.6758099252020471\n",
      "Recall: 0.6722792048652083\n",
      "f1_score: 0.6727255568678702\n"
     ]
    },
    {
     "name": "stderr",
     "output_type": "stream",
     "text": [
      "100%|██████████| 1/1 [00:00<00:00, 46.49it/s, EPOCH=157, AVG_LOSS=0.533]\n",
      "100%|██████████| 1/1 [00:00<00:00, 42.53it/s]\n"
     ]
    },
    {
     "name": "stdout",
     "output_type": "stream",
     "text": [
      "Accuracy: 0.6770126091173618\n",
      "Precision: 0.6758099252020471\n",
      "Recall: 0.6722792048652083\n",
      "f1_score: 0.6727255568678702\n"
     ]
    },
    {
     "name": "stderr",
     "output_type": "stream",
     "text": [
      "100%|██████████| 1/1 [00:00<00:00, 47.61it/s, EPOCH=158, AVG_LOSS=0.532]\n",
      "100%|██████████| 1/1 [00:00<00:00, 43.47it/s]\n"
     ]
    },
    {
     "name": "stdout",
     "output_type": "stream",
     "text": [
      "Accuracy: 0.6731328806983511\n",
      "Precision: 0.6719088140728374\n",
      "Recall: 0.6682418837554083\n",
      "f1_score: 0.6686439797017055\n"
     ]
    },
    {
     "name": "stderr",
     "output_type": "stream",
     "text": [
      "100%|██████████| 1/1 [00:00<00:00, 13.60it/s, EPOCH=159, AVG_LOSS=0.532]\n",
      "100%|██████████| 1/1 [00:00<00:00, 13.24it/s]\n"
     ]
    },
    {
     "name": "stdout",
     "output_type": "stream",
     "text": [
      "Accuracy: 0.6779825412221144\n",
      "Precision: 0.6768462233619378\n",
      "Recall: 0.6731850019666576\n",
      "f1_score: 0.6736346300533944\n"
     ]
    },
    {
     "name": "stderr",
     "output_type": "stream",
     "text": [
      "100%|██████████| 1/1 [00:00<00:00, 45.45it/s, EPOCH=160, AVG_LOSS=0.532]\n",
      "100%|██████████| 1/1 [00:00<00:00, 41.66it/s]\n"
     ]
    },
    {
     "name": "stdout",
     "output_type": "stream",
     "text": [
      "Accuracy: 0.6770126091173618\n",
      "Precision: 0.6759818906473707\n",
      "Recall: 0.6720031163958731\n",
      "f1_score: 0.6724257855100341\n"
     ]
    },
    {
     "name": "stderr",
     "output_type": "stream",
     "text": [
      "100%|██████████| 1/1 [00:00<00:00, 44.42it/s, EPOCH=161, AVG_LOSS=0.531]\n",
      "100%|██████████| 1/1 [00:00<00:00, 42.53it/s]\n"
     ]
    },
    {
     "name": "stdout",
     "output_type": "stream",
     "text": [
      "Accuracy: 0.6779825412221144\n",
      "Precision: 0.6769334880123743\n",
      "Recall: 0.67304695773199\n",
      "f1_score: 0.6734851953601955\n"
     ]
    },
    {
     "name": "stderr",
     "output_type": "stream",
     "text": [
      "100%|██████████| 1/1 [00:00<00:00, 45.44it/s, EPOCH=162, AVG_LOSS=0.531]\n",
      "100%|██████████| 1/1 [00:00<00:00, 41.66it/s]"
     ]
    },
    {
     "name": "stdout",
     "output_type": "stream",
     "text": [
      "Accuracy: 0.6789524733268671\n",
      "Precision: 0.6777995198727895\n",
      "Recall: 0.6742288433027745\n",
      "f1_score: 0.6746911691389341\n"
     ]
    },
    {
     "name": "stderr",
     "output_type": "stream",
     "text": [
      "\n",
      "100%|██████████| 1/1 [00:00<00:00, 43.47it/s, EPOCH=163, AVG_LOSS=0.531]\n",
      "100%|██████████| 1/1 [00:00<00:00, 39.99it/s]\n"
     ]
    },
    {
     "name": "stdout",
     "output_type": "stream",
     "text": [
      "Accuracy: 0.6799224054316197\n",
      "Precision: 0.6785349167915754\n",
      "Recall: 0.6756868173428943\n",
      "f1_score: 0.6761688113911521\n"
     ]
    },
    {
     "name": "stderr",
     "output_type": "stream",
     "text": [
      "100%|██████████| 1/1 [00:00<00:00, 13.07it/s, EPOCH=164, AVG_LOSS=0.53]\n",
      "100%|██████████| 1/1 [00:00<00:00, 12.90it/s]\n"
     ]
    },
    {
     "name": "stdout",
     "output_type": "stream",
     "text": [
      "Accuracy: 0.6760426770126091\n",
      "Precision: 0.6750303959606285\n",
      "Recall: 0.6709592750597562\n",
      "f1_score: 0.6713652570259354\n"
     ]
    },
    {
     "name": "stderr",
     "output_type": "stream",
     "text": [
      "100%|██████████| 1/1 [00:00<00:00, 45.44it/s, EPOCH=165, AVG_LOSS=0.53]\n",
      "100%|██████████| 1/1 [00:00<00:00, 41.65it/s]\n"
     ]
    },
    {
     "name": "stdout",
     "output_type": "stream",
     "text": [
      "Accuracy: 0.6770126091173618\n",
      "Precision: 0.6760763937322732\n",
      "Recall: 0.6718650721612054\n",
      "f1_score: 0.6722719397471326\n"
     ]
    },
    {
     "name": "stderr",
     "output_type": "stream",
     "text": [
      "100%|██████████| 1/1 [00:00<00:00, 43.47it/s, EPOCH=166, AVG_LOSS=0.53]\n",
      "100%|██████████| 1/1 [00:00<00:00, 39.99it/s]\n"
     ]
    },
    {
     "name": "stdout",
     "output_type": "stream",
     "text": [
      "Accuracy: 0.6779825412221144\n",
      "Precision: 0.6767646378153205\n",
      "Recall: 0.6733230462013252\n",
      "f1_score: 0.6737814408466061\n"
     ]
    },
    {
     "name": "stderr",
     "output_type": "stream",
     "text": [
      "100%|██████████| 1/1 [00:00<00:00, 45.44it/s, EPOCH=167, AVG_LOSS=0.529]\n",
      "100%|██████████| 1/1 [00:00<00:00, 43.47it/s]\n"
     ]
    },
    {
     "name": "stdout",
     "output_type": "stream",
     "text": [
      "Accuracy: 0.6760426770126091\n",
      "Precision: 0.6747762863534675\n",
      "Recall: 0.6713734077637591\n",
      "f1_score: 0.6718162688035133\n"
     ]
    },
    {
     "name": "stderr",
     "output_type": "stream",
     "text": [
      "100%|██████████| 1/1 [00:00<00:00, 45.44it/s, EPOCH=168, AVG_LOSS=0.529]\n",
      "100%|██████████| 1/1 [00:00<00:00, 42.53it/s]\n"
     ]
    },
    {
     "name": "stdout",
     "output_type": "stream",
     "text": [
      "Accuracy: 0.6721629485935985\n",
      "Precision: 0.6713267543859649\n",
      "Recall: 0.6666458654806209\n",
      "f1_score: 0.6669489257588501\n"
     ]
    },
    {
     "name": "stderr",
     "output_type": "stream",
     "text": [
      "100%|██████████| 1/1 [00:00<00:00, 45.26it/s, EPOCH=169, AVG_LOSS=0.529]\n",
      "100%|██████████| 1/1 [00:00<00:00, 39.85it/s]\n"
     ]
    },
    {
     "name": "stdout",
     "output_type": "stream",
     "text": [
      "Accuracy: 0.6741028128031038\n",
      "Precision: 0.6729466357308584\n",
      "Recall: 0.6691476808568575\n",
      "f1_score: 0.6695512820512821\n"
     ]
    },
    {
     "name": "stderr",
     "output_type": "stream",
     "text": [
      "100%|██████████| 1/1 [00:00<00:00, 13.60it/s, EPOCH=170, AVG_LOSS=0.529]\n",
      "100%|██████████| 1/1 [00:00<00:00, 13.24it/s]\n"
     ]
    },
    {
     "name": "stdout",
     "output_type": "stream",
     "text": [
      "Accuracy: 0.6779825412221144\n",
      "Precision: 0.6767646378153205\n",
      "Recall: 0.6733230462013252\n",
      "f1_score: 0.6737814408466061\n"
     ]
    },
    {
     "name": "stderr",
     "output_type": "stream",
     "text": [
      "100%|██████████| 1/1 [00:00<00:00, 47.61it/s, EPOCH=171, AVG_LOSS=0.528]\n",
      "100%|██████████| 1/1 [00:00<00:00, 43.47it/s]\n"
     ]
    },
    {
     "name": "stdout",
     "output_type": "stream",
     "text": [
      "Accuracy: 0.6750727449078564\n",
      "Precision: 0.6739009460211464\n",
      "Recall: 0.6701915221929744\n",
      "f1_score: 0.6706104842732087\n"
     ]
    },
    {
     "name": "stderr",
     "output_type": "stream",
     "text": [
      "100%|██████████| 1/1 [00:00<00:00, 47.61it/s, EPOCH=172, AVG_LOSS=0.528]\n",
      "100%|██████████| 1/1 [00:00<00:00, 43.46it/s]\n"
     ]
    },
    {
     "name": "stdout",
     "output_type": "stream",
     "text": [
      "Accuracy: 0.6789524733268671\n",
      "Precision: 0.6776452062494707\n",
      "Recall: 0.6745049317721098\n",
      "f1_score: 0.6749786897658494\n"
     ]
    },
    {
     "name": "stderr",
     "output_type": "stream",
     "text": [
      "100%|██████████| 1/1 [00:00<00:00, 44.42it/s, EPOCH=173, AVG_LOSS=0.527]\n",
      "100%|██████████| 1/1 [00:00<00:00, 39.99it/s]\n"
     ]
    },
    {
     "name": "stdout",
     "output_type": "stream",
     "text": [
      "Accuracy: 0.6760426770126091\n",
      "Precision: 0.6746348427014714\n",
      "Recall: 0.6716494962330943\n",
      "f1_score: 0.672103767692003\n"
     ]
    },
    {
     "name": "stderr",
     "output_type": "stream",
     "text": [
      "100%|██████████| 1/1 [00:00<00:00, 33.32it/s, EPOCH=174, AVG_LOSS=0.527]\n",
      "100%|██████████| 1/1 [00:00<00:00, 32.25it/s]\n"
     ]
    },
    {
     "name": "stdout",
     "output_type": "stream",
     "text": [
      "Accuracy: 0.6760426770126091\n",
      "Precision: 0.6749400618716164\n",
      "Recall: 0.6710973192944237\n",
      "f1_score: 0.6715182387057387\n"
     ]
    },
    {
     "name": "stderr",
     "output_type": "stream",
     "text": [
      "100%|██████████| 1/1 [00:00<00:00, 46.49it/s, EPOCH=175, AVG_LOSS=0.527]\n",
      "100%|██████████| 1/1 [00:00<00:00, 42.54it/s]\n"
     ]
    },
    {
     "name": "stdout",
     "output_type": "stream",
     "text": [
      "Accuracy: 0.6760426770126091\n",
      "Precision: 0.6749400618716164\n",
      "Recall: 0.6710973192944237\n",
      "f1_score: 0.6715182387057387\n"
     ]
    },
    {
     "name": "stderr",
     "output_type": "stream",
     "text": [
      "100%|██████████| 1/1 [00:00<00:00, 12.98it/s, EPOCH=176, AVG_LOSS=0.527]\n",
      "100%|██████████| 1/1 [00:00<00:00, 12.66it/s]\n"
     ]
    },
    {
     "name": "stdout",
     "output_type": "stream",
     "text": [
      "Accuracy: 0.6760426770126091\n",
      "Precision: 0.6747762863534675\n",
      "Recall: 0.6713734077637591\n",
      "f1_score: 0.6718162688035133\n"
     ]
    },
    {
     "name": "stderr",
     "output_type": "stream",
     "text": [
      "100%|██████████| 1/1 [00:00<00:00, 43.47it/s, EPOCH=177, AVG_LOSS=0.527]\n",
      "100%|██████████| 1/1 [00:00<00:00, 39.99it/s]\n"
     ]
    },
    {
     "name": "stdout",
     "output_type": "stream",
     "text": [
      "Accuracy: 0.6750727449078564\n",
      "Precision: 0.6738203305313047\n",
      "Recall: 0.6703295664276421\n",
      "f1_score: 0.6707599445968064\n"
     ]
    },
    {
     "name": "stderr",
     "output_type": "stream",
     "text": [
      "100%|██████████| 1/1 [00:00<00:00, 45.44it/s, EPOCH=178, AVG_LOSS=0.526]\n",
      "100%|██████████| 1/1 [00:00<00:00, 43.47it/s]\n"
     ]
    },
    {
     "name": "stdout",
     "output_type": "stream",
     "text": [
      "Accuracy: 0.6750727449078564\n",
      "Precision: 0.6737452779276849\n",
      "Recall: 0.6704676106623098\n",
      "f1_score: 0.6709067608062849\n"
     ]
    },
    {
     "name": "stderr",
     "output_type": "stream",
     "text": [
      "100%|██████████| 1/1 [00:00<00:00, 45.44it/s, EPOCH=179, AVG_LOSS=0.526]\n",
      "100%|██████████| 1/1 [00:00<00:00, 43.47it/s]\n"
     ]
    },
    {
     "name": "stdout",
     "output_type": "stream",
     "text": [
      "Accuracy: 0.6760426770126091\n",
      "Precision: 0.6749400618716164\n",
      "Recall: 0.6710973192944237\n",
      "f1_score: 0.6715182387057387\n"
     ]
    },
    {
     "name": "stderr",
     "output_type": "stream",
     "text": [
      "100%|██████████| 1/1 [00:00<00:00, 45.44it/s, EPOCH=180, AVG_LOSS=0.525]\n",
      "100%|██████████| 1/1 [00:00<00:00, 43.47it/s]\n"
     ]
    },
    {
     "name": "stdout",
     "output_type": "stream",
     "text": [
      "Accuracy: 0.6750727449078564\n",
      "Precision: 0.6739009460211464\n",
      "Recall: 0.6701915221929744\n",
      "f1_score: 0.6706104842732087\n"
     ]
    },
    {
     "name": "stderr",
     "output_type": "stream",
     "text": [
      "100%|██████████| 1/1 [00:00<00:00, 12.90it/s, EPOCH=181, AVG_LOSS=0.525]\n",
      "100%|██████████| 1/1 [00:00<00:00, 12.90it/s]\n"
     ]
    },
    {
     "name": "stdout",
     "output_type": "stream",
     "text": [
      "Accuracy: 0.6779825412221144\n",
      "Precision: 0.6766183894600751\n",
      "Recall: 0.6735991346706605\n",
      "f1_score: 0.6740672181848653\n"
     ]
    },
    {
     "name": "stderr",
     "output_type": "stream",
     "text": [
      "100%|██████████| 1/1 [00:00<00:00, 45.45it/s, EPOCH=182, AVG_LOSS=0.525]\n",
      "100%|██████████| 1/1 [00:00<00:00, 41.66it/s]\n"
     ]
    },
    {
     "name": "stdout",
     "output_type": "stream",
     "text": [
      "Accuracy: 0.6760426770126091\n",
      "Precision: 0.6747027868309332\n",
      "Recall: 0.6715114519984267\n",
      "f1_score: 0.6719613312299473\n"
     ]
    },
    {
     "name": "stderr",
     "output_type": "stream",
     "text": [
      "100%|██████████| 1/1 [00:00<00:00, 45.45it/s, EPOCH=183, AVG_LOSS=0.525]\n",
      "100%|██████████| 1/1 [00:00<00:00, 39.99it/s]\n"
     ]
    },
    {
     "name": "stdout",
     "output_type": "stream",
     "text": [
      "Accuracy: 0.6750727449078564\n",
      "Precision: 0.6739009460211464\n",
      "Recall: 0.6701915221929744\n",
      "f1_score: 0.6706104842732087\n"
     ]
    },
    {
     "name": "stderr",
     "output_type": "stream",
     "text": [
      "100%|██████████| 1/1 [00:00<00:00, 45.29it/s, EPOCH=184, AVG_LOSS=0.524]\n",
      "100%|██████████| 1/1 [00:00<00:00, 41.53it/s]\n"
     ]
    },
    {
     "name": "stdout",
     "output_type": "stream",
     "text": [
      "Accuracy: 0.6779825412221144\n",
      "Precision: 0.6766887024324095\n",
      "Recall: 0.6734610904359929\n",
      "f1_score: 0.673925634635756\n"
     ]
    },
    {
     "name": "stderr",
     "output_type": "stream",
     "text": [
      "100%|██████████| 1/1 [00:00<00:00, 45.45it/s, EPOCH=185, AVG_LOSS=0.524]\n",
      "100%|██████████| 1/1 [00:00<00:00, 43.47it/s]\n"
     ]
    },
    {
     "name": "stdout",
     "output_type": "stream",
     "text": [
      "Accuracy: 0.6760426770126091\n",
      "Precision: 0.6747762863534675\n",
      "Recall: 0.6713734077637591\n",
      "f1_score: 0.6718162688035133\n"
     ]
    },
    {
     "name": "stderr",
     "output_type": "stream",
     "text": [
      "100%|██████████| 1/1 [00:00<00:00, 13.07it/s, EPOCH=186, AVG_LOSS=0.524]\n",
      "100%|██████████| 1/1 [00:00<00:00, 12.73it/s]\n"
     ]
    },
    {
     "name": "stdout",
     "output_type": "stream",
     "text": [
      "Accuracy: 0.6789524733268671\n",
      "Precision: 0.6778852099177641\n",
      "Recall: 0.6740907990681069\n",
      "f1_score: 0.6745434934162153\n"
     ]
    },
    {
     "name": "stderr",
     "output_type": "stream",
     "text": [
      "100%|██████████| 1/1 [00:00<00:00, 47.61it/s, EPOCH=187, AVG_LOSS=0.524]\n",
      "100%|██████████| 1/1 [00:00<00:00, 43.47it/s]\n"
     ]
    },
    {
     "name": "stdout",
     "output_type": "stream",
     "text": [
      "Accuracy: 0.6799224054316197\n",
      "Precision: 0.6786746180338857\n",
      "Recall: 0.675410728873559\n",
      "f1_score: 0.6758899380415646\n"
     ]
    },
    {
     "name": "stderr",
     "output_type": "stream",
     "text": [
      "100%|██████████| 1/1 [00:00<00:00, 44.43it/s, EPOCH=188, AVG_LOSS=0.523]\n",
      "100%|██████████| 1/1 [00:00<00:00, 42.54it/s]\n"
     ]
    },
    {
     "name": "stdout",
     "output_type": "stream",
     "text": [
      "Accuracy: 0.6770126091173618\n",
      "Precision: 0.6756604834176503\n",
      "Recall: 0.6725552933345436\n",
      "f1_score: 0.6730148147795403\n"
     ]
    },
    {
     "name": "stderr",
     "output_type": "stream",
     "text": [
      "100%|██████████| 1/1 [00:00<00:00, 43.47it/s, EPOCH=189, AVG_LOSS=0.523]\n",
      "100%|██████████| 1/1 [00:00<00:00, 39.99it/s]\n"
     ]
    },
    {
     "name": "stdout",
     "output_type": "stream",
     "text": [
      "Accuracy: 0.6760426770126091\n",
      "Precision: 0.6749400618716164\n",
      "Recall: 0.6710973192944237\n",
      "f1_score: 0.6715182387057387\n"
     ]
    },
    {
     "name": "stderr",
     "output_type": "stream",
     "text": [
      "100%|██████████| 1/1 [00:00<00:00, 47.61it/s, EPOCH=190, AVG_LOSS=0.523]\n",
      "100%|██████████| 1/1 [00:00<00:00, 43.47it/s]\n"
     ]
    },
    {
     "name": "stdout",
     "output_type": "stream",
     "text": [
      "Accuracy: 0.6770126091173618\n",
      "Precision: 0.6758930779694553\n",
      "Recall: 0.6721411606305406\n",
      "f1_score: 0.672576988844712\n"
     ]
    },
    {
     "name": "stderr",
     "output_type": "stream",
     "text": [
      "100%|██████████| 1/1 [00:00<00:00, 44.42it/s, EPOCH=191, AVG_LOSS=0.522]\n",
      "100%|██████████| 1/1 [00:00<00:00, 40.80it/s]\n"
     ]
    },
    {
     "name": "stdout",
     "output_type": "stream",
     "text": [
      "Accuracy: 0.6760426770126091\n",
      "Precision: 0.6746348427014714\n",
      "Recall: 0.6716494962330943\n",
      "f1_score: 0.672103767692003\n"
     ]
    },
    {
     "name": "stderr",
     "output_type": "stream",
     "text": [
      "100%|██████████| 1/1 [00:00<00:00, 13.89it/s, EPOCH=192, AVG_LOSS=0.522]\n",
      "100%|██████████| 1/1 [00:00<00:00, 13.42it/s]"
     ]
    },
    {
     "name": "stdout",
     "output_type": "stream",
     "text": [
      "Accuracy: 0.6750727449078564\n",
      "Precision: 0.6739009460211464\n",
      "Recall: 0.6701915221929744\n",
      "f1_score: 0.6706104842732087\n"
     ]
    },
    {
     "name": "stderr",
     "output_type": "stream",
     "text": [
      "\n",
      "100%|██████████| 1/1 [00:00<00:00, 47.61it/s, EPOCH=193, AVG_LOSS=0.522]\n",
      "100%|██████████| 1/1 [00:00<00:00, 43.47it/s]\n"
     ]
    },
    {
     "name": "stdout",
     "output_type": "stream",
     "text": [
      "Accuracy: 0.6760426770126091\n",
      "Precision: 0.6749400618716164\n",
      "Recall: 0.6710973192944237\n",
      "f1_score: 0.6715182387057387\n"
     ]
    },
    {
     "name": "stderr",
     "output_type": "stream",
     "text": [
      "100%|██████████| 1/1 [00:00<00:00, 45.44it/s, EPOCH=194, AVG_LOSS=0.521]\n",
      "100%|██████████| 1/1 [00:00<00:00, 43.47it/s]\n"
     ]
    },
    {
     "name": "stdout",
     "output_type": "stream",
     "text": [
      "Accuracy: 0.6741028128031038\n",
      "Precision: 0.6727879348916146\n",
      "Recall: 0.6694237693261929\n",
      "f1_score: 0.6698510967604205\n"
     ]
    },
    {
     "name": "stderr",
     "output_type": "stream",
     "text": [
      "100%|██████████| 1/1 [00:00<00:00, 42.53it/s, EPOCH=195, AVG_LOSS=0.521]\n",
      "100%|██████████| 1/1 [00:00<00:00, 39.19it/s]\n"
     ]
    },
    {
     "name": "stdout",
     "output_type": "stream",
     "text": [
      "Accuracy: 0.6721629485935985\n",
      "Precision: 0.6707995834297616\n",
      "Recall: 0.6674741308886267\n",
      "f1_score: 0.6678859247173279\n"
     ]
    },
    {
     "name": "stderr",
     "output_type": "stream",
     "text": [
      "100%|██████████| 1/1 [00:00<00:00, 47.61it/s, EPOCH=196, AVG_LOSS=0.521]\n",
      "100%|██████████| 1/1 [00:00<00:00, 43.47it/s]\n"
     ]
    },
    {
     "name": "stdout",
     "output_type": "stream",
     "text": [
      "Accuracy: 0.6750727449078564\n",
      "Precision: 0.6737452779276849\n",
      "Recall: 0.6704676106623098\n",
      "f1_score: 0.6709067608062849\n"
     ]
    },
    {
     "name": "stderr",
     "output_type": "stream",
     "text": [
      "100%|██████████| 1/1 [00:00<00:00, 47.61it/s, EPOCH=197, AVG_LOSS=0.521]\n",
      "100%|██████████| 1/1 [00:00<00:00, 41.66it/s]\n"
     ]
    },
    {
     "name": "stdout",
     "output_type": "stream",
     "text": [
      "Accuracy: 0.6760426770126091\n",
      "Precision: 0.6748553685495146\n",
      "Recall: 0.6712353635290913\n",
      "f1_score: 0.6716685736079329\n"
     ]
    },
    {
     "name": "stderr",
     "output_type": "stream",
     "text": [
      "100%|██████████| 1/1 [00:00<00:00, 13.42it/s, EPOCH=198, AVG_LOSS=0.521]\n",
      "100%|██████████| 1/1 [00:00<00:00, 13.24it/s]\n"
     ]
    },
    {
     "name": "stdout",
     "output_type": "stream",
     "text": [
      "Accuracy: 0.6741028128031038\n",
      "Precision: 0.6727879348916146\n",
      "Recall: 0.6694237693261929\n",
      "f1_score: 0.6698510967604205\n"
     ]
    },
    {
     "name": "stderr",
     "output_type": "stream",
     "text": [
      "100%|██████████| 1/1 [00:00<00:00, 45.44it/s, EPOCH=199, AVG_LOSS=0.52]\n",
      "100%|██████████| 1/1 [00:00<00:00, 41.65it/s]"
     ]
    },
    {
     "name": "stdout",
     "output_type": "stream",
     "text": [
      "Accuracy: 0.6741028128031038\n",
      "Precision: 0.672716871229457\n",
      "Recall: 0.6695618135608605\n",
      "f1_score: 0.6699970278241387\n"
     ]
    },
    {
     "name": "stderr",
     "output_type": "stream",
     "text": [
      "\n"
     ]
    }
   ],
   "source": [
    "#RNNbased, LSTMbased, GRUbased, BI_RNNbased, BI_LSTMbased, BI_GRUbased\n",
    "train_losses = []\n",
    "val_losses = []\n",
    "GRUmodel = GRUbased().cuda()\n",
    "loss_fn = torch.nn.CrossEntropyLoss()\n",
    "optimizer = torch.optim.Adam(GRUmodel.parameters(), lr=1e-3)\n",
    "epoch(GRUmodel, optimizer, loss_fn)"
   ]
  },
  {
   "cell_type": "code",
   "execution_count": 16,
   "metadata": {},
   "outputs": [
    {
     "data": {
      "image/png": "[encoded data removed]",
      "text/plain": [
       "<Figure size 640x480 with 1 Axes>"
      ]
     },
     "metadata": {},
     "output_type": "display_data"
    }
   ],
   "source": [
    "plt.plot(train_losses, label = \"Training Loss\")\n",
    "plt.plot(val_losses, label = \"Val Loss\")\n",
    "plt.title('Loss')\n",
    "plt.legend()\n",
    "plt.show()"
   ]
  },
  {
   "cell_type": "code",
   "execution_count": 17,
   "metadata": {},
   "outputs": [
    {
     "name": "stderr",
     "output_type": "stream",
     "text": [
      "100%|██████████| 1/1 [00:00<00:00, 42.53it/s, EPOCH=0, AVG_LOSS=0.695]\n",
      "100%|██████████| 1/1 [00:00<00:00, 37.72it/s]\n"
     ]
    },
    {
     "name": "stdout",
     "output_type": "stream",
     "text": [
      "Accuracy: 0.5431619786614937\n",
      "Precision: 0.6449507389162561\n",
      "Recall: 0.5089029076276058\n",
      "f1_score: 0.373955251300497\n"
     ]
    },
    {
     "name": "stderr",
     "output_type": "stream",
     "text": [
      "100%|██████████| 1/1 [00:00<00:00, 43.47it/s, EPOCH=1, AVG_LOSS=0.683]\n",
      "100%|██████████| 1/1 [00:00<00:00, 39.99it/s]\n"
     ]
    },
    {
     "name": "stdout",
     "output_type": "stream",
     "text": [
      "Accuracy: 0.5470417070805044\n",
      "Precision: 0.6876439618295492\n",
      "Recall: 0.5129402287374059\n",
      "f1_score: 0.3809798085638431\n"
     ]
    },
    {
     "name": "stderr",
     "output_type": "stream",
     "text": [
      "100%|██████████| 1/1 [00:00<00:00, 43.47it/s, EPOCH=2, AVG_LOSS=0.68]\n",
      "100%|██████████| 1/1 [00:00<00:00, 41.66it/s]\n"
     ]
    },
    {
     "name": "stdout",
     "output_type": "stream",
     "text": [
      "Accuracy: 0.5819592628516004\n",
      "Precision: 0.638251162256787\n",
      "Recall: 0.5546598438776437\n",
      "f1_score: 0.48989515759651114\n"
     ]
    },
    {
     "name": "stderr",
     "output_type": "stream",
     "text": [
      "100%|██████████| 1/1 [00:00<00:00, 13.24it/s, EPOCH=3, AVG_LOSS=0.667]\n",
      "100%|██████████| 1/1 [00:00<00:00, 12.90it/s]\n"
     ]
    },
    {
     "name": "stdout",
     "output_type": "stream",
     "text": [
      "Accuracy: 0.6265761396702231\n",
      "Precision: 0.6324547707886774\n",
      "Recall: 0.6135820398777647\n",
      "f1_score: 0.6062953466804866\n"
     ]
    },
    {
     "name": "stderr",
     "output_type": "stream",
     "text": [
      "100%|██████████| 1/1 [00:00<00:00, 45.26it/s, EPOCH=4, AVG_LOSS=0.66]\n",
      "100%|██████████| 1/1 [00:00<00:00, 39.85it/s]\n"
     ]
    },
    {
     "name": "stdout",
     "output_type": "stream",
     "text": [
      "Accuracy: 0.6071774975751697\n",
      "Precision: 0.6048697235180338\n",
      "Recall: 0.604577017336843\n",
      "f1_score: 0.6046767912883189\n"
     ]
    },
    {
     "name": "stderr",
     "output_type": "stream",
     "text": [
      "100%|██████████| 1/1 [00:00<00:00, 38.45it/s, EPOCH=5, AVG_LOSS=0.659]\n",
      "100%|██████████| 1/1 [00:00<00:00, 34.48it/s]\n"
     ]
    },
    {
     "name": "stdout",
     "output_type": "stream",
     "text": [
      "Accuracy: 0.6197866149369544\n",
      "Precision: 0.6174455716402598\n",
      "Recall: 0.6169045565943542\n",
      "f1_score: 0.6170598223219429\n"
     ]
    },
    {
     "name": "stderr",
     "output_type": "stream",
     "text": [
      "100%|██████████| 1/1 [00:00<00:00, 47.61it/s, EPOCH=6, AVG_LOSS=0.655]\n",
      "100%|██████████| 1/1 [00:00<00:00, 41.66it/s]\n"
     ]
    },
    {
     "name": "stdout",
     "output_type": "stream",
     "text": [
      "Accuracy: 0.6323957322987391\n",
      "Precision: 0.6309489911333634\n",
      "Recall: 0.6252288130465039\n",
      "f1_score: 0.624446279101283\n"
     ]
    },
    {
     "name": "stderr",
     "output_type": "stream",
     "text": [
      "100%|██████████| 1/1 [00:00<00:00, 48.75it/s, EPOCH=7, AVG_LOSS=0.648]\n",
      "100%|██████████| 1/1 [00:00<00:00, 44.42it/s]\n"
     ]
    },
    {
     "name": "stdout",
     "output_type": "stream",
     "text": [
      "Accuracy: 0.6333656644034917\n",
      "Precision: 0.6402491106336515\n",
      "Recall: 0.6204747965265801\n",
      "f1_score: 0.6136325782811459\n"
     ]
    },
    {
     "name": "stderr",
     "output_type": "stream",
     "text": [
      "100%|██████████| 1/1 [00:00<00:00, 12.98it/s, EPOCH=8, AVG_LOSS=0.643]\n",
      "100%|██████████| 1/1 [00:00<00:00, 12.66it/s]\n"
     ]
    },
    {
     "name": "stdout",
     "output_type": "stream",
     "text": [
      "Accuracy: 0.635305528612997\n",
      "Precision: 0.6523698377260383\n",
      "Recall: 0.6192494175667907\n",
      "f1_score: 0.6064885496183205\n"
     ]
    },
    {
     "name": "stderr",
     "output_type": "stream",
     "text": [
      "100%|██████████| 1/1 [00:00<00:00, 45.27it/s, EPOCH=9, AVG_LOSS=0.641]\n",
      "100%|██████████| 1/1 [00:00<00:00, 41.51it/s]\n"
     ]
    },
    {
     "name": "stdout",
     "output_type": "stream",
     "text": [
      "Accuracy: 0.6304558680892337\n",
      "Precision: 0.6485396665481411\n",
      "Recall: 0.6137541224168709\n",
      "f1_score: 0.5991794019899653\n"
     ]
    },
    {
     "name": "stderr",
     "output_type": "stream",
     "text": [
      "100%|██████████| 1/1 [00:00<00:00, 43.47it/s, EPOCH=10, AVG_LOSS=0.638]\n",
      "100%|██████████| 1/1 [00:00<00:00, 41.66it/s]\n"
     ]
    },
    {
     "name": "stdout",
     "output_type": "stream",
     "text": [
      "Accuracy: 0.6391852570320078\n",
      "Precision: 0.6567965367965368\n",
      "Recall: 0.6232867386765907\n",
      "f1_score: 0.6111138150049887\n"
     ]
    },
    {
     "name": "stderr",
     "output_type": "stream",
     "text": [
      "100%|██████████| 1/1 [00:00<00:00, 43.47it/s, EPOCH=11, AVG_LOSS=0.635]\n",
      "100%|██████████| 1/1 [00:00<00:00, 41.66it/s]\n"
     ]
    },
    {
     "name": "stdout",
     "output_type": "stream",
     "text": [
      "Accuracy: 0.6391852570320078\n",
      "Precision: 0.6485128617363344\n",
      "Recall: 0.6257715349006081\n",
      "f1_score: 0.6183305469309768\n"
     ]
    },
    {
     "name": "stderr",
     "output_type": "stream",
     "text": [
      "100%|██████████| 1/1 [00:00<00:00, 43.47it/s, EPOCH=12, AVG_LOSS=0.631]\n",
      "100%|██████████| 1/1 [00:00<00:00, 41.66it/s]\n"
     ]
    },
    {
     "name": "stdout",
     "output_type": "stream",
     "text": [
      "Accuracy: 0.6459747817652765\n",
      "Precision: 0.6490740202711116\n",
      "Recall: 0.6358393089467792\n",
      "f1_score: 0.6329797868968375\n"
     ]
    },
    {
     "name": "stderr",
     "output_type": "stream",
     "text": [
      "100%|██████████| 1/1 [00:00<00:00, 47.61it/s, EPOCH=13, AVG_LOSS=0.629]\n",
      "100%|██████████| 1/1 [00:00<00:00, 43.47it/s]\n"
     ]
    },
    {
     "name": "stdout",
     "output_type": "stream",
     "text": [
      "Accuracy: 0.6450048496605237\n",
      "Precision: 0.6447669641931291\n",
      "Recall: 0.6372802638346797\n",
      "f1_score: 0.6363561020738571\n"
     ]
    },
    {
     "name": "stderr",
     "output_type": "stream",
     "text": [
      "100%|██████████| 1/1 [00:00<00:00, 13.79it/s, EPOCH=14, AVG_LOSS=0.627]\n",
      "100%|██████████| 1/1 [00:00<00:00, 13.42it/s]\n"
     ]
    },
    {
     "name": "stdout",
     "output_type": "stream",
     "text": [
      "Accuracy: 0.6450048496605237\n",
      "Precision: 0.6440342365794975\n",
      "Recall: 0.6381085292426856\n",
      "f1_score: 0.6376383778011662\n"
     ]
    },
    {
     "name": "stderr",
     "output_type": "stream",
     "text": [
      "100%|██████████| 1/1 [00:00<00:00, 41.66it/s, EPOCH=15, AVG_LOSS=0.625]\n",
      "100%|██████████| 1/1 [00:00<00:00, 39.99it/s]\n"
     ]
    },
    {
     "name": "stdout",
     "output_type": "stream",
     "text": [
      "Accuracy: 0.646944713870029\n",
      "Precision: 0.6471161777542864\n",
      "Recall: 0.6389538138029107\n",
      "f1_score: 0.6378937699248933\n"
     ]
    },
    {
     "name": "stderr",
     "output_type": "stream",
     "text": [
      "100%|██████████| 1/1 [00:00<00:00, 42.54it/s, EPOCH=16, AVG_LOSS=0.622]\n",
      "100%|██████████| 1/1 [00:00<00:00, 39.20it/s]\n"
     ]
    },
    {
     "name": "stdout",
     "output_type": "stream",
     "text": [
      "Accuracy: 0.6479146459747818\n",
      "Precision: 0.6498609804963813\n",
      "Recall: 0.6386172127923513\n",
      "f1_score: 0.6365900623108317\n"
     ]
    },
    {
     "name": "stderr",
     "output_type": "stream",
     "text": [
      "100%|██████████| 1/1 [00:00<00:00, 43.47it/s, EPOCH=17, AVG_LOSS=0.619]\n",
      "100%|██████████| 1/1 [00:00<00:00, 39.99it/s]\n"
     ]
    },
    {
     "name": "stdout",
     "output_type": "stream",
     "text": [
      "Accuracy: 0.6479146459747818\n",
      "Precision: 0.6527931310915152\n",
      "Recall: 0.6369606819763396\n",
      "f1_score: 0.6332740501212611\n"
     ]
    },
    {
     "name": "stderr",
     "output_type": "stream",
     "text": [
      "100%|██████████| 1/1 [00:00<00:00, 45.44it/s, EPOCH=18, AVG_LOSS=0.617]\n",
      "100%|██████████| 1/1 [00:00<00:00, 41.65it/s]\n"
     ]
    },
    {
     "name": "stdout",
     "output_type": "stream",
     "text": [
      "Accuracy: 0.6411251212415131\n",
      "Precision: 0.64701807825017\n",
      "Recall: 0.6292396599195182\n",
      "f1_score: 0.6241674876847291\n"
     ]
    },
    {
     "name": "stderr",
     "output_type": "stream",
     "text": [
      "100%|██████████| 1/1 [00:00<00:00, 46.49it/s, EPOCH=19, AVG_LOSS=0.615]\n",
      "100%|██████████| 1/1 [00:00<00:00, 42.54it/s]\n"
     ]
    },
    {
     "name": "stdout",
     "output_type": "stream",
     "text": [
      "Accuracy: 0.6440349175557711\n",
      "Precision: 0.6495790534252073\n",
      "Recall: 0.6325092281625366\n",
      "f1_score: 0.6280082385846937\n"
     ]
    },
    {
     "name": "stderr",
     "output_type": "stream",
     "text": [
      "100%|██████████| 1/1 [00:00<00:00, 13.60it/s, EPOCH=20, AVG_LOSS=0.613]\n",
      "100%|██████████| 1/1 [00:00<00:00, 13.07it/s]\n"
     ]
    },
    {
     "name": "stdout",
     "output_type": "stream",
     "text": [
      "Accuracy: 0.6450048496605237\n",
      "Precision: 0.6488666834255069\n",
      "Recall: 0.6343813349066594\n",
      "f1_score: 0.6309791112501957\n"
     ]
    },
    {
     "name": "stderr",
     "output_type": "stream",
     "text": [
      "100%|██████████| 1/1 [00:00<00:00, 45.44it/s, EPOCH=21, AVG_LOSS=0.61]\n",
      "100%|██████████| 1/1 [00:00<00:00, 41.66it/s]"
     ]
    },
    {
     "name": "stdout",
     "output_type": "stream",
     "text": [
      "Accuracy: 0.6459747817652765\n",
      "Precision: 0.6483866583191921\n",
      "Recall: 0.6362534416507821\n",
      "f1_score: 0.6337983898670421\n"
     ]
    },
    {
     "name": "stderr",
     "output_type": "stream",
     "text": [
      "\n",
      "100%|██████████| 1/1 [00:00<00:00, 45.45it/s, EPOCH=22, AVG_LOSS=0.608]\n",
      "100%|██████████| 1/1 [00:00<00:00, 41.66it/s]"
     ]
    },
    {
     "name": "stdout",
     "output_type": "stream",
     "text": [
      "Accuracy: 0.646944713870029\n",
      "Precision: 0.6483130081300813\n",
      "Recall: 0.6379875041602372\n",
      "f1_score: 0.6362229942460103\n"
     ]
    },
    {
     "name": "stderr",
     "output_type": "stream",
     "text": [
      "\n",
      "100%|██████████| 1/1 [00:00<00:00, 44.42it/s, EPOCH=23, AVG_LOSS=0.607]\n",
      "100%|██████████| 1/1 [00:00<00:00, 42.53it/s]\n"
     ]
    },
    {
     "name": "stdout",
     "output_type": "stream",
     "text": [
      "Accuracy: 0.6479146459747818\n",
      "Precision: 0.6487205446962302\n",
      "Recall: 0.639445478200357\n",
      "f1_score: 0.6380745429911775\n"
     ]
    },
    {
     "name": "stderr",
     "output_type": "stream",
     "text": [
      "100%|██████████| 1/1 [00:00<00:00, 47.61it/s, EPOCH=24, AVG_LOSS=0.605]\n",
      "100%|██████████| 1/1 [00:00<00:00, 43.47it/s]\n"
     ]
    },
    {
     "name": "stdout",
     "output_type": "stream",
     "text": [
      "Accuracy: 0.646944713870029\n",
      "Precision: 0.6477670098929942\n",
      "Recall: 0.6384016368642401\n",
      "f1_score: 0.6369577835390627\n"
     ]
    },
    {
     "name": "stderr",
     "output_type": "stream",
     "text": [
      "100%|██████████| 1/1 [00:00<00:00, 45.45it/s, EPOCH=25, AVG_LOSS=0.603]\n",
      "100%|██████████| 1/1 [00:00<00:00, 41.66it/s]\n"
     ]
    },
    {
     "name": "stdout",
     "output_type": "stream",
     "text": [
      "Accuracy: 0.6479146459747818\n",
      "Precision: 0.6492650641546207\n",
      "Recall: 0.6390313454963541\n",
      "f1_score: 0.6373464730592016\n"
     ]
    },
    {
     "name": "stderr",
     "output_type": "stream",
     "text": [
      "100%|██████████| 1/1 [00:00<00:00, 43.31it/s, EPOCH=26, AVG_LOSS=0.601]\n",
      "100%|██████████| 1/1 [00:00<00:00, 39.86it/s]\n"
     ]
    },
    {
     "name": "stdout",
     "output_type": "stream",
     "text": [
      "Accuracy: 0.6547041707080504\n",
      "Precision: 0.6566951219512196\n",
      "Recall: 0.6457860579105019\n",
      "f1_score: 0.6442180932735704\n"
     ]
    },
    {
     "name": "stderr",
     "output_type": "stream",
     "text": [
      "100%|██████████| 1/1 [00:00<00:00, 47.61it/s, EPOCH=27, AVG_LOSS=0.599]\n",
      "100%|██████████| 1/1 [00:00<00:00, 41.66it/s]"
     ]
    },
    {
     "name": "stdout",
     "output_type": "stream",
     "text": [
      "Accuracy: 0.6527643064985451\n",
      "Precision: 0.6552411596623519\n",
      "Recall: 0.6434222867689329\n",
      "f1_score: 0.6414686363495073\n"
     ]
    },
    {
     "name": "stderr",
     "output_type": "stream",
     "text": [
      "\n",
      "100%|██████████| 1/1 [00:00<00:00, 45.45it/s, EPOCH=28, AVG_LOSS=0.597]\n",
      "100%|██████████| 1/1 [00:00<00:00, 43.47it/s]\n"
     ]
    },
    {
     "name": "stdout",
     "output_type": "stream",
     "text": [
      "Accuracy: 0.6585838991270611\n",
      "Precision: 0.6615720613399487\n",
      "Recall: 0.6492712020816314\n",
      "f1_score: 0.6474775418855492\n"
     ]
    },
    {
     "name": "stderr",
     "output_type": "stream",
     "text": [
      "100%|██████████| 1/1 [00:00<00:00, 47.61it/s, EPOCH=29, AVG_LOSS=0.595]\n",
      "100%|██████████| 1/1 [00:00<00:00, 43.47it/s]\n"
     ]
    },
    {
     "name": "stdout",
     "output_type": "stream",
     "text": [
      "Accuracy: 0.6595538312318138\n",
      "Precision: 0.6618239402306318\n",
      "Recall: 0.6507291761217513\n",
      "f1_score: 0.6493350194043519\n"
     ]
    },
    {
     "name": "stderr",
     "output_type": "stream",
     "text": [
      "100%|██████████| 1/1 [00:00<00:00, 13.24it/s, EPOCH=30, AVG_LOSS=0.594]\n",
      "100%|██████████| 1/1 [00:00<00:00, 12.90it/s]\n"
     ]
    },
    {
     "name": "stdout",
     "output_type": "stream",
     "text": [
      "Accuracy: 0.6595538312318138\n",
      "Precision: 0.6618239402306318\n",
      "Recall: 0.6507291761217513\n",
      "f1_score: 0.6493350194043519\n"
     ]
    },
    {
     "name": "stderr",
     "output_type": "stream",
     "text": [
      "100%|██████████| 1/1 [00:00<00:00, 47.61it/s, EPOCH=31, AVG_LOSS=0.592]\n",
      "100%|██████████| 1/1 [00:00<00:00, 43.47it/s]\n"
     ]
    },
    {
     "name": "stdout",
     "output_type": "stream",
     "text": [
      "Accuracy: 0.6634335596508244\n",
      "Precision: 0.6653550770819384\n",
      "Recall: 0.6550425857008866\n",
      "f1_score: 0.6540271802147068\n"
     ]
    },
    {
     "name": "stderr",
     "output_type": "stream",
     "text": [
      "100%|██████████| 1/1 [00:00<00:00, 46.31it/s, EPOCH=32, AVG_LOSS=0.591]\n",
      "100%|██████████| 1/1 [00:00<00:00, 42.39it/s]\n"
     ]
    },
    {
     "name": "stdout",
     "output_type": "stream",
     "text": [
      "Accuracy: 0.6653734238603298\n",
      "Precision: 0.6664450991664271\n",
      "Recall: 0.6576824453117909\n",
      "f1_score: 0.6571155075234176\n"
     ]
    },
    {
     "name": "stderr",
     "output_type": "stream",
     "text": [
      "100%|██████████| 1/1 [00:00<00:00, 47.61it/s, EPOCH=33, AVG_LOSS=0.589]\n",
      "100%|██████████| 1/1 [00:00<00:00, 43.47it/s]\n"
     ]
    },
    {
     "name": "stdout",
     "output_type": "stream",
     "text": [
      "Accuracy: 0.6673132880698351\n",
      "Precision: 0.6683195339830583\n",
      "Recall: 0.6597701279840247\n",
      "f1_score: 0.6593121174724013\n"
     ]
    },
    {
     "name": "stderr",
     "output_type": "stream",
     "text": [
      "100%|██████████| 1/1 [00:00<00:00, 47.61it/s, EPOCH=34, AVG_LOSS=0.587]\n",
      "100%|██████████| 1/1 [00:00<00:00, 43.47it/s]\n"
     ]
    },
    {
     "name": "stdout",
     "output_type": "stream",
     "text": [
      "Accuracy: 0.6682832201745877\n",
      "Precision: 0.6690796112801849\n",
      "Recall: 0.6609520135548093\n",
      "f1_score: 0.6606123957587378\n"
     ]
    },
    {
     "name": "stderr",
     "output_type": "stream",
     "text": [
      "100%|██████████| 1/1 [00:00<00:00, 46.49it/s, EPOCH=35, AVG_LOSS=0.586]\n",
      "100%|██████████| 1/1 [00:00<00:00, 44.42it/s]\n"
     ]
    },
    {
     "name": "stdout",
     "output_type": "stream",
     "text": [
      "Accuracy: 0.6624636275460718\n",
      "Precision: 0.6634470907928389\n",
      "Recall: 0.6546889655381077\n",
      "f1_score: 0.654026845637584\n"
     ]
    },
    {
     "name": "stderr",
     "output_type": "stream",
     "text": [
      "100%|██████████| 1/1 [00:00<00:00, 13.42it/s, EPOCH=36, AVG_LOSS=0.584]\n",
      "100%|██████████| 1/1 [00:00<00:00, 13.07it/s]\n"
     ]
    },
    {
     "name": "stdout",
     "output_type": "stream",
     "text": [
      "Accuracy: 0.6653734238603298\n",
      "Precision: 0.6676509822944459\n",
      "Recall: 0.656854179903785\n",
      "f1_score: 0.6557935777552626\n"
     ]
    },
    {
     "name": "stderr",
     "output_type": "stream",
     "text": [
      "100%|██████████| 1/1 [00:00<00:00, 43.47it/s, EPOCH=37, AVG_LOSS=0.583]\n",
      "100%|██████████| 1/1 [00:00<00:00, 39.99it/s]\n"
     ]
    },
    {
     "name": "stdout",
     "output_type": "stream",
     "text": [
      "Accuracy: 0.6634335596508244\n",
      "Precision: 0.6657855076691217\n",
      "Recall: 0.6547664972315512\n",
      "f1_score: 0.6535661891089732\n"
     ]
    },
    {
     "name": "stderr",
     "output_type": "stream",
     "text": [
      "100%|██████████| 1/1 [00:00<00:00, 45.45it/s, EPOCH=38, AVG_LOSS=0.581]\n",
      "100%|██████████| 1/1 [00:00<00:00, 41.66it/s]\n"
     ]
    },
    {
     "name": "stdout",
     "output_type": "stream",
     "text": [
      "Accuracy: 0.6634335596508244\n",
      "Precision: 0.6651492465224111\n",
      "Recall: 0.6551806299355541\n",
      "f1_score: 0.6542532063703144\n"
     ]
    },
    {
     "name": "stderr",
     "output_type": "stream",
     "text": [
      "100%|██████████| 1/1 [00:00<00:00, 46.49it/s, EPOCH=39, AVG_LOSS=0.58]\n",
      "100%|██████████| 1/1 [00:00<00:00, 42.53it/s]\n"
     ]
    },
    {
     "name": "stdout",
     "output_type": "stream",
     "text": [
      "Accuracy: 0.6644034917555771\n",
      "Precision: 0.6658862567608776\n",
      "Recall: 0.6563625155063386\n",
      "f1_score: 0.655582117450779\n"
     ]
    },
    {
     "name": "stderr",
     "output_type": "stream",
     "text": [
      "100%|██████████| 1/1 [00:00<00:00, 47.61it/s, EPOCH=40, AVG_LOSS=0.578]\n",
      "100%|██████████| 1/1 [00:00<00:00, 43.47it/s]\n"
     ]
    },
    {
     "name": "stdout",
     "output_type": "stream",
     "text": [
      "Accuracy: 0.6673132880698351\n",
      "Precision: 0.6688885860415898\n",
      "Recall: 0.6593559952800218\n",
      "f1_score: 0.6586768204697582\n"
     ]
    },
    {
     "name": "stderr",
     "output_type": "stream",
     "text": [
      "100%|██████████| 1/1 [00:00<00:00, 45.45it/s, EPOCH=41, AVG_LOSS=0.576]\n",
      "100%|██████████| 1/1 [00:00<00:00, 41.66it/s]\n"
     ]
    },
    {
     "name": "stdout",
     "output_type": "stream",
     "text": [
      "Accuracy: 0.6673132880698351\n",
      "Precision: 0.6692990082431736\n",
      "Recall: 0.6590799068106865\n",
      "f1_score: 0.6582387601873714\n"
     ]
    },
    {
     "name": "stderr",
     "output_type": "stream",
     "text": [
      "100%|██████████| 1/1 [00:00<00:00, 13.60it/s, EPOCH=42, AVG_LOSS=0.575]\n",
      "100%|██████████| 1/1 [00:00<00:00, 13.24it/s]\n"
     ]
    },
    {
     "name": "stdout",
     "output_type": "stream",
     "text": [
      "Accuracy: 0.6711930164888458\n",
      "Precision: 0.6728169126765071\n",
      "Recall: 0.6633933163898218\n",
      "f1_score: 0.6628694233816944\n"
     ]
    },
    {
     "name": "stderr",
     "output_type": "stream",
     "text": [
      "100%|██████████| 1/1 [00:00<00:00, 45.44it/s, EPOCH=43, AVG_LOSS=0.574]\n",
      "100%|██████████| 1/1 [00:00<00:00, 41.66it/s]\n"
     ]
    },
    {
     "name": "stdout",
     "output_type": "stream",
     "text": [
      "Accuracy: 0.6760426770126091\n",
      "Precision: 0.6767338116988826\n",
      "Recall: 0.6691647000090768\n",
      "f1_score: 0.6691321726430686\n"
     ]
    },
    {
     "name": "stderr",
     "output_type": "stream",
     "text": [
      "100%|██████████| 1/1 [00:00<00:00, 43.47it/s, EPOCH=44, AVG_LOSS=0.572]\n",
      "100%|██████████| 1/1 [00:00<00:00, 39.99it/s]\n"
     ]
    },
    {
     "name": "stdout",
     "output_type": "stream",
     "text": [
      "Accuracy: 0.6760426770126091\n",
      "Precision: 0.6761027391884467\n",
      "Recall: 0.6697168769477475\n",
      "f1_score: 0.6698680829850059\n"
     ]
    },
    {
     "name": "stderr",
     "output_type": "stream",
     "text": [
      "100%|██████████| 1/1 [00:00<00:00, 45.44it/s, EPOCH=45, AVG_LOSS=0.571]\n",
      "100%|██████████| 1/1 [00:00<00:00, 43.47it/s]\n"
     ]
    },
    {
     "name": "stdout",
     "output_type": "stream",
     "text": [
      "Accuracy: 0.6760426770126091\n",
      "Precision: 0.6767338116988826\n",
      "Recall: 0.6691647000090768\n",
      "f1_score: 0.6691321726430686\n"
     ]
    },
    {
     "name": "stderr",
     "output_type": "stream",
     "text": [
      "100%|██████████| 1/1 [00:00<00:00, 47.60it/s, EPOCH=46, AVG_LOSS=0.57]\n",
      "100%|██████████| 1/1 [00:00<00:00, 43.47it/s]\n"
     ]
    },
    {
     "name": "stdout",
     "output_type": "stream",
     "text": [
      "Accuracy: 0.6789524733268671\n",
      "Precision: 0.6802476045313455\n",
      "Recall: 0.671744047078757\n",
      "f1_score: 0.6716260362089785\n"
     ]
    },
    {
     "name": "stderr",
     "output_type": "stream",
     "text": [
      "100%|██████████| 1/1 [00:00<00:00, 45.45it/s, EPOCH=47, AVG_LOSS=0.569]\n",
      "100%|██████████| 1/1 [00:00<00:00, 41.66it/s]\n"
     ]
    },
    {
     "name": "stdout",
     "output_type": "stream",
     "text": [
      "Accuracy: 0.6799224054316197\n",
      "Precision: 0.6811748516861775\n",
      "Recall: 0.6727878884148739\n",
      "f1_score: 0.6727147848303885\n"
     ]
    },
    {
     "name": "stderr",
     "output_type": "stream",
     "text": [
      "100%|██████████| 1/1 [00:00<00:00, 44.42it/s, EPOCH=48, AVG_LOSS=0.567]\n",
      "100%|██████████| 1/1 [00:00<00:00, 40.80it/s]\n"
     ]
    },
    {
     "name": "stdout",
     "output_type": "stream",
     "text": [
      "Accuracy: 0.6770126091173618\n",
      "Precision: 0.6771886414516319\n",
      "Recall: 0.6706226740491967\n",
      "f1_score: 0.6707671771207628\n"
     ]
    },
    {
     "name": "stderr",
     "output_type": "stream",
     "text": [
      "100%|██████████| 1/1 [00:00<00:00, 41.66it/s, EPOCH=49, AVG_LOSS=0.566]\n",
      "100%|██████████| 1/1 [00:00<00:00, 39.99it/s]\n"
     ]
    },
    {
     "name": "stdout",
     "output_type": "stream",
     "text": [
      "Accuracy: 0.6741028128031038\n",
      "Precision: 0.6738069159755906\n",
      "Recall: 0.6680433269795165\n",
      "f1_score: 0.6682449204743955\n"
     ]
    },
    {
     "name": "stderr",
     "output_type": "stream",
     "text": [
      "100%|██████████| 1/1 [00:00<00:00, 47.61it/s, EPOCH=50, AVG_LOSS=0.565]\n",
      "100%|██████████| 1/1 [00:00<00:00, 43.47it/s]\n"
     ]
    },
    {
     "name": "stdout",
     "output_type": "stream",
     "text": [
      "Accuracy: 0.6741028128031038\n",
      "Precision: 0.6738069159755906\n",
      "Recall: 0.6680433269795165\n",
      "f1_score: 0.6682449204743955\n"
     ]
    },
    {
     "name": "stderr",
     "output_type": "stream",
     "text": [
      "100%|██████████| 1/1 [00:00<00:00, 46.49it/s, EPOCH=51, AVG_LOSS=0.563]\n",
      "100%|██████████| 1/1 [00:00<00:00, 40.80it/s]\n"
     ]
    },
    {
     "name": "stdout",
     "output_type": "stream",
     "text": [
      "Accuracy: 0.6770126091173618\n",
      "Precision: 0.6773420042174173\n",
      "Recall: 0.670484629814529\n",
      "f1_score: 0.6705864856436949\n"
     ]
    },
    {
     "name": "stderr",
     "output_type": "stream",
     "text": [
      "100%|██████████| 1/1 [00:00<00:00, 13.58it/s, EPOCH=52, AVG_LOSS=0.562]\n",
      "100%|██████████| 1/1 [00:00<00:00, 13.22it/s]\n"
     ]
    },
    {
     "name": "stdout",
     "output_type": "stream",
     "text": [
      "Accuracy: 0.6779825412221144\n",
      "Precision: 0.6786001656608684\n",
      "Recall: 0.6712523826813106\n",
      "f1_score: 0.67130038642073\n"
     ]
    },
    {
     "name": "stderr",
     "output_type": "stream",
     "text": [
      "100%|██████████| 1/1 [00:00<00:00, 45.44it/s, EPOCH=53, AVG_LOSS=0.561]\n",
      "100%|██████████| 1/1 [00:00<00:00, 41.66it/s]\n"
     ]
    },
    {
     "name": "stdout",
     "output_type": "stream",
     "text": [
      "Accuracy: 0.6750727449078564\n",
      "Precision: 0.6750199978041627\n",
      "Recall: 0.6688110798462982\n",
      "f1_score: 0.6689688420402911\n"
     ]
    },
    {
     "name": "stderr",
     "output_type": "stream",
     "text": [
      "100%|██████████| 1/1 [00:00<00:00, 49.99it/s, EPOCH=54, AVG_LOSS=0.56]\n",
      "100%|██████████| 1/1 [00:00<00:00, 43.47it/s]\n"
     ]
    },
    {
     "name": "stdout",
     "output_type": "stream",
     "text": [
      "Accuracy: 0.6770126091173618\n",
      "Precision: 0.6767647748592871\n",
      "Recall: 0.6710368067531995\n",
      "f1_score: 0.6712929585960277\n"
     ]
    },
    {
     "name": "stderr",
     "output_type": "stream",
     "text": [
      "100%|██████████| 1/1 [00:00<00:00, 46.49it/s, EPOCH=55, AVG_LOSS=0.559]\n",
      "100%|██████████| 1/1 [00:00<00:00, 42.53it/s]\n"
     ]
    },
    {
     "name": "stdout",
     "output_type": "stream",
     "text": [
      "Accuracy: 0.6741028128031038\n",
      "Precision: 0.6739403841181034\n",
      "Recall: 0.6679052827448488\n",
      "f1_score: 0.6680694492353685\n"
     ]
    },
    {
     "name": "stderr",
     "output_type": "stream",
     "text": [
      "100%|██████████| 1/1 [00:00<00:00, 47.61it/s, EPOCH=56, AVG_LOSS=0.558]\n",
      "100%|██████████| 1/1 [00:00<00:00, 41.66it/s]\n"
     ]
    },
    {
     "name": "stdout",
     "output_type": "stream",
     "text": [
      "Accuracy: 0.6789524733268671\n",
      "Precision: 0.6789181719243026\n",
      "Recall: 0.6728484009560982\n",
      "f1_score: 0.6730956579881351\n"
     ]
    },
    {
     "name": "stderr",
     "output_type": "stream",
     "text": [
      "100%|██████████| 1/1 [00:00<00:00, 47.61it/s, EPOCH=57, AVG_LOSS=0.557]\n",
      "100%|██████████| 1/1 [00:00<00:00, 43.47it/s]\n"
     ]
    },
    {
     "name": "stdout",
     "output_type": "stream",
     "text": [
      "Accuracy: 0.6838021338506305\n",
      "Precision: 0.6838894539195743\n",
      "Recall: 0.6777915191673474\n",
      "f1_score: 0.6781185835555147\n"
     ]
    },
    {
     "name": "stderr",
     "output_type": "stream",
     "text": [
      "100%|██████████| 1/1 [00:00<00:00, 13.40it/s, EPOCH=58, AVG_LOSS=0.556]\n",
      "100%|██████████| 1/1 [00:00<00:00, 13.05it/s]\n"
     ]
    },
    {
     "name": "stdout",
     "output_type": "stream",
     "text": [
      "Accuracy: 0.6828322017458778\n",
      "Precision: 0.6824119253846334\n",
      "Recall: 0.6772998547699011\n",
      "f1_score: 0.6777080877692601\n"
     ]
    },
    {
     "name": "stderr",
     "output_type": "stream",
     "text": [
      "100%|██████████| 1/1 [00:00<00:00, 43.47it/s, EPOCH=59, AVG_LOSS=0.556]\n",
      "100%|██████████| 1/1 [00:00<00:00, 39.99it/s]\n"
     ]
    },
    {
     "name": "stdout",
     "output_type": "stream",
     "text": [
      "Accuracy: 0.6799224054316197\n",
      "Precision: 0.679856438741981\n",
      "Recall: 0.6738922422922151\n",
      "f1_score: 0.674169118323067\n"
     ]
    },
    {
     "name": "stderr",
     "output_type": "stream",
     "text": [
      "100%|██████████| 1/1 [00:00<00:00, 45.44it/s, EPOCH=60, AVG_LOSS=0.555]\n",
      "100%|██████████| 1/1 [00:00<00:00, 41.66it/s]\n"
     ]
    },
    {
     "name": "stdout",
     "output_type": "stream",
     "text": [
      "Accuracy: 0.6789524733268671\n",
      "Precision: 0.6792133066258199\n",
      "Recall: 0.6725723124867629\n",
      "f1_score: 0.6727445514323498\n"
     ]
    },
    {
     "name": "stderr",
     "output_type": "stream",
     "text": [
      "100%|██████████| 1/1 [00:00<00:00, 47.61it/s, EPOCH=61, AVG_LOSS=0.554]\n",
      "100%|██████████| 1/1 [00:00<00:00, 43.47it/s]\n"
     ]
    },
    {
     "name": "stdout",
     "output_type": "stream",
     "text": [
      "Accuracy: 0.6770126091173618\n",
      "Precision: 0.6770413444798218\n",
      "Recall: 0.6707607182838644\n",
      "f1_score: 0.6709451474609458\n"
     ]
    },
    {
     "name": "stderr",
     "output_type": "stream",
     "text": [
      "100%|██████████| 1/1 [00:00<00:00, 45.44it/s, EPOCH=62, AVG_LOSS=0.553]\n",
      "100%|██████████| 1/1 [00:00<00:00, 41.65it/s]\n"
     ]
    },
    {
     "name": "stdout",
     "output_type": "stream",
     "text": [
      "Accuracy: 0.6789524733268671\n",
      "Precision: 0.6787797060662915\n",
      "Recall: 0.6729864451907658\n",
      "f1_score: 0.6732671750609163\n"
     ]
    },
    {
     "name": "stderr",
     "output_type": "stream",
     "text": [
      "100%|██████████| 1/1 [00:00<00:00, 45.44it/s, EPOCH=63, AVG_LOSS=0.552]\n",
      "100%|██████████| 1/1 [00:00<00:00, 43.47it/s]\n"
     ]
    },
    {
     "name": "stdout",
     "output_type": "stream",
     "text": [
      "Accuracy: 0.6779825412221144\n",
      "Precision: 0.6779798146015029\n",
      "Recall: 0.6718045596199813\n",
      "f1_score: 0.6720210034111378\n"
     ]
    },
    {
     "name": "stderr",
     "output_type": "stream",
     "text": [
      "100%|██████████| 1/1 [00:00<00:00, 13.79it/s, EPOCH=64, AVG_LOSS=0.551]\n",
      "100%|██████████| 1/1 [00:00<00:00, 13.42it/s]\n"
     ]
    },
    {
     "name": "stdout",
     "output_type": "stream",
     "text": [
      "Accuracy: 0.6828322017458778\n",
      "Precision: 0.6829543764044503\n",
      "Recall: 0.6767476778312305\n",
      "f1_score: 0.677046163631783\n"
     ]
    },
    {
     "name": "stderr",
     "output_type": "stream",
     "text": [
      "100%|██████████| 1/1 [00:00<00:00, 43.47it/s, EPOCH=65, AVG_LOSS=0.55]\n",
      "100%|██████████| 1/1 [00:00<00:00, 39.99it/s]\n"
     ]
    },
    {
     "name": "stdout",
     "output_type": "stream",
     "text": [
      "Accuracy: 0.6857419980601358\n",
      "Precision: 0.6859059615083711\n",
      "Recall: 0.6797411576049136\n",
      "f1_score: 0.6800933161717385\n"
     ]
    },
    {
     "name": "stderr",
     "output_type": "stream",
     "text": [
      "100%|██████████| 1/1 [00:00<00:00, 45.44it/s, EPOCH=66, AVG_LOSS=0.549]\n",
      "100%|██████████| 1/1 [00:00<00:00, 43.47it/s]\n"
     ]
    },
    {
     "name": "stdout",
     "output_type": "stream",
     "text": [
      "Accuracy: 0.6828322017458778\n",
      "Precision: 0.6832626369741959\n",
      "Recall: 0.6764715893618952\n",
      "f1_score: 0.6766993000555238\n"
     ]
    },
    {
     "name": "stderr",
     "output_type": "stream",
     "text": [
      "100%|██████████| 1/1 [00:00<00:00, 46.49it/s, EPOCH=67, AVG_LOSS=0.549]\n",
      "100%|██████████| 1/1 [00:00<00:00, 44.43it/s]\n"
     ]
    },
    {
     "name": "stdout",
     "output_type": "stream",
     "text": [
      "Accuracy: 0.6847720659553831\n",
      "Precision: 0.6845471903982543\n",
      "Recall: 0.6791114489727996\n",
      "f1_score: 0.6795187544773643\n"
     ]
    },
    {
     "name": "stderr",
     "output_type": "stream",
     "text": [
      "100%|██████████| 1/1 [00:00<00:00, 45.44it/s, EPOCH=68, AVG_LOSS=0.548]\n",
      "100%|██████████| 1/1 [00:00<00:00, 43.47it/s]\n"
     ]
    },
    {
     "name": "stdout",
     "output_type": "stream",
     "text": [
      "Accuracy: 0.6799224054316197\n",
      "Precision: 0.678837078174361\n",
      "Recall: 0.6751346404042238\n",
      "f1_score: 0.6756006864988559\n"
     ]
    },
    {
     "name": "stderr",
     "output_type": "stream",
     "text": [
      "100%|██████████| 1/1 [00:00<00:00, 47.61it/s, EPOCH=69, AVG_LOSS=0.547]\n",
      "100%|██████████| 1/1 [00:00<00:00, 43.47it/s]\n"
     ]
    },
    {
     "name": "stdout",
     "output_type": "stream",
     "text": [
      "Accuracy: 0.6828322017458778\n",
      "Precision: 0.6820686288185243\n",
      "Recall: 0.677713987473904\n",
      "f1_score: 0.678176949841779\n"
     ]
    },
    {
     "name": "stderr",
     "output_type": "stream",
     "text": [
      "100%|██████████| 1/1 [00:00<00:00, 45.44it/s, EPOCH=70, AVG_LOSS=0.547]\n",
      "100%|██████████| 1/1 [00:00<00:00, 41.66it/s]\n"
     ]
    },
    {
     "name": "stdout",
     "output_type": "stream",
     "text": [
      "Accuracy: 0.6847720659553831\n",
      "Precision: 0.6844177775702536\n",
      "Recall: 0.6792494932074673\n",
      "f1_score: 0.6796792921254114\n"
     ]
    },
    {
     "name": "stderr",
     "output_type": "stream",
     "text": [
      "100%|██████████| 1/1 [00:00<00:00, 45.44it/s, EPOCH=71, AVG_LOSS=0.546]\n",
      "100%|██████████| 1/1 [00:00<00:00, 41.65it/s]"
     ]
    },
    {
     "name": "stdout",
     "output_type": "stream",
     "text": [
      "Accuracy: 0.6808923375363725\n",
      "Precision: 0.6805295768061725\n",
      "Recall: 0.6752121720976673\n",
      "f1_score: 0.6755743699170857\n"
     ]
    },
    {
     "name": "stderr",
     "output_type": "stream",
     "text": [
      "\n",
      "100%|██████████| 1/1 [00:00<00:00, 47.61it/s, EPOCH=72, AVG_LOSS=0.545]\n",
      "100%|██████████| 1/1 [00:00<00:00, 43.47it/s]\n"
     ]
    },
    {
     "name": "stdout",
     "output_type": "stream",
     "text": [
      "Accuracy: 0.6808923375363725\n",
      "Precision: 0.6807946372732958\n",
      "Recall: 0.674936083628332\n",
      "f1_score: 0.6752413915258051\n"
     ]
    },
    {
     "name": "stderr",
     "output_type": "stream",
     "text": [
      "100%|██████████| 1/1 [00:00<00:00, 45.44it/s, EPOCH=73, AVG_LOSS=0.544]\n",
      "100%|██████████| 1/1 [00:00<00:00, 43.47it/s]\n"
     ]
    },
    {
     "name": "stdout",
     "output_type": "stream",
     "text": [
      "Accuracy: 0.6779825412221144\n",
      "Precision: 0.6779798146015029\n",
      "Recall: 0.6718045596199813\n",
      "f1_score: 0.6720210034111378\n"
     ]
    },
    {
     "name": "stderr",
     "output_type": "stream",
     "text": [
      "100%|██████████| 1/1 [00:00<00:00, 13.42it/s, EPOCH=74, AVG_LOSS=0.543]\n",
      "100%|██████████| 1/1 [00:00<00:00, 13.24it/s]\n"
     ]
    },
    {
     "name": "stdout",
     "output_type": "stream",
     "text": [
      "Accuracy: 0.6789524733268671\n",
      "Precision: 0.6787797060662915\n",
      "Recall: 0.6729864451907658\n",
      "f1_score: 0.6732671750609163\n"
     ]
    },
    {
     "name": "stderr",
     "output_type": "stream",
     "text": [
      "100%|██████████| 1/1 [00:00<00:00, 45.45it/s, EPOCH=75, AVG_LOSS=0.542]\n",
      "100%|██████████| 1/1 [00:00<00:00, 41.66it/s]"
     ]
    },
    {
     "name": "stdout",
     "output_type": "stream",
     "text": [
      "Accuracy: 0.6770126091173618\n",
      "Precision: 0.6760763937322732\n",
      "Recall: 0.6718650721612054\n",
      "f1_score: 0.6722719397471326\n"
     ]
    },
    {
     "name": "stderr",
     "output_type": "stream",
     "text": [
      "\n",
      "100%|██████████| 1/1 [00:00<00:00, 47.42it/s, EPOCH=76, AVG_LOSS=0.542]\n",
      "100%|██████████| 1/1 [00:00<00:00, 43.31it/s]\n"
     ]
    },
    {
     "name": "stdout",
     "output_type": "stream",
     "text": [
      "Accuracy: 0.6750727449078564\n",
      "Precision: 0.6743885166421528\n",
      "Recall: 0.6695013010196363\n",
      "f1_score: 0.6698232703446547\n"
     ]
    },
    {
     "name": "stderr",
     "output_type": "stream",
     "text": [
      "100%|██████████| 1/1 [00:00<00:00, 47.61it/s, EPOCH=77, AVG_LOSS=0.541]\n",
      "100%|██████████| 1/1 [00:00<00:00, 43.47it/s]\n"
     ]
    },
    {
     "name": "stdout",
     "output_type": "stream",
     "text": [
      "Accuracy: 0.6750727449078564\n",
      "Precision: 0.6741764637411245\n",
      "Recall: 0.6697773894889716\n",
      "f1_score: 0.6701461676941223\n"
     ]
    },
    {
     "name": "stderr",
     "output_type": "stream",
     "text": [
      "100%|██████████| 1/1 [00:00<00:00, 45.45it/s, EPOCH=78, AVG_LOSS=0.54]\n",
      "100%|██████████| 1/1 [00:00<00:00, 41.65it/s]\n"
     ]
    },
    {
     "name": "stdout",
     "output_type": "stream",
     "text": [
      "Accuracy: 0.6808923375363725\n",
      "Precision: 0.6806590850550669\n",
      "Recall: 0.6750741278629997\n",
      "f1_score: 0.67540920856838\n"
     ]
    },
    {
     "name": "stderr",
     "output_type": "stream",
     "text": [
      "100%|██████████| 1/1 [00:00<00:00, 44.43it/s, EPOCH=79, AVG_LOSS=0.539]\n",
      "100%|██████████| 1/1 [00:00<00:00, 39.20it/s]\n"
     ]
    },
    {
     "name": "stdout",
     "output_type": "stream",
     "text": [
      "Accuracy: 0.6799224054316197\n",
      "Precision: 0.6799995298432027\n",
      "Recall: 0.6737541980575474\n",
      "f1_score: 0.6739967804990228\n"
     ]
    },
    {
     "name": "stderr",
     "output_type": "stream",
     "text": [
      "100%|██████████| 1/1 [00:00<00:00, 13.42it/s, EPOCH=80, AVG_LOSS=0.539]\n",
      "100%|██████████| 1/1 [00:00<00:00, 12.90it/s]\n"
     ]
    },
    {
     "name": "stdout",
     "output_type": "stream",
     "text": [
      "Accuracy: 0.6789524733268671\n",
      "Precision: 0.6789181719243026\n",
      "Recall: 0.6728484009560982\n",
      "f1_score: 0.6730956579881351\n"
     ]
    },
    {
     "name": "stderr",
     "output_type": "stream",
     "text": [
      "100%|██████████| 1/1 [00:00<00:00, 43.47it/s, EPOCH=81, AVG_LOSS=0.538]\n",
      "100%|██████████| 1/1 [00:00<00:00, 39.99it/s]\n"
     ]
    },
    {
     "name": "stdout",
     "output_type": "stream",
     "text": [
      "Accuracy: 0.6808923375363725\n",
      "Precision: 0.6807946372732958\n",
      "Recall: 0.674936083628332\n",
      "f1_score: 0.6752413915258051\n"
     ]
    },
    {
     "name": "stderr",
     "output_type": "stream",
     "text": [
      "100%|██████████| 1/1 [00:00<00:00, 43.47it/s, EPOCH=82, AVG_LOSS=0.537]\n",
      "100%|██████████| 1/1 [00:00<00:00, 39.99it/s]\n"
     ]
    },
    {
     "name": "stdout",
     "output_type": "stream",
     "text": [
      "Accuracy: 0.6789524733268671\n",
      "Precision: 0.678400221013393\n",
      "Recall: 0.6734005778947687\n",
      "f1_score: 0.6737656790569575\n"
     ]
    },
    {
     "name": "stderr",
     "output_type": "stream",
     "text": [
      "100%|██████████| 1/1 [00:00<00:00, 47.49it/s, EPOCH=83, AVG_LOSS=0.537]\n",
      "100%|██████████| 1/1 [00:00<00:00, 43.37it/s]"
     ]
    },
    {
     "name": "stdout",
     "output_type": "stream",
     "text": [
      "Accuracy: 0.6789524733268671\n",
      "Precision: 0.678647252121108\n",
      "Recall: 0.6731244894254335\n",
      "f1_score: 0.673436012267884\n"
     ]
    },
    {
     "name": "stderr",
     "output_type": "stream",
     "text": [
      "\n",
      "100%|██████████| 1/1 [00:00<00:00, 45.45it/s, EPOCH=84, AVG_LOSS=0.536]\n",
      "100%|██████████| 1/1 [00:00<00:00, 41.66it/s]\n"
     ]
    },
    {
     "name": "stdout",
     "output_type": "stream",
     "text": [
      "Accuracy: 0.6789524733268671\n",
      "Precision: 0.678647252121108\n",
      "Recall: 0.6731244894254335\n",
      "f1_score: 0.673436012267884\n"
     ]
    },
    {
     "name": "stderr",
     "output_type": "stream",
     "text": [
      "100%|██████████| 1/1 [00:00<00:00, 47.61it/s, EPOCH=85, AVG_LOSS=0.535]\n",
      "100%|██████████| 1/1 [00:00<00:00, 43.47it/s]\n"
     ]
    },
    {
     "name": "stdout",
     "output_type": "stream",
     "text": [
      "Accuracy: 0.6789524733268671\n",
      "Precision: 0.678647252121108\n",
      "Recall: 0.6731244894254335\n",
      "f1_score: 0.673436012267884\n"
     ]
    },
    {
     "name": "stderr",
     "output_type": "stream",
     "text": [
      "100%|██████████| 1/1 [00:00<00:00, 13.42it/s, EPOCH=86, AVG_LOSS=0.535]\n",
      "100%|██████████| 1/1 [00:00<00:00, 13.07it/s]\n"
     ]
    },
    {
     "name": "stdout",
     "output_type": "stream",
     "text": [
      "Accuracy: 0.6779825412221144\n",
      "Precision: 0.6775781115946777\n",
      "Recall: 0.6722186923239841\n",
      "f1_score: 0.6725330822981961\n"
     ]
    },
    {
     "name": "stderr",
     "output_type": "stream",
     "text": [
      "100%|██████████| 1/1 [00:00<00:00, 45.44it/s, EPOCH=87, AVG_LOSS=0.534]\n",
      "100%|██████████| 1/1 [00:00<00:00, 41.66it/s]"
     ]
    },
    {
     "name": "stdout",
     "output_type": "stream",
     "text": [
      "Accuracy: 0.6750727449078564\n",
      "Precision: 0.6743885166421528\n",
      "Recall: 0.6695013010196363\n",
      "f1_score: 0.6698232703446547\n"
     ]
    },
    {
     "name": "stderr",
     "output_type": "stream",
     "text": [
      "\n",
      "100%|██████████| 1/1 [00:00<00:00, 45.44it/s, EPOCH=88, AVG_LOSS=0.533]\n",
      "100%|██████████| 1/1 [00:00<00:00, 41.66it/s]\n"
     ]
    },
    {
     "name": "stdout",
     "output_type": "stream",
     "text": [
      "Accuracy: 0.6711930164888458\n",
      "Precision: 0.6705999203852728\n",
      "Recall: 0.6653259356751686\n",
      "f1_score: 0.6655432270658992\n"
     ]
    },
    {
     "name": "stderr",
     "output_type": "stream",
     "text": [
      "100%|██████████| 1/1 [00:00<00:00, 45.45it/s, EPOCH=89, AVG_LOSS=0.533]\n",
      "100%|██████████| 1/1 [00:00<00:00, 41.66it/s]\n"
     ]
    },
    {
     "name": "stdout",
     "output_type": "stream",
     "text": [
      "Accuracy: 0.6721629485935985\n",
      "Precision: 0.6715471789352176\n",
      "Recall: 0.6663697770112855\n",
      "f1_score: 0.6666150054722599\n"
     ]
    },
    {
     "name": "stderr",
     "output_type": "stream",
     "text": [
      "100%|██████████| 1/1 [00:00<00:00, 45.44it/s, EPOCH=90, AVG_LOSS=0.532]\n",
      "100%|██████████| 1/1 [00:00<00:00, 41.65it/s]\n"
     ]
    },
    {
     "name": "stdout",
     "output_type": "stream",
     "text": [
      "Accuracy: 0.6721629485935985\n",
      "Precision: 0.6714341341848059\n",
      "Recall: 0.6665078212459532\n",
      "f1_score: 0.6667833237712755\n"
     ]
    },
    {
     "name": "stderr",
     "output_type": "stream",
     "text": [
      "100%|██████████| 1/1 [00:00<00:00, 45.44it/s, EPOCH=91, AVG_LOSS=0.532]\n",
      "100%|██████████| 1/1 [00:00<00:00, 41.66it/s]\n"
     ]
    },
    {
     "name": "stdout",
     "output_type": "stream",
     "text": [
      "Accuracy: 0.6731328806983511\n",
      "Precision: 0.6723826644565327\n",
      "Recall: 0.6675516625820701\n",
      "f1_score: 0.6678520659885036\n"
     ]
    },
    {
     "name": "stderr",
     "output_type": "stream",
     "text": [
      "100%|██████████| 1/1 [00:00<00:00, 44.42it/s, EPOCH=92, AVG_LOSS=0.531]\n",
      "100%|██████████| 1/1 [00:00<00:00, 42.53it/s]\n"
     ]
    },
    {
     "name": "stdout",
     "output_type": "stream",
     "text": [
      "Accuracy: 0.6741028128031038\n",
      "Precision: 0.6738069159755906\n",
      "Recall: 0.6680433269795165\n",
      "f1_score: 0.6682449204743955\n"
     ]
    },
    {
     "name": "stderr",
     "output_type": "stream",
     "text": [
      "100%|██████████| 1/1 [00:00<00:00, 45.44it/s, EPOCH=93, AVG_LOSS=0.53]\n",
      "100%|██████████| 1/1 [00:00<00:00, 41.66it/s]\n"
     ]
    },
    {
     "name": "stdout",
     "output_type": "stream",
     "text": [
      "Accuracy: 0.6750727449078564\n",
      "Precision: 0.6742796307233223\n",
      "Recall: 0.6696393452543039\n",
      "f1_score: 0.6699860593152724\n"
     ]
    },
    {
     "name": "stderr",
     "output_type": "stream",
     "text": [
      "100%|██████████| 1/1 [00:00<00:00, 45.45it/s, EPOCH=94, AVG_LOSS=0.53]\n",
      "100%|██████████| 1/1 [00:00<00:00, 41.66it/s]\n"
     ]
    },
    {
     "name": "stdout",
     "output_type": "stream",
     "text": [
      "Accuracy: 0.6711930164888458\n",
      "Precision: 0.6701761533387653\n",
      "Recall: 0.6658781126138392\n",
      "f1_score: 0.6662076144725595\n"
     ]
    },
    {
     "name": "stderr",
     "output_type": "stream",
     "text": [
      "100%|██████████| 1/1 [00:00<00:00, 46.49it/s, EPOCH=95, AVG_LOSS=0.529]\n",
      "100%|██████████| 1/1 [00:00<00:00, 42.53it/s]\n"
     ]
    },
    {
     "name": "stdout",
     "output_type": "stream",
     "text": [
      "Accuracy: 0.6702230843840931\n",
      "Precision: 0.6693223528679855\n",
      "Recall: 0.6646962270430546\n",
      "f1_score: 0.6649782093432219\n"
     ]
    },
    {
     "name": "stderr",
     "output_type": "stream",
     "text": [
      "100%|██████████| 1/1 [00:00<00:00, 13.07it/s, EPOCH=96, AVG_LOSS=0.529]\n",
      "100%|██████████| 1/1 [00:00<00:00, 12.73it/s]\n"
     ]
    },
    {
     "name": "stdout",
     "output_type": "stream",
     "text": [
      "Accuracy: 0.6721629485935985\n",
      "Precision: 0.6711288521488282\n",
      "Recall: 0.6669219539499561\n",
      "f1_score: 0.6672720120381616\n"
     ]
    },
    {
     "name": "stderr",
     "output_type": "stream",
     "text": [
      "100%|██████████| 1/1 [00:00<00:00, 43.47it/s, EPOCH=97, AVG_LOSS=0.528]\n",
      "100%|██████████| 1/1 [00:00<00:00, 39.99it/s]\n"
     ]
    },
    {
     "name": "stdout",
     "output_type": "stream",
     "text": [
      "Accuracy: 0.6770126091173618\n",
      "Precision: 0.6766354191871493\n",
      "Recall: 0.6711748509878672\n",
      "f1_score: 0.6714628159673878\n"
     ]
    },
    {
     "name": "stderr",
     "output_type": "stream",
     "text": [
      "100%|██████████| 1/1 [00:00<00:00, 43.47it/s, EPOCH=98, AVG_LOSS=0.527]\n",
      "100%|██████████| 1/1 [00:00<00:00, 41.66it/s]\n"
     ]
    },
    {
     "name": "stdout",
     "output_type": "stream",
     "text": [
      "Accuracy: 0.6750727449078564\n",
      "Precision: 0.67450315641805\n",
      "Recall: 0.6693632567849687\n",
      "f1_score: 0.6696577930766678\n"
     ]
    },
    {
     "name": "stderr",
     "output_type": "stream",
     "text": [
      "100%|██████████| 1/1 [00:00<00:00, 44.42it/s, EPOCH=99, AVG_LOSS=0.527]\n",
      "100%|██████████| 1/1 [00:00<00:00, 40.80it/s]\n"
     ]
    },
    {
     "name": "stdout",
     "output_type": "stream",
     "text": [
      "Accuracy: 0.6741028128031038\n",
      "Precision: 0.6730343300110742\n",
      "Recall: 0.6690096366221899\n",
      "f1_score: 0.6693973843135159\n"
     ]
    },
    {
     "name": "stderr",
     "output_type": "stream",
     "text": [
      "100%|██████████| 1/1 [00:00<00:00, 43.47it/s, EPOCH=100, AVG_LOSS=0.526]\n",
      "100%|██████████| 1/1 [00:00<00:00, 41.66it/s]\n"
     ]
    },
    {
     "name": "stdout",
     "output_type": "stream",
     "text": [
      "Accuracy: 0.6760426770126091\n",
      "Precision: 0.675448775359215\n",
      "Recall: 0.6704070981210857\n",
      "f1_score: 0.6707267163893671\n"
     ]
    },
    {
     "name": "stderr",
     "output_type": "stream",
     "text": [
      "100%|██████████| 1/1 [00:00<00:00, 45.45it/s, EPOCH=101, AVG_LOSS=0.526]\n",
      "100%|██████████| 1/1 [00:00<00:00, 41.66it/s]\n"
     ]
    },
    {
     "name": "stdout",
     "output_type": "stream",
     "text": [
      "Accuracy: 0.6750727449078564\n",
      "Precision: 0.6743885166421528\n",
      "Recall: 0.6695013010196363\n",
      "f1_score: 0.6698232703446547\n"
     ]
    },
    {
     "name": "stderr",
     "output_type": "stream",
     "text": [
      "100%|██████████| 1/1 [00:00<00:00, 13.79it/s, EPOCH=102, AVG_LOSS=0.525]\n",
      "100%|██████████| 1/1 [00:00<00:00, 13.42it/s]\n"
     ]
    },
    {
     "name": "stdout",
     "output_type": "stream",
     "text": [
      "Accuracy: 0.6741028128031038\n",
      "Precision: 0.6733311559039443\n",
      "Recall: 0.668595503918187\n",
      "f1_score: 0.6689196421744782\n"
     ]
    },
    {
     "name": "stderr",
     "output_type": "stream",
     "text": [
      "100%|██████████| 1/1 [00:00<00:00, 45.44it/s, EPOCH=103, AVG_LOSS=0.524]\n",
      "100%|██████████| 1/1 [00:00<00:00, 41.66it/s]\n"
     ]
    },
    {
     "name": "stdout",
     "output_type": "stream",
     "text": [
      "Accuracy: 0.6702230843840931\n",
      "Precision: 0.6694268135976014\n",
      "Recall: 0.6645581828083871\n",
      "f1_score: 0.6648116274622299\n"
     ]
    },
    {
     "name": "stderr",
     "output_type": "stream",
     "text": [
      "100%|██████████| 1/1 [00:00<00:00, 45.45it/s, EPOCH=104, AVG_LOSS=0.524]\n",
      "100%|██████████| 1/1 [00:00<00:00, 41.66it/s]"
     ]
    },
    {
     "name": "stdout",
     "output_type": "stream",
     "text": [
      "Accuracy: 0.6741028128031038\n",
      "Precision: 0.6735574898217044\n",
      "Recall: 0.6683194154488518\n",
      "f1_score: 0.6685876977475719\n"
     ]
    },
    {
     "name": "stderr",
     "output_type": "stream",
     "text": [
      "\n",
      "100%|██████████| 1/1 [00:00<00:00, 45.44it/s, EPOCH=105, AVG_LOSS=0.523]\n",
      "100%|██████████| 1/1 [00:00<00:00, 41.66it/s]\n"
     ]
    },
    {
     "name": "stdout",
     "output_type": "stream",
     "text": [
      "Accuracy: 0.6741028128031038\n",
      "Precision: 0.6734414547720105\n",
      "Recall: 0.6684574596835193\n",
      "f1_score: 0.6687550200803212\n"
     ]
    },
    {
     "name": "stderr",
     "output_type": "stream",
     "text": [
      "100%|██████████| 1/1 [00:00<00:00, 45.44it/s, EPOCH=106, AVG_LOSS=0.523]\n",
      "100%|██████████| 1/1 [00:00<00:00, 40.79it/s]\n"
     ]
    },
    {
     "name": "stdout",
     "output_type": "stream",
     "text": [
      "Accuracy: 0.6741028128031038\n",
      "Precision: 0.6735574898217044\n",
      "Recall: 0.6683194154488518\n",
      "f1_score: 0.6685876977475719\n"
     ]
    },
    {
     "name": "stderr",
     "output_type": "stream",
     "text": [
      "100%|██████████| 1/1 [00:00<00:00, 45.44it/s, EPOCH=107, AVG_LOSS=0.522]\n",
      "100%|██████████| 1/1 [00:00<00:00, 41.65it/s]\n"
     ]
    },
    {
     "name": "stdout",
     "output_type": "stream",
     "text": [
      "Accuracy: 0.6750727449078564\n",
      "Precision: 0.67450315641805\n",
      "Recall: 0.6693632567849687\n",
      "f1_score: 0.6696577930766678\n"
     ]
    },
    {
     "name": "stderr",
     "output_type": "stream",
     "text": [
      "100%|██████████| 1/1 [00:00<00:00, 12.90it/s, EPOCH=108, AVG_LOSS=0.522]\n",
      "100%|██████████| 1/1 [00:00<00:00, 12.58it/s]\n"
     ]
    },
    {
     "name": "stdout",
     "output_type": "stream",
     "text": [
      "Accuracy: 0.6750727449078564\n",
      "Precision: 0.6739871531942886\n",
      "Recall: 0.6700534779583068\n",
      "f1_score: 0.6704583728103947\n"
     ]
    },
    {
     "name": "stderr",
     "output_type": "stream",
     "text": [
      "100%|██████████| 1/1 [00:00<00:00, 43.47it/s, EPOCH=109, AVG_LOSS=0.521]\n",
      "100%|██████████| 1/1 [00:00<00:00, 39.99it/s]\n"
     ]
    },
    {
     "name": "stdout",
     "output_type": "stream",
     "text": [
      "Accuracy: 0.6760426770126091\n",
      "Precision: 0.6751264016626084\n",
      "Recall: 0.6708212308250885\n",
      "f1_score: 0.6712096213631538\n"
     ]
    },
    {
     "name": "stderr",
     "output_type": "stream",
     "text": [
      "100%|██████████| 1/1 [00:00<00:00, 45.44it/s, EPOCH=110, AVG_LOSS=0.521]\n",
      "100%|██████████| 1/1 [00:00<00:00, 43.47it/s]\n"
     ]
    },
    {
     "name": "stdout",
     "output_type": "stream",
     "text": [
      "Accuracy: 0.6760426770126091\n",
      "Precision: 0.675567800708191\n",
      "Recall: 0.670269053886418\n",
      "f1_score: 0.670560390022884\n"
     ]
    },
    {
     "name": "stderr",
     "output_type": "stream",
     "text": [
      "100%|██████████| 1/1 [00:00<00:00, 43.47it/s, EPOCH=111, AVG_LOSS=0.52]\n",
      "100%|██████████| 1/1 [00:00<00:00, 39.99it/s]\n"
     ]
    },
    {
     "name": "stdout",
     "output_type": "stream",
     "text": [
      "Accuracy: 0.6750727449078564\n",
      "Precision: 0.6740789820368562\n",
      "Recall: 0.6699154337236393\n",
      "f1_score: 0.6703036030489173\n"
     ]
    },
    {
     "name": "stderr",
     "output_type": "stream",
     "text": [
      "100%|██████████| 1/1 [00:00<00:00, 45.45it/s, EPOCH=112, AVG_LOSS=0.52]\n",
      "100%|██████████| 1/1 [00:00<00:00, 41.66it/s]\n"
     ]
    },
    {
     "name": "stdout",
     "output_type": "stream",
     "text": [
      "Accuracy: 0.6750727449078564\n",
      "Precision: 0.6741764637411245\n",
      "Recall: 0.6697773894889716\n",
      "f1_score: 0.6701461676941223\n"
     ]
    },
    {
     "name": "stderr",
     "output_type": "stream",
     "text": [
      "100%|██████████| 1/1 [00:00<00:00, 45.44it/s, EPOCH=113, AVG_LOSS=0.519]\n",
      "100%|██████████| 1/1 [00:00<00:00, 41.66it/s]\n"
     ]
    },
    {
     "name": "stdout",
     "output_type": "stream",
     "text": [
      "Accuracy: 0.6789524733268671\n",
      "Precision: 0.678647252121108\n",
      "Recall: 0.6731244894254335\n",
      "f1_score: 0.673436012267884\n"
     ]
    },
    {
     "name": "stderr",
     "output_type": "stream",
     "text": [
      "100%|██████████| 1/1 [00:00<00:00, 45.44it/s, EPOCH=114, AVG_LOSS=0.519]\n",
      "100%|██████████| 1/1 [00:00<00:00, 41.66it/s]\n"
     ]
    },
    {
     "name": "stdout",
     "output_type": "stream",
     "text": [
      "Accuracy: 0.6770126091173618\n",
      "Precision: 0.6760763937322732\n",
      "Recall: 0.6718650721612054\n",
      "f1_score: 0.6722719397471326\n"
     ]
    },
    {
     "name": "stderr",
     "output_type": "stream",
     "text": [
      "100%|██████████| 1/1 [00:00<00:00, 36.35it/s, EPOCH=115, AVG_LOSS=0.519]\n",
      "100%|██████████| 1/1 [00:00<00:00, 35.07it/s]\n"
     ]
    },
    {
     "name": "stdout",
     "output_type": "stream",
     "text": [
      "Accuracy: 0.6770126091173618\n",
      "Precision: 0.6759818906473707\n",
      "Recall: 0.6720031163958731\n",
      "f1_score: 0.6724257855100341\n"
     ]
    },
    {
     "name": "stderr",
     "output_type": "stream",
     "text": [
      "100%|██████████| 1/1 [00:00<00:00, 47.61it/s, EPOCH=116, AVG_LOSS=0.518]\n",
      "100%|██████████| 1/1 [00:00<00:00, 43.47it/s]\n"
     ]
    },
    {
     "name": "stdout",
     "output_type": "stream",
     "text": [
      "Accuracy: 0.6770126091173618\n",
      "Precision: 0.6762825992353362\n",
      "Recall: 0.6715889836918701\n",
      "f1_score: 0.6719562917969724\n"
     ]
    },
    {
     "name": "stderr",
     "output_type": "stream",
     "text": [
      "100%|██████████| 1/1 [00:00<00:00, 45.44it/s, EPOCH=117, AVG_LOSS=0.518]\n",
      "100%|██████████| 1/1 [00:00<00:00, 41.66it/s]\n"
     ]
    },
    {
     "name": "stdout",
     "output_type": "stream",
     "text": [
      "Accuracy: 0.6731328806983511\n",
      "Precision: 0.6722766622113083\n",
      "Recall: 0.6676897068167378\n",
      "f1_score: 0.6680158268335726\n"
     ]
    },
    {
     "name": "stderr",
     "output_type": "stream",
     "text": [
      "100%|██████████| 1/1 [00:00<00:00, 12.82it/s, EPOCH=118, AVG_LOSS=0.517]\n",
      "100%|██████████| 1/1 [00:00<00:00, 12.50it/s]\n"
     ]
    },
    {
     "name": "stdout",
     "output_type": "stream",
     "text": [
      "Accuracy: 0.6770126091173618\n",
      "Precision: 0.6762825992353362\n",
      "Recall: 0.6715889836918701\n",
      "f1_score: 0.6719562917969724\n"
     ]
    },
    {
     "name": "stderr",
     "output_type": "stream",
     "text": [
      "100%|██████████| 1/1 [00:00<00:00, 46.50it/s, EPOCH=119, AVG_LOSS=0.517]\n",
      "100%|██████████| 1/1 [00:00<00:00, 42.54it/s]\n"
     ]
    },
    {
     "name": "stdout",
     "output_type": "stream",
     "text": [
      "Accuracy: 0.6770126091173618\n",
      "Precision: 0.6760763937322732\n",
      "Recall: 0.6718650721612054\n",
      "f1_score: 0.6722719397471326\n"
     ]
    },
    {
     "name": "stderr",
     "output_type": "stream",
     "text": [
      "100%|██████████| 1/1 [00:00<00:00, 45.44it/s, EPOCH=120, AVG_LOSS=0.516]\n",
      "100%|██████████| 1/1 [00:00<00:00, 43.47it/s]\n"
     ]
    },
    {
     "name": "stdout",
     "output_type": "stream",
     "text": [
      "Accuracy: 0.6779825412221144\n",
      "Precision: 0.6774560959464195\n",
      "Recall: 0.6723567365586518\n",
      "f1_score: 0.6726984126984127\n"
     ]
    },
    {
     "name": "stderr",
     "output_type": "stream",
     "text": [
      "100%|██████████| 1/1 [00:00<00:00, 45.45it/s, EPOCH=121, AVG_LOSS=0.516]\n",
      "100%|██████████| 1/1 [00:00<00:00, 41.66it/s]\n"
     ]
    },
    {
     "name": "stdout",
     "output_type": "stream",
     "text": [
      "Accuracy: 0.6770126091173618\n",
      "Precision: 0.6762825992353362\n",
      "Recall: 0.6715889836918701\n",
      "f1_score: 0.6719562917969724\n"
     ]
    },
    {
     "name": "stderr",
     "output_type": "stream",
     "text": [
      "100%|██████████| 1/1 [00:00<00:00, 46.49it/s, EPOCH=122, AVG_LOSS=0.515]\n",
      "100%|██████████| 1/1 [00:00<00:00, 42.54it/s]\n"
     ]
    },
    {
     "name": "stdout",
     "output_type": "stream",
     "text": [
      "Accuracy: 0.6760426770126091\n",
      "Precision: 0.6747762863534675\n",
      "Recall: 0.6713734077637591\n",
      "f1_score: 0.6718162688035133\n"
     ]
    },
    {
     "name": "stderr",
     "output_type": "stream",
     "text": [
      "100%|██████████| 1/1 [00:00<00:00, 45.45it/s, EPOCH=123, AVG_LOSS=0.515]\n",
      "100%|██████████| 1/1 [00:00<00:00, 39.99it/s]\n"
     ]
    },
    {
     "name": "stdout",
     "output_type": "stream",
     "text": [
      "Accuracy: 0.6741028128031038\n",
      "Precision: 0.6733311559039443\n",
      "Recall: 0.668595503918187\n",
      "f1_score: 0.6689196421744782\n"
     ]
    },
    {
     "name": "stderr",
     "output_type": "stream",
     "text": [
      "100%|██████████| 1/1 [00:00<00:00, 13.24it/s, EPOCH=124, AVG_LOSS=0.514]\n",
      "100%|██████████| 1/1 [00:00<00:00, 12.90it/s]"
     ]
    },
    {
     "name": "stdout",
     "output_type": "stream",
     "text": [
      "Accuracy: 0.6741028128031038\n",
      "Precision: 0.6736792976042618\n",
      "Recall: 0.6681813712141842\n",
      "f1_score: 0.6684176672384219\n"
     ]
    },
    {
     "name": "stderr",
     "output_type": "stream",
     "text": [
      "\n",
      "100%|██████████| 1/1 [00:00<00:00, 43.47it/s, EPOCH=125, AVG_LOSS=0.514]\n",
      "100%|██████████| 1/1 [00:00<00:00, 39.99it/s]\n"
     ]
    },
    {
     "name": "stdout",
     "output_type": "stream",
     "text": [
      "Accuracy: 0.6770126091173618\n",
      "Precision: 0.6758930779694553\n",
      "Recall: 0.6721411606305406\n",
      "f1_score: 0.672576988844712\n"
     ]
    },
    {
     "name": "stderr",
     "output_type": "stream",
     "text": [
      "100%|██████████| 1/1 [00:00<00:00, 46.48it/s, EPOCH=126, AVG_LOSS=0.514]\n",
      "100%|██████████| 1/1 [00:00<00:00, 44.42it/s]\n"
     ]
    },
    {
     "name": "stdout",
     "output_type": "stream",
     "text": [
      "Accuracy: 0.6808923375363725\n",
      "Precision: 0.680288536259364\n",
      "Recall: 0.6754882605670025\n",
      "f1_score: 0.6758967567603722\n"
     ]
    },
    {
     "name": "stderr",
     "output_type": "stream",
     "text": [
      "100%|██████████| 1/1 [00:00<00:00, 45.44it/s, EPOCH=127, AVG_LOSS=0.513]\n",
      "100%|██████████| 1/1 [00:00<00:00, 43.47it/s]\n"
     ]
    },
    {
     "name": "stdout",
     "output_type": "stream",
     "text": [
      "Accuracy: 0.6770126091173618\n",
      "Precision: 0.6760763937322732\n",
      "Recall: 0.6718650721612054\n",
      "f1_score: 0.6722719397471326\n"
     ]
    },
    {
     "name": "stderr",
     "output_type": "stream",
     "text": [
      "100%|██████████| 1/1 [00:00<00:00, 45.44it/s, EPOCH=128, AVG_LOSS=0.513]\n",
      "100%|██████████| 1/1 [00:00<00:00, 41.66it/s]\n"
     ]
    },
    {
     "name": "stdout",
     "output_type": "stream",
     "text": [
      "Accuracy: 0.6741028128031038\n",
      "Precision: 0.6728645137370912\n",
      "Recall: 0.6692857250915252\n",
      "f1_score: 0.6697025171624713\n"
     ]
    },
    {
     "name": "stderr",
     "output_type": "stream",
     "text": [
      "100%|██████████| 1/1 [00:00<00:00, 44.43it/s, EPOCH=129, AVG_LOSS=0.512]\n",
      "100%|██████████| 1/1 [00:00<00:00, 40.80it/s]\n"
     ]
    },
    {
     "name": "stdout",
     "output_type": "stream",
     "text": [
      "Accuracy: 0.6789524733268671\n",
      "Precision: 0.67828556774735\n",
      "Recall: 0.6735386221294364\n",
      "f1_score: 0.6739265242786723\n"
     ]
    },
    {
     "name": "stderr",
     "output_type": "stream",
     "text": [
      "100%|██████████| 1/1 [00:00<00:00, 13.70it/s, EPOCH=130, AVG_LOSS=0.512]\n",
      "100%|██████████| 1/1 [00:00<00:00, 13.51it/s]\n"
     ]
    },
    {
     "name": "stdout",
     "output_type": "stream",
     "text": [
      "Accuracy: 0.6808923375363725\n",
      "Precision: 0.6806590850550669\n",
      "Recall: 0.6750741278629997\n",
      "f1_score: 0.67540920856838\n"
     ]
    },
    {
     "name": "stderr",
     "output_type": "stream",
     "text": [
      "100%|██████████| 1/1 [00:00<00:00, 45.45it/s, EPOCH=131, AVG_LOSS=0.512]\n",
      "100%|██████████| 1/1 [00:00<00:00, 41.66it/s]\n"
     ]
    },
    {
     "name": "stdout",
     "output_type": "stream",
     "text": [
      "Accuracy: 0.6760426770126091\n",
      "Precision: 0.6748553685495146\n",
      "Recall: 0.6712353635290913\n",
      "f1_score: 0.6716685736079329\n"
     ]
    },
    {
     "name": "stderr",
     "output_type": "stream",
     "text": [
      "100%|██████████| 1/1 [00:00<00:00, 43.47it/s, EPOCH=132, AVG_LOSS=0.512]\n",
      "100%|██████████| 1/1 [00:00<00:00, 39.99it/s]\n"
     ]
    },
    {
     "name": "stdout",
     "output_type": "stream",
     "text": [
      "Accuracy: 0.6799224054316197\n",
      "Precision: 0.6789269141531322\n",
      "Recall: 0.6749965961695561\n",
      "f1_score: 0.6754521520146521\n"
     ]
    },
    {
     "name": "stderr",
     "output_type": "stream",
     "text": [
      "100%|██████████| 1/1 [00:00<00:00, 47.60it/s, EPOCH=133, AVG_LOSS=0.511]\n",
      "100%|██████████| 1/1 [00:00<00:00, 43.47it/s]\n"
     ]
    },
    {
     "name": "stdout",
     "output_type": "stream",
     "text": [
      "Accuracy: 0.6838021338506305\n",
      "Precision: 0.6829137664346481\n",
      "Recall: 0.6788958730446886\n",
      "f1_score: 0.6793860653235654\n"
     ]
    },
    {
     "name": "stderr",
     "output_type": "stream",
     "text": [
      "100%|██████████| 1/1 [00:00<00:00, 43.47it/s, EPOCH=134, AVG_LOSS=0.511]\n",
      "100%|██████████| 1/1 [00:00<00:00, 41.66it/s]\n"
     ]
    },
    {
     "name": "stdout",
     "output_type": "stream",
     "text": [
      "Accuracy: 0.6828322017458778\n",
      "Precision: 0.6820686288185243\n",
      "Recall: 0.677713987473904\n",
      "f1_score: 0.678176949841779\n"
     ]
    },
    {
     "name": "stderr",
     "output_type": "stream",
     "text": [
      "100%|██████████| 1/1 [00:00<00:00, 45.44it/s, EPOCH=135, AVG_LOSS=0.51]\n",
      "100%|██████████| 1/1 [00:00<00:00, 41.66it/s]\n"
     ]
    },
    {
     "name": "stdout",
     "output_type": "stream",
     "text": [
      "Accuracy: 0.6779825412221144\n",
      "Precision: 0.6768462233619378\n",
      "Recall: 0.6731850019666576\n",
      "f1_score: 0.6736346300533944\n"
     ]
    },
    {
     "name": "stderr",
     "output_type": "stream",
     "text": [
      "100%|██████████| 1/1 [00:00<00:00, 45.44it/s, EPOCH=136, AVG_LOSS=0.51]\n",
      "100%|██████████| 1/1 [00:00<00:00, 41.66it/s]\n"
     ]
    },
    {
     "name": "stdout",
     "output_type": "stream",
     "text": [
      "Accuracy: 0.6789524733268671\n",
      "Precision: 0.678400221013393\n",
      "Recall: 0.6734005778947687\n",
      "f1_score: 0.6737656790569575\n"
     ]
    },
    {
     "name": "stderr",
     "output_type": "stream",
     "text": [
      "100%|██████████| 1/1 [00:00<00:00, 47.61it/s, EPOCH=137, AVG_LOSS=0.509]\n",
      "100%|██████████| 1/1 [00:00<00:00, 43.47it/s]\n"
     ]
    },
    {
     "name": "stdout",
     "output_type": "stream",
     "text": [
      "Accuracy: 0.6799224054316197\n",
      "Precision: 0.6791239511763885\n",
      "Recall: 0.6747205077002209\n",
      "f1_score: 0.675147230688146\n"
     ]
    },
    {
     "name": "stderr",
     "output_type": "stream",
     "text": [
      "100%|██████████| 1/1 [00:00<00:00, 46.49it/s, EPOCH=138, AVG_LOSS=0.508]\n",
      "100%|██████████| 1/1 [00:00<00:00, 42.54it/s]\n"
     ]
    },
    {
     "name": "stdout",
     "output_type": "stream",
     "text": [
      "Accuracy: 0.6789524733268671\n",
      "Precision: 0.6779766281004527\n",
      "Recall: 0.6739527548334392\n",
      "f1_score: 0.6743931982096735\n"
     ]
    },
    {
     "name": "stderr",
     "output_type": "stream",
     "text": [
      "100%|██████████| 1/1 [00:00<00:00, 47.61it/s, EPOCH=139, AVG_LOSS=0.508]\n",
      "100%|██████████| 1/1 [00:00<00:00, 43.47it/s]\n"
     ]
    },
    {
     "name": "stdout",
     "output_type": "stream",
     "text": [
      "Accuracy: 0.6731328806983511\n",
      "Precision: 0.6719924157412065\n",
      "Recall: 0.6681038395207406\n",
      "f1_score: 0.6684909601107552\n"
     ]
    },
    {
     "name": "stderr",
     "output_type": "stream",
     "text": [
      "100%|██████████| 1/1 [00:00<00:00, 13.24it/s, EPOCH=140, AVG_LOSS=0.507]\n",
      "100%|██████████| 1/1 [00:00<00:00, 12.90it/s]\n"
     ]
    },
    {
     "name": "stdout",
     "output_type": "stream",
     "text": [
      "Accuracy: 0.6731328806983511\n",
      "Precision: 0.6719088140728374\n",
      "Recall: 0.6682418837554083\n",
      "f1_score: 0.6686439797017055\n"
     ]
    },
    {
     "name": "stderr",
     "output_type": "stream",
     "text": [
      "100%|██████████| 1/1 [00:00<00:00, 43.47it/s, EPOCH=141, AVG_LOSS=0.507]\n",
      "100%|██████████| 1/1 [00:00<00:00, 39.99it/s]\n"
     ]
    },
    {
     "name": "stdout",
     "output_type": "stream",
     "text": [
      "Accuracy: 0.6799224054316197\n",
      "Precision: 0.6791239511763885\n",
      "Recall: 0.6747205077002209\n",
      "f1_score: 0.675147230688146\n"
     ]
    },
    {
     "name": "stderr",
     "output_type": "stream",
     "text": [
      "100%|██████████| 1/1 [00:00<00:00, 44.42it/s, EPOCH=142, AVG_LOSS=0.507]\n",
      "100%|██████████| 1/1 [00:00<00:00, 40.80it/s]\n"
     ]
    },
    {
     "name": "stdout",
     "output_type": "stream",
     "text": [
      "Accuracy: 0.6779825412221144\n",
      "Precision: 0.677339958939903\n",
      "Recall: 0.6724947807933195\n",
      "f1_score: 0.6728610750057344\n"
     ]
    },
    {
     "name": "stderr",
     "output_type": "stream",
     "text": [
      "100%|██████████| 1/1 [00:00<00:00, 41.66it/s, EPOCH=143, AVG_LOSS=0.506]\n",
      "100%|██████████| 1/1 [00:00<00:00, 38.45it/s]\n"
     ]
    },
    {
     "name": "stdout",
     "output_type": "stream",
     "text": [
      "Accuracy: 0.6808923375363725\n",
      "Precision: 0.6800712171231071\n",
      "Recall: 0.6757643490363378\n",
      "f1_score: 0.6762086131435635\n"
     ]
    },
    {
     "name": "stderr",
     "output_type": "stream",
     "text": [
      "100%|██████████| 1/1 [00:00<00:00, 45.44it/s, EPOCH=144, AVG_LOSS=0.506]\n",
      "100%|██████████| 1/1 [00:00<00:00, 39.99it/s]\n"
     ]
    },
    {
     "name": "stdout",
     "output_type": "stream",
     "text": [
      "Accuracy: 0.6731328806983511\n",
      "Precision: 0.6719924157412065\n",
      "Recall: 0.6681038395207406\n",
      "f1_score: 0.6684909601107552\n"
     ]
    },
    {
     "name": "stderr",
     "output_type": "stream",
     "text": [
      "100%|██████████| 1/1 [00:00<00:00, 46.49it/s, EPOCH=145, AVG_LOSS=0.506]\n",
      "100%|██████████| 1/1 [00:00<00:00, 42.54it/s]\n"
     ]
    },
    {
     "name": "stdout",
     "output_type": "stream",
     "text": [
      "Accuracy: 0.6741028128031038\n",
      "Precision: 0.6732265579499126\n",
      "Recall: 0.6687335481528547\n",
      "f1_score: 0.6690815718281444\n"
     ]
    },
    {
     "name": "stderr",
     "output_type": "stream",
     "text": [
      "100%|██████████| 1/1 [00:00<00:00, 13.51it/s, EPOCH=146, AVG_LOSS=0.505]\n",
      "100%|██████████| 1/1 [00:00<00:00, 13.15it/s]\n"
     ]
    },
    {
     "name": "stdout",
     "output_type": "stream",
     "text": [
      "Accuracy: 0.6779825412221144\n",
      "Precision: 0.677339958939903\n",
      "Recall: 0.6724947807933195\n",
      "f1_score: 0.6728610750057344\n"
     ]
    },
    {
     "name": "stderr",
     "output_type": "stream",
     "text": [
      "100%|██████████| 1/1 [00:00<00:00, 45.45it/s, EPOCH=147, AVG_LOSS=0.504]\n",
      "100%|██████████| 1/1 [00:00<00:00, 41.66it/s]\n"
     ]
    },
    {
     "name": "stdout",
     "output_type": "stream",
     "text": [
      "Accuracy: 0.6799224054316197\n",
      "Precision: 0.6791239511763885\n",
      "Recall: 0.6747205077002209\n",
      "f1_score: 0.675147230688146\n"
     ]
    },
    {
     "name": "stderr",
     "output_type": "stream",
     "text": [
      "100%|██████████| 1/1 [00:00<00:00, 45.45it/s, EPOCH=148, AVG_LOSS=0.505]\n",
      "100%|██████████| 1/1 [00:00<00:00, 41.66it/s]\n"
     ]
    },
    {
     "name": "stdout",
     "output_type": "stream",
     "text": [
      "Accuracy: 0.6750727449078564\n",
      "Precision: 0.6738203305313047\n",
      "Recall: 0.6703295664276421\n",
      "f1_score: 0.6707599445968064\n"
     ]
    },
    {
     "name": "stderr",
     "output_type": "stream",
     "text": [
      "100%|██████████| 1/1 [00:00<00:00, 47.60it/s, EPOCH=149, AVG_LOSS=0.504]\n",
      "100%|██████████| 1/1 [00:00<00:00, 43.47it/s]\n"
     ]
    },
    {
     "name": "stdout",
     "output_type": "stream",
     "text": [
      "Accuracy: 0.6760426770126091\n",
      "Precision: 0.6751264016626084\n",
      "Recall: 0.6708212308250885\n",
      "f1_score: 0.6712096213631538\n"
     ]
    },
    {
     "name": "stderr",
     "output_type": "stream",
     "text": [
      "100%|██████████| 1/1 [00:00<00:00, 45.45it/s, EPOCH=150, AVG_LOSS=0.504]\n",
      "100%|██████████| 1/1 [00:00<00:00, 41.66it/s]\n"
     ]
    },
    {
     "name": "stdout",
     "output_type": "stream",
     "text": [
      "Accuracy: 0.6779825412221144\n",
      "Precision: 0.6771251764194984\n",
      "Recall: 0.6727708692626546\n",
      "f1_score: 0.6731784260256499\n"
     ]
    },
    {
     "name": "stderr",
     "output_type": "stream",
     "text": [
      "100%|██████████| 1/1 [00:00<00:00, 45.44it/s, EPOCH=151, AVG_LOSS=0.503]\n",
      "100%|██████████| 1/1 [00:00<00:00, 41.66it/s]\n"
     ]
    },
    {
     "name": "stdout",
     "output_type": "stream",
     "text": [
      "Accuracy: 0.6770126091173618\n",
      "Precision: 0.6759818906473707\n",
      "Recall: 0.6720031163958731\n",
      "f1_score: 0.6724257855100341\n"
     ]
    },
    {
     "name": "stderr",
     "output_type": "stream",
     "text": [
      "100%|██████████| 1/1 [00:00<00:00, 13.79it/s, EPOCH=152, AVG_LOSS=0.503]\n",
      "100%|██████████| 1/1 [00:00<00:00, 13.42it/s]\n"
     ]
    },
    {
     "name": "stdout",
     "output_type": "stream",
     "text": [
      "Accuracy: 0.6779825412221144\n",
      "Precision: 0.6770264619101829\n",
      "Recall: 0.6729089134973223\n",
      "f1_score: 0.6733331297383549\n"
     ]
    },
    {
     "name": "stderr",
     "output_type": "stream",
     "text": [
      "100%|██████████| 1/1 [00:00<00:00, 47.61it/s, EPOCH=153, AVG_LOSS=0.502]\n",
      "100%|██████████| 1/1 [00:00<00:00, 43.47it/s]\n"
     ]
    },
    {
     "name": "stdout",
     "output_type": "stream",
     "text": [
      "Accuracy: 0.6741028128031038\n",
      "Precision: 0.6731276269057183\n",
      "Recall: 0.6688715923875224\n",
      "f1_score: 0.6692408167006576\n"
     ]
    },
    {
     "name": "stderr",
     "output_type": "stream",
     "text": [
      "100%|██████████| 1/1 [00:00<00:00, 46.49it/s, EPOCH=154, AVG_LOSS=0.502]\n",
      "100%|██████████| 1/1 [00:00<00:00, 42.54it/s]\n"
     ]
    },
    {
     "name": "stdout",
     "output_type": "stream",
     "text": [
      "Accuracy: 0.6770126091173618\n",
      "Precision: 0.6762825992353362\n",
      "Recall: 0.6715889836918701\n",
      "f1_score: 0.6719562917969724\n"
     ]
    },
    {
     "name": "stderr",
     "output_type": "stream",
     "text": [
      "100%|██████████| 1/1 [00:00<00:00, 47.60it/s, EPOCH=155, AVG_LOSS=0.501]\n",
      "100%|██████████| 1/1 [00:00<00:00, 43.47it/s]\n"
     ]
    },
    {
     "name": "stdout",
     "output_type": "stream",
     "text": [
      "Accuracy: 0.6808923375363725\n",
      "Precision: 0.6800712171231071\n",
      "Recall: 0.6757643490363378\n",
      "f1_score: 0.6762086131435635\n"
     ]
    },
    {
     "name": "stderr",
     "output_type": "stream",
     "text": [
      "100%|██████████| 1/1 [00:00<00:00, 47.61it/s, EPOCH=156, AVG_LOSS=0.501]\n",
      "100%|██████████| 1/1 [00:00<00:00, 43.47it/s]\n"
     ]
    },
    {
     "name": "stdout",
     "output_type": "stream",
     "text": [
      "Accuracy: 0.6760426770126091\n",
      "Precision: 0.6748553685495146\n",
      "Recall: 0.6712353635290913\n",
      "f1_score: 0.6716685736079329\n"
     ]
    },
    {
     "name": "stderr",
     "output_type": "stream",
     "text": [
      "100%|██████████| 1/1 [00:00<00:00, 46.49it/s, EPOCH=157, AVG_LOSS=0.501]\n",
      "100%|██████████| 1/1 [00:00<00:00, 40.80it/s]\n"
     ]
    },
    {
     "name": "stdout",
     "output_type": "stream",
     "text": [
      "Accuracy: 0.6702230843840931\n",
      "Precision: 0.6688828041122448\n",
      "Recall: 0.6653864482163929\n",
      "f1_score: 0.6657704042715484\n"
     ]
    },
    {
     "name": "stderr",
     "output_type": "stream",
     "text": [
      "100%|██████████| 1/1 [00:00<00:00, 44.43it/s, EPOCH=158, AVG_LOSS=0.501]\n",
      "100%|██████████| 1/1 [00:00<00:00, 40.80it/s]\n"
     ]
    },
    {
     "name": "stdout",
     "output_type": "stream",
     "text": [
      "Accuracy: 0.6731328806983511\n",
      "Precision: 0.6721763085399448\n",
      "Recall: 0.6678277510514055\n",
      "f1_score: 0.6681768910833409\n"
     ]
    },
    {
     "name": "stderr",
     "output_type": "stream",
     "text": [
      "100%|██████████| 1/1 [00:00<00:00, 43.47it/s, EPOCH=159, AVG_LOSS=0.5]\n",
      "100%|██████████| 1/1 [00:00<00:00, 41.66it/s]\n"
     ]
    },
    {
     "name": "stdout",
     "output_type": "stream",
     "text": [
      "Accuracy: 0.6711930164888458\n",
      "Precision: 0.6702736936992943\n",
      "Recall: 0.6657400683791715\n",
      "f1_score: 0.6660455943518727\n"
     ]
    },
    {
     "name": "stderr",
     "output_type": "stream",
     "text": [
      "100%|██████████| 1/1 [00:00<00:00, 43.47it/s, EPOCH=160, AVG_LOSS=0.5]\n",
      "100%|██████████| 1/1 [00:00<00:00, 39.99it/s]\n"
     ]
    },
    {
     "name": "stdout",
     "output_type": "stream",
     "text": [
      "Accuracy: 0.6741028128031038\n",
      "Precision: 0.6729466357308584\n",
      "Recall: 0.6691476808568575\n",
      "f1_score: 0.6695512820512821\n"
     ]
    },
    {
     "name": "stderr",
     "output_type": "stream",
     "text": [
      "100%|██████████| 1/1 [00:00<00:00, 46.49it/s, EPOCH=161, AVG_LOSS=0.499]\n",
      "100%|██████████| 1/1 [00:00<00:00, 40.80it/s]\n"
     ]
    },
    {
     "name": "stdout",
     "output_type": "stream",
     "text": [
      "Accuracy: 0.6721629485935985\n",
      "Precision: 0.6706099388908106\n",
      "Recall: 0.6678882635926295\n",
      "f1_score: 0.6683183583339678\n"
     ]
    },
    {
     "name": "stderr",
     "output_type": "stream",
     "text": [
      "100%|██████████| 1/1 [00:00<00:00, 13.15it/s, EPOCH=162, AVG_LOSS=0.499]\n",
      "100%|██████████| 1/1 [00:00<00:00, 12.98it/s]\n"
     ]
    },
    {
     "name": "stdout",
     "output_type": "stream",
     "text": [
      "Accuracy: 0.6779825412221144\n",
      "Precision: 0.6771251764194984\n",
      "Recall: 0.6727708692626546\n",
      "f1_score: 0.6731784260256499\n"
     ]
    },
    {
     "name": "stderr",
     "output_type": "stream",
     "text": [
      "100%|██████████| 1/1 [00:00<00:00, 45.44it/s, EPOCH=163, AVG_LOSS=0.499]\n",
      "100%|██████████| 1/1 [00:00<00:00, 43.47it/s]\n"
     ]
    },
    {
     "name": "stdout",
     "output_type": "stream",
     "text": [
      "Accuracy: 0.6770126091173618\n",
      "Precision: 0.6760763937322732\n",
      "Recall: 0.6718650721612054\n",
      "f1_score: 0.6722719397471326\n"
     ]
    },
    {
     "name": "stderr",
     "output_type": "stream",
     "text": [
      "100%|██████████| 1/1 [00:00<00:00, 41.66it/s, EPOCH=164, AVG_LOSS=0.498]\n",
      "100%|██████████| 1/1 [00:00<00:00, 38.45it/s]\n"
     ]
    },
    {
     "name": "stdout",
     "output_type": "stream",
     "text": [
      "Accuracy: 0.6789524733268671\n",
      "Precision: 0.6778852099177641\n",
      "Recall: 0.6740907990681069\n",
      "f1_score: 0.6745434934162153\n"
     ]
    },
    {
     "name": "stderr",
     "output_type": "stream",
     "text": [
      "100%|██████████| 1/1 [00:00<00:00, 44.43it/s, EPOCH=165, AVG_LOSS=0.498]\n",
      "100%|██████████| 1/1 [00:00<00:00, 40.80it/s]\n"
     ]
    },
    {
     "name": "stdout",
     "output_type": "stream",
     "text": [
      "Accuracy: 0.6741028128031038\n",
      "Precision: 0.6732265579499126\n",
      "Recall: 0.6687335481528547\n",
      "f1_score: 0.6690815718281444\n"
     ]
    },
    {
     "name": "stderr",
     "output_type": "stream",
     "text": [
      "100%|██████████| 1/1 [00:00<00:00, 41.66it/s, EPOCH=166, AVG_LOSS=0.497]\n",
      "100%|██████████| 1/1 [00:00<00:00, 38.45it/s]\n"
     ]
    },
    {
     "name": "stdout",
     "output_type": "stream",
     "text": [
      "Accuracy: 0.6770126091173618\n",
      "Precision: 0.6762825992353362\n",
      "Recall: 0.6715889836918701\n",
      "f1_score: 0.6719562917969724\n"
     ]
    },
    {
     "name": "stderr",
     "output_type": "stream",
     "text": [
      "100%|██████████| 1/1 [00:00<00:00, 43.47it/s, EPOCH=167, AVG_LOSS=0.497]\n",
      "100%|██████████| 1/1 [00:00<00:00, 41.66it/s]\n"
     ]
    },
    {
     "name": "stdout",
     "output_type": "stream",
     "text": [
      "Accuracy: 0.6731328806983511\n",
      "Precision: 0.6717581528024054\n",
      "Recall: 0.6685179722247436\n",
      "f1_score: 0.6689420250499045\n"
     ]
    },
    {
     "name": "stderr",
     "output_type": "stream",
     "text": [
      "100%|██████████| 1/1 [00:00<00:00, 12.90it/s, EPOCH=168, AVG_LOSS=0.496]\n",
      "100%|██████████| 1/1 [00:00<00:00, 12.74it/s]\n"
     ]
    },
    {
     "name": "stdout",
     "output_type": "stream",
     "text": [
      "Accuracy: 0.6731328806983511\n",
      "Precision: 0.6718307358605624\n",
      "Recall: 0.668379927990076\n",
      "f1_score: 0.6687943323257426\n"
     ]
    },
    {
     "name": "stderr",
     "output_type": "stream",
     "text": [
      "100%|██████████| 1/1 [00:00<00:00, 47.60it/s, EPOCH=169, AVG_LOSS=0.496]\n",
      "100%|██████████| 1/1 [00:00<00:00, 43.47it/s]\n"
     ]
    },
    {
     "name": "stdout",
     "output_type": "stream",
     "text": [
      "Accuracy: 0.6741028128031038\n",
      "Precision: 0.6730343300110742\n",
      "Recall: 0.6690096366221899\n",
      "f1_score: 0.6693973843135159\n"
     ]
    },
    {
     "name": "stderr",
     "output_type": "stream",
     "text": [
      "100%|██████████| 1/1 [00:00<00:00, 43.47it/s, EPOCH=170, AVG_LOSS=0.495]\n",
      "100%|██████████| 1/1 [00:00<00:00, 41.66it/s]\n"
     ]
    },
    {
     "name": "stdout",
     "output_type": "stream",
     "text": [
      "Accuracy: 0.6750727449078564\n",
      "Precision: 0.6739871531942886\n",
      "Recall: 0.6700534779583068\n",
      "f1_score: 0.6704583728103947\n"
     ]
    },
    {
     "name": "stderr",
     "output_type": "stream",
     "text": [
      "100%|██████████| 1/1 [00:00<00:00, 47.61it/s, EPOCH=171, AVG_LOSS=0.495]\n",
      "100%|██████████| 1/1 [00:00<00:00, 43.47it/s]\n"
     ]
    },
    {
     "name": "stdout",
     "output_type": "stream",
     "text": [
      "Accuracy: 0.6760426770126091\n",
      "Precision: 0.6749400618716164\n",
      "Recall: 0.6710973192944237\n",
      "f1_score: 0.6715182387057387\n"
     ]
    },
    {
     "name": "stderr",
     "output_type": "stream",
     "text": [
      "100%|██████████| 1/1 [00:00<00:00, 45.44it/s, EPOCH=172, AVG_LOSS=0.495]\n",
      "100%|██████████| 1/1 [00:00<00:00, 42.53it/s]\n"
     ]
    },
    {
     "name": "stdout",
     "output_type": "stream",
     "text": [
      "Accuracy: 0.6760426770126091\n",
      "Precision: 0.675448775359215\n",
      "Recall: 0.6704070981210857\n",
      "f1_score: 0.6707267163893671\n"
     ]
    },
    {
     "name": "stderr",
     "output_type": "stream",
     "text": [
      "100%|██████████| 1/1 [00:00<00:00, 47.61it/s, EPOCH=173, AVG_LOSS=0.495]\n",
      "100%|██████████| 1/1 [00:00<00:00, 43.47it/s]\n"
     ]
    },
    {
     "name": "stdout",
     "output_type": "stream",
     "text": [
      "Accuracy: 0.6741028128031038\n",
      "Precision: 0.6733311559039443\n",
      "Recall: 0.668595503918187\n",
      "f1_score: 0.6689196421744782\n"
     ]
    },
    {
     "name": "stderr",
     "output_type": "stream",
     "text": [
      "100%|██████████| 1/1 [00:00<00:00, 12.74it/s, EPOCH=174, AVG_LOSS=0.494]\n",
      "100%|██████████| 1/1 [00:00<00:00, 12.42it/s]\n"
     ]
    },
    {
     "name": "stdout",
     "output_type": "stream",
     "text": [
      "Accuracy: 0.6750727449078564\n",
      "Precision: 0.6739871531942886\n",
      "Recall: 0.6700534779583068\n",
      "f1_score: 0.6704583728103947\n"
     ]
    },
    {
     "name": "stderr",
     "output_type": "stream",
     "text": [
      "100%|██████████| 1/1 [00:00<00:00, 41.66it/s, EPOCH=175, AVG_LOSS=0.494]\n",
      "100%|██████████| 1/1 [00:00<00:00, 39.99it/s]"
     ]
    },
    {
     "name": "stdout",
     "output_type": "stream",
     "text": [
      "Accuracy: 0.6731328806983511\n",
      "Precision: 0.6717581528024054\n",
      "Recall: 0.6685179722247436\n",
      "f1_score: 0.6689420250499045\n"
     ]
    },
    {
     "name": "stderr",
     "output_type": "stream",
     "text": [
      "\n",
      "100%|██████████| 1/1 [00:00<00:00, 45.44it/s, EPOCH=176, AVG_LOSS=0.493]\n",
      "100%|██████████| 1/1 [00:00<00:00, 41.65it/s]\n"
     ]
    },
    {
     "name": "stdout",
     "output_type": "stream",
     "text": [
      "Accuracy: 0.6750727449078564\n",
      "Precision: 0.6739871531942886\n",
      "Recall: 0.6700534779583068\n",
      "f1_score: 0.6704583728103947\n"
     ]
    },
    {
     "name": "stderr",
     "output_type": "stream",
     "text": [
      "100%|██████████| 1/1 [00:00<00:00, 45.45it/s, EPOCH=177, AVG_LOSS=0.493]\n",
      "100%|██████████| 1/1 [00:00<00:00, 39.99it/s]\n"
     ]
    },
    {
     "name": "stdout",
     "output_type": "stream",
     "text": [
      "Accuracy: 0.6731328806983511\n",
      "Precision: 0.6720815703414392\n",
      "Recall: 0.667965795286073\n",
      "f1_score: 0.6683352663507018\n"
     ]
    },
    {
     "name": "stderr",
     "output_type": "stream",
     "text": [
      "100%|██████████| 1/1 [00:00<00:00, 41.66it/s, EPOCH=178, AVG_LOSS=0.493]\n",
      "100%|██████████| 1/1 [00:00<00:00, 38.45it/s]\n"
     ]
    },
    {
     "name": "stdout",
     "output_type": "stream",
     "text": [
      "Accuracy: 0.6750727449078564\n",
      "Precision: 0.6739871531942886\n",
      "Recall: 0.6700534779583068\n",
      "f1_score: 0.6704583728103947\n"
     ]
    },
    {
     "name": "stderr",
     "output_type": "stream",
     "text": [
      "100%|██████████| 1/1 [00:00<00:00, 45.44it/s, EPOCH=179, AVG_LOSS=0.492]\n",
      "100%|██████████| 1/1 [00:00<00:00, 42.54it/s]\n"
     ]
    },
    {
     "name": "stdout",
     "output_type": "stream",
     "text": [
      "Accuracy: 0.6750727449078564\n",
      "Precision: 0.6739871531942886\n",
      "Recall: 0.6700534779583068\n",
      "f1_score: 0.6704583728103947\n"
     ]
    },
    {
     "name": "stderr",
     "output_type": "stream",
     "text": [
      "100%|██████████| 1/1 [00:00<00:00, 43.47it/s, EPOCH=180, AVG_LOSS=0.492]\n",
      "100%|██████████| 1/1 [00:00<00:00, 38.45it/s]\n"
     ]
    },
    {
     "name": "stdout",
     "output_type": "stream",
     "text": [
      "Accuracy: 0.6741028128031038\n",
      "Precision: 0.6728645137370912\n",
      "Recall: 0.6692857250915252\n",
      "f1_score: 0.6697025171624713\n"
     ]
    },
    {
     "name": "stderr",
     "output_type": "stream",
     "text": [
      "100%|██████████| 1/1 [00:00<00:00, 44.51it/s, EPOCH=181, AVG_LOSS=0.492]\n",
      "100%|██████████| 1/1 [00:00<00:00, 43.47it/s]\n"
     ]
    },
    {
     "name": "stdout",
     "output_type": "stream",
     "text": [
      "Accuracy: 0.6750727449078564\n",
      "Precision: 0.6737452779276849\n",
      "Recall: 0.6704676106623098\n",
      "f1_score: 0.6709067608062849\n"
     ]
    },
    {
     "name": "stderr",
     "output_type": "stream",
     "text": [
      "100%|██████████| 1/1 [00:00<00:00, 47.61it/s, EPOCH=182, AVG_LOSS=0.492]\n",
      "100%|██████████| 1/1 [00:00<00:00, 43.47it/s]\n"
     ]
    },
    {
     "name": "stdout",
     "output_type": "stream",
     "text": [
      "Accuracy: 0.6721629485935985\n",
      "Precision: 0.6710382640615199\n",
      "Recall: 0.6670599981846237\n",
      "f1_score: 0.6674295116010964\n"
     ]
    },
    {
     "name": "stderr",
     "output_type": "stream",
     "text": [
      "100%|██████████| 1/1 [00:00<00:00, 45.44it/s, EPOCH=183, AVG_LOSS=0.491]\n",
      "100%|██████████| 1/1 [00:00<00:00, 41.65it/s]\n"
     ]
    },
    {
     "name": "stdout",
     "output_type": "stream",
     "text": [
      "Accuracy: 0.6750727449078564\n",
      "Precision: 0.6741764637411245\n",
      "Recall: 0.6697773894889716\n",
      "f1_score: 0.6701461676941223\n"
     ]
    },
    {
     "name": "stderr",
     "output_type": "stream",
     "text": [
      "100%|██████████| 1/1 [00:00<00:00, 12.66it/s, EPOCH=184, AVG_LOSS=0.491]\n",
      "100%|██████████| 1/1 [00:00<00:00, 12.34it/s]\n"
     ]
    },
    {
     "name": "stdout",
     "output_type": "stream",
     "text": [
      "Accuracy: 0.6741028128031038\n",
      "Precision: 0.6729466357308584\n",
      "Recall: 0.6691476808568575\n",
      "f1_score: 0.6695512820512821\n"
     ]
    },
    {
     "name": "stderr",
     "output_type": "stream",
     "text": [
      "100%|██████████| 1/1 [00:00<00:00, 42.65it/s, EPOCH=185, AVG_LOSS=0.491]\n",
      "100%|██████████| 1/1 [00:00<00:00, 40.90it/s]\n"
     ]
    },
    {
     "name": "stdout",
     "output_type": "stream",
     "text": [
      "Accuracy: 0.6721629485935985\n",
      "Precision: 0.670873658924668\n",
      "Recall: 0.667336086653959\n",
      "f1_score: 0.66773646071701\n"
     ]
    },
    {
     "name": "stderr",
     "output_type": "stream",
     "text": [
      "100%|██████████| 1/1 [00:00<00:00, 39.99it/s, EPOCH=186, AVG_LOSS=0.49]\n",
      "100%|██████████| 1/1 [00:00<00:00, 38.45it/s]\n"
     ]
    },
    {
     "name": "stdout",
     "output_type": "stream",
     "text": [
      "Accuracy: 0.6750727449078564\n",
      "Precision: 0.6739009460211464\n",
      "Recall: 0.6701915221929744\n",
      "f1_score: 0.6706104842732087\n"
     ]
    },
    {
     "name": "stderr",
     "output_type": "stream",
     "text": [
      "100%|██████████| 1/1 [00:00<00:00, 41.65it/s, EPOCH=187, AVG_LOSS=0.49]\n",
      "100%|██████████| 1/1 [00:00<00:00, 38.45it/s]\n"
     ]
    },
    {
     "name": "stdout",
     "output_type": "stream",
     "text": [
      "Accuracy: 0.6741028128031038\n",
      "Precision: 0.672716871229457\n",
      "Recall: 0.6695618135608605\n",
      "f1_score: 0.6699970278241387\n"
     ]
    },
    {
     "name": "stderr",
     "output_type": "stream",
     "text": [
      "100%|██████████| 1/1 [00:00<00:00, 41.66it/s, EPOCH=188, AVG_LOSS=0.489]\n",
      "100%|██████████| 1/1 [00:00<00:00, 38.45it/s]\n"
     ]
    },
    {
     "name": "stdout",
     "output_type": "stream",
     "text": [
      "Accuracy: 0.6770126091173618\n",
      "Precision: 0.6758930779694553\n",
      "Recall: 0.6721411606305406\n",
      "f1_score: 0.672576988844712\n"
     ]
    },
    {
     "name": "stderr",
     "output_type": "stream",
     "text": [
      "100%|██████████| 1/1 [00:00<00:00, 45.45it/s, EPOCH=189, AVG_LOSS=0.488]\n",
      "100%|██████████| 1/1 [00:00<00:00, 41.66it/s]\n"
     ]
    },
    {
     "name": "stdout",
     "output_type": "stream",
     "text": [
      "Accuracy: 0.6760426770126091\n",
      "Precision: 0.6751264016626084\n",
      "Recall: 0.6708212308250885\n",
      "f1_score: 0.6712096213631538\n"
     ]
    },
    {
     "name": "stderr",
     "output_type": "stream",
     "text": [
      "100%|██████████| 1/1 [00:00<00:00, 13.08it/s, EPOCH=190, AVG_LOSS=0.489]\n",
      "100%|██████████| 1/1 [00:00<00:00, 12.75it/s]\n"
     ]
    },
    {
     "name": "stdout",
     "output_type": "stream",
     "text": [
      "Accuracy: 0.6750727449078564\n",
      "Precision: 0.6742796307233223\n",
      "Recall: 0.6696393452543039\n",
      "f1_score: 0.6699860593152724\n"
     ]
    },
    {
     "name": "stderr",
     "output_type": "stream",
     "text": [
      "100%|██████████| 1/1 [00:00<00:00, 47.61it/s, EPOCH=191, AVG_LOSS=0.488]\n",
      "100%|██████████| 1/1 [00:00<00:00, 43.47it/s]\n"
     ]
    },
    {
     "name": "stdout",
     "output_type": "stream",
     "text": [
      "Accuracy: 0.6731328806983511\n",
      "Precision: 0.6717581528024054\n",
      "Recall: 0.6685179722247436\n",
      "f1_score: 0.6689420250499045\n"
     ]
    },
    {
     "name": "stderr",
     "output_type": "stream",
     "text": [
      "100%|██████████| 1/1 [00:00<00:00, 44.42it/s, EPOCH=192, AVG_LOSS=0.487]\n",
      "100%|██████████| 1/1 [00:00<00:00, 40.80it/s]\n"
     ]
    },
    {
     "name": "stdout",
     "output_type": "stream",
     "text": [
      "Accuracy: 0.6770126091173618\n",
      "Precision: 0.6756604834176503\n",
      "Recall: 0.6725552933345436\n",
      "f1_score: 0.6730148147795403\n"
     ]
    },
    {
     "name": "stderr",
     "output_type": "stream",
     "text": [
      "100%|██████████| 1/1 [00:00<00:00, 45.44it/s, EPOCH=193, AVG_LOSS=0.487]\n",
      "100%|██████████| 1/1 [00:00<00:00, 41.66it/s]\n"
     ]
    },
    {
     "name": "stdout",
     "output_type": "stream",
     "text": [
      "Accuracy: 0.6731328806983511\n",
      "Precision: 0.6719088140728374\n",
      "Recall: 0.6682418837554083\n",
      "f1_score: 0.6686439797017055\n"
     ]
    },
    {
     "name": "stderr",
     "output_type": "stream",
     "text": [
      "100%|██████████| 1/1 [00:00<00:00, 43.47it/s, EPOCH=194, AVG_LOSS=0.487]\n",
      "100%|██████████| 1/1 [00:00<00:00, 39.99it/s]\n"
     ]
    },
    {
     "name": "stdout",
     "output_type": "stream",
     "text": [
      "Accuracy: 0.6741028128031038\n",
      "Precision: 0.6730343300110742\n",
      "Recall: 0.6690096366221899\n",
      "f1_score: 0.6693973843135159\n"
     ]
    },
    {
     "name": "stderr",
     "output_type": "stream",
     "text": [
      "100%|██████████| 1/1 [00:00<00:00, 45.44it/s, EPOCH=195, AVG_LOSS=0.487]\n",
      "100%|██████████| 1/1 [00:00<00:00, 41.66it/s]\n"
     ]
    },
    {
     "name": "stdout",
     "output_type": "stream",
     "text": [
      "Accuracy: 0.6731328806983511\n",
      "Precision: 0.6720815703414392\n",
      "Recall: 0.667965795286073\n",
      "f1_score: 0.6683352663507018\n"
     ]
    },
    {
     "name": "stderr",
     "output_type": "stream",
     "text": [
      "100%|██████████| 1/1 [00:00<00:00, 13.22it/s, EPOCH=196, AVG_LOSS=0.486]\n",
      "100%|██████████| 1/1 [00:00<00:00, 12.88it/s]\n"
     ]
    },
    {
     "name": "stdout",
     "output_type": "stream",
     "text": [
      "Accuracy: 0.6692531522793405\n",
      "Precision: 0.6679245501762197\n",
      "Recall: 0.664342606880276\n",
      "f1_score: 0.664710970558699\n"
     ]
    },
    {
     "name": "stderr",
     "output_type": "stream",
     "text": [
      "100%|██████████| 1/1 [00:00<00:00, 45.45it/s, EPOCH=197, AVG_LOSS=0.486]\n",
      "100%|██████████| 1/1 [00:00<00:00, 39.99it/s]\n"
     ]
    },
    {
     "name": "stdout",
     "output_type": "stream",
     "text": [
      "Accuracy: 0.6731328806983511\n",
      "Precision: 0.6718307358605624\n",
      "Recall: 0.668379927990076\n",
      "f1_score: 0.6687943323257426\n"
     ]
    },
    {
     "name": "stderr",
     "output_type": "stream",
     "text": [
      "100%|██████████| 1/1 [00:00<00:00, 45.45it/s, EPOCH=198, AVG_LOSS=0.486]\n",
      "100%|██████████| 1/1 [00:00<00:00, 41.66it/s]\n"
     ]
    },
    {
     "name": "stdout",
     "output_type": "stream",
     "text": [
      "Accuracy: 0.6663433559650824\n",
      "Precision: 0.6650500662128569\n",
      "Recall: 0.6612110828719252\n",
      "f1_score: 0.6615258934638377\n"
     ]
    },
    {
     "name": "stderr",
     "output_type": "stream",
     "text": [
      "100%|██████████| 1/1 [00:00<00:00, 44.93it/s, EPOCH=199, AVG_LOSS=0.485]\n",
      "100%|██████████| 1/1 [00:00<00:00, 41.23it/s]"
     ]
    },
    {
     "name": "stdout",
     "output_type": "stream",
     "text": [
      "Accuracy: 0.6702230843840931\n",
      "Precision: 0.6689597834493426\n",
      "Recall: 0.6652484039817252\n",
      "f1_score: 0.6656173687423688\n"
     ]
    },
    {
     "name": "stderr",
     "output_type": "stream",
     "text": [
      "\n"
     ]
    }
   ],
   "source": [
    "#RNNbased, LSTMbased, GRUbased, BI_RNNbased, BI_LSTMbased, BI_GRUbased\n",
    "train_losses = []\n",
    "val_losses = []\n",
    "BI_RNNmodel = BI_RNNbased().cuda()\n",
    "loss_fn = torch.nn.CrossEntropyLoss()\n",
    "optimizer = torch.optim.Adam(BI_RNNmodel.parameters(), lr=1e-3)\n",
    "epoch(BI_RNNmodel, optimizer, loss_fn)"
   ]
  },
  {
   "cell_type": "code",
   "execution_count": 18,
   "metadata": {},
   "outputs": [
    {
     "data": {
      "image/png": "[encoded data removed]",
      "text/plain": [
       "<Figure size 640x480 with 1 Axes>"
      ]
     },
     "metadata": {},
     "output_type": "display_data"
    }
   ],
   "source": [
    "plt.plot(train_losses, label = \"Training Loss\")\n",
    "plt.plot(val_losses, label = \"Val Loss\")\n",
    "plt.title('Loss')\n",
    "plt.legend()\n",
    "plt.show()"
   ]
  },
  {
   "cell_type": "code",
   "execution_count": 19,
   "metadata": {},
   "outputs": [
    {
     "name": "stderr",
     "output_type": "stream",
     "text": [
      "100%|██████████| 1/1 [00:00<00:00, 37.02it/s, EPOCH=0, AVG_LOSS=0.699]\n",
      "100%|██████████| 1/1 [00:00<00:00, 33.32it/s]\n"
     ]
    },
    {
     "name": "stdout",
     "output_type": "stream",
     "text": [
      "Accuracy: 0.550921435499515\n",
      "Precision: 0.5439908783229999\n",
      "Recall: 0.5345091676499955\n",
      "f1_score: 0.5157105218037958\n"
     ]
    },
    {
     "name": "stderr",
     "output_type": "stream",
     "text": [
      "100%|██████████| 1/1 [00:00<00:00, 12.19it/s, EPOCH=1, AVG_LOSS=0.686]\n",
      "100%|██████████| 1/1 [00:00<00:00, 12.05it/s]\n"
     ]
    },
    {
     "name": "stdout",
     "output_type": "stream",
     "text": [
      "Accuracy: 0.5703200775945684\n",
      "Precision: 0.6159343622935856\n",
      "Recall: 0.5422717920789083\n",
      "f1_score: 0.4703052570173393\n"
     ]
    },
    {
     "name": "stderr",
     "output_type": "stream",
     "text": [
      "100%|██████████| 1/1 [00:00<00:00, 43.47it/s, EPOCH=2, AVG_LOSS=0.677]\n",
      "100%|██████████| 1/1 [00:00<00:00, 41.66it/s]\n"
     ]
    },
    {
     "name": "stdout",
     "output_type": "stream",
     "text": [
      "Accuracy: 0.5683802133850631\n",
      "Precision: 0.6294375722834011\n",
      "Recall: 0.5389417112946658\n",
      "f1_score: 0.4563634489304297\n"
     ]
    },
    {
     "name": "stderr",
     "output_type": "stream",
     "text": [
      "100%|██████████| 1/1 [00:00<00:00, 41.66it/s, EPOCH=3, AVG_LOSS=0.671]\n",
      "100%|██████████| 1/1 [00:00<00:00, 38.45it/s]\n"
     ]
    },
    {
     "name": "stdout",
     "output_type": "stream",
     "text": [
      "Accuracy: 0.574199806013579\n",
      "Precision: 0.6411323650962333\n",
      "Recall: 0.5452047593113672\n",
      "f1_score: 0.467216076900168\n"
     ]
    },
    {
     "name": "stderr",
     "output_type": "stream",
     "text": [
      "100%|██████████| 1/1 [00:00<00:00, 41.51it/s, EPOCH=4, AVG_LOSS=0.666]\n",
      "100%|██████████| 1/1 [00:00<00:00, 38.33it/s]\n"
     ]
    },
    {
     "name": "stdout",
     "output_type": "stream",
     "text": [
      "Accuracy: 0.5897187196896218\n",
      "Precision: 0.6467464702271333\n",
      "Recall: 0.5632866630359142\n",
      "f1_score: 0.5052519328179153\n"
     ]
    },
    {
     "name": "stderr",
     "output_type": "stream",
     "text": [
      "100%|██████████| 1/1 [00:00<00:00, 43.47it/s, EPOCH=5, AVG_LOSS=0.662]\n",
      "100%|██████████| 1/1 [00:00<00:00, 38.45it/s]\n"
     ]
    },
    {
     "name": "stdout",
     "output_type": "stream",
     "text": [
      "Accuracy: 0.5984481086323957\n",
      "Precision: 0.6351455188358492\n",
      "Recall: 0.5751660312849838\n",
      "f1_score: 0.5349378949662236\n"
     ]
    },
    {
     "name": "stderr",
     "output_type": "stream",
     "text": [
      "100%|██████████| 1/1 [00:00<00:00, 43.47it/s, EPOCH=6, AVG_LOSS=0.657]\n",
      "100%|██████████| 1/1 [00:00<00:00, 39.99it/s]\n"
     ]
    },
    {
     "name": "stdout",
     "output_type": "stream",
     "text": [
      "Accuracy: 0.6091173617846751\n",
      "Precision: 0.6358476886491503\n",
      "Recall: 0.5885809052676167\n",
      "f1_score: 0.5607882477428575\n"
     ]
    },
    {
     "name": "stderr",
     "output_type": "stream",
     "text": [
      "100%|██████████| 1/1 [00:00<00:00, 11.61it/s, EPOCH=7, AVG_LOSS=0.652]\n",
      "100%|██████████| 1/1 [00:00<00:00, 11.34it/s]\n"
     ]
    },
    {
     "name": "stdout",
     "output_type": "stream",
     "text": [
      "Accuracy: 0.612027158098933\n",
      "Precision: 0.6250211474349405\n",
      "Recall: 0.5950254909079907\n",
      "f1_score: 0.5784437993212577\n"
     ]
    },
    {
     "name": "stderr",
     "output_type": "stream",
     "text": [
      "100%|██████████| 1/1 [00:00<00:00, 39.20it/s, EPOCH=8, AVG_LOSS=0.646]\n",
      "100%|██████████| 1/1 [00:00<00:00, 35.07it/s]\n"
     ]
    },
    {
     "name": "stdout",
     "output_type": "stream",
     "text": [
      "Accuracy: 0.6178467507274491\n",
      "Precision: 0.623776252092069\n",
      "Recall: 0.6040494236180448\n",
      "f1_score: 0.5949751529509361\n"
     ]
    },
    {
     "name": "stderr",
     "output_type": "stream",
     "text": [
      "100%|██████████| 1/1 [00:00<00:00, 41.51it/s, EPOCH=9, AVG_LOSS=0.642]\n",
      "100%|██████████| 1/1 [00:00<00:00, 38.33it/s]\n"
     ]
    },
    {
     "name": "stdout",
     "output_type": "stream",
     "text": [
      "Accuracy: 0.6168768186226964\n",
      "Precision: 0.6179929116914897\n",
      "Recall: 0.6057664669752806\n",
      "f1_score: 0.6009455917297468\n"
     ]
    },
    {
     "name": "stderr",
     "output_type": "stream",
     "text": [
      "100%|██████████| 1/1 [00:00<00:00, 45.45it/s, EPOCH=10, AVG_LOSS=0.638]\n",
      "100%|██████████| 1/1 [00:00<00:00, 39.99it/s]\n"
     ]
    },
    {
     "name": "stdout",
     "output_type": "stream",
     "text": [
      "Accuracy: 0.6246362754607178\n",
      "Precision: 0.6232274599980837\n",
      "Recall: 0.6167400381229009\n",
      "f1_score: 0.6153730475697466\n"
     ]
    },
    {
     "name": "stderr",
     "output_type": "stream",
     "text": [
      "100%|██████████| 1/1 [00:00<00:00, 44.42it/s, EPOCH=11, AVG_LOSS=0.635]\n",
      "100%|██████████| 1/1 [00:00<00:00, 42.54it/s]\n"
     ]
    },
    {
     "name": "stdout",
     "output_type": "stream",
     "text": [
      "Accuracy: 0.6304558680892337\n",
      "Precision: 0.6288253825382538\n",
      "Recall: 0.6234172188436053\n",
      "f1_score: 0.6226806025030329\n"
     ]
    },
    {
     "name": "stderr",
     "output_type": "stream",
     "text": [
      "100%|██████████| 1/1 [00:00<00:00, 45.45it/s, EPOCH=12, AVG_LOSS=0.632]\n",
      "100%|██████████| 1/1 [00:00<00:00, 41.66it/s]\n"
     ]
    },
    {
     "name": "stdout",
     "output_type": "stream",
     "text": [
      "Accuracy: 0.6372453928225025\n",
      "Precision: 0.6356428066870732\n",
      "Recall: 0.6307241081964237\n",
      "f1_score: 0.6303313264562642\n"
     ]
    },
    {
     "name": "stderr",
     "output_type": "stream",
     "text": [
      "100%|██████████| 1/1 [00:00<00:00, 12.95it/s, EPOCH=13, AVG_LOSS=0.629]\n",
      "100%|██████████| 1/1 [00:00<00:00, 12.62it/s]\n"
     ]
    },
    {
     "name": "stdout",
     "output_type": "stream",
     "text": [
      "Accuracy: 0.6450048496605237\n",
      "Precision: 0.644502538756764\n",
      "Recall: 0.637556352304015\n",
      "f1_score: 0.6367957217768948\n"
     ]
    },
    {
     "name": "stderr",
     "output_type": "stream",
     "text": [
      "100%|██████████| 1/1 [00:00<00:00, 41.66it/s, EPOCH=14, AVG_LOSS=0.626]\n",
      "100%|██████████| 1/1 [00:00<00:00, 38.45it/s]\n"
     ]
    },
    {
     "name": "stdout",
     "output_type": "stream",
     "text": [
      "Accuracy: 0.6411251212415131\n",
      "Precision: 0.6413648744479902\n",
      "Recall: 0.6326907657862092\n",
      "f1_score: 0.6312161639597835\n"
     ]
    },
    {
     "name": "stderr",
     "output_type": "stream",
     "text": [
      "100%|██████████| 1/1 [00:00<00:00, 43.42it/s, EPOCH=15, AVG_LOSS=0.623]\n",
      "100%|██████████| 1/1 [00:00<00:00, 39.96it/s]\n"
     ]
    },
    {
     "name": "stdout",
     "output_type": "stream",
     "text": [
      "Accuracy: 0.6479146459747818\n",
      "Precision: 0.6509728431859579\n",
      "Recall: 0.6379269916190131\n",
      "f1_score: 0.6352654768506292\n"
     ]
    },
    {
     "name": "stderr",
     "output_type": "stream",
     "text": [
      "100%|██████████| 1/1 [00:00<00:00, 45.45it/s, EPOCH=16, AVG_LOSS=0.62]\n",
      "100%|██████████| 1/1 [00:00<00:00, 41.66it/s]\n"
     ]
    },
    {
     "name": "stdout",
     "output_type": "stream",
     "text": [
      "Accuracy: 0.6411251212415131\n",
      "Precision: 0.6464224937788077\n",
      "Recall: 0.6295157483888536\n",
      "f1_score: 0.6248091933402574\n"
     ]
    },
    {
     "name": "stderr",
     "output_type": "stream",
     "text": [
      "100%|██████████| 1/1 [00:00<00:00, 45.45it/s, EPOCH=17, AVG_LOSS=0.617]\n",
      "100%|██████████| 1/1 [00:00<00:00, 43.47it/s]\n"
     ]
    },
    {
     "name": "stdout",
     "output_type": "stream",
     "text": [
      "Accuracy: 0.6401551891367604\n",
      "Precision: 0.6470064830526912\n",
      "Recall: 0.6277816858793985\n",
      "f1_score: 0.6219916294835875\n"
     ]
    },
    {
     "name": "stderr",
     "output_type": "stream",
     "text": [
      "100%|██████████| 1/1 [00:00<00:00, 46.49it/s, EPOCH=18, AVG_LOSS=0.615]\n",
      "100%|██████████| 1/1 [00:00<00:00, 42.53it/s]\n"
     ]
    },
    {
     "name": "stdout",
     "output_type": "stream",
     "text": [
      "Accuracy: 0.6391852570320078\n",
      "Precision: 0.6454095549840231\n",
      "Recall: 0.6270139330126169\n",
      "f1_score: 0.6214766213463453\n"
     ]
    },
    {
     "name": "stderr",
     "output_type": "stream",
     "text": [
      "100%|██████████| 1/1 [00:00<00:00, 43.47it/s, EPOCH=19, AVG_LOSS=0.613]\n",
      "100%|██████████| 1/1 [00:00<00:00, 41.66it/s]\n"
     ]
    },
    {
     "name": "stdout",
     "output_type": "stream",
     "text": [
      "Accuracy: 0.6362754607177498\n",
      "Precision: 0.6402469041495853\n",
      "Recall: 0.6249867628816073\n",
      "f1_score: 0.6205321432462328\n"
     ]
    },
    {
     "name": "stderr",
     "output_type": "stream",
     "text": [
      "100%|██████████| 1/1 [00:00<00:00, 45.45it/s, EPOCH=20, AVG_LOSS=0.61]\n",
      "100%|██████████| 1/1 [00:00<00:00, 41.66it/s]\n"
     ]
    },
    {
     "name": "stdout",
     "output_type": "stream",
     "text": [
      "Accuracy: 0.6372453928225025\n",
      "Precision: 0.6404641665756372\n",
      "Recall: 0.626444736921727\n",
      "f1_score: 0.6226148811061785\n"
     ]
    },
    {
     "name": "stderr",
     "output_type": "stream",
     "text": [
      "100%|██████████| 1/1 [00:00<00:00, 45.45it/s, EPOCH=21, AVG_LOSS=0.607]\n",
      "100%|██████████| 1/1 [00:00<00:00, 41.66it/s]\n"
     ]
    },
    {
     "name": "stdout",
     "output_type": "stream",
     "text": [
      "Accuracy: 0.635305528612997\n",
      "Precision: 0.6370012816802415\n",
      "Recall: 0.6253233638921667\n",
      "f1_score: 0.6223443223443224\n"
     ]
    },
    {
     "name": "stderr",
     "output_type": "stream",
     "text": [
      "100%|██████████| 1/1 [00:00<00:00, 45.44it/s, EPOCH=22, AVG_LOSS=0.605]\n",
      "100%|██████████| 1/1 [00:00<00:00, 42.53it/s]\n"
     ]
    },
    {
     "name": "stdout",
     "output_type": "stream",
     "text": [
      "Accuracy: 0.6391852570320078\n",
      "Precision: 0.6399308943089431\n",
      "Recall: 0.6301889504099725\n",
      "f1_score: 0.62822789521845\n"
     ]
    },
    {
     "name": "stderr",
     "output_type": "stream",
     "text": [
      "100%|██████████| 1/1 [00:00<00:00, 12.97it/s, EPOCH=23, AVG_LOSS=0.602]\n",
      "100%|██████████| 1/1 [00:00<00:00, 12.64it/s]\n"
     ]
    },
    {
     "name": "stdout",
     "output_type": "stream",
     "text": [
      "Accuracy: 0.6372453928225025\n",
      "Precision: 0.6380045144519504\n",
      "Recall: 0.6281012677377387\n",
      "f1_score: 0.6259709773794281\n"
     ]
    },
    {
     "name": "stderr",
     "output_type": "stream",
     "text": [
      "100%|██████████| 1/1 [00:00<00:00, 44.43it/s, EPOCH=24, AVG_LOSS=0.6]\n",
      "100%|██████████| 1/1 [00:00<00:00, 40.80it/s]\n"
     ]
    },
    {
     "name": "stdout",
     "output_type": "stream",
     "text": [
      "Accuracy: 0.6372453928225025\n",
      "Precision: 0.6385439578477397\n",
      "Recall: 0.6276871350337357\n",
      "f1_score: 0.6251769161378624\n"
     ]
    },
    {
     "name": "stderr",
     "output_type": "stream",
     "text": [
      "100%|██████████| 1/1 [00:00<00:00, 45.44it/s, EPOCH=25, AVG_LOSS=0.598]\n",
      "100%|██████████| 1/1 [00:00<00:00, 43.47it/s]\n"
     ]
    },
    {
     "name": "stdout",
     "output_type": "stream",
     "text": [
      "Accuracy: 0.6362754607177498\n",
      "Precision: 0.6388082183778552\n",
      "Recall: 0.625815028289613\n",
      "f1_score: 0.6223469045877099\n"
     ]
    },
    {
     "name": "stderr",
     "output_type": "stream",
     "text": [
      "100%|██████████| 1/1 [00:00<00:00, 43.46it/s, EPOCH=26, AVG_LOSS=0.596]\n",
      "100%|██████████| 1/1 [00:00<00:00, 41.66it/s]\n"
     ]
    },
    {
     "name": "stdout",
     "output_type": "stream",
     "text": [
      "Accuracy: 0.6372453928225025\n",
      "Precision: 0.640227501256913\n",
      "Recall: 0.6265827811563947\n",
      "f1_score: 0.6229130808950085\n"
     ]
    },
    {
     "name": "stderr",
     "output_type": "stream",
     "text": [
      "100%|██████████| 1/1 [00:00<00:00, 43.47it/s, EPOCH=27, AVG_LOSS=0.593]\n",
      "100%|██████████| 1/1 [00:00<00:00, 39.99it/s]\n"
     ]
    },
    {
     "name": "stdout",
     "output_type": "stream",
     "text": [
      "Accuracy: 0.6498545101842871\n",
      "Precision: 0.6536059092800666\n",
      "Recall: 0.639600541587244\n",
      "f1_score: 0.6367255708631636\n"
     ]
    },
    {
     "name": "stderr",
     "output_type": "stream",
     "text": [
      "100%|██████████| 1/1 [00:00<00:00, 45.45it/s, EPOCH=28, AVG_LOSS=0.591]\n",
      "100%|██████████| 1/1 [00:00<00:00, 41.66it/s]\n"
     ]
    },
    {
     "name": "stdout",
     "output_type": "stream",
     "text": [
      "Accuracy: 0.6605237633365665\n",
      "Precision: 0.6639288762680149\n",
      "Recall: 0.65108279628453\n",
      "f1_score: 0.6492297343536144\n"
     ]
    },
    {
     "name": "stderr",
     "output_type": "stream",
     "text": [
      "100%|██████████| 1/1 [00:00<00:00, 13.60it/s, EPOCH=29, AVG_LOSS=0.589]\n",
      "100%|██████████| 1/1 [00:00<00:00, 13.24it/s]\n"
     ]
    },
    {
     "name": "stdout",
     "output_type": "stream",
     "text": [
      "Accuracy: 0.6576139670223085\n",
      "Precision: 0.6593156277791252\n",
      "Recall: 0.6490556261535203\n",
      "f1_score: 0.6478119795582832\n"
     ]
    },
    {
     "name": "stderr",
     "output_type": "stream",
     "text": [
      "100%|██████████| 1/1 [00:00<00:00, 43.47it/s, EPOCH=30, AVG_LOSS=0.586]\n",
      "100%|██████████| 1/1 [00:00<00:00, 39.99it/s]\n"
     ]
    },
    {
     "name": "stdout",
     "output_type": "stream",
     "text": [
      "Accuracy: 0.6644034917555771\n",
      "Precision: 0.6655071131713555\n",
      "Recall: 0.656638603975674\n",
      "f1_score: 0.6560151970994368\n"
     ]
    },
    {
     "name": "stderr",
     "output_type": "stream",
     "text": [
      "100%|██████████| 1/1 [00:00<00:00, 45.31it/s, EPOCH=31, AVG_LOSS=0.584]\n",
      "100%|██████████| 1/1 [00:00<00:00, 39.89it/s]\n"
     ]
    },
    {
     "name": "stdout",
     "output_type": "stream",
     "text": [
      "Accuracy: 0.6702230843840931\n",
      "Precision: 0.6711277006571368\n",
      "Recall: 0.6629016519923754\n",
      "f1_score: 0.662597118590558\n"
     ]
    },
    {
     "name": "stderr",
     "output_type": "stream",
     "text": [
      "100%|██████████| 1/1 [00:00<00:00, 43.47it/s, EPOCH=32, AVG_LOSS=0.582]\n",
      "100%|██████████| 1/1 [00:00<00:00, 38.45it/s]\n"
     ]
    },
    {
     "name": "stdout",
     "output_type": "stream",
     "text": [
      "Accuracy: 0.6692531522793405\n",
      "Precision: 0.6707548301932078\n",
      "Recall: 0.6614436779522557\n",
      "f1_score: 0.6608804524281939\n"
     ]
    },
    {
     "name": "stderr",
     "output_type": "stream",
     "text": [
      "100%|██████████| 1/1 [00:00<00:00, 43.46it/s, EPOCH=33, AVG_LOSS=0.58]\n",
      "100%|██████████| 1/1 [00:00<00:00, 39.99it/s]\n"
     ]
    },
    {
     "name": "stdout",
     "output_type": "stream",
     "text": [
      "Accuracy: 0.6653734238603298\n",
      "Precision: 0.6681033782686374\n",
      "Recall: 0.6565780914344498\n",
      "f1_score: 0.6553292925769271\n"
     ]
    },
    {
     "name": "stderr",
     "output_type": "stream",
     "text": [
      "100%|██████████| 1/1 [00:00<00:00, 44.42it/s, EPOCH=34, AVG_LOSS=0.578]\n",
      "100%|██████████| 1/1 [00:00<00:00, 41.65it/s]\n"
     ]
    },
    {
     "name": "stdout",
     "output_type": "stream",
     "text": [
      "Accuracy: 0.6682832201745877\n",
      "Precision: 0.6713638211382114\n",
      "Recall: 0.6594335269734652\n",
      "f1_score: 0.6582095165718007\n"
     ]
    },
    {
     "name": "stderr",
     "output_type": "stream",
     "text": [
      "100%|██████████| 1/1 [00:00<00:00, 13.42it/s, EPOCH=35, AVG_LOSS=0.576]\n",
      "100%|██████████| 1/1 [00:00<00:00, 13.07it/s]\n"
     ]
    },
    {
     "name": "stdout",
     "output_type": "stream",
     "text": [
      "Accuracy: 0.6731328806983511\n",
      "Precision: 0.675751659823006\n",
      "Recall: 0.6647907778887174\n",
      "f1_score: 0.6639975784794128\n"
     ]
    },
    {
     "name": "stderr",
     "output_type": "stream",
     "text": [
      "100%|██████████| 1/1 [00:00<00:00, 45.44it/s, EPOCH=36, AVG_LOSS=0.573]\n",
      "100%|██████████| 1/1 [00:00<00:00, 41.66it/s]\n"
     ]
    },
    {
     "name": "stdout",
     "output_type": "stream",
     "text": [
      "Accuracy: 0.6673132880698351\n",
      "Precision: 0.6679705795962434\n",
      "Recall: 0.6600462164533599\n",
      "f1_score: 0.6597212399386092\n"
     ]
    },
    {
     "name": "stderr",
     "output_type": "stream",
     "text": [
      "100%|██████████| 1/1 [00:00<00:00, 43.47it/s, EPOCH=37, AVG_LOSS=0.572]\n",
      "100%|██████████| 1/1 [00:00<00:00, 41.66it/s]\n"
     ]
    },
    {
     "name": "stdout",
     "output_type": "stream",
     "text": [
      "Accuracy: 0.6653734238603298\n",
      "Precision: 0.6651736537311554\n",
      "Recall: 0.658786799189132\n",
      "f1_score: 0.6587157283695939\n"
     ]
    },
    {
     "name": "stderr",
     "output_type": "stream",
     "text": [
      "100%|██████████| 1/1 [00:00<00:00, 46.49it/s, EPOCH=38, AVG_LOSS=0.57]\n",
      "100%|██████████| 1/1 [00:00<00:00, 42.53it/s]\n"
     ]
    },
    {
     "name": "stdout",
     "output_type": "stream",
     "text": [
      "Accuracy: 0.6673132880698351\n",
      "Precision: 0.6672017121455324\n",
      "Recall: 0.6607364376266982\n",
      "f1_score: 0.6606941879152773\n"
     ]
    },
    {
     "name": "stderr",
     "output_type": "stream",
     "text": [
      "100%|██████████| 1/1 [00:00<00:00, 45.44it/s, EPOCH=39, AVG_LOSS=0.568]\n",
      "100%|██████████| 1/1 [00:00<00:00, 41.66it/s]\n"
     ]
    },
    {
     "name": "stdout",
     "output_type": "stream",
     "text": [
      "Accuracy: 0.6711930164888458\n",
      "Precision: 0.6722421061003738\n",
      "Recall: 0.6638074490938246\n",
      "f1_score: 0.6634887471416536\n"
     ]
    },
    {
     "name": "stderr",
     "output_type": "stream",
     "text": [
      "100%|██████████| 1/1 [00:00<00:00, 45.45it/s, EPOCH=40, AVG_LOSS=0.566]\n",
      "100%|██████████| 1/1 [00:00<00:00, 41.66it/s]\n"
     ]
    },
    {
     "name": "stdout",
     "output_type": "stream",
     "text": [
      "Accuracy: 0.6731328806983511\n",
      "Precision: 0.6746770304365878\n",
      "Recall: 0.6654809990620556\n",
      "f1_score: 0.6650664522764977\n"
     ]
    },
    {
     "name": "stderr",
     "output_type": "stream",
     "text": [
      "100%|██████████| 1/1 [00:00<00:00, 43.47it/s, EPOCH=41, AVG_LOSS=0.564]\n",
      "100%|██████████| 1/1 [00:00<00:00, 41.66it/s]\n"
     ]
    },
    {
     "name": "stdout",
     "output_type": "stream",
     "text": [
      "Accuracy: 0.6721629485935985\n",
      "Precision: 0.6733600031844598\n",
      "Recall: 0.6647132461952739\n",
      "f1_score: 0.6643802633505149\n"
     ]
    },
    {
     "name": "stderr",
     "output_type": "stream",
     "text": [
      "100%|██████████| 1/1 [00:00<00:00, 42.54it/s, EPOCH=42, AVG_LOSS=0.562]\n",
      "100%|██████████| 1/1 [00:00<00:00, 37.72it/s]\n"
     ]
    },
    {
     "name": "stdout",
     "output_type": "stream",
     "text": [
      "Accuracy: 0.6779825412221144\n",
      "Precision: 0.6793200581649437\n",
      "Recall: 0.6707002057426401\n",
      "f1_score: 0.670536009917839\n"
     ]
    },
    {
     "name": "stderr",
     "output_type": "stream",
     "text": [
      "100%|██████████| 1/1 [00:00<00:00, 43.47it/s, EPOCH=43, AVG_LOSS=0.561]\n",
      "100%|██████████| 1/1 [00:00<00:00, 39.99it/s]\n"
     ]
    },
    {
     "name": "stdout",
     "output_type": "stream",
     "text": [
      "Accuracy: 0.6799224054316197\n",
      "Precision: 0.6808075579649444\n",
      "Recall: 0.6730639768842093\n",
      "f1_score: 0.6730946615934509\n"
     ]
    },
    {
     "name": "stderr",
     "output_type": "stream",
     "text": [
      "100%|██████████| 1/1 [00:00<00:00, 43.47it/s, EPOCH=44, AVG_LOSS=0.559]\n",
      "100%|██████████| 1/1 [00:00<00:00, 39.99it/s]\n"
     ]
    },
    {
     "name": "stdout",
     "output_type": "stream",
     "text": [
      "Accuracy: 0.6799224054316197\n",
      "Precision: 0.6808075579649444\n",
      "Recall: 0.6730639768842093\n",
      "f1_score: 0.6730946615934509\n"
     ]
    },
    {
     "name": "stderr",
     "output_type": "stream",
     "text": [
      "100%|██████████| 1/1 [00:00<00:00, 13.24it/s, EPOCH=45, AVG_LOSS=0.558]\n",
      "100%|██████████| 1/1 [00:00<00:00, 12.90it/s]\n"
     ]
    },
    {
     "name": "stdout",
     "output_type": "stream",
     "text": [
      "Accuracy: 0.6818622696411252\n",
      "Precision: 0.6828444310979753\n",
      "Recall: 0.6750136153217754\n",
      "f1_score: 0.6750759060686421\n"
     ]
    },
    {
     "name": "stderr",
     "output_type": "stream",
     "text": [
      "100%|██████████| 1/1 [00:00<00:00, 45.44it/s, EPOCH=46, AVG_LOSS=0.556]\n",
      "100%|██████████| 1/1 [00:00<00:00, 41.65it/s]\n"
     ]
    },
    {
     "name": "stdout",
     "output_type": "stream",
     "text": [
      "Accuracy: 0.6789524733268671\n",
      "Precision: 0.6793700626317942\n",
      "Recall: 0.6724342682520952\n",
      "f1_score: 0.6725649451893785\n"
     ]
    },
    {
     "name": "stderr",
     "output_type": "stream",
     "text": [
      "100%|██████████| 1/1 [00:00<00:00, 47.61it/s, EPOCH=47, AVG_LOSS=0.554]\n",
      "100%|██████████| 1/1 [00:00<00:00, 43.47it/s]\n"
     ]
    },
    {
     "name": "stdout",
     "output_type": "stream",
     "text": [
      "Accuracy: 0.6789524733268671\n",
      "Precision: 0.6789181719243026\n",
      "Recall: 0.6728484009560982\n",
      "f1_score: 0.6730956579881351\n"
     ]
    },
    {
     "name": "stderr",
     "output_type": "stream",
     "text": [
      "100%|██████████| 1/1 [00:00<00:00, 45.45it/s, EPOCH=48, AVG_LOSS=0.553]\n",
      "100%|██████████| 1/1 [00:00<00:00, 41.65it/s]\n"
     ]
    },
    {
     "name": "stdout",
     "output_type": "stream",
     "text": [
      "Accuracy: 0.6789524733268671\n",
      "Precision: 0.6792133066258199\n",
      "Recall: 0.6725723124867629\n",
      "f1_score: 0.6727445514323498\n"
     ]
    },
    {
     "name": "stderr",
     "output_type": "stream",
     "text": [
      "100%|██████████| 1/1 [00:00<00:00, 45.44it/s, EPOCH=49, AVG_LOSS=0.551]\n",
      "100%|██████████| 1/1 [00:00<00:00, 41.66it/s]\n"
     ]
    },
    {
     "name": "stdout",
     "output_type": "stream",
     "text": [
      "Accuracy: 0.6828322017458778\n",
      "Precision: 0.6835960591133006\n",
      "Recall: 0.67619550089256\n",
      "f1_score: 0.6763417479083564\n"
     ]
    },
    {
     "name": "stderr",
     "output_type": "stream",
     "text": [
      "100%|██████████| 1/1 [00:00<00:00, 45.45it/s, EPOCH=50, AVG_LOSS=0.55]\n",
      "100%|██████████| 1/1 [00:00<00:00, 41.66it/s]\n"
     ]
    },
    {
     "name": "stdout",
     "output_type": "stream",
     "text": [
      "Accuracy: 0.6779825412221144\n",
      "Precision: 0.678435865935866\n",
      "Recall: 0.6713904269159783\n",
      "f1_score: 0.6714846209364107\n"
     ]
    },
    {
     "name": "stderr",
     "output_type": "stream",
     "text": [
      "100%|██████████| 1/1 [00:00<00:00, 13.42it/s, EPOCH=51, AVG_LOSS=0.549]\n",
      "100%|██████████| 1/1 [00:00<00:00, 13.07it/s]\n"
     ]
    },
    {
     "name": "stdout",
     "output_type": "stream",
     "text": [
      "Accuracy: 0.6750727449078564\n",
      "Precision: 0.6746235862531904\n",
      "Recall: 0.6692252125503011\n",
      "f1_score: 0.6694896196668916\n"
     ]
    },
    {
     "name": "stderr",
     "output_type": "stream",
     "text": [
      "100%|██████████| 1/1 [00:00<00:00, 41.66it/s, EPOCH=52, AVG_LOSS=0.547]\n",
      "100%|██████████| 1/1 [00:00<00:00, 37.03it/s]\n"
     ]
    },
    {
     "name": "stdout",
     "output_type": "stream",
     "text": [
      "Accuracy: 0.6770126091173618\n",
      "Precision: 0.6766354191871493\n",
      "Recall: 0.6711748509878672\n",
      "f1_score: 0.6714628159673878\n"
     ]
    },
    {
     "name": "stderr",
     "output_type": "stream",
     "text": [
      "100%|██████████| 1/1 [00:00<00:00, 43.47it/s, EPOCH=53, AVG_LOSS=0.546]\n",
      "100%|██████████| 1/1 [00:00<00:00, 39.99it/s]\n"
     ]
    },
    {
     "name": "stdout",
     "output_type": "stream",
     "text": [
      "Accuracy: 0.6789524733268671\n",
      "Precision: 0.6789181719243026\n",
      "Recall: 0.6728484009560982\n",
      "f1_score: 0.6730956579881351\n"
     ]
    },
    {
     "name": "stderr",
     "output_type": "stream",
     "text": [
      "100%|██████████| 1/1 [00:00<00:00, 43.46it/s, EPOCH=54, AVG_LOSS=0.544]\n",
      "100%|██████████| 1/1 [00:00<00:00, 39.99it/s]\n"
     ]
    },
    {
     "name": "stdout",
     "output_type": "stream",
     "text": [
      "Accuracy: 0.6770126091173618\n",
      "Precision: 0.6766354191871493\n",
      "Recall: 0.6711748509878672\n",
      "f1_score: 0.6714628159673878\n"
     ]
    },
    {
     "name": "stderr",
     "output_type": "stream",
     "text": [
      "100%|██████████| 1/1 [00:00<00:00, 45.44it/s, EPOCH=55, AVG_LOSS=0.543]\n",
      "100%|██████████| 1/1 [00:00<00:00, 43.47it/s]\n"
     ]
    },
    {
     "name": "stdout",
     "output_type": "stream",
     "text": [
      "Accuracy: 0.6741028128031038\n",
      "Precision: 0.6735574898217044\n",
      "Recall: 0.6683194154488518\n",
      "f1_score: 0.6685876977475719\n"
     ]
    },
    {
     "name": "stderr",
     "output_type": "stream",
     "text": [
      "100%|██████████| 1/1 [00:00<00:00, 45.44it/s, EPOCH=56, AVG_LOSS=0.541]\n",
      "100%|██████████| 1/1 [00:00<00:00, 41.65it/s]\n"
     ]
    },
    {
     "name": "stdout",
     "output_type": "stream",
     "text": [
      "Accuracy: 0.6779825412221144\n",
      "Precision: 0.6774560959464195\n",
      "Recall: 0.6723567365586518\n",
      "f1_score: 0.6726984126984127\n"
     ]
    },
    {
     "name": "stderr",
     "output_type": "stream",
     "text": [
      "100%|██████████| 1/1 [00:00<00:00, 13.70it/s, EPOCH=57, AVG_LOSS=0.54]\n",
      "100%|██████████| 1/1 [00:00<00:00, 13.33it/s]\n"
     ]
    },
    {
     "name": "stdout",
     "output_type": "stream",
     "text": [
      "Accuracy: 0.6799224054316197\n",
      "Precision: 0.6791239511763885\n",
      "Recall: 0.6747205077002209\n",
      "f1_score: 0.675147230688146\n"
     ]
    },
    {
     "name": "stderr",
     "output_type": "stream",
     "text": [
      "100%|██████████| 1/1 [00:00<00:00, 42.54it/s, EPOCH=58, AVG_LOSS=0.539]\n",
      "100%|██████████| 1/1 [00:00<00:00, 40.80it/s]"
     ]
    },
    {
     "name": "stdout",
     "output_type": "stream",
     "text": [
      "Accuracy: 0.6799224054316197\n",
      "Precision: 0.6789269141531322\n",
      "Recall: 0.6749965961695561\n",
      "f1_score: 0.6754521520146521\n"
     ]
    },
    {
     "name": "stderr",
     "output_type": "stream",
     "text": [
      "\n",
      "100%|██████████| 1/1 [00:00<00:00, 45.45it/s, EPOCH=59, AVG_LOSS=0.537]\n",
      "100%|██████████| 1/1 [00:00<00:00, 39.99it/s]\n"
     ]
    },
    {
     "name": "stdout",
     "output_type": "stream",
     "text": [
      "Accuracy: 0.6770126091173618\n",
      "Precision: 0.6760763937322732\n",
      "Recall: 0.6718650721612054\n",
      "f1_score: 0.6722719397471326\n"
     ]
    },
    {
     "name": "stderr",
     "output_type": "stream",
     "text": [
      "100%|██████████| 1/1 [00:00<00:00, 45.45it/s, EPOCH=60, AVG_LOSS=0.536]\n",
      "100%|██████████| 1/1 [00:00<00:00, 39.99it/s]\n"
     ]
    },
    {
     "name": "stdout",
     "output_type": "stream",
     "text": [
      "Accuracy: 0.6702230843840931\n",
      "Precision: 0.6688828041122448\n",
      "Recall: 0.6653864482163929\n",
      "f1_score: 0.6657704042715484\n"
     ]
    },
    {
     "name": "stderr",
     "output_type": "stream",
     "text": [
      "100%|██████████| 1/1 [00:00<00:00, 46.49it/s, EPOCH=61, AVG_LOSS=0.534]\n",
      "100%|██████████| 1/1 [00:00<00:00, 42.53it/s]\n"
     ]
    },
    {
     "name": "stdout",
     "output_type": "stream",
     "text": [
      "Accuracy: 0.6731328806983511\n",
      "Precision: 0.6719088140728374\n",
      "Recall: 0.6682418837554083\n",
      "f1_score: 0.6686439797017055\n"
     ]
    },
    {
     "name": "stderr",
     "output_type": "stream",
     "text": [
      "100%|██████████| 1/1 [00:00<00:00, 30.30it/s, EPOCH=62, AVG_LOSS=0.533]\n",
      "100%|██████████| 1/1 [00:00<00:00, 28.56it/s]\n"
     ]
    },
    {
     "name": "stdout",
     "output_type": "stream",
     "text": [
      "Accuracy: 0.6721629485935985\n",
      "Precision: 0.6709532095901005\n",
      "Recall: 0.6671980424192914\n",
      "f1_score: 0.6675843253968253\n"
     ]
    },
    {
     "name": "stderr",
     "output_type": "stream",
     "text": [
      "100%|██████████| 1/1 [00:00<00:00, 45.44it/s, EPOCH=63, AVG_LOSS=0.532]\n",
      "100%|██████████| 1/1 [00:00<00:00, 41.66it/s]\n"
     ]
    },
    {
     "name": "stdout",
     "output_type": "stream",
     "text": [
      "Accuracy: 0.6702230843840931\n",
      "Precision: 0.6689597834493426\n",
      "Recall: 0.6652484039817252\n",
      "f1_score: 0.6656173687423688\n"
     ]
    },
    {
     "name": "stderr",
     "output_type": "stream",
     "text": [
      "100%|██████████| 1/1 [00:00<00:00, 45.44it/s, EPOCH=64, AVG_LOSS=0.53]\n",
      "100%|██████████| 1/1 [00:00<00:00, 41.66it/s]\n"
     ]
    },
    {
     "name": "stdout",
     "output_type": "stream",
     "text": [
      "Accuracy: 0.6702230843840931\n",
      "Precision: 0.6688112319679087\n",
      "Recall: 0.6655244924510605\n",
      "f1_score: 0.665920752674235\n"
     ]
    },
    {
     "name": "stderr",
     "output_type": "stream",
     "text": [
      "100%|██████████| 1/1 [00:00<00:00, 46.49it/s, EPOCH=65, AVG_LOSS=0.529]\n",
      "100%|██████████| 1/1 [00:00<00:00, 42.53it/s]\n"
     ]
    },
    {
     "name": "stdout",
     "output_type": "stream",
     "text": [
      "Accuracy: 0.6711930164888458\n",
      "Precision: 0.6699166821245286\n",
      "Recall: 0.6662922453178421\n",
      "f1_score: 0.6666774751302023\n"
     ]
    },
    {
     "name": "stderr",
     "output_type": "stream",
     "text": [
      "100%|██████████| 1/1 [00:00<00:00, 45.44it/s, EPOCH=66, AVG_LOSS=0.528]\n",
      "100%|██████████| 1/1 [00:00<00:00, 41.66it/s]\n"
     ]
    },
    {
     "name": "stdout",
     "output_type": "stream",
     "text": [
      "Accuracy: 0.6711930164888458\n",
      "Precision: 0.6700841586460222\n",
      "Recall: 0.6660161568485068\n",
      "f1_score: 0.6663669296524863\n"
     ]
    },
    {
     "name": "stderr",
     "output_type": "stream",
     "text": [
      "100%|██████████| 1/1 [00:00<00:00, 13.24it/s, EPOCH=67, AVG_LOSS=0.527]\n",
      "100%|██████████| 1/1 [00:00<00:00, 12.90it/s]\n"
     ]
    },
    {
     "name": "stdout",
     "output_type": "stream",
     "text": [
      "Accuracy: 0.6731328806983511\n",
      "Precision: 0.6719088140728374\n",
      "Recall: 0.6682418837554083\n",
      "f1_score: 0.6686439797017055\n"
     ]
    },
    {
     "name": "stderr",
     "output_type": "stream",
     "text": [
      "100%|██████████| 1/1 [00:00<00:00, 45.45it/s, EPOCH=68, AVG_LOSS=0.525]\n",
      "100%|██████████| 1/1 [00:00<00:00, 41.66it/s]\n"
     ]
    },
    {
     "name": "stdout",
     "output_type": "stream",
     "text": [
      "Accuracy: 0.6692531522793405\n",
      "Precision: 0.6677839025518464\n",
      "Recall: 0.6646186953496112\n",
      "f1_score: 0.6650125535371437\n"
     ]
    },
    {
     "name": "stderr",
     "output_type": "stream",
     "text": [
      "100%|██████████| 1/1 [00:00<00:00, 44.42it/s, EPOCH=69, AVG_LOSS=0.524]\n",
      "100%|██████████| 1/1 [00:00<00:00, 42.53it/s]\n"
     ]
    },
    {
     "name": "stdout",
     "output_type": "stream",
     "text": [
      "Accuracy: 0.6673132880698351\n",
      "Precision: 0.6659324182279107\n",
      "Recall: 0.6623929684427098\n",
      "f1_score: 0.6627444659871957\n"
     ]
    },
    {
     "name": "stderr",
     "output_type": "stream",
     "text": [
      "100%|██████████| 1/1 [00:00<00:00, 43.47it/s, EPOCH=70, AVG_LOSS=0.523]\n",
      "100%|██████████| 1/1 [00:00<00:00, 39.99it/s]\n"
     ]
    },
    {
     "name": "stdout",
     "output_type": "stream",
     "text": [
      "Accuracy: 0.6673132880698351\n",
      "Precision: 0.6659324182279107\n",
      "Recall: 0.6623929684427098\n",
      "f1_score: 0.6627444659871957\n"
     ]
    },
    {
     "name": "stderr",
     "output_type": "stream",
     "text": [
      "100%|██████████| 1/1 [00:00<00:00, 43.30it/s, EPOCH=71, AVG_LOSS=0.521]\n",
      "100%|██████████| 1/1 [00:00<00:00, 39.85it/s]\n"
     ]
    },
    {
     "name": "stdout",
     "output_type": "stream",
     "text": [
      "Accuracy: 0.6682832201745877\n",
      "Precision: 0.6669663573085847\n",
      "Recall: 0.6632987655441591\n",
      "f1_score: 0.6636504120879121\n"
     ]
    },
    {
     "name": "stderr",
     "output_type": "stream",
     "text": [
      "100%|██████████| 1/1 [00:00<00:00, 44.42it/s, EPOCH=72, AVG_LOSS=0.52]\n",
      "100%|██████████| 1/1 [00:00<00:00, 42.54it/s]\n"
     ]
    },
    {
     "name": "stdout",
     "output_type": "stream",
     "text": [
      "Accuracy: 0.6702230843840931\n",
      "Precision: 0.6689597834493426\n",
      "Recall: 0.6652484039817252\n",
      "f1_score: 0.6656173687423688\n"
     ]
    },
    {
     "name": "stderr",
     "output_type": "stream",
     "text": [
      "100%|██████████| 1/1 [00:00<00:00, 13.51it/s, EPOCH=73, AVG_LOSS=0.519]\n",
      "100%|██████████| 1/1 [00:00<00:00, 13.15it/s]\n"
     ]
    },
    {
     "name": "stdout",
     "output_type": "stream",
     "text": [
      "Accuracy: 0.6721629485935985\n",
      "Precision: 0.6710382640615199\n",
      "Recall: 0.6670599981846237\n",
      "f1_score: 0.6674295116010964\n"
     ]
    },
    {
     "name": "stderr",
     "output_type": "stream",
     "text": [
      "100%|██████████| 1/1 [00:00<00:00, 43.47it/s, EPOCH=74, AVG_LOSS=0.518]\n",
      "100%|██████████| 1/1 [00:00<00:00, 39.99it/s]\n"
     ]
    },
    {
     "name": "stdout",
     "output_type": "stream",
     "text": [
      "Accuracy: 0.6692531522793405\n",
      "Precision: 0.6677839025518464\n",
      "Recall: 0.6646186953496112\n",
      "f1_score: 0.6650125535371437\n"
     ]
    },
    {
     "name": "stderr",
     "output_type": "stream",
     "text": [
      "100%|██████████| 1/1 [00:00<00:00, 43.47it/s, EPOCH=75, AVG_LOSS=0.517]\n",
      "100%|██████████| 1/1 [00:00<00:00, 39.99it/s]\n"
     ]
    },
    {
     "name": "stdout",
     "output_type": "stream",
     "text": [
      "Accuracy: 0.6682832201745877\n",
      "Precision: 0.6668919492998215\n",
      "Recall: 0.6634368097788267\n",
      "f1_score: 0.6638043478260869\n"
     ]
    },
    {
     "name": "stderr",
     "output_type": "stream",
     "text": [
      "100%|██████████| 1/1 [00:00<00:00, 40.80it/s, EPOCH=76, AVG_LOSS=0.515]\n",
      "100%|██████████| 1/1 [00:00<00:00, 37.72it/s]\n"
     ]
    },
    {
     "name": "stdout",
     "output_type": "stream",
     "text": [
      "Accuracy: 0.6692531522793405\n",
      "Precision: 0.6680029408350423\n",
      "Recall: 0.6642045626456083\n",
      "f1_score: 0.6645561347114763\n"
     ]
    },
    {
     "name": "stderr",
     "output_type": "stream",
     "text": [
      "100%|██████████| 1/1 [00:00<00:00, 43.47it/s, EPOCH=77, AVG_LOSS=0.514]\n",
      "100%|██████████| 1/1 [00:00<00:00, 41.66it/s]\n"
     ]
    },
    {
     "name": "stdout",
     "output_type": "stream",
     "text": [
      "Accuracy: 0.6682832201745877\n",
      "Precision: 0.6669663573085847\n",
      "Recall: 0.6632987655441591\n",
      "f1_score: 0.6636504120879121\n"
     ]
    },
    {
     "name": "stderr",
     "output_type": "stream",
     "text": [
      "100%|██████████| 1/1 [00:00<00:00, 45.45it/s, EPOCH=78, AVG_LOSS=0.513]\n",
      "100%|██████████| 1/1 [00:00<00:00, 41.66it/s]\n"
     ]
    },
    {
     "name": "stdout",
     "output_type": "stream",
     "text": [
      "Accuracy: 0.6663433559650824\n",
      "Precision: 0.6649010944873983\n",
      "Recall: 0.6614871713412604\n",
      "f1_score: 0.6618382913806256\n"
     ]
    },
    {
     "name": "stderr",
     "output_type": "stream",
     "text": [
      "100%|██████████| 1/1 [00:00<00:00, 13.42it/s, EPOCH=79, AVG_LOSS=0.512]\n",
      "100%|██████████| 1/1 [00:00<00:00, 13.07it/s]\n"
     ]
    },
    {
     "name": "stdout",
     "output_type": "stream",
     "text": [
      "Accuracy: 0.6673132880698351\n",
      "Precision: 0.6659324182279107\n",
      "Recall: 0.6623929684427098\n",
      "f1_score: 0.6627444659871957\n"
     ]
    },
    {
     "name": "stderr",
     "output_type": "stream",
     "text": [
      "100%|██████████| 1/1 [00:00<00:00, 43.47it/s, EPOCH=80, AVG_LOSS=0.511]\n",
      "100%|██████████| 1/1 [00:00<00:00, 39.99it/s]\n"
     ]
    },
    {
     "name": "stdout",
     "output_type": "stream",
     "text": [
      "Accuracy: 0.6682832201745877\n",
      "Precision: 0.6669663573085847\n",
      "Recall: 0.6632987655441591\n",
      "f1_score: 0.6636504120879121\n"
     ]
    },
    {
     "name": "stderr",
     "output_type": "stream",
     "text": [
      "100%|██████████| 1/1 [00:00<00:00, 45.45it/s, EPOCH=81, AVG_LOSS=0.509]\n",
      "100%|██████████| 1/1 [00:00<00:00, 41.66it/s]"
     ]
    },
    {
     "name": "stdout",
     "output_type": "stream",
     "text": [
      "Accuracy: 0.6673132880698351\n",
      "Precision: 0.6659324182279107\n",
      "Recall: 0.6623929684427098\n",
      "f1_score: 0.6627444659871957\n"
     ]
    },
    {
     "name": "stderr",
     "output_type": "stream",
     "text": [
      "\n",
      "100%|██████████| 1/1 [00:00<00:00, 45.45it/s, EPOCH=82, AVG_LOSS=0.508]\n",
      "100%|██████████| 1/1 [00:00<00:00, 41.65it/s]\n"
     ]
    },
    {
     "name": "stdout",
     "output_type": "stream",
     "text": [
      "Accuracy: 0.6682832201745877\n",
      "Precision: 0.6668919492998215\n",
      "Recall: 0.6634368097788267\n",
      "f1_score: 0.6638043478260869\n"
     ]
    },
    {
     "name": "stderr",
     "output_type": "stream",
     "text": [
      "100%|██████████| 1/1 [00:00<00:00, 42.54it/s, EPOCH=83, AVG_LOSS=0.507]\n",
      "100%|██████████| 1/1 [00:00<00:00, 39.20it/s]\n"
     ]
    },
    {
     "name": "stdout",
     "output_type": "stream",
     "text": [
      "Accuracy: 0.6692531522793405\n",
      "Precision: 0.6678515465190777\n",
      "Recall: 0.6644806511149436\n",
      "f1_score: 0.6648631077836149\n"
     ]
    },
    {
     "name": "stderr",
     "output_type": "stream",
     "text": [
      "100%|██████████| 1/1 [00:00<00:00, 45.45it/s, EPOCH=84, AVG_LOSS=0.506]\n",
      "100%|██████████| 1/1 [00:00<00:00, 41.66it/s]\n"
     ]
    },
    {
     "name": "stdout",
     "output_type": "stream",
     "text": [
      "Accuracy: 0.6692531522793405\n",
      "Precision: 0.6679245501762197\n",
      "Recall: 0.664342606880276\n",
      "f1_score: 0.664710970558699\n"
     ]
    },
    {
     "name": "stderr",
     "output_type": "stream",
     "text": [
      "100%|██████████| 1/1 [00:00<00:00, 43.34it/s, EPOCH=85, AVG_LOSS=0.505]\n",
      "100%|██████████| 1/1 [00:00<00:00, 39.88it/s]\n"
     ]
    },
    {
     "name": "stdout",
     "output_type": "stream",
     "text": [
      "Accuracy: 0.6673132880698351\n",
      "Precision: 0.6659324182279107\n",
      "Recall: 0.6623929684427098\n",
      "f1_score: 0.6627444659871957\n"
     ]
    },
    {
     "name": "stderr",
     "output_type": "stream",
     "text": [
      "100%|██████████| 1/1 [00:00<00:00, 45.45it/s, EPOCH=86, AVG_LOSS=0.504]\n",
      "100%|██████████| 1/1 [00:00<00:00, 41.66it/s]\n"
     ]
    },
    {
     "name": "stdout",
     "output_type": "stream",
     "text": [
      "Accuracy: 0.6721629485935985\n",
      "Precision: 0.6707995834297616\n",
      "Recall: 0.6674741308886267\n",
      "f1_score: 0.6678859247173279\n"
     ]
    },
    {
     "name": "stderr",
     "output_type": "stream",
     "text": [
      "100%|██████████| 1/1 [00:00<00:00, 45.44it/s, EPOCH=87, AVG_LOSS=0.503]\n",
      "100%|██████████| 1/1 [00:00<00:00, 41.65it/s]"
     ]
    },
    {
     "name": "stdout",
     "output_type": "stream",
     "text": [
      "Accuracy: 0.6711930164888458\n",
      "Precision: 0.6698411411898201\n",
      "Recall: 0.6664302895525098\n",
      "f1_score: 0.6668287200546787\n"
     ]
    },
    {
     "name": "stderr",
     "output_type": "stream",
     "text": [
      "\n",
      "100%|██████████| 1/1 [00:00<00:00, 45.45it/s, EPOCH=88, AVG_LOSS=0.501]\n",
      "100%|██████████| 1/1 [00:00<00:00, 41.66it/s]\n"
     ]
    },
    {
     "name": "stdout",
     "output_type": "stream",
     "text": [
      "Accuracy: 0.6682832201745877\n",
      "Precision: 0.6668228805060556\n",
      "Recall: 0.6635748540134943\n",
      "f1_score: 0.6639555806311424\n"
     ]
    },
    {
     "name": "stderr",
     "output_type": "stream",
     "text": [
      "100%|██████████| 1/1 [00:00<00:00, 13.24it/s, EPOCH=89, AVG_LOSS=0.5]\n",
      "100%|██████████| 1/1 [00:00<00:00, 13.07it/s]\n"
     ]
    },
    {
     "name": "stdout",
     "output_type": "stream",
     "text": [
      "Accuracy: 0.6702230843840931\n",
      "Precision: 0.6689597834493426\n",
      "Recall: 0.6652484039817252\n",
      "f1_score: 0.6656173687423688\n"
     ]
    },
    {
     "name": "stderr",
     "output_type": "stream",
     "text": [
      "100%|██████████| 1/1 [00:00<00:00, 43.47it/s, EPOCH=90, AVG_LOSS=0.499]\n",
      "100%|██████████| 1/1 [00:00<00:00, 39.99it/s]\n"
     ]
    },
    {
     "name": "stdout",
     "output_type": "stream",
     "text": [
      "Accuracy: 0.6692531522793405\n",
      "Precision: 0.6679245501762197\n",
      "Recall: 0.664342606880276\n",
      "f1_score: 0.664710970558699\n"
     ]
    },
    {
     "name": "stderr",
     "output_type": "stream",
     "text": [
      "100%|██████████| 1/1 [00:00<00:00, 43.47it/s, EPOCH=91, AVG_LOSS=0.498]\n",
      "100%|██████████| 1/1 [00:00<00:00, 38.45it/s]\n"
     ]
    },
    {
     "name": "stdout",
     "output_type": "stream",
     "text": [
      "Accuracy: 0.6673132880698351\n",
      "Precision: 0.6659324182279107\n",
      "Recall: 0.6623929684427098\n",
      "f1_score: 0.6627444659871957\n"
     ]
    },
    {
     "name": "stderr",
     "output_type": "stream",
     "text": [
      "100%|██████████| 1/1 [00:00<00:00, 44.42it/s, EPOCH=92, AVG_LOSS=0.497]\n",
      "100%|██████████| 1/1 [00:00<00:00, 40.80it/s]\n"
     ]
    },
    {
     "name": "stdout",
     "output_type": "stream",
     "text": [
      "Accuracy: 0.6673132880698351\n",
      "Precision: 0.6656822027380402\n",
      "Recall: 0.6629451453813803\n",
      "f1_score: 0.6633403686345518\n"
     ]
    },
    {
     "name": "stderr",
     "output_type": "stream",
     "text": [
      "100%|██████████| 1/1 [00:00<00:00, 43.47it/s, EPOCH=93, AVG_LOSS=0.496]\n",
      "100%|██████████| 1/1 [00:00<00:00, 41.66it/s]\n"
     ]
    },
    {
     "name": "stdout",
     "output_type": "stream",
     "text": [
      "Accuracy: 0.6682832201745877\n",
      "Precision: 0.6667006556670566\n",
      "Recall: 0.6638509424828296\n",
      "f1_score: 0.6642499657205541\n"
     ]
    },
    {
     "name": "stderr",
     "output_type": "stream",
     "text": [
      "100%|██████████| 1/1 [00:00<00:00, 45.44it/s, EPOCH=94, AVG_LOSS=0.495]\n",
      "100%|██████████| 1/1 [00:00<00:00, 41.65it/s]\n"
     ]
    },
    {
     "name": "stdout",
     "output_type": "stream",
     "text": [
      "Accuracy: 0.6673132880698351\n",
      "Precision: 0.6657368692585491\n",
      "Recall: 0.6628071011467127\n",
      "f1_score: 0.6631954398479949\n"
     ]
    },
    {
     "name": "stderr",
     "output_type": "stream",
     "text": [
      "100%|██████████| 1/1 [00:00<00:00, 13.24it/s, EPOCH=95, AVG_LOSS=0.493]\n",
      "100%|██████████| 1/1 [00:00<00:00, 13.15it/s]\n"
     ]
    },
    {
     "name": "stdout",
     "output_type": "stream",
     "text": [
      "Accuracy: 0.6692531522793405\n",
      "Precision: 0.6677839025518464\n",
      "Recall: 0.6646186953496112\n",
      "f1_score: 0.6650125535371437\n"
     ]
    },
    {
     "name": "stderr",
     "output_type": "stream",
     "text": [
      "100%|██████████| 1/1 [00:00<00:00, 44.43it/s, EPOCH=96, AVG_LOSS=0.492]\n",
      "100%|██████████| 1/1 [00:00<00:00, 40.80it/s]\n"
     ]
    },
    {
     "name": "stdout",
     "output_type": "stream",
     "text": [
      "Accuracy: 0.6692531522793405\n",
      "Precision: 0.6675664165016806\n",
      "Recall: 0.6651708722882818\n",
      "f1_score: 0.665583560116694\n"
     ]
    },
    {
     "name": "stderr",
     "output_type": "stream",
     "text": [
      "100%|██████████| 1/1 [00:00<00:00, 43.47it/s, EPOCH=97, AVG_LOSS=0.491]\n",
      "100%|██████████| 1/1 [00:00<00:00, 41.66it/s]\n"
     ]
    },
    {
     "name": "stdout",
     "output_type": "stream",
     "text": [
      "Accuracy: 0.6682832201745877\n",
      "Precision: 0.6665994840374073\n",
      "Recall: 0.6641270309521649\n",
      "f1_score: 0.664533622559653\n"
     ]
    },
    {
     "name": "stderr",
     "output_type": "stream",
     "text": [
      "100%|██████████| 1/1 [00:00<00:00, 45.45it/s, EPOCH=98, AVG_LOSS=0.49]\n",
      "100%|██████████| 1/1 [00:00<00:00, 41.66it/s]\n"
     ]
    },
    {
     "name": "stdout",
     "output_type": "stream",
     "text": [
      "Accuracy: 0.6711930164888458\n",
      "Precision: 0.6695929906506157\n",
      "Recall: 0.6669824664911803\n",
      "f1_score: 0.6674070119644748\n"
     ]
    },
    {
     "name": "stderr",
     "output_type": "stream",
     "text": [
      "100%|██████████| 1/1 [00:00<00:00, 44.43it/s, EPOCH=99, AVG_LOSS=0.489]\n",
      "100%|██████████| 1/1 [00:00<00:00, 40.80it/s]\n"
     ]
    },
    {
     "name": "stdout",
     "output_type": "stream",
     "text": [
      "Accuracy: 0.6711930164888458\n",
      "Precision: 0.669500977348511\n",
      "Recall: 0.6672585549605156\n",
      "f1_score: 0.667680239606361\n"
     ]
    },
    {
     "name": "stderr",
     "output_type": "stream",
     "text": [
      "100%|██████████| 1/1 [00:00<00:00, 45.44it/s, EPOCH=100, AVG_LOSS=0.488]\n",
      "100%|██████████| 1/1 [00:00<00:00, 41.66it/s]\n"
     ]
    },
    {
     "name": "stdout",
     "output_type": "stream",
     "text": [
      "Accuracy: 0.6702230843840931\n",
      "Precision: 0.6684595014503403\n",
      "Recall: 0.6664908020937339\n",
      "f1_score: 0.6668985282491029\n"
     ]
    },
    {
     "name": "stderr",
     "output_type": "stream",
     "text": [
      "100%|██████████| 1/1 [00:00<00:00, 13.22it/s, EPOCH=101, AVG_LOSS=0.487]\n",
      "100%|██████████| 1/1 [00:00<00:00, 12.88it/s]\n"
     ]
    },
    {
     "name": "stdout",
     "output_type": "stream",
     "text": [
      "Accuracy: 0.6741028128031038\n",
      "Precision: 0.6724872493001495\n",
      "Recall: 0.670113990499531\n",
      "f1_score: 0.6705544016616072\n"
     ]
    },
    {
     "name": "stderr",
     "output_type": "stream",
     "text": [
      "100%|██████████| 1/1 [00:00<00:00, 45.44it/s, EPOCH=102, AVG_LOSS=0.486]\n",
      "100%|██████████| 1/1 [00:00<00:00, 41.66it/s]\n"
     ]
    },
    {
     "name": "stdout",
     "output_type": "stream",
     "text": [
      "Accuracy: 0.6731328806983511\n",
      "Precision: 0.6714017976668579\n",
      "Recall: 0.6694842818674169\n",
      "f1_score: 0.669901962554047\n"
     ]
    },
    {
     "name": "stderr",
     "output_type": "stream",
     "text": [
      "100%|██████████| 1/1 [00:00<00:00, 42.53it/s, EPOCH=103, AVG_LOSS=0.485]\n",
      "100%|██████████| 1/1 [00:00<00:00, 39.20it/s]\n"
     ]
    },
    {
     "name": "stdout",
     "output_type": "stream",
     "text": [
      "Accuracy: 0.6711930164888458\n",
      "Precision: 0.6694025402356825\n",
      "Recall: 0.6676726876645185\n",
      "f1_score: 0.6680703273910429\n"
     ]
    },
    {
     "name": "stderr",
     "output_type": "stream",
     "text": [
      "100%|██████████| 1/1 [00:00<00:00, 45.44it/s, EPOCH=104, AVG_LOSS=0.484]\n",
      "100%|██████████| 1/1 [00:00<00:00, 41.66it/s]\n"
     ]
    },
    {
     "name": "stdout",
     "output_type": "stream",
     "text": [
      "Accuracy: 0.6731328806983511\n",
      "Precision: 0.6714017976668579\n",
      "Recall: 0.6694842818674169\n",
      "f1_score: 0.669901962554047\n"
     ]
    },
    {
     "name": "stderr",
     "output_type": "stream",
     "text": [
      "100%|██████████| 1/1 [00:00<00:00, 43.47it/s, EPOCH=105, AVG_LOSS=0.482]\n",
      "100%|██████████| 1/1 [00:00<00:00, 39.99it/s]\n"
     ]
    },
    {
     "name": "stdout",
     "output_type": "stream",
     "text": [
      "Accuracy: 0.6770126091173618\n",
      "Precision: 0.6754283086121651\n",
      "Recall: 0.673107470273214\n",
      "f1_score: 0.6735620052770448\n"
     ]
    },
    {
     "name": "stderr",
     "output_type": "stream",
     "text": [
      "100%|██████████| 1/1 [00:00<00:00, 44.42it/s, EPOCH=106, AVG_LOSS=0.482]\n",
      "100%|██████████| 1/1 [00:00<00:00, 40.80it/s]\n"
     ]
    },
    {
     "name": "stdout",
     "output_type": "stream",
     "text": [
      "Accuracy: 0.6750727449078564\n",
      "Precision: 0.6734103160989953\n",
      "Recall: 0.6712958760703156\n",
      "f1_score: 0.6717325083519856\n"
     ]
    },
    {
     "name": "stderr",
     "output_type": "stream",
     "text": [
      "100%|██████████| 1/1 [00:00<00:00, 41.66it/s, EPOCH=107, AVG_LOSS=0.48]\n",
      "100%|██████████| 1/1 [00:00<00:00, 38.45it/s]\n"
     ]
    },
    {
     "name": "stdout",
     "output_type": "stream",
     "text": [
      "Accuracy: 0.6731328806983511\n",
      "Precision: 0.6714366117373194\n",
      "Recall: 0.6693462376327494\n",
      "f1_score: 0.6697727024316991\n"
     ]
    },
    {
     "name": "stderr",
     "output_type": "stream",
     "text": [
      "100%|██████████| 1/1 [00:00<00:00, 45.45it/s, EPOCH=108, AVG_LOSS=0.479]\n",
      "100%|██████████| 1/1 [00:00<00:00, 39.99it/s]"
     ]
    },
    {
     "name": "stdout",
     "output_type": "stream",
     "text": [
      "Accuracy: 0.6741028128031038\n",
      "Precision: 0.6724048860009644\n",
      "Recall: 0.6703900789688663\n",
      "f1_score: 0.6708173690932311\n"
     ]
    },
    {
     "name": "stderr",
     "output_type": "stream",
     "text": [
      "\n",
      "100%|██████████| 1/1 [00:00<00:00, 45.44it/s, EPOCH=109, AVG_LOSS=0.478]\n",
      "100%|██████████| 1/1 [00:00<00:00, 39.99it/s]\n"
     ]
    },
    {
     "name": "stdout",
     "output_type": "stream",
     "text": [
      "Accuracy: 0.6760426770126091\n",
      "Precision: 0.6744181146762281\n",
      "Recall: 0.6722016731717648\n",
      "f1_score: 0.6726473853922672\n"
     ]
    },
    {
     "name": "stderr",
     "output_type": "stream",
     "text": [
      "100%|██████████| 1/1 [00:00<00:00, 45.44it/s, EPOCH=110, AVG_LOSS=0.477]\n",
      "100%|██████████| 1/1 [00:00<00:00, 41.66it/s]\n"
     ]
    },
    {
     "name": "stdout",
     "output_type": "stream",
     "text": [
      "Accuracy: 0.6799224054316197\n",
      "Precision: 0.6784735338830792\n",
      "Recall: 0.6758248615775619\n",
      "f1_score: 0.6763043726452791\n"
     ]
    },
    {
     "name": "stderr",
     "output_type": "stream",
     "text": [
      "100%|██████████| 1/1 [00:00<00:00, 13.15it/s, EPOCH=111, AVG_LOSS=0.476]\n",
      "100%|██████████| 1/1 [00:00<00:00, 12.82it/s]\n"
     ]
    },
    {
     "name": "stdout",
     "output_type": "stream",
     "text": [
      "Accuracy: 0.6731328806983511\n",
      "Precision: 0.6714017976668579\n",
      "Recall: 0.6694842818674169\n",
      "f1_score: 0.669901962554047\n"
     ]
    },
    {
     "name": "stderr",
     "output_type": "stream",
     "text": [
      "100%|██████████| 1/1 [00:00<00:00, 42.53it/s, EPOCH=112, AVG_LOSS=0.475]\n",
      "100%|██████████| 1/1 [00:00<00:00, 40.79it/s]\n"
     ]
    },
    {
     "name": "stdout",
     "output_type": "stream",
     "text": [
      "Accuracy: 0.6760426770126091\n",
      "Precision: 0.6745155172678552\n",
      "Recall: 0.6719255847024296\n",
      "f1_score: 0.6723807892834037\n"
     ]
    },
    {
     "name": "stderr",
     "output_type": "stream",
     "text": [
      "100%|██████████| 1/1 [00:00<00:00, 43.47it/s, EPOCH=113, AVG_LOSS=0.474]\n",
      "100%|██████████| 1/1 [00:00<00:00, 39.99it/s]\n"
     ]
    },
    {
     "name": "stdout",
     "output_type": "stream",
     "text": [
      "Accuracy: 0.6721629485935985\n",
      "Precision: 0.6704321937256523\n",
      "Recall: 0.6684404405313\n",
      "f1_score: 0.668857948671167\n"
     ]
    },
    {
     "name": "stderr",
     "output_type": "stream",
     "text": [
      "100%|██████████| 1/1 [00:00<00:00, 45.44it/s, EPOCH=114, AVG_LOSS=0.473]\n",
      "100%|██████████| 1/1 [00:00<00:00, 41.66it/s]\n"
     ]
    },
    {
     "name": "stdout",
     "output_type": "stream",
     "text": [
      "Accuracy: 0.6741028128031038\n",
      "Precision: 0.6724433820600042\n",
      "Recall: 0.6702520347341987\n",
      "f1_score: 0.6706871900952149\n"
     ]
    },
    {
     "name": "stderr",
     "output_type": "stream",
     "text": [
      "100%|██████████| 1/1 [00:00<00:00, 45.44it/s, EPOCH=115, AVG_LOSS=0.472]\n",
      "100%|██████████| 1/1 [00:00<00:00, 41.66it/s]\n"
     ]
    },
    {
     "name": "stdout",
     "output_type": "stream",
     "text": [
      "Accuracy: 0.6760426770126091\n",
      "Precision: 0.6747027868309332\n",
      "Recall: 0.6715114519984267\n",
      "f1_score: 0.6719613312299473\n"
     ]
    },
    {
     "name": "stderr",
     "output_type": "stream",
     "text": [
      "100%|██████████| 1/1 [00:00<00:00, 45.45it/s, EPOCH=116, AVG_LOSS=0.471]\n",
      "100%|██████████| 1/1 [00:00<00:00, 43.47it/s]\n"
     ]
    },
    {
     "name": "stdout",
     "output_type": "stream",
     "text": [
      "Accuracy: 0.6692531522793405\n",
      "Precision: 0.6674123332747998\n",
      "Recall: 0.6658610934616198\n",
      "f1_score: 0.6662375623838832\n"
     ]
    },
    {
     "name": "stderr",
     "output_type": "stream",
     "text": [
      "100%|██████████| 1/1 [00:00<00:00, 13.42it/s, EPOCH=117, AVG_LOSS=0.47]\n",
      "100%|██████████| 1/1 [00:00<00:00, 13.07it/s]\n"
     ]
    },
    {
     "name": "stdout",
     "output_type": "stream",
     "text": [
      "Accuracy: 0.6721629485935985\n",
      "Precision: 0.6705575006526312\n",
      "Recall: 0.6680263078272972\n",
      "f1_score: 0.6684572059215284\n"
     ]
    },
    {
     "name": "stderr",
     "output_type": "stream",
     "text": [
      "100%|██████████| 1/1 [00:00<00:00, 45.44it/s, EPOCH=118, AVG_LOSS=0.47]\n",
      "100%|██████████| 1/1 [00:00<00:00, 41.66it/s]\n"
     ]
    },
    {
     "name": "stdout",
     "output_type": "stream",
     "text": [
      "Accuracy: 0.6760426770126091\n",
      "Precision: 0.6745155172678552\n",
      "Recall: 0.6719255847024296\n",
      "f1_score: 0.6723807892834037\n"
     ]
    },
    {
     "name": "stderr",
     "output_type": "stream",
     "text": [
      "100%|██████████| 1/1 [00:00<00:00, 44.43it/s, EPOCH=119, AVG_LOSS=0.468]\n",
      "100%|██████████| 1/1 [00:00<00:00, 39.20it/s]\n"
     ]
    },
    {
     "name": "stdout",
     "output_type": "stream",
     "text": [
      "Accuracy: 0.6721629485935985\n",
      "Precision: 0.6704321937256523\n",
      "Recall: 0.6684404405313\n",
      "f1_score: 0.668857948671167\n"
     ]
    },
    {
     "name": "stderr",
     "output_type": "stream",
     "text": [
      "100%|██████████| 1/1 [00:00<00:00, 39.99it/s, EPOCH=120, AVG_LOSS=0.467]\n",
      "100%|██████████| 1/1 [00:00<00:00, 37.03it/s]\n"
     ]
    },
    {
     "name": "stdout",
     "output_type": "stream",
     "text": [
      "Accuracy: 0.6760426770126091\n",
      "Precision: 0.6747027868309332\n",
      "Recall: 0.6715114519984267\n",
      "f1_score: 0.6719613312299473\n"
     ]
    },
    {
     "name": "stderr",
     "output_type": "stream",
     "text": [
      "100%|██████████| 1/1 [00:00<00:00, 43.47it/s, EPOCH=121, AVG_LOSS=0.467]\n",
      "100%|██████████| 1/1 [00:00<00:00, 39.99it/s]\n"
     ]
    },
    {
     "name": "stdout",
     "output_type": "stream",
     "text": [
      "Accuracy: 0.6711930164888458\n",
      "Precision: 0.6694629073756433\n",
      "Recall: 0.6673965991951831\n",
      "f1_score: 0.6678128965114124\n"
     ]
    },
    {
     "name": "stderr",
     "output_type": "stream",
     "text": [
      "100%|██████████| 1/1 [00:00<00:00, 41.62it/s, EPOCH=122, AVG_LOSS=0.465]\n",
      "100%|██████████| 1/1 [00:00<00:00, 38.42it/s]\n"
     ]
    },
    {
     "name": "stdout",
     "output_type": "stream",
     "text": [
      "Accuracy: 0.6721629485935985\n",
      "Precision: 0.6705104114737125\n",
      "Recall: 0.6681643520619649\n",
      "f1_score: 0.6685934159572121\n"
     ]
    },
    {
     "name": "stderr",
     "output_type": "stream",
     "text": [
      "100%|██████████| 1/1 [00:00<00:00, 13.60it/s, EPOCH=123, AVG_LOSS=0.464]\n",
      "100%|██████████| 1/1 [00:00<00:00, 13.07it/s]\n"
     ]
    },
    {
     "name": "stdout",
     "output_type": "stream",
     "text": [
      "Accuracy: 0.6750727449078564\n",
      "Precision: 0.6736757605858301\n",
      "Recall: 0.6706056548969774\n",
      "f1_score: 0.6710509397932312\n"
     ]
    },
    {
     "name": "stderr",
     "output_type": "stream",
     "text": [
      "100%|██████████| 1/1 [00:00<00:00, 43.47it/s, EPOCH=124, AVG_LOSS=0.463]\n",
      "100%|██████████| 1/1 [00:00<00:00, 39.99it/s]\n"
     ]
    },
    {
     "name": "stdout",
     "output_type": "stream",
     "text": [
      "Accuracy: 0.6702230843840931\n",
      "Precision: 0.6684939168275565\n",
      "Recall: 0.6663527578590662\n",
      "f1_score: 0.6667667995011103\n"
     ]
    },
    {
     "name": "stderr",
     "output_type": "stream",
     "text": [
      "100%|██████████| 1/1 [00:00<00:00, 45.45it/s, EPOCH=125, AVG_LOSS=0.463]\n",
      "100%|██████████| 1/1 [00:00<00:00, 41.66it/s]\n"
     ]
    },
    {
     "name": "stdout",
     "output_type": "stream",
     "text": [
      "Accuracy: 0.6741028128031038\n",
      "Precision: 0.6729466357308584\n",
      "Recall: 0.6691476808568575\n",
      "f1_score: 0.6695512820512821\n"
     ]
    },
    {
     "name": "stderr",
     "output_type": "stream",
     "text": [
      "100%|██████████| 1/1 [00:00<00:00, 44.43it/s, EPOCH=126, AVG_LOSS=0.462]\n",
      "100%|██████████| 1/1 [00:00<00:00, 42.53it/s]\n"
     ]
    },
    {
     "name": "stdout",
     "output_type": "stream",
     "text": [
      "Accuracy: 0.6702230843840931\n",
      "Precision: 0.6685335736472754\n",
      "Recall: 0.6662147136243987\n",
      "f1_score: 0.6666324302528169\n"
     ]
    },
    {
     "name": "stderr",
     "output_type": "stream",
     "text": [
      "100%|██████████| 1/1 [00:00<00:00, 45.45it/s, EPOCH=127, AVG_LOSS=0.461]\n",
      "100%|██████████| 1/1 [00:00<00:00, 39.99it/s]\n"
     ]
    },
    {
     "name": "stdout",
     "output_type": "stream",
     "text": [
      "Accuracy: 0.6731328806983511\n",
      "Precision: 0.6715222462667096\n",
      "Recall: 0.6690701491634141\n",
      "f1_score: 0.6695063336050612\n"
     ]
    },
    {
     "name": "stderr",
     "output_type": "stream",
     "text": [
      "100%|██████████| 1/1 [00:00<00:00, 39.99it/s, EPOCH=128, AVG_LOSS=0.46]\n",
      "100%|██████████| 1/1 [00:00<00:00, 37.03it/s]\n"
     ]
    },
    {
     "name": "stdout",
     "output_type": "stream",
     "text": [
      "Accuracy: 0.6731328806983511\n",
      "Precision: 0.6719088140728374\n",
      "Recall: 0.6682418837554083\n",
      "f1_score: 0.6686439797017055\n"
     ]
    },
    {
     "name": "stderr",
     "output_type": "stream",
     "text": [
      "100%|██████████| 1/1 [00:00<00:00, 43.47it/s, EPOCH=129, AVG_LOSS=0.459]\n",
      "100%|██████████| 1/1 [00:00<00:00, 39.99it/s]\n"
     ]
    },
    {
     "name": "stdout",
     "output_type": "stream",
     "text": [
      "Accuracy: 0.6711930164888458\n",
      "Precision: 0.669500977348511\n",
      "Recall: 0.6672585549605156\n",
      "f1_score: 0.667680239606361\n"
     ]
    },
    {
     "name": "stderr",
     "output_type": "stream",
     "text": [
      "100%|██████████| 1/1 [00:00<00:00, 46.49it/s, EPOCH=130, AVG_LOSS=0.458]\n",
      "100%|██████████| 1/1 [00:00<00:00, 42.53it/s]\n"
     ]
    },
    {
     "name": "stdout",
     "output_type": "stream",
     "text": [
      "Accuracy: 0.6731328806983511\n",
      "Precision: 0.6716293647131211\n",
      "Recall: 0.6687940606940789\n",
      "f1_score: 0.6692294583960465\n"
     ]
    },
    {
     "name": "stderr",
     "output_type": "stream",
     "text": [
      "100%|██████████| 1/1 [00:00<00:00, 43.47it/s, EPOCH=131, AVG_LOSS=0.456]\n",
      "100%|██████████| 1/1 [00:00<00:00, 43.47it/s]\n"
     ]
    },
    {
     "name": "stdout",
     "output_type": "stream",
     "text": [
      "Accuracy: 0.6741028128031038\n",
      "Precision: 0.672716871229457\n",
      "Recall: 0.6695618135608605\n",
      "f1_score: 0.6699970278241387\n"
     ]
    },
    {
     "name": "stderr",
     "output_type": "stream",
     "text": [
      "100%|██████████| 1/1 [00:00<00:00, 45.45it/s, EPOCH=132, AVG_LOSS=0.456]\n",
      "100%|██████████| 1/1 [00:00<00:00, 41.66it/s]\n"
     ]
    },
    {
     "name": "stdout",
     "output_type": "stream",
     "text": [
      "Accuracy: 0.6711930164888458\n",
      "Precision: 0.669500977348511\n",
      "Recall: 0.6672585549605156\n",
      "f1_score: 0.667680239606361\n"
     ]
    },
    {
     "name": "stderr",
     "output_type": "stream",
     "text": [
      "100%|██████████| 1/1 [00:00<00:00, 13.07it/s, EPOCH=133, AVG_LOSS=0.455]\n",
      "100%|██████████| 1/1 [00:00<00:00, 12.90it/s]\n"
     ]
    },
    {
     "name": "stdout",
     "output_type": "stream",
     "text": [
      "Accuracy: 0.6770126091173618\n",
      "Precision: 0.6758930779694553\n",
      "Recall: 0.6721411606305406\n",
      "f1_score: 0.672576988844712\n"
     ]
    },
    {
     "name": "stderr",
     "output_type": "stream",
     "text": [
      "100%|██████████| 1/1 [00:00<00:00, 45.44it/s, EPOCH=134, AVG_LOSS=0.454]\n",
      "100%|██████████| 1/1 [00:00<00:00, 42.53it/s]\n"
     ]
    },
    {
     "name": "stdout",
     "output_type": "stream",
     "text": [
      "Accuracy: 0.6692531522793405\n",
      "Precision: 0.6676128724965238\n",
      "Recall: 0.6650328280536142\n",
      "f1_score: 0.6654448114450913\n"
     ]
    },
    {
     "name": "stderr",
     "output_type": "stream",
     "text": [
      "100%|██████████| 1/1 [00:00<00:00, 41.66it/s, EPOCH=135, AVG_LOSS=0.453]\n",
      "100%|██████████| 1/1 [00:00<00:00, 39.99it/s]\n"
     ]
    },
    {
     "name": "stdout",
     "output_type": "stream",
     "text": [
      "Accuracy: 0.6711930164888458\n",
      "Precision: 0.6697710276771259\n",
      "Recall: 0.6665683337871774\n",
      "f1_score: 0.6669772892935241\n"
     ]
    },
    {
     "name": "stderr",
     "output_type": "stream",
     "text": [
      "100%|██████████| 1/1 [00:00<00:00, 43.47it/s, EPOCH=136, AVG_LOSS=0.452]\n",
      "100%|██████████| 1/1 [00:00<00:00, 39.99it/s]\n"
     ]
    },
    {
     "name": "stdout",
     "output_type": "stream",
     "text": [
      "Accuracy: 0.6750727449078564\n",
      "Precision: 0.6736757605858301\n",
      "Recall: 0.6706056548969774\n",
      "f1_score: 0.6710509397932312\n"
     ]
    },
    {
     "name": "stderr",
     "output_type": "stream",
     "text": [
      "100%|██████████| 1/1 [00:00<00:00, 44.42it/s, EPOCH=137, AVG_LOSS=0.451]\n",
      "100%|██████████| 1/1 [00:00<00:00, 40.79it/s]\n"
     ]
    },
    {
     "name": "stdout",
     "output_type": "stream",
     "text": [
      "Accuracy: 0.6760426770126091\n",
      "Precision: 0.6747027868309332\n",
      "Recall: 0.6715114519984267\n",
      "f1_score: 0.6719613312299473\n"
     ]
    },
    {
     "name": "stderr",
     "output_type": "stream",
     "text": [
      "100%|██████████| 1/1 [00:00<00:00, 45.44it/s, EPOCH=138, AVG_LOSS=0.45]\n",
      "100%|██████████| 1/1 [00:00<00:00, 39.99it/s]\n"
     ]
    },
    {
     "name": "stdout",
     "output_type": "stream",
     "text": [
      "Accuracy: 0.6731328806983511\n",
      "Precision: 0.6718307358605624\n",
      "Recall: 0.668379927990076\n",
      "f1_score: 0.6687943323257426\n"
     ]
    },
    {
     "name": "stderr",
     "output_type": "stream",
     "text": [
      "100%|██████████| 1/1 [00:00<00:00, 13.60it/s, EPOCH=139, AVG_LOSS=0.449]\n",
      "100%|██████████| 1/1 [00:00<00:00, 13.24it/s]\n"
     ]
    },
    {
     "name": "stdout",
     "output_type": "stream",
     "text": [
      "Accuracy: 0.6711930164888458\n",
      "Precision: 0.6696469773880942\n",
      "Recall: 0.6668444222565126\n",
      "f1_score: 0.6672664284755483\n"
     ]
    },
    {
     "name": "stderr",
     "output_type": "stream",
     "text": [
      "100%|██████████| 1/1 [00:00<00:00, 45.45it/s, EPOCH=140, AVG_LOSS=0.449]\n",
      "100%|██████████| 1/1 [00:00<00:00, 41.66it/s]\n"
     ]
    },
    {
     "name": "stdout",
     "output_type": "stream",
     "text": [
      "Accuracy: 0.6760426770126091\n",
      "Precision: 0.6749400618716164\n",
      "Recall: 0.6710973192944237\n",
      "f1_score: 0.6715182387057387\n"
     ]
    },
    {
     "name": "stderr",
     "output_type": "stream",
     "text": [
      "100%|██████████| 1/1 [00:00<00:00, 45.44it/s, EPOCH=141, AVG_LOSS=0.448]\n",
      "100%|██████████| 1/1 [00:00<00:00, 41.65it/s]\n"
     ]
    },
    {
     "name": "stdout",
     "output_type": "stream",
     "text": [
      "Accuracy: 0.6682832201745877\n",
      "Precision: 0.6665994840374073\n",
      "Recall: 0.6641270309521649\n",
      "f1_score: 0.664533622559653\n"
     ]
    },
    {
     "name": "stderr",
     "output_type": "stream",
     "text": [
      "100%|██████████| 1/1 [00:00<00:00, 45.45it/s, EPOCH=142, AVG_LOSS=0.447]\n",
      "100%|██████████| 1/1 [00:00<00:00, 41.66it/s]"
     ]
    },
    {
     "name": "stdout",
     "output_type": "stream",
     "text": [
      "Accuracy: 0.6731328806983511\n",
      "Precision: 0.6720815703414392\n",
      "Recall: 0.667965795286073\n",
      "f1_score: 0.6683352663507018\n"
     ]
    },
    {
     "name": "stderr",
     "output_type": "stream",
     "text": [
      "\n",
      "100%|██████████| 1/1 [00:00<00:00, 43.47it/s, EPOCH=143, AVG_LOSS=0.446]\n",
      "100%|██████████| 1/1 [00:00<00:00, 39.99it/s]\n"
     ]
    },
    {
     "name": "stdout",
     "output_type": "stream",
     "text": [
      "Accuracy: 0.6682832201745877\n",
      "Precision: 0.6667006556670566\n",
      "Recall: 0.6638509424828296\n",
      "f1_score: 0.6642499657205541\n"
     ]
    },
    {
     "name": "stderr",
     "output_type": "stream",
     "text": [
      "100%|██████████| 1/1 [00:00<00:00, 45.44it/s, EPOCH=144, AVG_LOSS=0.445]\n",
      "100%|██████████| 1/1 [00:00<00:00, 43.47it/s]\n"
     ]
    },
    {
     "name": "stdout",
     "output_type": "stream",
     "text": [
      "Accuracy: 0.6702230843840931\n",
      "Precision: 0.6688828041122448\n",
      "Recall: 0.6653864482163929\n",
      "f1_score: 0.6657704042715484\n"
     ]
    },
    {
     "name": "stderr",
     "output_type": "stream",
     "text": [
      "100%|██████████| 1/1 [00:00<00:00, 13.15it/s, EPOCH=145, AVG_LOSS=0.444]\n",
      "100%|██████████| 1/1 [00:00<00:00, 12.82it/s]\n"
     ]
    },
    {
     "name": "stdout",
     "output_type": "stream",
     "text": [
      "Accuracy: 0.6750727449078564\n",
      "Precision: 0.6736757605858301\n",
      "Recall: 0.6706056548969774\n",
      "f1_score: 0.6710509397932312\n"
     ]
    },
    {
     "name": "stderr",
     "output_type": "stream",
     "text": [
      "100%|██████████| 1/1 [00:00<00:00, 44.42it/s, EPOCH=146, AVG_LOSS=0.443]\n",
      "100%|██████████| 1/1 [00:00<00:00, 40.80it/s]\n"
     ]
    },
    {
     "name": "stdout",
     "output_type": "stream",
     "text": [
      "Accuracy: 0.6721629485935985\n",
      "Precision: 0.670667749184264\n",
      "Recall: 0.667750219357962\n",
      "f1_score: 0.6681768667062784\n"
     ]
    },
    {
     "name": "stderr",
     "output_type": "stream",
     "text": [
      "100%|██████████| 1/1 [00:00<00:00, 45.44it/s, EPOCH=147, AVG_LOSS=0.442]\n",
      "100%|██████████| 1/1 [00:00<00:00, 41.66it/s]\n"
     ]
    },
    {
     "name": "stdout",
     "output_type": "stream",
     "text": [
      "Accuracy: 0.6682832201745877\n",
      "Precision: 0.6668919492998215\n",
      "Recall: 0.6634368097788267\n",
      "f1_score: 0.6638043478260869\n"
     ]
    },
    {
     "name": "stderr",
     "output_type": "stream",
     "text": [
      "100%|██████████| 1/1 [00:00<00:00, 45.44it/s, EPOCH=148, AVG_LOSS=0.441]\n",
      "100%|██████████| 1/1 [00:00<00:00, 41.65it/s]\n"
     ]
    },
    {
     "name": "stdout",
     "output_type": "stream",
     "text": [
      "Accuracy: 0.6711930164888458\n",
      "Precision: 0.6695443313841951\n",
      "Recall: 0.667120510725848\n",
      "f1_score: 0.6675449468608776\n"
     ]
    },
    {
     "name": "stderr",
     "output_type": "stream",
     "text": [
      "100%|██████████| 1/1 [00:00<00:00, 44.64it/s, EPOCH=149, AVG_LOSS=0.44]\n",
      "100%|██████████| 1/1 [00:00<00:00, 41.66it/s]\n"
     ]
    },
    {
     "name": "stdout",
     "output_type": "stream",
     "text": [
      "Accuracy: 0.6702230843840931\n",
      "Precision: 0.6688828041122448\n",
      "Recall: 0.6653864482163929\n",
      "f1_score: 0.6657704042715484\n"
     ]
    },
    {
     "name": "stderr",
     "output_type": "stream",
     "text": [
      "100%|██████████| 1/1 [00:00<00:00, 45.45it/s, EPOCH=150, AVG_LOSS=0.44]\n",
      "100%|██████████| 1/1 [00:00<00:00, 41.66it/s]\n"
     ]
    },
    {
     "name": "stdout",
     "output_type": "stream",
     "text": [
      "Accuracy: 0.6721629485935985\n",
      "Precision: 0.670667749184264\n",
      "Recall: 0.667750219357962\n",
      "f1_score: 0.6681768667062784\n"
     ]
    },
    {
     "name": "stderr",
     "output_type": "stream",
     "text": [
      "100%|██████████| 1/1 [00:00<00:00, 43.47it/s, EPOCH=151, AVG_LOSS=0.438]\n",
      "100%|██████████| 1/1 [00:00<00:00, 39.99it/s]\n"
     ]
    },
    {
     "name": "stdout",
     "output_type": "stream",
     "text": [
      "Accuracy: 0.6711930164888458\n",
      "Precision: 0.6698411411898201\n",
      "Recall: 0.6664302895525098\n",
      "f1_score: 0.6668287200546787\n"
     ]
    },
    {
     "name": "stderr",
     "output_type": "stream",
     "text": [
      "100%|██████████| 1/1 [00:00<00:00, 43.47it/s, EPOCH=152, AVG_LOSS=0.437]\n",
      "100%|██████████| 1/1 [00:00<00:00, 41.66it/s]\n"
     ]
    },
    {
     "name": "stdout",
     "output_type": "stream",
     "text": [
      "Accuracy: 0.6721629485935985\n",
      "Precision: 0.6705575006526312\n",
      "Recall: 0.6680263078272972\n",
      "f1_score: 0.6684572059215284\n"
     ]
    },
    {
     "name": "stderr",
     "output_type": "stream",
     "text": [
      "100%|██████████| 1/1 [00:00<00:00, 45.35it/s, EPOCH=153, AVG_LOSS=0.437]\n",
      "100%|██████████| 1/1 [00:00<00:00, 41.58it/s]\n"
     ]
    },
    {
     "name": "stdout",
     "output_type": "stream",
     "text": [
      "Accuracy: 0.6692531522793405\n",
      "Precision: 0.6677839025518464\n",
      "Recall: 0.6646186953496112\n",
      "f1_score: 0.6650125535371437\n"
     ]
    },
    {
     "name": "stderr",
     "output_type": "stream",
     "text": [
      "100%|██████████| 1/1 [00:00<00:00, 45.45it/s, EPOCH=154, AVG_LOSS=0.435]\n",
      "100%|██████████| 1/1 [00:00<00:00, 41.66it/s]\n"
     ]
    },
    {
     "name": "stdout",
     "output_type": "stream",
     "text": [
      "Accuracy: 0.6731328806983511\n",
      "Precision: 0.6717581528024054\n",
      "Recall: 0.6685179722247436\n",
      "f1_score: 0.6689420250499045\n"
     ]
    },
    {
     "name": "stderr",
     "output_type": "stream",
     "text": [
      "100%|██████████| 1/1 [00:00<00:00, 13.07it/s, EPOCH=155, AVG_LOSS=0.435]\n",
      "100%|██████████| 1/1 [00:00<00:00, 12.74it/s]\n"
     ]
    },
    {
     "name": "stdout",
     "output_type": "stream",
     "text": [
      "Accuracy: 0.6711930164888458\n",
      "Precision: 0.6696469773880942\n",
      "Recall: 0.6668444222565126\n",
      "f1_score: 0.6672664284755483\n"
     ]
    },
    {
     "name": "stderr",
     "output_type": "stream",
     "text": [
      "100%|██████████| 1/1 [00:00<00:00, 41.66it/s, EPOCH=156, AVG_LOSS=0.434]\n",
      "100%|██████████| 1/1 [00:00<00:00, 38.45it/s]\n"
     ]
    },
    {
     "name": "stdout",
     "output_type": "stream",
     "text": [
      "Accuracy: 0.6731328806983511\n",
      "Precision: 0.6719088140728374\n",
      "Recall: 0.6682418837554083\n",
      "f1_score: 0.6686439797017055\n"
     ]
    },
    {
     "name": "stderr",
     "output_type": "stream",
     "text": [
      "100%|██████████| 1/1 [00:00<00:00, 44.42it/s, EPOCH=157, AVG_LOSS=0.432]\n",
      "100%|██████████| 1/1 [00:00<00:00, 40.80it/s]\n"
     ]
    },
    {
     "name": "stdout",
     "output_type": "stream",
     "text": [
      "Accuracy: 0.6789524733268671\n",
      "Precision: 0.6775134632669837\n",
      "Recall: 0.674781020241445\n",
      "f1_score: 0.6752558140420094\n"
     ]
    },
    {
     "name": "stderr",
     "output_type": "stream",
     "text": [
      "100%|██████████| 1/1 [00:00<00:00, 43.47it/s, EPOCH=158, AVG_LOSS=0.432]\n",
      "100%|██████████| 1/1 [00:00<00:00, 39.99it/s]\n"
     ]
    },
    {
     "name": "stdout",
     "output_type": "stream",
     "text": [
      "Accuracy: 0.6760426770126091\n",
      "Precision: 0.6748553685495146\n",
      "Recall: 0.6712353635290913\n",
      "f1_score: 0.6716685736079329\n"
     ]
    },
    {
     "name": "stderr",
     "output_type": "stream",
     "text": [
      "100%|██████████| 1/1 [00:00<00:00, 43.47it/s, EPOCH=159, AVG_LOSS=0.431]\n",
      "100%|██████████| 1/1 [00:00<00:00, 39.99it/s]\n"
     ]
    },
    {
     "name": "stdout",
     "output_type": "stream",
     "text": [
      "Accuracy: 0.6760426770126091\n",
      "Precision: 0.6746348427014714\n",
      "Recall: 0.6716494962330943\n",
      "f1_score: 0.672103767692003\n"
     ]
    },
    {
     "name": "stderr",
     "output_type": "stream",
     "text": [
      "100%|██████████| 1/1 [00:00<00:00, 46.49it/s, EPOCH=160, AVG_LOSS=0.43]\n",
      "100%|██████████| 1/1 [00:00<00:00, 42.53it/s]\n"
     ]
    },
    {
     "name": "stdout",
     "output_type": "stream",
     "text": [
      "Accuracy: 0.6770126091173618\n",
      "Precision: 0.6756604834176503\n",
      "Recall: 0.6725552933345436\n",
      "f1_score: 0.6730148147795403\n"
     ]
    },
    {
     "name": "stderr",
     "output_type": "stream",
     "text": [
      "100%|██████████| 1/1 [00:00<00:00, 13.70it/s, EPOCH=161, AVG_LOSS=0.429]\n",
      "100%|██████████| 1/1 [00:00<00:00, 13.33it/s]\n"
     ]
    },
    {
     "name": "stdout",
     "output_type": "stream",
     "text": [
      "Accuracy: 0.6799224054316197\n",
      "Precision: 0.6786746180338857\n",
      "Recall: 0.675410728873559\n",
      "f1_score: 0.6758899380415646\n"
     ]
    },
    {
     "name": "stderr",
     "output_type": "stream",
     "text": [
      "100%|██████████| 1/1 [00:00<00:00, 45.45it/s, EPOCH=162, AVG_LOSS=0.428]\n",
      "100%|██████████| 1/1 [00:00<00:00, 41.66it/s]\n"
     ]
    },
    {
     "name": "stdout",
     "output_type": "stream",
     "text": [
      "Accuracy: 0.6828322017458778\n",
      "Precision: 0.6814118206792823\n",
      "Recall: 0.6788183413512451\n",
      "f1_score: 0.6793132673259793\n"
     ]
    },
    {
     "name": "stderr",
     "output_type": "stream",
     "text": [
      "100%|██████████| 1/1 [00:00<00:00, 45.25it/s, EPOCH=163, AVG_LOSS=0.427]\n",
      "100%|██████████| 1/1 [00:00<00:00, 39.84it/s]\n"
     ]
    },
    {
     "name": "stdout",
     "output_type": "stream",
     "text": [
      "Accuracy: 0.6750727449078564\n",
      "Precision: 0.6738203305313047\n",
      "Recall: 0.6703295664276421\n",
      "f1_score: 0.6707599445968064\n"
     ]
    },
    {
     "name": "stderr",
     "output_type": "stream",
     "text": [
      "100%|██████████| 1/1 [00:00<00:00, 41.66it/s, EPOCH=164, AVG_LOSS=0.426]\n",
      "100%|██████████| 1/1 [00:00<00:00, 39.20it/s]\n"
     ]
    },
    {
     "name": "stdout",
     "output_type": "stream",
     "text": [
      "Accuracy: 0.6750727449078564\n",
      "Precision: 0.6736757605858301\n",
      "Recall: 0.6706056548969774\n",
      "f1_score: 0.6710509397932312\n"
     ]
    },
    {
     "name": "stderr",
     "output_type": "stream",
     "text": [
      "100%|██████████| 1/1 [00:00<00:00, 43.47it/s, EPOCH=165, AVG_LOSS=0.425]\n",
      "100%|██████████| 1/1 [00:00<00:00, 39.99it/s]\n"
     ]
    },
    {
     "name": "stdout",
     "output_type": "stream",
     "text": [
      "Accuracy: 0.6779825412221144\n",
      "Precision: 0.6767646378153205\n",
      "Recall: 0.6733230462013252\n",
      "f1_score: 0.6737814408466061\n"
     ]
    },
    {
     "name": "stderr",
     "output_type": "stream",
     "text": [
      "100%|██████████| 1/1 [00:00<00:00, 45.45it/s, EPOCH=166, AVG_LOSS=0.424]\n",
      "100%|██████████| 1/1 [00:00<00:00, 41.66it/s]\n"
     ]
    },
    {
     "name": "stdout",
     "output_type": "stream",
     "text": [
      "Accuracy: 0.6799224054316197\n",
      "Precision: 0.6786019362186788\n",
      "Recall: 0.6755487731082267\n",
      "f1_score: 0.6760306686777275\n"
     ]
    },
    {
     "name": "stderr",
     "output_type": "stream",
     "text": [
      "100%|██████████| 1/1 [00:00<00:00, 12.42it/s, EPOCH=167, AVG_LOSS=0.424]\n",
      "100%|██████████| 1/1 [00:00<00:00, 12.27it/s]\n"
     ]
    },
    {
     "name": "stdout",
     "output_type": "stream",
     "text": [
      "Accuracy: 0.6789524733268671\n",
      "Precision: 0.6775134632669837\n",
      "Recall: 0.674781020241445\n",
      "f1_score: 0.6752558140420094\n"
     ]
    },
    {
     "name": "stderr",
     "output_type": "stream",
     "text": [
      "100%|██████████| 1/1 [00:00<00:00, 45.44it/s, EPOCH=168, AVG_LOSS=0.423]\n",
      "100%|██████████| 1/1 [00:00<00:00, 41.66it/s]\n"
     ]
    },
    {
     "name": "stdout",
     "output_type": "stream",
     "text": [
      "Accuracy: 0.6779825412221144\n",
      "Precision: 0.6766183894600751\n",
      "Recall: 0.6735991346706605\n",
      "f1_score: 0.6740672181848653\n"
     ]
    },
    {
     "name": "stderr",
     "output_type": "stream",
     "text": [
      "100%|██████████| 1/1 [00:00<00:00, 43.47it/s, EPOCH=169, AVG_LOSS=0.422]\n",
      "100%|██████████| 1/1 [00:00<00:00, 39.99it/s]\n"
     ]
    },
    {
     "name": "stdout",
     "output_type": "stream",
     "text": [
      "Accuracy: 0.6789524733268671\n",
      "Precision: 0.6775765266882019\n",
      "Recall: 0.6746429760067774\n",
      "f1_score: 0.6751185481575412\n"
     ]
    },
    {
     "name": "stderr",
     "output_type": "stream",
     "text": [
      "100%|██████████| 1/1 [00:00<00:00, 43.47it/s, EPOCH=170, AVG_LOSS=0.421]\n",
      "100%|██████████| 1/1 [00:00<00:00, 39.99it/s]\n"
     ]
    },
    {
     "name": "stdout",
     "output_type": "stream",
     "text": [
      "Accuracy: 0.6808923375363725\n",
      "Precision: 0.6794339057967678\n",
      "Recall: 0.6768687029136788\n",
      "f1_score: 0.6773518805817956\n"
     ]
    },
    {
     "name": "stderr",
     "output_type": "stream",
     "text": [
      "100%|██████████| 1/1 [00:00<00:00, 44.43it/s, EPOCH=171, AVG_LOSS=0.42]\n",
      "100%|██████████| 1/1 [00:00<00:00, 40.80it/s]\n"
     ]
    },
    {
     "name": "stdout",
     "output_type": "stream",
     "text": [
      "Accuracy: 0.6799224054316197\n",
      "Precision: 0.6784735338830792\n",
      "Recall: 0.6758248615775619\n",
      "f1_score: 0.6763043726452791\n"
     ]
    },
    {
     "name": "stderr",
     "output_type": "stream",
     "text": [
      "100%|██████████| 1/1 [00:00<00:00, 45.44it/s, EPOCH=172, AVG_LOSS=0.419]\n",
      "100%|██████████| 1/1 [00:00<00:00, 41.66it/s]\n"
     ]
    },
    {
     "name": "stdout",
     "output_type": "stream",
     "text": [
      "Accuracy: 0.6770126091173618\n",
      "Precision: 0.6756604834176503\n",
      "Recall: 0.6725552933345436\n",
      "f1_score: 0.6730148147795403\n"
     ]
    },
    {
     "name": "stderr",
     "output_type": "stream",
     "text": [
      "100%|██████████| 1/1 [00:00<00:00, 40.79it/s, EPOCH=173, AVG_LOSS=0.418]\n",
      "100%|██████████| 1/1 [00:00<00:00, 37.72it/s]\n"
     ]
    },
    {
     "name": "stdout",
     "output_type": "stream",
     "text": [
      "Accuracy: 0.6779825412221144\n",
      "Precision: 0.6766183894600751\n",
      "Recall: 0.6735991346706605\n",
      "f1_score: 0.6740672181848653\n"
     ]
    },
    {
     "name": "stderr",
     "output_type": "stream",
     "text": [
      "100%|██████████| 1/1 [00:00<00:00, 43.47it/s, EPOCH=174, AVG_LOSS=0.417]\n",
      "100%|██████████| 1/1 [00:00<00:00, 41.66it/s]\n"
     ]
    },
    {
     "name": "stdout",
     "output_type": "stream",
     "text": [
      "Accuracy: 0.6808923375363725\n",
      "Precision: 0.6794339057967678\n",
      "Recall: 0.6768687029136788\n",
      "f1_score: 0.6773518805817956\n"
     ]
    },
    {
     "name": "stderr",
     "output_type": "stream",
     "text": [
      "100%|██████████| 1/1 [00:00<00:00, 45.44it/s, EPOCH=175, AVG_LOSS=0.417]\n",
      "100%|██████████| 1/1 [00:00<00:00, 41.65it/s]\n"
     ]
    },
    {
     "name": "stdout",
     "output_type": "stream",
     "text": [
      "Accuracy: 0.6799224054316197\n",
      "Precision: 0.6786019362186788\n",
      "Recall: 0.6755487731082267\n",
      "f1_score: 0.6760306686777275\n"
     ]
    },
    {
     "name": "stderr",
     "output_type": "stream",
     "text": [
      "100%|██████████| 1/1 [00:00<00:00, 41.66it/s, EPOCH=176, AVG_LOSS=0.416]\n",
      "100%|██████████| 1/1 [00:00<00:00, 41.66it/s]\n"
     ]
    },
    {
     "name": "stdout",
     "output_type": "stream",
     "text": [
      "Accuracy: 0.6818622696411252\n",
      "Precision: 0.680660533635362\n",
      "Recall: 0.6773603673111253\n",
      "f1_score: 0.6778542414473734\n"
     ]
    },
    {
     "name": "stderr",
     "output_type": "stream",
     "text": [
      "100%|██████████| 1/1 [00:00<00:00, 12.90it/s, EPOCH=177, AVG_LOSS=0.415]\n",
      "100%|██████████| 1/1 [00:00<00:00, 12.57it/s]\n"
     ]
    },
    {
     "name": "stdout",
     "output_type": "stream",
     "text": [
      "Accuracy: 0.6818622696411252\n",
      "Precision: 0.6804525421906912\n",
      "Recall: 0.6777745000151282\n",
      "f1_score: 0.6782661643262169\n"
     ]
    },
    {
     "name": "stderr",
     "output_type": "stream",
     "text": [
      "100%|██████████| 1/1 [00:00<00:00, 43.47it/s, EPOCH=178, AVG_LOSS=0.414]\n",
      "100%|██████████| 1/1 [00:00<00:00, 41.66it/s]\n"
     ]
    },
    {
     "name": "stdout",
     "output_type": "stream",
     "text": [
      "Accuracy: 0.6838021338506305\n",
      "Precision: 0.6824974057419577\n",
      "Recall: 0.6795860942180267\n",
      "f1_score: 0.6800940379197442\n"
     ]
    },
    {
     "name": "stderr",
     "output_type": "stream",
     "text": [
      "100%|██████████| 1/1 [00:00<00:00, 45.44it/s, EPOCH=179, AVG_LOSS=0.414]\n",
      "100%|██████████| 1/1 [00:00<00:00, 41.66it/s]\n"
     ]
    },
    {
     "name": "stdout",
     "output_type": "stream",
     "text": [
      "Accuracy: 0.6847720659553831\n",
      "Precision: 0.6834538177292597\n",
      "Recall: 0.6806299355541436\n",
      "f1_score: 0.6811424156001602\n"
     ]
    },
    {
     "name": "stderr",
     "output_type": "stream",
     "text": [
      "100%|██████████| 1/1 [00:00<00:00, 44.42it/s, EPOCH=180, AVG_LOSS=0.412]\n",
      "100%|██████████| 1/1 [00:00<00:00, 40.80it/s]\n"
     ]
    },
    {
     "name": "stdout",
     "output_type": "stream",
     "text": [
      "Accuracy: 0.6867119301648884\n",
      "Precision: 0.6855840975767516\n",
      "Recall: 0.6823034855223745\n",
      "f1_score: 0.6828341897110857\n"
     ]
    },
    {
     "name": "stderr",
     "output_type": "stream",
     "text": [
      "100%|██████████| 1/1 [00:00<00:00, 45.45it/s, EPOCH=181, AVG_LOSS=0.412]\n",
      "100%|██████████| 1/1 [00:00<00:00, 41.66it/s]\n"
     ]
    },
    {
     "name": "stdout",
     "output_type": "stream",
     "text": [
      "Accuracy: 0.6838021338506305\n",
      "Precision: 0.6821879511446183\n",
      "Recall: 0.6804143596260326\n",
      "f1_score: 0.6808595085267195\n"
     ]
    },
    {
     "name": "stderr",
     "output_type": "stream",
     "text": [
      "100%|██████████| 1/1 [00:00<00:00, 43.47it/s, EPOCH=182, AVG_LOSS=0.411]\n",
      "100%|██████████| 1/1 [00:00<00:00, 43.47it/s]\n"
     ]
    },
    {
     "name": "stdout",
     "output_type": "stream",
     "text": [
      "Accuracy: 0.6857419980601358\n",
      "Precision: 0.6852358765288293\n",
      "Recall: 0.6804313787782519\n",
      "f1_score: 0.6809000871199964\n"
     ]
    },
    {
     "name": "stderr",
     "output_type": "stream",
     "text": [
      "100%|██████████| 1/1 [00:00<00:00, 13.51it/s, EPOCH=183, AVG_LOSS=0.411]\n",
      "100%|██████████| 1/1 [00:00<00:00, 13.16it/s]\n"
     ]
    },
    {
     "name": "stdout",
     "output_type": "stream",
     "text": [
      "Accuracy: 0.6838021338506305\n",
      "Precision: 0.6820903110274756\n",
      "Recall: 0.6815187135033736\n",
      "f1_score: 0.6817395026096705\n"
     ]
    },
    {
     "name": "stderr",
     "output_type": "stream",
     "text": [
      "100%|██████████| 1/1 [00:00<00:00, 44.43it/s, EPOCH=184, AVG_LOSS=0.411]\n",
      "100%|██████████| 1/1 [00:00<00:00, 42.54it/s]\n"
     ]
    },
    {
     "name": "stdout",
     "output_type": "stream",
     "text": [
      "Accuracy: 0.6915615906886518\n",
      "Precision: 0.6916502878000843\n",
      "Recall: 0.6858661613869474\n",
      "f1_score: 0.6863419282253806\n"
     ]
    },
    {
     "name": "stderr",
     "output_type": "stream",
     "text": [
      "100%|██████████| 1/1 [00:00<00:00, 45.44it/s, EPOCH=185, AVG_LOSS=0.41]\n",
      "100%|██████████| 1/1 [00:00<00:00, 41.66it/s]\n"
     ]
    },
    {
     "name": "stdout",
     "output_type": "stream",
     "text": [
      "Accuracy: 0.6838021338506305\n",
      "Precision: 0.6821562118437119\n",
      "Recall: 0.6805524038607002\n",
      "f1_score: 0.6809782526159127\n"
     ]
    },
    {
     "name": "stderr",
     "output_type": "stream",
     "text": [
      "100%|██████████| 1/1 [00:00<00:00, 45.45it/s, EPOCH=186, AVG_LOSS=0.408]\n",
      "100%|██████████| 1/1 [00:00<00:00, 41.65it/s]\n"
     ]
    },
    {
     "name": "stdout",
     "output_type": "stream",
     "text": [
      "Accuracy: 0.6847720659553831\n",
      "Precision: 0.6831908080761765\n",
      "Recall: 0.6813201567274818\n",
      "f1_score: 0.681778337469289\n"
     ]
    },
    {
     "name": "stderr",
     "output_type": "stream",
     "text": [
      "100%|██████████| 1/1 [00:00<00:00, 44.42it/s, EPOCH=187, AVG_LOSS=0.407]\n",
      "100%|██████████| 1/1 [00:00<00:00, 40.80it/s]\n"
     ]
    },
    {
     "name": "stdout",
     "output_type": "stream",
     "text": [
      "Accuracy: 0.6867119301648884\n",
      "Precision: 0.6861773949482015\n",
      "Recall: 0.6814752201143688\n",
      "f1_score: 0.6819618273588104\n"
     ]
    },
    {
     "name": "stderr",
     "output_type": "stream",
     "text": [
      "100%|██████████| 1/1 [00:00<00:00, 43.47it/s, EPOCH=188, AVG_LOSS=0.408]\n",
      "100%|██████████| 1/1 [00:00<00:00, 38.45it/s]\n"
     ]
    },
    {
     "name": "stdout",
     "output_type": "stream",
     "text": [
      "Accuracy: 0.6857419980601358\n",
      "Precision: 0.6840454172116934\n",
      "Recall: 0.6830542192369369\n",
      "f1_score: 0.6833826205641492\n"
     ]
    },
    {
     "name": "stderr",
     "output_type": "stream",
     "text": [
      "100%|██████████| 1/1 [00:00<00:00, 12.56it/s, EPOCH=189, AVG_LOSS=0.406]\n",
      "100%|██████████| 1/1 [00:00<00:00, 12.25it/s]\n"
     ]
    },
    {
     "name": "stdout",
     "output_type": "stream",
     "text": [
      "Accuracy: 0.6818622696411252\n",
      "Precision: 0.6805161612667666\n",
      "Recall: 0.6776364557804605\n",
      "f1_score: 0.6781314246554482\n"
     ]
    },
    {
     "name": "stderr",
     "output_type": "stream",
     "text": [
      "100%|██████████| 1/1 [00:00<00:00, 41.66it/s, EPOCH=190, AVG_LOSS=0.404]\n",
      "100%|██████████| 1/1 [00:00<00:00, 38.45it/s]\n"
     ]
    },
    {
     "name": "stdout",
     "output_type": "stream",
     "text": [
      "Accuracy: 0.6838021338506305\n",
      "Precision: 0.6829137664346481\n",
      "Recall: 0.6788958730446886\n",
      "f1_score: 0.6793860653235654\n"
     ]
    },
    {
     "name": "stderr",
     "output_type": "stream",
     "text": [
      "100%|██████████| 1/1 [00:00<00:00, 44.42it/s, EPOCH=191, AVG_LOSS=0.404]\n",
      "100%|██████████| 1/1 [00:00<00:00, 40.80it/s]\n"
     ]
    },
    {
     "name": "stdout",
     "output_type": "stream",
     "text": [
      "Accuracy: 0.6808923375363725\n",
      "Precision: 0.6791446693759733\n",
      "Recall: 0.6783871894950229\n",
      "f1_score: 0.6786564541264631\n"
     ]
    },
    {
     "name": "stderr",
     "output_type": "stream",
     "text": [
      "100%|██████████| 1/1 [00:00<00:00, 45.44it/s, EPOCH=192, AVG_LOSS=0.404]\n",
      "100%|██████████| 1/1 [00:00<00:00, 41.66it/s]\n"
     ]
    },
    {
     "name": "stdout",
     "output_type": "stream",
     "text": [
      "Accuracy: 0.6847720659553831\n",
      "Precision: 0.6834538177292597\n",
      "Recall: 0.6806299355541436\n",
      "f1_score: 0.6811424156001602\n"
     ]
    },
    {
     "name": "stderr",
     "output_type": "stream",
     "text": [
      "100%|██████████| 1/1 [00:00<00:00, 43.47it/s, EPOCH=193, AVG_LOSS=0.401]\n",
      "100%|██████████| 1/1 [00:00<00:00, 39.99it/s]\n"
     ]
    },
    {
     "name": "stdout",
     "output_type": "stream",
     "text": [
      "Accuracy: 0.6818622696411252\n",
      "Precision: 0.6805854829772825\n",
      "Recall: 0.6774984115457928\n",
      "f1_score: 0.6779941191705898\n"
     ]
    },
    {
     "name": "stderr",
     "output_type": "stream",
     "text": [
      "100%|██████████| 1/1 [00:00<00:00, 44.42it/s, EPOCH=194, AVG_LOSS=0.401]\n",
      "100%|██████████| 1/1 [00:00<00:00, 40.80it/s]\n"
     ]
    },
    {
     "name": "stdout",
     "output_type": "stream",
     "text": [
      "Accuracy: 0.6847720659553831\n",
      "Precision: 0.6830623213525513\n",
      "Recall: 0.6821484221354875\n",
      "f1_score: 0.6824586791152909\n"
     ]
    },
    {
     "name": "stderr",
     "output_type": "stream",
     "text": [
      "100%|██████████| 1/1 [00:00<00:00, 42.53it/s, EPOCH=195, AVG_LOSS=0.401]\n",
      "100%|██████████| 1/1 [00:00<00:00, 39.20it/s]\n"
     ]
    },
    {
     "name": "stdout",
     "output_type": "stream",
     "text": [
      "Accuracy: 0.6828322017458778\n",
      "Precision: 0.6814118206792823\n",
      "Recall: 0.6788183413512451\n",
      "f1_score: 0.6793132673259793\n"
     ]
    },
    {
     "name": "stderr",
     "output_type": "stream",
     "text": [
      "100%|██████████| 1/1 [00:00<00:00, 45.45it/s, EPOCH=196, AVG_LOSS=0.399]\n",
      "100%|██████████| 1/1 [00:00<00:00, 41.66it/s]\n"
     ]
    },
    {
     "name": "stdout",
     "output_type": "stream",
     "text": [
      "Accuracy: 0.6838021338506305\n",
      "Precision: 0.6824315504983032\n",
      "Recall: 0.6797241384526944\n",
      "f1_score: 0.6802279560071545\n"
     ]
    },
    {
     "name": "stderr",
     "output_type": "stream",
     "text": [
      "100%|██████████| 1/1 [00:00<00:00, 45.44it/s, EPOCH=197, AVG_LOSS=0.398]\n",
      "100%|██████████| 1/1 [00:00<00:00, 43.47it/s]\n"
     ]
    },
    {
     "name": "stdout",
     "output_type": "stream",
     "text": [
      "Accuracy: 0.6818622696411252\n",
      "Precision: 0.6801250266175889\n",
      "Recall: 0.6791549423618044\n",
      "f1_score: 0.6794737640279042\n"
     ]
    },
    {
     "name": "stderr",
     "output_type": "stream",
     "text": [
      "100%|██████████| 1/1 [00:00<00:00, 46.49it/s, EPOCH=198, AVG_LOSS=0.398]\n",
      "100%|██████████| 1/1 [00:00<00:00, 42.54it/s]\n"
     ]
    },
    {
     "name": "stdout",
     "output_type": "stream",
     "text": [
      "Accuracy: 0.6818622696411252\n",
      "Precision: 0.6803423125248996\n",
      "Recall: 0.6780505884844634\n",
      "f1_score: 0.678527971283424\n"
     ]
    },
    {
     "name": "stderr",
     "output_type": "stream",
     "text": [
      "100%|██████████| 1/1 [00:00<00:00, 12.98it/s, EPOCH=199, AVG_LOSS=0.396]\n",
      "100%|██████████| 1/1 [00:00<00:00, 12.42it/s]"
     ]
    },
    {
     "name": "stdout",
     "output_type": "stream",
     "text": [
      "Accuracy: 0.6799224054316197\n",
      "Precision: 0.6784177627794609\n",
      "Recall: 0.6759629058122296\n",
      "f1_score: 0.6764373587747928\n"
     ]
    },
    {
     "name": "stderr",
     "output_type": "stream",
     "text": [
      "\n"
     ]
    }
   ],
   "source": [
    "#RNNbased, LSTMbased, GRUbased, BI_RNNbased, BI_LSTMbased, BI_GRUbased\n",
    "train_losses = []\n",
    "val_losses = []\n",
    "BI_LSTMmodel = BI_LSTMbased().cuda()\n",
    "loss_fn = torch.nn.CrossEntropyLoss()\n",
    "optimizer = torch.optim.Adam(BI_LSTMmodel.parameters(), lr=1e-3)\n",
    "epoch(BI_LSTMmodel, optimizer, loss_fn)"
   ]
  },
  {
   "cell_type": "code",
   "execution_count": 20,
   "metadata": {},
   "outputs": [
    {
     "data": {
      "image/png": "[encoded data removed]",
      "text/plain": [
       "<Figure size 640x480 with 1 Axes>"
      ]
     },
     "metadata": {},
     "output_type": "display_data"
    }
   ],
   "source": [
    "plt.plot(train_losses, label = \"Training Loss\")\n",
    "plt.plot(val_losses, label = \"Val Loss\")\n",
    "plt.title('Loss')\n",
    "plt.legend()\n",
    "plt.show()"
   ]
  },
  {
   "cell_type": "code",
   "execution_count": 21,
   "metadata": {},
   "outputs": [
    {
     "name": "stderr",
     "output_type": "stream",
     "text": [
      "100%|██████████| 1/1 [00:00<00:00, 41.66it/s, EPOCH=0, AVG_LOSS=0.767]\n",
      "100%|██████████| 1/1 [00:00<00:00, 37.03it/s]\n"
     ]
    },
    {
     "name": "stdout",
     "output_type": "stream",
     "text": [
      "Accuracy: 0.489815712900097\n",
      "Precision: 0.5537327471181399\n",
      "Recall: 0.5185811321896463\n",
      "f1_score: 0.4091239921551536\n"
     ]
    },
    {
     "name": "stderr",
     "output_type": "stream",
     "text": [
      "100%|██████████| 1/1 [00:00<00:00, 45.45it/s, EPOCH=1, AVG_LOSS=0.721]\n",
      "100%|██████████| 1/1 [00:00<00:00, 39.99it/s]\n"
     ]
    },
    {
     "name": "stdout",
     "output_type": "stream",
     "text": [
      "Accuracy: 0.513094083414161\n",
      "Precision: 0.5225105384554204\n",
      "Recall: 0.5214082024749629\n",
      "f1_score: 0.5099178843866706\n"
     ]
    },
    {
     "name": "stderr",
     "output_type": "stream",
     "text": [
      "100%|██████████| 1/1 [00:00<00:00, 45.45it/s, EPOCH=2, AVG_LOSS=0.695]\n",
      "100%|██████████| 1/1 [00:00<00:00, 39.99it/s]\n"
     ]
    },
    {
     "name": "stdout",
     "output_type": "stream",
     "text": [
      "Accuracy: 0.533462657613967\n",
      "Precision: 0.5185519715931665\n",
      "Recall: 0.5113026080905267\n",
      "f1_score: 0.4686825354819839\n"
     ]
    },
    {
     "name": "stderr",
     "output_type": "stream",
     "text": [
      "100%|██████████| 1/1 [00:00<00:00, 40.80it/s, EPOCH=3, AVG_LOSS=0.685]\n",
      "100%|██████████| 1/1 [00:00<00:00, 37.72it/s]\n"
     ]
    },
    {
     "name": "stdout",
     "output_type": "stream",
     "text": [
      "Accuracy: 0.5431619786614937\n",
      "Precision: 0.6034425686858655\n",
      "Recall: 0.5094550845662764\n",
      "f1_score: 0.3807507743787436\n"
     ]
    },
    {
     "name": "stderr",
     "output_type": "stream",
     "text": [
      "100%|██████████| 1/1 [00:00<00:00, 12.80it/s, EPOCH=4, AVG_LOSS=0.686]\n",
      "100%|██████████| 1/1 [00:00<00:00, 12.48it/s]\n"
     ]
    },
    {
     "name": "stdout",
     "output_type": "stream",
     "text": [
      "Accuracy: 0.5373423860329777\n",
      "Precision: 0.6016260162601625\n",
      "Recall: 0.502363771141569\n",
      "f1_score: 0.35701089763285376\n"
     ]
    },
    {
     "name": "stderr",
     "output_type": "stream",
     "text": [
      "100%|██████████| 1/1 [00:00<00:00, 45.44it/s, EPOCH=5, AVG_LOSS=0.689]\n",
      "100%|██████████| 1/1 [00:00<00:00, 41.66it/s]\n"
     ]
    },
    {
     "name": "stdout",
     "output_type": "stream",
     "text": [
      "Accuracy: 0.5363724539282251\n",
      "Precision: 0.5537806919642857\n",
      "Recall: 0.5014579740401198\n",
      "f1_score: 0.3565807064820038\n"
     ]
    },
    {
     "name": "stderr",
     "output_type": "stream",
     "text": [
      "100%|██████████| 1/1 [00:00<00:00, 45.45it/s, EPOCH=6, AVG_LOSS=0.691]\n",
      "100%|██████████| 1/1 [00:00<00:00, 41.66it/s]\n"
     ]
    },
    {
     "name": "stdout",
     "output_type": "stream",
     "text": [
      "Accuracy: 0.5363724539282251\n",
      "Precision: 0.545879539030224\n",
      "Recall: 0.5015960182747874\n",
      "f1_score: 0.3584034619951257\n"
     ]
    },
    {
     "name": "stderr",
     "output_type": "stream",
     "text": [
      "100%|██████████| 1/1 [00:00<00:00, 45.45it/s, EPOCH=7, AVG_LOSS=0.688]\n",
      "100%|██████████| 1/1 [00:00<00:00, 41.66it/s]\n"
     ]
    },
    {
     "name": "stdout",
     "output_type": "stream",
     "text": [
      "Accuracy: 0.5412221144519883\n",
      "Precision: 0.5945351137487636\n",
      "Recall: 0.5072293576593749\n",
      "f1_score: 0.37474052391411106\n"
     ]
    },
    {
     "name": "stderr",
     "output_type": "stream",
     "text": [
      "100%|██████████| 1/1 [00:00<00:00, 43.47it/s, EPOCH=8, AVG_LOSS=0.683]\n",
      "100%|██████████| 1/1 [00:00<00:00, 39.99it/s]\n"
     ]
    },
    {
     "name": "stdout",
     "output_type": "stream",
     "text": [
      "Accuracy: 0.5489815712900097\n",
      "Precision: 0.6311467717717718\n",
      "Recall: 0.5158561768176455\n",
      "f1_score: 0.3951064965346516\n"
     ]
    },
    {
     "name": "stderr",
     "output_type": "stream",
     "text": [
      "100%|██████████| 1/1 [00:00<00:00, 47.61it/s, EPOCH=9, AVG_LOSS=0.676]\n",
      "100%|██████████| 1/1 [00:00<00:00, 41.66it/s]\n"
     ]
    },
    {
     "name": "stdout",
     "output_type": "stream",
     "text": [
      "Accuracy: 0.565470417070805\n",
      "Precision: 0.6362382629107981\n",
      "Recall: 0.5351199661129769\n",
      "f1_score: 0.44457912457912463\n"
     ]
    },
    {
     "name": "stderr",
     "output_type": "stream",
     "text": [
      "100%|██████████| 1/1 [00:00<00:00, 12.88it/s, EPOCH=10, AVG_LOSS=0.669]\n",
      "100%|██████████| 1/1 [00:00<00:00, 12.56it/s]"
     ]
    },
    {
     "name": "stdout",
     "output_type": "stream",
     "text": [
      "Accuracy: 0.5877788554801164\n",
      "Precision: 0.626038592508513\n",
      "Recall: 0.5629935554143596\n",
      "f1_score: 0.5138718620923786\n"
     ]
    },
    {
     "name": "stderr",
     "output_type": "stream",
     "text": [
      "\n",
      "100%|██████████| 1/1 [00:00<00:00, 45.44it/s, EPOCH=11, AVG_LOSS=0.663]\n",
      "100%|██████████| 1/1 [00:00<00:00, 41.66it/s]\n"
     ]
    },
    {
     "name": "stdout",
     "output_type": "stream",
     "text": [
      "Accuracy: 0.6081474296799224\n",
      "Precision: 0.6186540384728514\n",
      "Recall: 0.5915403467368612\n",
      "f1_score: 0.5757270793777554\n"
     ]
    },
    {
     "name": "stderr",
     "output_type": "stream",
     "text": [
      "100%|██████████| 1/1 [00:00<00:00, 44.42it/s, EPOCH=12, AVG_LOSS=0.659]\n",
      "100%|██████████| 1/1 [00:00<00:00, 40.80it/s]\n"
     ]
    },
    {
     "name": "stdout",
     "output_type": "stream",
     "text": [
      "Accuracy: 0.6294859359844811\n",
      "Precision: 0.6284267103580563\n",
      "Recall: 0.6215451120994826\n",
      "f1_score: 0.6202248707860836\n"
     ]
    },
    {
     "name": "stderr",
     "output_type": "stream",
     "text": [
      "100%|██████████| 1/1 [00:00<00:00, 43.47it/s, EPOCH=13, AVG_LOSS=0.658]\n",
      "100%|██████████| 1/1 [00:00<00:00, 39.99it/s]\n"
     ]
    },
    {
     "name": "stdout",
     "output_type": "stream",
     "text": [
      "Accuracy: 0.6333656644034917\n",
      "Precision: 0.6320720571269143\n",
      "Recall: 0.6324846449426644\n",
      "f1_score: 0.6321610601427115\n"
     ]
    },
    {
     "name": "stderr",
     "output_type": "stream",
     "text": [
      "100%|██████████| 1/1 [00:00<00:00, 45.44it/s, EPOCH=14, AVG_LOSS=0.657]\n",
      "100%|██████████| 1/1 [00:00<00:00, 41.66it/s]\n"
     ]
    },
    {
     "name": "stdout",
     "output_type": "stream",
     "text": [
      "Accuracy: 0.6256062075654704\n",
      "Precision: 0.6286543405928615\n",
      "Recall: 0.628689373997761\n",
      "f1_score: 0.625605855347332\n"
     ]
    },
    {
     "name": "stderr",
     "output_type": "stream",
     "text": [
      "100%|██████████| 1/1 [00:00<00:00, 47.52it/s, EPOCH=15, AVG_LOSS=0.655]\n",
      "100%|██████████| 1/1 [00:00<00:00, 43.47it/s]\n"
     ]
    },
    {
     "name": "stdout",
     "output_type": "stream",
     "text": [
      "Accuracy: 0.6314258001939864\n",
      "Precision: 0.6360799878461012\n",
      "Recall: 0.635504598953133\n",
      "f1_score: 0.6313671913224789\n"
     ]
    },
    {
     "name": "stderr",
     "output_type": "stream",
     "text": [
      "100%|██████████| 1/1 [00:00<00:00, 13.42it/s, EPOCH=16, AVG_LOSS=0.654]\n",
      "100%|██████████| 1/1 [00:00<00:00, 13.07it/s]\n"
     ]
    },
    {
     "name": "stdout",
     "output_type": "stream",
     "text": [
      "Accuracy: 0.635305528612997\n",
      "Precision: 0.6375856655496182\n",
      "Recall: 0.6378853892469214\n",
      "f1_score: 0.6352777359626675\n"
     ]
    },
    {
     "name": "stderr",
     "output_type": "stream",
     "text": [
      "100%|██████████| 1/1 [00:00<00:00, 45.44it/s, EPOCH=17, AVG_LOSS=0.65]\n",
      "100%|██████████| 1/1 [00:00<00:00, 41.66it/s]"
     ]
    },
    {
     "name": "stdout",
     "output_type": "stream",
     "text": [
      "Accuracy: 0.6333656644034917\n",
      "Precision: 0.6325851707934214\n",
      "Recall: 0.6331748661160026\n",
      "f1_score: 0.6325356415478616\n"
     ]
    },
    {
     "name": "stderr",
     "output_type": "stream",
     "text": [
      "\n",
      "100%|██████████| 1/1 [00:00<00:00, 45.44it/s, EPOCH=18, AVG_LOSS=0.646]\n",
      "100%|██████████| 1/1 [00:00<00:00, 41.66it/s]\n"
     ]
    },
    {
     "name": "stdout",
     "output_type": "stream",
     "text": [
      "Accuracy: 0.6440349175557711\n",
      "Precision: 0.6421203949101844\n",
      "Recall: 0.6387212187225803\n",
      "f1_score: 0.6388102158774706\n"
     ]
    },
    {
     "name": "stderr",
     "output_type": "stream",
     "text": [
      "100%|██████████| 1/1 [00:00<00:00, 46.50it/s, EPOCH=19, AVG_LOSS=0.642]\n",
      "100%|██████████| 1/1 [00:00<00:00, 42.54it/s]\n"
     ]
    },
    {
     "name": "stdout",
     "output_type": "stream",
     "text": [
      "Accuracy: 0.6459747817652765\n",
      "Precision: 0.6493154390345401\n",
      "Recall: 0.6357012647121116\n",
      "f1_score: 0.6327003694322846\n"
     ]
    },
    {
     "name": "stderr",
     "output_type": "stream",
     "text": [
      "100%|██████████| 1/1 [00:00<00:00, 41.66it/s, EPOCH=20, AVG_LOSS=0.639]\n",
      "100%|██████████| 1/1 [00:00<00:00, 38.45it/s]\n"
     ]
    },
    {
     "name": "stdout",
     "output_type": "stream",
     "text": [
      "Accuracy: 0.6362754607177498\n",
      "Precision: 0.6456189039176591\n",
      "Recall: 0.6226400108922574\n",
      "f1_score: 0.6146946707526721\n"
     ]
    },
    {
     "name": "stderr",
     "output_type": "stream",
     "text": [
      "100%|██████████| 1/1 [00:00<00:00, 13.42it/s, EPOCH=21, AVG_LOSS=0.637]\n",
      "100%|██████████| 1/1 [00:00<00:00, 13.07it/s]\n"
     ]
    },
    {
     "name": "stdout",
     "output_type": "stream",
     "text": [
      "Accuracy: 0.6285160038797284\n",
      "Precision: 0.6439006432612571\n",
      "Recall: 0.6123566609179752\n",
      "f1_score: 0.5989349567980043\n"
     ]
    },
    {
     "name": "stderr",
     "output_type": "stream",
     "text": [
      "100%|██████████| 1/1 [00:00<00:00, 45.44it/s, EPOCH=22, AVG_LOSS=0.637]\n",
      "100%|██████████| 1/1 [00:00<00:00, 41.66it/s]\n"
     ]
    },
    {
     "name": "stdout",
     "output_type": "stream",
     "text": [
      "Accuracy: 0.6294859359844811\n",
      "Precision: 0.650477051728868\n",
      "Recall: 0.6120200599074158\n",
      "f1_score: 0.5954620156949751\n"
     ]
    },
    {
     "name": "stderr",
     "output_type": "stream",
     "text": [
      "100%|██████████| 1/1 [00:00<00:00, 44.43it/s, EPOCH=23, AVG_LOSS=0.636]\n",
      "100%|██████████| 1/1 [00:00<00:00, 40.80it/s]\n"
     ]
    },
    {
     "name": "stdout",
     "output_type": "stream",
     "text": [
      "Accuracy: 0.6265761396702231\n",
      "Precision: 0.6456678427419356\n",
      "Recall: 0.609302668603068\n",
      "f1_score: 0.593031183837514\n"
     ]
    },
    {
     "name": "stderr",
     "output_type": "stream",
     "text": [
      "100%|██████████| 1/1 [00:00<00:00, 45.45it/s, EPOCH=24, AVG_LOSS=0.634]\n",
      "100%|██████████| 1/1 [00:00<00:00, 41.66it/s]\n"
     ]
    },
    {
     "name": "stdout",
     "output_type": "stream",
     "text": [
      "Accuracy: 0.6314258001939864\n",
      "Precision: 0.6495319966500812\n",
      "Recall: 0.6147979637529878\n",
      "f1_score: 0.6004658410429617\n"
     ]
    },
    {
     "name": "stderr",
     "output_type": "stream",
     "text": [
      "100%|██████████| 1/1 [00:00<00:00, 45.28it/s, EPOCH=25, AVG_LOSS=0.632]\n",
      "100%|██████████| 1/1 [00:00<00:00, 41.52it/s]\n"
     ]
    },
    {
     "name": "stdout",
     "output_type": "stream",
     "text": [
      "Accuracy: 0.6323957322987391\n",
      "Precision: 0.6450155151787049\n",
      "Recall: 0.6173602916704487\n",
      "f1_score: 0.6066014608387489\n"
     ]
    },
    {
     "name": "stderr",
     "output_type": "stream",
     "text": [
      "100%|██████████| 1/1 [00:00<00:00, 13.07it/s, EPOCH=26, AVG_LOSS=0.629]\n",
      "100%|██████████| 1/1 [00:00<00:00, 12.74it/s]\n"
     ]
    },
    {
     "name": "stdout",
     "output_type": "stream",
     "text": [
      "Accuracy: 0.6411251212415131\n",
      "Precision: 0.6496876353064885\n",
      "Recall: 0.6281353060421773\n",
      "f1_score: 0.6214583978343535\n"
     ]
    },
    {
     "name": "stderr",
     "output_type": "stream",
     "text": [
      "100%|██████████| 1/1 [00:00<00:00, 45.44it/s, EPOCH=27, AVG_LOSS=0.627]\n",
      "100%|██████████| 1/1 [00:00<00:00, 41.66it/s]\n"
     ]
    },
    {
     "name": "stdout",
     "output_type": "stream",
     "text": [
      "Accuracy: 0.646944713870029\n",
      "Precision: 0.651846452866861\n",
      "Recall: 0.6359168406402227\n",
      "f1_score: 0.6321149050300359\n"
     ]
    },
    {
     "name": "stderr",
     "output_type": "stream",
     "text": [
      "100%|██████████| 1/1 [00:00<00:00, 45.44it/s, EPOCH=28, AVG_LOSS=0.625]\n",
      "100%|██████████| 1/1 [00:00<00:00, 41.66it/s]\n"
     ]
    },
    {
     "name": "stdout",
     "output_type": "stream",
     "text": [
      "Accuracy: 0.6517943743937924\n",
      "Precision: 0.65475641300229\n",
      "Recall: 0.6421023569634807\n",
      "f1_score: 0.6398181423623782\n"
     ]
    },
    {
     "name": "stderr",
     "output_type": "stream",
     "text": [
      "100%|██████████| 1/1 [00:00<00:00, 45.45it/s, EPOCH=29, AVG_LOSS=0.623]\n",
      "100%|██████████| 1/1 [00:00<00:00, 41.66it/s]\n"
     ]
    },
    {
     "name": "stdout",
     "output_type": "stream",
     "text": [
      "Accuracy: 0.6498545101842871\n",
      "Precision: 0.6506250804997424\n",
      "Recall: 0.6415331608725909\n",
      "f1_score: 0.6403037680106153\n"
     ]
    },
    {
     "name": "stderr",
     "output_type": "stream",
     "text": [
      "100%|██████████| 1/1 [00:00<00:00, 43.47it/s, EPOCH=30, AVG_LOSS=0.622]\n",
      "100%|██████████| 1/1 [00:00<00:00, 39.99it/s]\n"
     ]
    },
    {
     "name": "stdout",
     "output_type": "stream",
     "text": [
      "Accuracy: 0.6401551891367604\n",
      "Precision: 0.6393241880810054\n",
      "Recall: 0.6327512783274334\n",
      "f1_score: 0.6319433819744141\n"
     ]
    },
    {
     "name": "stderr",
     "output_type": "stream",
     "text": [
      "100%|██████████| 1/1 [00:00<00:00, 43.47it/s, EPOCH=31, AVG_LOSS=0.62]\n",
      "100%|██████████| 1/1 [00:00<00:00, 39.99it/s]\n"
     ]
    },
    {
     "name": "stdout",
     "output_type": "stream",
     "text": [
      "Accuracy: 0.6459747817652765\n",
      "Precision: 0.6457259202001769\n",
      "Recall: 0.6383241051707966\n",
      "f1_score: 0.6374604165522636\n"
     ]
    },
    {
     "name": "stderr",
     "output_type": "stream",
     "text": [
      "100%|██████████| 1/1 [00:00<00:00, 13.07it/s, EPOCH=32, AVG_LOSS=0.618]\n",
      "100%|██████████| 1/1 [00:00<00:00, 12.74it/s]\n"
     ]
    },
    {
     "name": "stdout",
     "output_type": "stream",
     "text": [
      "Accuracy: 0.6498545101842871\n",
      "Precision: 0.6502922031072134\n",
      "Recall: 0.6418092493419261\n",
      "f1_score: 0.6407648168792499\n"
     ]
    },
    {
     "name": "stderr",
     "output_type": "stream",
     "text": [
      "100%|██████████| 1/1 [00:00<00:00, 45.45it/s, EPOCH=33, AVG_LOSS=0.616]\n",
      "100%|██████████| 1/1 [00:00<00:00, 41.66it/s]\n"
     ]
    },
    {
     "name": "stdout",
     "output_type": "stream",
     "text": [
      "Accuracy: 0.6566440349175557\n",
      "Precision: 0.6585793200788455\n",
      "Recall: 0.6478737405827357\n",
      "f1_score: 0.6464581299111918\n"
     ]
    },
    {
     "name": "stderr",
     "output_type": "stream",
     "text": [
      "100%|██████████| 1/1 [00:00<00:00, 45.45it/s, EPOCH=34, AVG_LOSS=0.615]\n",
      "100%|██████████| 1/1 [00:00<00:00, 41.66it/s]\n"
     ]
    },
    {
     "name": "stdout",
     "output_type": "stream",
     "text": [
      "Accuracy: 0.6537342386032978\n",
      "Precision: 0.6576323806519628\n",
      "Recall: 0.643637862697044\n",
      "f1_score: 0.6410240655401946\n"
     ]
    },
    {
     "name": "stderr",
     "output_type": "stream",
     "text": [
      "100%|██████████| 1/1 [00:00<00:00, 45.44it/s, EPOCH=35, AVG_LOSS=0.613]\n",
      "100%|██████████| 1/1 [00:00<00:00, 41.66it/s]\n"
     ]
    },
    {
     "name": "stdout",
     "output_type": "stream",
     "text": [
      "Accuracy: 0.6498545101842871\n",
      "Precision: 0.6541308240728344\n",
      "Recall: 0.6393244531179086\n",
      "f1_score: 0.6361630599798037\n"
     ]
    },
    {
     "name": "stderr",
     "output_type": "stream",
     "text": [
      "100%|██████████| 1/1 [00:00<00:00, 47.61it/s, EPOCH=36, AVG_LOSS=0.611]\n",
      "100%|██████████| 1/1 [00:00<00:00, 43.47it/s]\n"
     ]
    },
    {
     "name": "stdout",
     "output_type": "stream",
     "text": [
      "Accuracy: 0.646944713870029\n",
      "Precision: 0.6505125427118927\n",
      "Recall: 0.6366070618135609\n",
      "f1_score: 0.6335661112803568\n"
     ]
    },
    {
     "name": "stderr",
     "output_type": "stream",
     "text": [
      "100%|██████████| 1/1 [00:00<00:00, 47.61it/s, EPOCH=37, AVG_LOSS=0.609]\n",
      "100%|██████████| 1/1 [00:00<00:00, 43.47it/s]\n"
     ]
    },
    {
     "name": "stdout",
     "output_type": "stream",
     "text": [
      "Accuracy: 0.6498545101842871\n",
      "Precision: 0.6533532004615372\n",
      "Recall: 0.6397385858219116\n",
      "f1_score: 0.637001926218516\n"
     ]
    },
    {
     "name": "stderr",
     "output_type": "stream",
     "text": [
      "100%|██████████| 1/1 [00:00<00:00, 13.70it/s, EPOCH=38, AVG_LOSS=0.608]\n",
      "100%|██████████| 1/1 [00:00<00:00, 13.33it/s]"
     ]
    },
    {
     "name": "stdout",
     "output_type": "stream",
     "text": [
      "Accuracy: 0.6498545101842871\n",
      "Precision: 0.6528668995532212\n",
      "Recall: 0.6400146742912469\n",
      "f1_score: 0.6375449062726113\n"
     ]
    },
    {
     "name": "stderr",
     "output_type": "stream",
     "text": [
      "\n",
      "100%|██████████| 1/1 [00:00<00:00, 42.54it/s, EPOCH=39, AVG_LOSS=0.607]\n",
      "100%|██████████| 1/1 [00:00<00:00, 39.20it/s]\n"
     ]
    },
    {
     "name": "stdout",
     "output_type": "stream",
     "text": [
      "Accuracy: 0.6508244422890398\n",
      "Precision: 0.6540517633439451\n",
      "Recall: 0.6409204713926961\n",
      "f1_score: 0.6384147767126491\n"
     ]
    },
    {
     "name": "stderr",
     "output_type": "stream",
     "text": [
      "100%|██████████| 1/1 [00:00<00:00, 43.47it/s, EPOCH=40, AVG_LOSS=0.605]\n",
      "100%|██████████| 1/1 [00:00<00:00, 39.99it/s]\n"
     ]
    },
    {
     "name": "stdout",
     "output_type": "stream",
     "text": [
      "Accuracy: 0.6527643064985451\n",
      "Precision: 0.6554672367945898\n",
      "Recall: 0.6432842425342653\n",
      "f1_score: 0.6412121282816972\n"
     ]
    },
    {
     "name": "stderr",
     "output_type": "stream",
     "text": [
      "100%|██████████| 1/1 [00:00<00:00, 43.47it/s, EPOCH=41, AVG_LOSS=0.604]\n",
      "100%|██████████| 1/1 [00:00<00:00, 39.99it/s]\n"
     ]
    },
    {
     "name": "stdout",
     "output_type": "stream",
     "text": [
      "Accuracy: 0.6488845780795345\n",
      "Precision: 0.650606680411027\n",
      "Recall: 0.6397990983631358\n",
      "f1_score: 0.6379719085865052\n"
     ]
    },
    {
     "name": "stderr",
     "output_type": "stream",
     "text": [
      "100%|██████████| 1/1 [00:00<00:00, 44.43it/s, EPOCH=42, AVG_LOSS=0.602]\n",
      "100%|██████████| 1/1 [00:00<00:00, 40.80it/s]\n"
     ]
    },
    {
     "name": "stdout",
     "output_type": "stream",
     "text": [
      "Accuracy: 0.6508244422890398\n",
      "Precision: 0.6525040650406504\n",
      "Recall: 0.6418867810353696\n",
      "f1_score: 0.6402205437597903\n"
     ]
    },
    {
     "name": "stderr",
     "output_type": "stream",
     "text": [
      "100%|██████████| 1/1 [00:00<00:00, 13.42it/s, EPOCH=43, AVG_LOSS=0.6]\n",
      "100%|██████████| 1/1 [00:00<00:00, 13.07it/s]\n"
     ]
    },
    {
     "name": "stdout",
     "output_type": "stream",
     "text": [
      "Accuracy: 0.6479146459747818\n",
      "Precision: 0.6498609804963813\n",
      "Recall: 0.6386172127923513\n",
      "f1_score: 0.6365900623108317\n"
     ]
    },
    {
     "name": "stderr",
     "output_type": "stream",
     "text": [
      "100%|██████████| 1/1 [00:00<00:00, 43.47it/s, EPOCH=44, AVG_LOSS=0.599]\n",
      "100%|██████████| 1/1 [00:00<00:00, 41.66it/s]\n"
     ]
    },
    {
     "name": "stdout",
     "output_type": "stream",
     "text": [
      "Accuracy: 0.6498545101842871\n",
      "Precision: 0.6519687614997751\n",
      "Recall: 0.6405668512299174\n",
      "f1_score: 0.6385923209206894\n"
     ]
    },
    {
     "name": "stderr",
     "output_type": "stream",
     "text": [
      "100%|██████████| 1/1 [00:00<00:00, 45.26it/s, EPOCH=45, AVG_LOSS=0.597]\n",
      "100%|██████████| 1/1 [00:00<00:00, 41.51it/s]\n"
     ]
    },
    {
     "name": "stdout",
     "output_type": "stream",
     "text": [
      "Accuracy: 0.6498545101842871\n",
      "Precision: 0.6521841596170241\n",
      "Recall: 0.6404288069952497\n",
      "f1_score: 0.6383352524766666\n"
     ]
    },
    {
     "name": "stderr",
     "output_type": "stream",
     "text": [
      "100%|██████████| 1/1 [00:00<00:00, 44.42it/s, EPOCH=46, AVG_LOSS=0.596]\n",
      "100%|██████████| 1/1 [00:00<00:00, 40.80it/s]\n"
     ]
    },
    {
     "name": "stdout",
     "output_type": "stream",
     "text": [
      "Accuracy: 0.6527643064985451\n",
      "Precision: 0.6550212366250102\n",
      "Recall: 0.6435603310036004\n",
      "f1_score: 0.6417219957289846\n"
     ]
    },
    {
     "name": "stderr",
     "output_type": "stream",
     "text": [
      "100%|██████████| 1/1 [00:00<00:00, 45.45it/s, EPOCH=47, AVG_LOSS=0.594]\n",
      "100%|██████████| 1/1 [00:00<00:00, 41.66it/s]\n"
     ]
    },
    {
     "name": "stdout",
     "output_type": "stream",
     "text": [
      "Accuracy: 0.6527643064985451\n",
      "Precision: 0.6548074023973858\n",
      "Recall: 0.6436983752382681\n",
      "f1_score: 0.6419722189888643\n"
     ]
    },
    {
     "name": "stderr",
     "output_type": "stream",
     "text": [
      "100%|██████████| 1/1 [00:00<00:00, 13.24it/s, EPOCH=48, AVG_LOSS=0.593]\n",
      "100%|██████████| 1/1 [00:00<00:00, 12.90it/s]\n"
     ]
    },
    {
     "name": "stdout",
     "output_type": "stream",
     "text": [
      "Accuracy: 0.6547041707080504\n",
      "Precision: 0.6560932768019383\n",
      "Recall: 0.6462001906145048\n",
      "f1_score: 0.6449367333513911\n"
     ]
    },
    {
     "name": "stderr",
     "output_type": "stream",
     "text": [
      "100%|██████████| 1/1 [00:00<00:00, 47.61it/s, EPOCH=49, AVG_LOSS=0.591]\n",
      "100%|██████████| 1/1 [00:00<00:00, 43.47it/s]\n"
     ]
    },
    {
     "name": "stdout",
     "output_type": "stream",
     "text": [
      "Accuracy: 0.6547041707080504\n",
      "Precision: 0.6560932768019383\n",
      "Recall: 0.6462001906145048\n",
      "f1_score: 0.6449367333513911\n"
     ]
    },
    {
     "name": "stderr",
     "output_type": "stream",
     "text": [
      "100%|██████████| 1/1 [00:00<00:00, 41.66it/s, EPOCH=50, AVG_LOSS=0.59]\n",
      "100%|██████████| 1/1 [00:00<00:00, 37.72it/s]\n"
     ]
    },
    {
     "name": "stdout",
     "output_type": "stream",
     "text": [
      "Accuracy: 0.6566440349175557\n",
      "Precision: 0.657981578183928\n",
      "Recall: 0.6482878732867386\n",
      "f1_score: 0.6471635730858469\n"
     ]
    },
    {
     "name": "stderr",
     "output_type": "stream",
     "text": [
      "100%|██████████| 1/1 [00:00<00:00, 35.71it/s, EPOCH=51, AVG_LOSS=0.589]\n",
      "100%|██████████| 1/1 [00:00<00:00, 33.33it/s]\n"
     ]
    },
    {
     "name": "stdout",
     "output_type": "stream",
     "text": [
      "Accuracy: 0.6605237633365665\n",
      "Precision: 0.6619396083792368\n",
      "Recall: 0.6523251943965387\n",
      "f1_score: 0.6513769090459408\n"
     ]
    },
    {
     "name": "stderr",
     "output_type": "stream",
     "text": [
      "100%|██████████| 1/1 [00:00<00:00, 45.44it/s, EPOCH=52, AVG_LOSS=0.587]\n",
      "100%|██████████| 1/1 [00:00<00:00, 41.66it/s]\n"
     ]
    },
    {
     "name": "stdout",
     "output_type": "stream",
     "text": [
      "Accuracy: 0.6634335596508244\n",
      "Precision: 0.6649495923203599\n",
      "Recall: 0.6553186741702217\n",
      "f1_score: 0.6544762677406426\n"
     ]
    },
    {
     "name": "stderr",
     "output_type": "stream",
     "text": [
      "100%|██████████| 1/1 [00:00<00:00, 46.49it/s, EPOCH=53, AVG_LOSS=0.586]\n",
      "100%|██████████| 1/1 [00:00<00:00, 42.54it/s]\n"
     ]
    },
    {
     "name": "stdout",
     "output_type": "stream",
     "text": [
      "Accuracy: 0.6605237633365665\n",
      "Precision: 0.6615653204558377\n",
      "Recall: 0.6526012828658739\n",
      "f1_score: 0.6518209326200897\n"
     ]
    },
    {
     "name": "stderr",
     "output_type": "stream",
     "text": [
      "100%|██████████| 1/1 [00:00<00:00, 12.98it/s, EPOCH=54, AVG_LOSS=0.584]\n",
      "100%|██████████| 1/1 [00:00<00:00, 12.50it/s]\n"
     ]
    },
    {
     "name": "stdout",
     "output_type": "stream",
     "text": [
      "Accuracy: 0.6595538312318138\n",
      "Precision: 0.6602711507138066\n",
      "Recall: 0.6518335299990923\n",
      "f1_score: 0.6511522989586075\n"
     ]
    },
    {
     "name": "stderr",
     "output_type": "stream",
     "text": [
      "100%|██████████| 1/1 [00:00<00:00, 45.45it/s, EPOCH=55, AVG_LOSS=0.583]\n",
      "100%|██████████| 1/1 [00:00<00:00, 41.66it/s]\n"
     ]
    },
    {
     "name": "stdout",
     "output_type": "stream",
     "text": [
      "Accuracy: 0.6624636275460718\n",
      "Precision: 0.6632706374085684\n",
      "Recall: 0.6548270097727753\n",
      "f1_score: 0.6542402282013723\n"
     ]
    },
    {
     "name": "stderr",
     "output_type": "stream",
     "text": [
      "100%|██████████| 1/1 [00:00<00:00, 45.44it/s, EPOCH=56, AVG_LOSS=0.582]\n",
      "100%|██████████| 1/1 [00:00<00:00, 41.66it/s]\n"
     ]
    },
    {
     "name": "stdout",
     "output_type": "stream",
     "text": [
      "Accuracy: 0.6634335596508244\n",
      "Precision: 0.664387116348887\n",
      "Recall: 0.6557328068742246\n",
      "f1_score: 0.6551277713351475\n"
     ]
    },
    {
     "name": "stderr",
     "output_type": "stream",
     "text": [
      "100%|██████████| 1/1 [00:00<00:00, 43.47it/s, EPOCH=57, AVG_LOSS=0.58]\n",
      "100%|██████████| 1/1 [00:00<00:00, 39.20it/s]\n"
     ]
    },
    {
     "name": "stdout",
     "output_type": "stream",
     "text": [
      "Accuracy: 0.6653734238603298\n",
      "Precision: 0.666630665226609\n",
      "Recall: 0.6575444010771232\n",
      "f1_score: 0.6569025105211934\n"
     ]
    },
    {
     "name": "stderr",
     "output_type": "stream",
     "text": [
      "100%|██████████| 1/1 [00:00<00:00, 43.47it/s, EPOCH=58, AVG_LOSS=0.579]\n",
      "100%|██████████| 1/1 [00:00<00:00, 39.99it/s]\n"
     ]
    },
    {
     "name": "stdout",
     "output_type": "stream",
     "text": [
      "Accuracy: 0.6692531522793405\n",
      "Precision: 0.6701920782629444\n",
      "Recall: 0.6618578106562585\n",
      "f1_score: 0.6615034300156456\n"
     ]
    },
    {
     "name": "stderr",
     "output_type": "stream",
     "text": [
      "100%|██████████| 1/1 [00:00<00:00, 45.45it/s, EPOCH=59, AVG_LOSS=0.578]\n",
      "100%|██████████| 1/1 [00:00<00:00, 41.66it/s]\n"
     ]
    },
    {
     "name": "stdout",
     "output_type": "stream",
     "text": [
      "Accuracy: 0.6673132880698351\n",
      "Precision: 0.6683195339830583\n",
      "Recall: 0.6597701279840247\n",
      "f1_score: 0.6593121174724013\n"
     ]
    },
    {
     "name": "stderr",
     "output_type": "stream",
     "text": [
      "100%|██████████| 1/1 [00:00<00:00, 13.79it/s, EPOCH=60, AVG_LOSS=0.577]\n",
      "100%|██████████| 1/1 [00:00<00:00, 13.42it/s]\n"
     ]
    },
    {
     "name": "stdout",
     "output_type": "stream",
     "text": [
      "Accuracy: 0.6702230843840931\n",
      "Precision: 0.6716871803069053\n",
      "Recall: 0.6624875192883726\n",
      "f1_score: 0.6619802514849957\n"
     ]
    },
    {
     "name": "stderr",
     "output_type": "stream",
     "text": [
      "100%|██████████| 1/1 [00:00<00:00, 45.45it/s, EPOCH=61, AVG_LOSS=0.576]\n",
      "100%|██████████| 1/1 [00:00<00:00, 41.65it/s]\n"
     ]
    },
    {
     "name": "stdout",
     "output_type": "stream",
     "text": [
      "Accuracy: 0.6692531522793405\n",
      "Precision: 0.6707548301932078\n",
      "Recall: 0.6614436779522557\n",
      "f1_score: 0.6608804524281939\n"
     ]
    },
    {
     "name": "stderr",
     "output_type": "stream",
     "text": [
      "100%|██████████| 1/1 [00:00<00:00, 44.43it/s, EPOCH=62, AVG_LOSS=0.574]\n",
      "100%|██████████| 1/1 [00:00<00:00, 40.80it/s]\n"
     ]
    },
    {
     "name": "stdout",
     "output_type": "stream",
     "text": [
      "Accuracy: 0.6692531522793405\n",
      "Precision: 0.6705610648015075\n",
      "Recall: 0.6615817221869232\n",
      "f1_score: 0.6610909798999577\n"
     ]
    },
    {
     "name": "stderr",
     "output_type": "stream",
     "text": [
      "100%|██████████| 1/1 [00:00<00:00, 45.45it/s, EPOCH=63, AVG_LOSS=0.573]\n",
      "100%|██████████| 1/1 [00:00<00:00, 41.66it/s]\n"
     ]
    },
    {
     "name": "stdout",
     "output_type": "stream",
     "text": [
      "Accuracy: 0.6741028128031038\n",
      "Precision: 0.6750420354684179\n",
      "Recall: 0.6669389731021754\n",
      "f1_score: 0.6667641445545773\n"
     ]
    },
    {
     "name": "stderr",
     "output_type": "stream",
     "text": [
      "100%|██████████| 1/1 [00:00<00:00, 45.44it/s, EPOCH=64, AVG_LOSS=0.572]\n",
      "100%|██████████| 1/1 [00:00<00:00, 41.66it/s]\n"
     ]
    },
    {
     "name": "stdout",
     "output_type": "stream",
     "text": [
      "Accuracy: 0.6721629485935985\n",
      "Precision: 0.6726600654328208\n",
      "Recall: 0.6652654231339445\n",
      "f1_score: 0.665169683692686\n"
     ]
    },
    {
     "name": "stderr",
     "output_type": "stream",
     "text": [
      "100%|██████████| 1/1 [00:00<00:00, 13.66it/s, EPOCH=65, AVG_LOSS=0.571]\n",
      "100%|██████████| 1/1 [00:00<00:00, 13.29it/s]\n"
     ]
    },
    {
     "name": "stdout",
     "output_type": "stream",
     "text": [
      "Accuracy: 0.6741028128031038\n",
      "Precision: 0.6748664054150338\n",
      "Recall: 0.667077017336843\n",
      "f1_score: 0.6669589293954776\n"
     ]
    },
    {
     "name": "stderr",
     "output_type": "stream",
     "text": [
      "100%|██████████| 1/1 [00:00<00:00, 46.50it/s, EPOCH=66, AVG_LOSS=0.57]\n",
      "100%|██████████| 1/1 [00:00<00:00, 42.54it/s]\n"
     ]
    },
    {
     "name": "stdout",
     "output_type": "stream",
     "text": [
      "Accuracy: 0.6731328806983511\n",
      "Precision: 0.6739322503961965\n",
      "Recall: 0.6660331760007261\n",
      "f1_score: 0.6658704033343046\n"
     ]
    },
    {
     "name": "stderr",
     "output_type": "stream",
     "text": [
      "100%|██████████| 1/1 [00:00<00:00, 45.44it/s, EPOCH=67, AVG_LOSS=0.569]\n",
      "100%|██████████| 1/1 [00:00<00:00, 41.66it/s]\n"
     ]
    },
    {
     "name": "stdout",
     "output_type": "stream",
     "text": [
      "Accuracy: 0.6692531522793405\n",
      "Precision: 0.6698474643423138\n",
      "Recall: 0.6621338991255937\n",
      "f1_score: 0.6619044734035546\n"
     ]
    },
    {
     "name": "stderr",
     "output_type": "stream",
     "text": [
      "100%|██████████| 1/1 [00:00<00:00, 45.45it/s, EPOCH=68, AVG_LOSS=0.568]\n",
      "100%|██████████| 1/1 [00:00<00:00, 41.66it/s]\n"
     ]
    },
    {
     "name": "stdout",
     "output_type": "stream",
     "text": [
      "Accuracy: 0.6711930164888458\n",
      "Precision: 0.6718898573692551\n",
      "Recall: 0.66408353756316\n",
      "f1_score: 0.6638874383689295\n"
     ]
    },
    {
     "name": "stderr",
     "output_type": "stream",
     "text": [
      "100%|██████████| 1/1 [00:00<00:00, 44.43it/s, EPOCH=69, AVG_LOSS=0.567]\n",
      "100%|██████████| 1/1 [00:00<00:00, 40.80it/s]\n"
     ]
    },
    {
     "name": "stdout",
     "output_type": "stream",
     "text": [
      "Accuracy: 0.6750727449078564\n",
      "Precision: 0.675974643423138\n",
      "Recall: 0.6679828144382923\n",
      "f1_score: 0.6678533682996797\n"
     ]
    },
    {
     "name": "stderr",
     "output_type": "stream",
     "text": [
      "100%|██████████| 1/1 [00:00<00:00, 13.15it/s, EPOCH=70, AVG_LOSS=0.565]\n",
      "100%|██████████| 1/1 [00:00<00:00, 12.74it/s]\n"
     ]
    },
    {
     "name": "stdout",
     "output_type": "stream",
     "text": [
      "Accuracy: 0.6731328806983511\n",
      "Precision: 0.6739322503961965\n",
      "Recall: 0.6660331760007261\n",
      "f1_score: 0.6658704033343046\n"
     ]
    },
    {
     "name": "stderr",
     "output_type": "stream",
     "text": [
      "100%|██████████| 1/1 [00:00<00:00, 45.45it/s, EPOCH=71, AVG_LOSS=0.564]\n",
      "100%|██████████| 1/1 [00:00<00:00, 41.66it/s]\n"
     ]
    },
    {
     "name": "stdout",
     "output_type": "stream",
     "text": [
      "Accuracy: 0.6741028128031038\n",
      "Precision: 0.6748664054150338\n",
      "Recall: 0.667077017336843\n",
      "f1_score: 0.6669589293954776\n"
     ]
    },
    {
     "name": "stderr",
     "output_type": "stream",
     "text": [
      "100%|██████████| 1/1 [00:00<00:00, 45.45it/s, EPOCH=72, AVG_LOSS=0.563]\n",
      "100%|██████████| 1/1 [00:00<00:00, 39.99it/s]\n"
     ]
    },
    {
     "name": "stdout",
     "output_type": "stream",
     "text": [
      "Accuracy: 0.6760426770126091\n",
      "Precision: 0.6765668757149055\n",
      "Recall: 0.6693027442437445\n",
      "f1_score: 0.6693202682666379\n"
     ]
    },
    {
     "name": "stderr",
     "output_type": "stream",
     "text": [
      "100%|██████████| 1/1 [00:00<00:00, 46.49it/s, EPOCH=73, AVG_LOSS=0.562]\n",
      "100%|██████████| 1/1 [00:00<00:00, 40.80it/s]\n"
     ]
    },
    {
     "name": "stdout",
     "output_type": "stream",
     "text": [
      "Accuracy: 0.6750727449078564\n",
      "Precision: 0.6758002515245711\n",
      "Recall: 0.6681208586729599\n",
      "f1_score: 0.668046183374485\n"
     ]
    },
    {
     "name": "stderr",
     "output_type": "stream",
     "text": [
      "100%|██████████| 1/1 [00:00<00:00, 43.47it/s, EPOCH=74, AVG_LOSS=0.561]\n",
      "100%|██████████| 1/1 [00:00<00:00, 39.99it/s]\n"
     ]
    },
    {
     "name": "stdout",
     "output_type": "stream",
     "text": [
      "Accuracy: 0.6741028128031038\n",
      "Precision: 0.6746969385658517\n",
      "Recall: 0.6672150615715107\n",
      "f1_score: 0.6671509281678774\n"
     ]
    },
    {
     "name": "stderr",
     "output_type": "stream",
     "text": [
      "100%|██████████| 1/1 [00:00<00:00, 47.61it/s, EPOCH=75, AVG_LOSS=0.56]\n",
      "100%|██████████| 1/1 [00:00<00:00, 43.47it/s]\n"
     ]
    },
    {
     "name": "stdout",
     "output_type": "stream",
     "text": [
      "Accuracy: 0.6741028128031038\n",
      "Precision: 0.6752238794110402\n",
      "Recall: 0.6668009288675079\n",
      "f1_score: 0.6665665642541986\n"
     ]
    },
    {
     "name": "stderr",
     "output_type": "stream",
     "text": [
      "100%|██████████| 1/1 [00:00<00:00, 13.24it/s, EPOCH=76, AVG_LOSS=0.559]\n",
      "100%|██████████| 1/1 [00:00<00:00, 12.90it/s]\n"
     ]
    },
    {
     "name": "stdout",
     "output_type": "stream",
     "text": [
      "Accuracy: 0.6760426770126091\n",
      "Precision: 0.6774639757981052\n",
      "Recall: 0.6686125230704063\n",
      "f1_score: 0.6683520945534676\n"
     ]
    },
    {
     "name": "stderr",
     "output_type": "stream",
     "text": [
      "100%|██████████| 1/1 [00:00<00:00, 45.44it/s, EPOCH=77, AVG_LOSS=0.558]\n",
      "100%|██████████| 1/1 [00:00<00:00, 41.66it/s]\n"
     ]
    },
    {
     "name": "stdout",
     "output_type": "stream",
     "text": [
      "Accuracy: 0.6799224054316197\n",
      "Precision: 0.6815679484117507\n",
      "Recall: 0.6725117999455388\n",
      "f1_score: 0.67232392575642\n"
     ]
    },
    {
     "name": "stderr",
     "output_type": "stream",
     "text": [
      "100%|██████████| 1/1 [00:00<00:00, 47.61it/s, EPOCH=78, AVG_LOSS=0.557]\n",
      "100%|██████████| 1/1 [00:00<00:00, 41.66it/s]\n"
     ]
    },
    {
     "name": "stdout",
     "output_type": "stream",
     "text": [
      "Accuracy: 0.6789524733268671\n",
      "Precision: 0.6806433233191753\n",
      "Recall: 0.6714679586094219\n",
      "f1_score: 0.6712312270652034\n"
     ]
    },
    {
     "name": "stderr",
     "output_type": "stream",
     "text": [
      "100%|██████████| 1/1 [00:00<00:00, 45.44it/s, EPOCH=79, AVG_LOSS=0.556]\n",
      "100%|██████████| 1/1 [00:00<00:00, 41.66it/s]"
     ]
    },
    {
     "name": "stdout",
     "output_type": "stream",
     "text": [
      "Accuracy: 0.6779825412221144"
     ]
    },
    {
     "name": "stderr",
     "output_type": "stream",
     "text": [
      "\n"
     ]
    },
    {
     "name": "stdout",
     "output_type": "stream",
     "text": [
      "\n",
      "Precision: 0.6791305796135909\n",
      "Recall: 0.6708382499773078\n",
      "f1_score: 0.6707312380717847\n"
     ]
    },
    {
     "name": "stderr",
     "output_type": "stream",
     "text": [
      "100%|██████████| 1/1 [00:00<00:00, 45.44it/s, EPOCH=80, AVG_LOSS=0.554]\n",
      "100%|██████████| 1/1 [00:00<00:00, 41.66it/s]\n"
     ]
    },
    {
     "name": "stdout",
     "output_type": "stream",
     "text": [
      "Accuracy: 0.6799224054316197\n",
      "Precision: 0.6809880061750386\n",
      "Recall: 0.6729259326495416\n",
      "f1_score: 0.6729060913705583\n"
     ]
    },
    {
     "name": "stderr",
     "output_type": "stream",
     "text": [
      "100%|██████████| 1/1 [00:00<00:00, 43.47it/s, EPOCH=81, AVG_LOSS=0.553]\n",
      "100%|██████████| 1/1 [00:00<00:00, 39.99it/s]\n"
     ]
    },
    {
     "name": "stdout",
     "output_type": "stream",
     "text": [
      "Accuracy: 0.6789524733268671\n",
      "Precision: 0.6802476045313455\n",
      "Recall: 0.671744047078757\n",
      "f1_score: 0.6716260362089785\n"
     ]
    },
    {
     "name": "stderr",
     "output_type": "stream",
     "text": [
      "100%|██████████| 1/1 [00:00<00:00, 13.60it/s, EPOCH=82, AVG_LOSS=0.552]\n",
      "100%|██████████| 1/1 [00:00<00:00, 13.24it/s]\n"
     ]
    },
    {
     "name": "stdout",
     "output_type": "stream",
     "text": [
      "Accuracy: 0.6799224054316197\n",
      "Precision: 0.6813681475418955\n",
      "Recall: 0.6726498441802063\n",
      "f1_score: 0.6725207327496593\n"
     ]
    },
    {
     "name": "stderr",
     "output_type": "stream",
     "text": [
      "100%|██████████| 1/1 [00:00<00:00, 45.44it/s, EPOCH=83, AVG_LOSS=0.551]\n",
      "100%|██████████| 1/1 [00:00<00:00, 41.66it/s]\n"
     ]
    },
    {
     "name": "stdout",
     "output_type": "stream",
     "text": [
      "Accuracy: 0.6799224054316197\n",
      "Precision: 0.6811748516861775\n",
      "Recall: 0.6727878884148739\n",
      "f1_score: 0.6727147848303885\n"
     ]
    },
    {
     "name": "stderr",
     "output_type": "stream",
     "text": [
      "100%|██████████| 1/1 [00:00<00:00, 43.47it/s, EPOCH=84, AVG_LOSS=0.55]\n",
      "100%|██████████| 1/1 [00:00<00:00, 39.98it/s]\n"
     ]
    },
    {
     "name": "stdout",
     "output_type": "stream",
     "text": [
      "Accuracy: 0.6818622696411252\n",
      "Precision: 0.6830285397617069\n",
      "Recall: 0.6748755710871077\n",
      "f1_score: 0.6748884786955853\n"
     ]
    },
    {
     "name": "stderr",
     "output_type": "stream",
     "text": [
      "100%|██████████| 1/1 [00:00<00:00, 46.50it/s, EPOCH=85, AVG_LOSS=0.549]\n",
      "100%|██████████| 1/1 [00:00<00:00, 42.54it/s]\n"
     ]
    },
    {
     "name": "stdout",
     "output_type": "stream",
     "text": [
      "Accuracy: 0.6799224054316197\n",
      "Precision: 0.6811748516861775\n",
      "Recall: 0.6727878884148739\n",
      "f1_score: 0.6727147848303885\n"
     ]
    },
    {
     "name": "stderr",
     "output_type": "stream",
     "text": [
      "100%|██████████| 1/1 [00:00<00:00, 45.44it/s, EPOCH=86, AVG_LOSS=0.548]\n",
      "100%|██████████| 1/1 [00:00<00:00, 41.66it/s]\n"
     ]
    },
    {
     "name": "stdout",
     "output_type": "stream",
     "text": [
      "Accuracy: 0.6808923375363725\n",
      "Precision: 0.6821018225039619\n",
      "Recall: 0.6738317297509908\n",
      "f1_score: 0.6738022631958048\n"
     ]
    },
    {
     "name": "stderr",
     "output_type": "stream",
     "text": [
      "100%|██████████| 1/1 [00:00<00:00, 13.42it/s, EPOCH=87, AVG_LOSS=0.547]\n",
      "100%|██████████| 1/1 [00:00<00:00, 13.07it/s]\n"
     ]
    },
    {
     "name": "stdout",
     "output_type": "stream",
     "text": [
      "Accuracy: 0.6838021338506305\n",
      "Precision: 0.6845252157752157\n",
      "Recall: 0.6772393422286769\n",
      "f1_score: 0.6774216458592466\n"
     ]
    },
    {
     "name": "stderr",
     "output_type": "stream",
     "text": [
      "100%|██████████| 1/1 [00:00<00:00, 45.45it/s, EPOCH=88, AVG_LOSS=0.546]\n",
      "100%|██████████| 1/1 [00:00<00:00, 41.66it/s]\n"
     ]
    },
    {
     "name": "stdout",
     "output_type": "stream",
     "text": [
      "Accuracy: 0.6828322017458778\n",
      "Precision: 0.6835960591133006\n",
      "Recall: 0.67619550089256\n",
      "f1_score: 0.6763417479083564\n"
     ]
    },
    {
     "name": "stderr",
     "output_type": "stream",
     "text": [
      "100%|██████████| 1/1 [00:00<00:00, 44.43it/s, EPOCH=89, AVG_LOSS=0.544]\n",
      "100%|██████████| 1/1 [00:00<00:00, 40.80it/s]\n"
     ]
    },
    {
     "name": "stdout",
     "output_type": "stream",
     "text": [
      "Accuracy: 0.6828322017458778\n",
      "Precision: 0.6835960591133006\n",
      "Recall: 0.67619550089256\n",
      "f1_score: 0.6763417479083564\n"
     ]
    },
    {
     "name": "stderr",
     "output_type": "stream",
     "text": [
      "100%|██████████| 1/1 [00:00<00:00, 43.47it/s, EPOCH=90, AVG_LOSS=0.543]\n",
      "100%|██████████| 1/1 [00:00<00:00, 39.99it/s]\n"
     ]
    },
    {
     "name": "stdout",
     "output_type": "stream",
     "text": [
      "Accuracy: 0.6828322017458778\n",
      "Precision: 0.6834261794605483\n",
      "Recall: 0.6763335451272277\n",
      "f1_score: 0.6765218642807456\n"
     ]
    },
    {
     "name": "stderr",
     "output_type": "stream",
     "text": [
      "100%|██████████| 1/1 [00:00<00:00, 45.45it/s, EPOCH=91, AVG_LOSS=0.542]\n",
      "100%|██████████| 1/1 [00:00<00:00, 41.66it/s]\n"
     ]
    },
    {
     "name": "stdout",
     "output_type": "stream",
     "text": [
      "Accuracy: 0.6789524733268671\n",
      "Precision: 0.678647252121108\n",
      "Recall: 0.6731244894254335\n",
      "f1_score: 0.673436012267884\n"
     ]
    },
    {
     "name": "stderr",
     "output_type": "stream",
     "text": [
      "100%|██████████| 1/1 [00:00<00:00, 13.24it/s, EPOCH=92, AVG_LOSS=0.541]\n",
      "100%|██████████| 1/1 [00:00<00:00, 12.90it/s]\n"
     ]
    },
    {
     "name": "stdout",
     "output_type": "stream",
     "text": [
      "Accuracy: 0.6828322017458778\n",
      "Precision: 0.6824119253846334\n",
      "Recall: 0.6772998547699011\n",
      "f1_score: 0.6777080877692601\n"
     ]
    },
    {
     "name": "stderr",
     "output_type": "stream",
     "text": [
      "100%|██████████| 1/1 [00:00<00:00, 45.44it/s, EPOCH=93, AVG_LOSS=0.54]\n",
      "100%|██████████| 1/1 [00:00<00:00, 42.54it/s]\n"
     ]
    },
    {
     "name": "stdout",
     "output_type": "stream",
     "text": [
      "Accuracy: 0.6789524733268671\n",
      "Precision: 0.6790626911554809\n",
      "Recall: 0.6727103567214305\n",
      "f1_score: 0.672921452881601\n"
     ]
    },
    {
     "name": "stderr",
     "output_type": "stream",
     "text": [
      "100%|██████████| 1/1 [00:00<00:00, 45.45it/s, EPOCH=94, AVG_LOSS=0.539]\n",
      "100%|██████████| 1/1 [00:00<00:00, 43.47it/s]\n"
     ]
    },
    {
     "name": "stdout",
     "output_type": "stream",
     "text": [
      "Accuracy: 0.6818622696411252\n",
      "Precision: 0.6820192450849025\n",
      "Recall: 0.6757038364951136\n",
      "f1_score: 0.6759725575869073\n"
     ]
    },
    {
     "name": "stderr",
     "output_type": "stream",
     "text": [
      "100%|██████████| 1/1 [00:00<00:00, 43.47it/s, EPOCH=95, AVG_LOSS=0.538]\n",
      "100%|██████████| 1/1 [00:00<00:00, 38.45it/s]\n"
     ]
    },
    {
     "name": "stdout",
     "output_type": "stream",
     "text": [
      "Accuracy: 0.6818622696411252\n",
      "Precision: 0.6814707371208286\n",
      "Recall: 0.6762560134337842\n",
      "f1_score: 0.6766418053165041\n"
     ]
    },
    {
     "name": "stderr",
     "output_type": "stream",
     "text": [
      "100%|██████████| 1/1 [00:00<00:00, 46.50it/s, EPOCH=96, AVG_LOSS=0.537]\n",
      "100%|██████████| 1/1 [00:00<00:00, 40.80it/s]\n"
     ]
    },
    {
     "name": "stdout",
     "output_type": "stream",
     "text": [
      "Accuracy: 0.6789524733268671\n",
      "Precision: 0.678400221013393\n",
      "Recall: 0.6734005778947687\n",
      "f1_score: 0.6737656790569575\n"
     ]
    },
    {
     "name": "stderr",
     "output_type": "stream",
     "text": [
      "100%|██████████| 1/1 [00:00<00:00, 45.44it/s, EPOCH=97, AVG_LOSS=0.536]\n",
      "100%|██████████| 1/1 [00:00<00:00, 41.66it/s]\n"
     ]
    },
    {
     "name": "stdout",
     "output_type": "stream",
     "text": [
      "Accuracy: 0.6789524733268671\n",
      "Precision: 0.6785207700101317\n",
      "Recall: 0.673262533660101\n",
      "f1_score: 0.6736021776369464\n"
     ]
    },
    {
     "name": "stderr",
     "output_type": "stream",
     "text": [
      "100%|██████████| 1/1 [00:00<00:00, 13.24it/s, EPOCH=98, AVG_LOSS=0.535]\n",
      "100%|██████████| 1/1 [00:00<00:00, 12.90it/s]\n"
     ]
    },
    {
     "name": "stdout",
     "output_type": "stream",
     "text": [
      "Accuracy: 0.6789524733268671\n",
      "Precision: 0.6790626911554809\n",
      "Recall: 0.6727103567214305\n",
      "f1_score: 0.672921452881601\n"
     ]
    },
    {
     "name": "stderr",
     "output_type": "stream",
     "text": [
      "100%|██████████| 1/1 [00:00<00:00, 45.44it/s, EPOCH=99, AVG_LOSS=0.534]\n",
      "100%|██████████| 1/1 [00:00<00:00, 41.66it/s]\n"
     ]
    },
    {
     "name": "stdout",
     "output_type": "stream",
     "text": [
      "Accuracy: 0.6818622696411252\n",
      "Precision: 0.681598733367651\n",
      "Recall: 0.6761179691991166\n",
      "f1_score: 0.6764784668488203\n"
     ]
    },
    {
     "name": "stderr",
     "output_type": "stream",
     "text": [
      "100%|██████████| 1/1 [00:00<00:00, 43.47it/s, EPOCH=100, AVG_LOSS=0.533]\n",
      "100%|██████████| 1/1 [00:00<00:00, 39.99it/s]\n"
     ]
    },
    {
     "name": "stdout",
     "output_type": "stream",
     "text": [
      "Accuracy: 0.6808923375363725\n",
      "Precision: 0.6800712171231071\n",
      "Recall: 0.6757643490363378\n",
      "f1_score: 0.6762086131435635\n"
     ]
    },
    {
     "name": "stderr",
     "output_type": "stream",
     "text": [
      "100%|██████████| 1/1 [00:00<00:00, 43.47it/s, EPOCH=101, AVG_LOSS=0.532]\n",
      "100%|██████████| 1/1 [00:00<00:00, 39.99it/s]\n"
     ]
    },
    {
     "name": "stdout",
     "output_type": "stream",
     "text": [
      "Accuracy: 0.6779825412221144\n",
      "Precision: 0.6770264619101829\n",
      "Recall: 0.6729089134973223\n",
      "f1_score: 0.6733331297383549\n"
     ]
    },
    {
     "name": "stderr",
     "output_type": "stream",
     "text": [
      "100%|██████████| 1/1 [00:00<00:00, 43.47it/s, EPOCH=102, AVG_LOSS=0.53]\n",
      "100%|██████████| 1/1 [00:00<00:00, 39.99it/s]\n"
     ]
    },
    {
     "name": "stdout",
     "output_type": "stream",
     "text": [
      "Accuracy: 0.6808923375363725\n",
      "Precision: 0.680288536259364\n",
      "Recall: 0.6754882605670025\n",
      "f1_score: 0.6758967567603722\n"
     ]
    },
    {
     "name": "stderr",
     "output_type": "stream",
     "text": [
      "100%|██████████| 1/1 [00:00<00:00, 45.44it/s, EPOCH=103, AVG_LOSS=0.529]\n",
      "100%|██████████| 1/1 [00:00<00:00, 41.57it/s]\n"
     ]
    },
    {
     "name": "stdout",
     "output_type": "stream",
     "text": [
      "Accuracy: 0.6847720659553831\n",
      "Precision: 0.683861605762691\n",
      "Recall: 0.6799397143808055\n",
      "f1_score: 0.6804430071307248\n"
     ]
    },
    {
     "name": "stderr",
     "output_type": "stream",
     "text": [
      "100%|██████████| 1/1 [00:00<00:00, 13.70it/s, EPOCH=104, AVG_LOSS=0.528]\n",
      "100%|██████████| 1/1 [00:00<00:00, 13.33it/s]\n"
     ]
    },
    {
     "name": "stdout",
     "output_type": "stream",
     "text": [
      "Accuracy: 0.6808923375363725\n",
      "Precision: 0.6797066533035232\n",
      "Recall: 0.6763165259750084\n",
      "f1_score: 0.676800968075426\n"
     ]
    },
    {
     "name": "stderr",
     "output_type": "stream",
     "text": [
      "100%|██████████| 1/1 [00:00<00:00, 44.43it/s, EPOCH=105, AVG_LOSS=0.527]\n",
      "100%|██████████| 1/1 [00:00<00:00, 40.80it/s]"
     ]
    },
    {
     "name": "stdout",
     "output_type": "stream",
     "text": [
      "Accuracy: 0.6799224054316197\n",
      "Precision: 0.6789269141531322\n",
      "Recall: 0.6749965961695561\n",
      "f1_score: 0.6754521520146521\n"
     ]
    },
    {
     "name": "stderr",
     "output_type": "stream",
     "text": [
      "\n",
      "100%|██████████| 1/1 [00:00<00:00, 45.44it/s, EPOCH=106, AVG_LOSS=0.526]\n",
      "100%|██████████| 1/1 [00:00<00:00, 41.66it/s]\n"
     ]
    },
    {
     "name": "stdout",
     "output_type": "stream",
     "text": [
      "Accuracy: 0.6808923375363725\n",
      "Precision: 0.6804060731990133\n",
      "Recall: 0.6753502163323348\n",
      "f1_score: 0.6757368834131088\n"
     ]
    },
    {
     "name": "stderr",
     "output_type": "stream",
     "text": [
      "100%|██████████| 1/1 [00:00<00:00, 45.44it/s, EPOCH=107, AVG_LOSS=0.525]\n",
      "100%|██████████| 1/1 [00:00<00:00, 43.47it/s]\n"
     ]
    },
    {
     "name": "stdout",
     "output_type": "stream",
     "text": [
      "Accuracy: 0.6741028128031038\n",
      "Precision: 0.6730343300110742\n",
      "Recall: 0.6690096366221899\n",
      "f1_score: 0.6693973843135159\n"
     ]
    },
    {
     "name": "stderr",
     "output_type": "stream",
     "text": [
      "100%|██████████| 1/1 [00:00<00:00, 45.44it/s, EPOCH=108, AVG_LOSS=0.524]\n",
      "100%|██████████| 1/1 [00:00<00:00, 41.66it/s]\n"
     ]
    },
    {
     "name": "stdout",
     "output_type": "stream",
     "text": [
      "Accuracy: 0.6770126091173618\n",
      "Precision: 0.6758930779694553\n",
      "Recall: 0.6721411606305406\n",
      "f1_score: 0.672576988844712\n"
     ]
    },
    {
     "name": "stderr",
     "output_type": "stream",
     "text": [
      "100%|██████████| 1/1 [00:00<00:00, 13.60it/s, EPOCH=109, AVG_LOSS=0.523]\n",
      "100%|██████████| 1/1 [00:00<00:00, 13.24it/s]\n"
     ]
    },
    {
     "name": "stdout",
     "output_type": "stream",
     "text": [
      "Accuracy: 0.6779825412221144\n",
      "Precision: 0.6770264619101829\n",
      "Recall: 0.6729089134973223\n",
      "f1_score: 0.6733331297383549\n"
     ]
    },
    {
     "name": "stderr",
     "output_type": "stream",
     "text": [
      "100%|██████████| 1/1 [00:00<00:00, 45.45it/s, EPOCH=110, AVG_LOSS=0.522]\n",
      "100%|██████████| 1/1 [00:00<00:00, 39.99it/s]\n"
     ]
    },
    {
     "name": "stdout",
     "output_type": "stream",
     "text": [
      "Accuracy: 0.6770126091173618\n",
      "Precision: 0.6762825992353362\n",
      "Recall: 0.6715889836918701\n",
      "f1_score: 0.6719562917969724\n"
     ]
    },
    {
     "name": "stderr",
     "output_type": "stream",
     "text": [
      "100%|██████████| 1/1 [00:00<00:00, 43.47it/s, EPOCH=111, AVG_LOSS=0.521]\n",
      "100%|██████████| 1/1 [00:00<00:00, 39.99it/s]\n"
     ]
    },
    {
     "name": "stdout",
     "output_type": "stream",
     "text": [
      "Accuracy: 0.6760426770126091\n",
      "Precision: 0.6750303959606285\n",
      "Recall: 0.6709592750597562\n",
      "f1_score: 0.6713652570259354\n"
     ]
    },
    {
     "name": "stderr",
     "output_type": "stream",
     "text": [
      "100%|██████████| 1/1 [00:00<00:00, 44.43it/s, EPOCH=112, AVG_LOSS=0.52]\n",
      "100%|██████████| 1/1 [00:00<00:00, 40.80it/s]\n"
     ]
    },
    {
     "name": "stdout",
     "output_type": "stream",
     "text": [
      "Accuracy: 0.6779825412221144\n",
      "Precision: 0.6769334880123743\n",
      "Recall: 0.67304695773199\n",
      "f1_score: 0.6734851953601955\n"
     ]
    },
    {
     "name": "stderr",
     "output_type": "stream",
     "text": [
      "100%|██████████| 1/1 [00:00<00:00, 41.66it/s, EPOCH=113, AVG_LOSS=0.519]\n",
      "100%|██████████| 1/1 [00:00<00:00, 38.45it/s]\n"
     ]
    },
    {
     "name": "stdout",
     "output_type": "stream",
     "text": [
      "Accuracy: 0.6818622696411252\n",
      "Precision: 0.6812327703358572\n",
      "Recall: 0.6765321019031194\n",
      "f1_score: 0.6769605820227124\n"
     ]
    },
    {
     "name": "stderr",
     "output_type": "stream",
     "text": [
      "100%|██████████| 1/1 [00:00<00:00, 13.42it/s, EPOCH=114, AVG_LOSS=0.518]\n",
      "100%|██████████| 1/1 [00:00<00:00, 13.07it/s]\n"
     ]
    },
    {
     "name": "stdout",
     "output_type": "stream",
     "text": [
      "Accuracy: 0.6828322017458778\n",
      "Precision: 0.6825383836022134\n",
      "Recall: 0.6771618105352335\n",
      "f1_score: 0.677546562197225\n"
     ]
    },
    {
     "name": "stderr",
     "output_type": "stream",
     "text": [
      "100%|██████████| 1/1 [00:00<00:00, 43.47it/s, EPOCH=115, AVG_LOSS=0.517]\n",
      "100%|██████████| 1/1 [00:00<00:00, 39.99it/s]\n"
     ]
    },
    {
     "name": "stdout",
     "output_type": "stream",
     "text": [
      "Accuracy: 0.6750727449078564\n",
      "Precision: 0.6739009460211464\n",
      "Recall: 0.6701915221929744\n",
      "f1_score: 0.6706104842732087\n"
     ]
    },
    {
     "name": "stderr",
     "output_type": "stream",
     "text": [
      "100%|██████████| 1/1 [00:00<00:00, 46.49it/s, EPOCH=116, AVG_LOSS=0.516]\n",
      "100%|██████████| 1/1 [00:00<00:00, 40.80it/s]\n"
     ]
    },
    {
     "name": "stdout",
     "output_type": "stream",
     "text": [
      "Accuracy: 0.6770126091173618\n",
      "Precision: 0.6759818906473707\n",
      "Recall: 0.6720031163958731\n",
      "f1_score: 0.6724257855100341\n"
     ]
    },
    {
     "name": "stderr",
     "output_type": "stream",
     "text": [
      "100%|██████████| 1/1 [00:00<00:00, 45.45it/s, EPOCH=117, AVG_LOSS=0.515]\n",
      "100%|██████████| 1/1 [00:00<00:00, 41.66it/s]\n"
     ]
    },
    {
     "name": "stdout",
     "output_type": "stream",
     "text": [
      "Accuracy: 0.6808923375363725\n",
      "Precision: 0.6800712171231071\n",
      "Recall: 0.6757643490363378\n",
      "f1_score: 0.6762086131435635\n"
     ]
    },
    {
     "name": "stderr",
     "output_type": "stream",
     "text": [
      "100%|██████████| 1/1 [00:00<00:00, 45.45it/s, EPOCH=118, AVG_LOSS=0.514]\n",
      "100%|██████████| 1/1 [00:00<00:00, 41.66it/s]\n"
     ]
    },
    {
     "name": "stdout",
     "output_type": "stream",
     "text": [
      "Accuracy: 0.6779825412221144\n",
      "Precision: 0.6771251764194984\n",
      "Recall: 0.6727708692626546\n",
      "f1_score: 0.6731784260256499\n"
     ]
    },
    {
     "name": "stderr",
     "output_type": "stream",
     "text": [
      "100%|██████████| 1/1 [00:00<00:00, 46.50it/s, EPOCH=119, AVG_LOSS=0.513]\n",
      "100%|██████████| 1/1 [00:00<00:00, 42.54it/s]\n"
     ]
    },
    {
     "name": "stdout",
     "output_type": "stream",
     "text": [
      "Accuracy: 0.6789524733268671\n",
      "Precision: 0.6778852099177641\n",
      "Recall: 0.6740907990681069\n",
      "f1_score: 0.6745434934162153\n"
     ]
    },
    {
     "name": "stderr",
     "output_type": "stream",
     "text": [
      "100%|██████████| 1/1 [00:00<00:00, 12.98it/s, EPOCH=120, AVG_LOSS=0.513]\n",
      "100%|██████████| 1/1 [00:00<00:00, 12.66it/s]\n"
     ]
    },
    {
     "name": "stdout",
     "output_type": "stream",
     "text": [
      "Accuracy: 0.6799224054316197\n",
      "Precision: 0.6789269141531322\n",
      "Recall: 0.6749965961695561\n",
      "f1_score: 0.6754521520146521\n"
     ]
    },
    {
     "name": "stderr",
     "output_type": "stream",
     "text": [
      "100%|██████████| 1/1 [00:00<00:00, 41.66it/s, EPOCH=121, AVG_LOSS=0.512]\n",
      "100%|██████████| 1/1 [00:00<00:00, 39.99it/s]\n"
     ]
    },
    {
     "name": "stdout",
     "output_type": "stream",
     "text": [
      "Accuracy: 0.6789524733268671\n",
      "Precision: 0.6778852099177641\n",
      "Recall: 0.6740907990681069\n",
      "f1_score: 0.6745434934162153\n"
     ]
    },
    {
     "name": "stderr",
     "output_type": "stream",
     "text": [
      "100%|██████████| 1/1 [00:00<00:00, 43.47it/s, EPOCH=122, AVG_LOSS=0.511]\n",
      "100%|██████████| 1/1 [00:00<00:00, 39.99it/s]\n"
     ]
    },
    {
     "name": "stdout",
     "output_type": "stream",
     "text": [
      "Accuracy: 0.6799224054316197\n",
      "Precision: 0.678837078174361\n",
      "Recall: 0.6751346404042238\n",
      "f1_score: 0.6756006864988559\n"
     ]
    },
    {
     "name": "stderr",
     "output_type": "stream",
     "text": [
      "100%|██████████| 1/1 [00:00<00:00, 43.47it/s, EPOCH=123, AVG_LOSS=0.51]\n",
      "100%|██████████| 1/1 [00:00<00:00, 39.95it/s]\n"
     ]
    },
    {
     "name": "stdout",
     "output_type": "stream",
     "text": [
      "Accuracy: 0.6789524733268671\n",
      "Precision: 0.6779766281004527\n",
      "Recall: 0.6739527548334392\n",
      "f1_score: 0.6743931982096735\n"
     ]
    },
    {
     "name": "stderr",
     "output_type": "stream",
     "text": [
      "100%|██████████| 1/1 [00:00<00:00, 45.45it/s, EPOCH=124, AVG_LOSS=0.509]\n",
      "100%|██████████| 1/1 [00:00<00:00, 41.66it/s]\n"
     ]
    },
    {
     "name": "stdout",
     "output_type": "stream",
     "text": [
      "Accuracy: 0.6789524733268671\n",
      "Precision: 0.6777995198727895\n",
      "Recall: 0.6742288433027745\n",
      "f1_score: 0.6746911691389341\n"
     ]
    },
    {
     "name": "stderr",
     "output_type": "stream",
     "text": [
      "100%|██████████| 1/1 [00:00<00:00, 43.47it/s, EPOCH=125, AVG_LOSS=0.508]\n",
      "100%|██████████| 1/1 [00:00<00:00, 41.66it/s]\n"
     ]
    },
    {
     "name": "stdout",
     "output_type": "stream",
     "text": [
      "Accuracy: 0.6828322017458778\n",
      "Precision: 0.6817787092142742\n",
      "Recall: 0.6781281201779068\n",
      "f1_score: 0.6786223936810618\n"
     ]
    },
    {
     "name": "stderr",
     "output_type": "stream",
     "text": [
      "100%|██████████| 1/1 [00:00<00:00, 13.42it/s, EPOCH=126, AVG_LOSS=0.508]\n",
      "100%|██████████| 1/1 [00:00<00:00, 13.24it/s]\n"
     ]
    },
    {
     "name": "stdout",
     "output_type": "stream",
     "text": [
      "Accuracy: 0.6818622696411252\n",
      "Precision: 0.680660533635362\n",
      "Recall: 0.6773603673111253\n",
      "f1_score: 0.6778542414473734\n"
     ]
    },
    {
     "name": "stderr",
     "output_type": "stream",
     "text": [
      "100%|██████████| 1/1 [00:00<00:00, 47.61it/s, EPOCH=127, AVG_LOSS=0.507]\n",
      "100%|██████████| 1/1 [00:00<00:00, 43.47it/s]\n"
     ]
    },
    {
     "name": "stdout",
     "output_type": "stream",
     "text": [
      "Accuracy: 0.6799224054316197\n",
      "Precision: 0.6786746180338857\n",
      "Recall: 0.675410728873559\n",
      "f1_score: 0.6758899380415646\n"
     ]
    },
    {
     "name": "stderr",
     "output_type": "stream",
     "text": [
      "100%|██████████| 1/1 [00:00<00:00, 44.43it/s, EPOCH=128, AVG_LOSS=0.506]\n",
      "100%|██████████| 1/1 [00:00<00:00, 41.66it/s]\n"
     ]
    },
    {
     "name": "stdout",
     "output_type": "stream",
     "text": [
      "Accuracy: 0.6838021338506305\n",
      "Precision: 0.6826464492368383\n",
      "Recall: 0.6793100057486914\n",
      "f1_score: 0.679818544853182\n"
     ]
    },
    {
     "name": "stderr",
     "output_type": "stream",
     "text": [
      "100%|██████████| 1/1 [00:00<00:00, 45.45it/s, EPOCH=129, AVG_LOSS=0.506]\n",
      "100%|██████████| 1/1 [00:00<00:00, 41.66it/s]\n"
     ]
    },
    {
     "name": "stdout",
     "output_type": "stream",
     "text": [
      "Accuracy: 0.6876818622696411\n",
      "Precision: 0.6866182804397907\n",
      "Recall: 0.6832092826238239\n",
      "f1_score: 0.6837471516647995\n"
     ]
    },
    {
     "name": "stderr",
     "output_type": "stream",
     "text": [
      "100%|██████████| 1/1 [00:00<00:00, 47.61it/s, EPOCH=130, AVG_LOSS=0.505]\n",
      "100%|██████████| 1/1 [00:00<00:00, 43.47it/s]\n"
     ]
    },
    {
     "name": "stdout",
     "output_type": "stream",
     "text": [
      "Accuracy: 0.6876818622696411\n",
      "Precision: 0.6866182804397907\n",
      "Recall: 0.6832092826238239\n",
      "f1_score: 0.6837471516647995\n"
     ]
    },
    {
     "name": "stderr",
     "output_type": "stream",
     "text": [
      "100%|██████████| 1/1 [00:00<00:00, 13.33it/s, EPOCH=131, AVG_LOSS=0.504]\n",
      "100%|██████████| 1/1 [00:00<00:00, 12.98it/s]\n"
     ]
    },
    {
     "name": "stdout",
     "output_type": "stream",
     "text": [
      "Accuracy: 0.6867119301648884\n",
      "Precision: 0.6855840975767516\n",
      "Recall: 0.6823034855223745\n",
      "f1_score: 0.6828341897110857\n"
     ]
    },
    {
     "name": "stderr",
     "output_type": "stream",
     "text": [
      "100%|██████████| 1/1 [00:00<00:00, 40.80it/s, EPOCH=132, AVG_LOSS=0.503]\n",
      "100%|██████████| 1/1 [00:00<00:00, 37.72it/s]\n"
     ]
    },
    {
     "name": "stdout",
     "output_type": "stream",
     "text": [
      "Accuracy: 0.6886517943743938\n",
      "Precision: 0.6876551538046412\n",
      "Recall: 0.6841150797252731\n",
      "f1_score: 0.6846599111009476\n"
     ]
    },
    {
     "name": "stderr",
     "output_type": "stream",
     "text": [
      "100%|██████████| 1/1 [00:00<00:00, 30.30it/s, EPOCH=133, AVG_LOSS=0.502]\n",
      "100%|██████████| 1/1 [00:00<00:00, 28.56it/s]\n"
     ]
    },
    {
     "name": "stdout",
     "output_type": "stream",
     "text": [
      "Accuracy: 0.6876818622696411\n",
      "Precision: 0.6866182804397907\n",
      "Recall: 0.6832092826238239\n",
      "f1_score: 0.6837471516647995\n"
     ]
    },
    {
     "name": "stderr",
     "output_type": "stream",
     "text": [
      "100%|██████████| 1/1 [00:00<00:00, 43.47it/s, EPOCH=134, AVG_LOSS=0.501]\n",
      "100%|██████████| 1/1 [00:00<00:00, 39.99it/s]\n"
     ]
    },
    {
     "name": "stdout",
     "output_type": "stream",
     "text": [
      "Accuracy: 0.6867119301648884\n",
      "Precision: 0.6855840975767516\n",
      "Recall: 0.6823034855223745\n",
      "f1_score: 0.6828341897110857\n"
     ]
    },
    {
     "name": "stderr",
     "output_type": "stream",
     "text": [
      "100%|██████████| 1/1 [00:00<00:00, 43.47it/s, EPOCH=135, AVG_LOSS=0.501]\n",
      "100%|██████████| 1/1 [00:00<00:00, 39.99it/s]\n"
     ]
    },
    {
     "name": "stdout",
     "output_type": "stream",
     "text": [
      "Accuracy: 0.6867119301648884\n",
      "Precision: 0.6855060759883095\n",
      "Recall: 0.6824415297570421\n",
      "f1_score: 0.6829706678395343\n"
     ]
    },
    {
     "name": "stderr",
     "output_type": "stream",
     "text": [
      "100%|██████████| 1/1 [00:00<00:00, 13.24it/s, EPOCH=136, AVG_LOSS=0.5]\n",
      "100%|██████████| 1/1 [00:00<00:00, 12.90it/s]\n"
     ]
    },
    {
     "name": "stdout",
     "output_type": "stream",
     "text": [
      "Accuracy: 0.6876818622696411\n",
      "Precision: 0.6866182804397907\n",
      "Recall: 0.6832092826238239\n",
      "f1_score: 0.6837471516647995\n"
     ]
    },
    {
     "name": "stderr",
     "output_type": "stream",
     "text": [
      "100%|██████████| 1/1 [00:00<00:00, 45.44it/s, EPOCH=137, AVG_LOSS=0.499]\n",
      "100%|██████████| 1/1 [00:00<00:00, 41.66it/s]\n"
     ]
    },
    {
     "name": "stdout",
     "output_type": "stream",
     "text": [
      "Accuracy: 0.6867119301648884\n",
      "Precision: 0.6856680286793617\n",
      "Recall: 0.6821654412877068\n",
      "f1_score: 0.6826951753445671\n"
     ]
    },
    {
     "name": "stderr",
     "output_type": "stream",
     "text": [
      "100%|██████████| 1/1 [00:00<00:00, 43.47it/s, EPOCH=138, AVG_LOSS=0.499]\n",
      "100%|██████████| 1/1 [00:00<00:00, 41.66it/s]\n"
     ]
    },
    {
     "name": "stdout",
     "output_type": "stream",
     "text": [
      "Accuracy: 0.6867119301648884\n",
      "Precision: 0.6856680286793617\n",
      "Recall: 0.6821654412877068\n",
      "f1_score: 0.6826951753445671\n"
     ]
    },
    {
     "name": "stderr",
     "output_type": "stream",
     "text": [
      "100%|██████████| 1/1 [00:00<00:00, 46.50it/s, EPOCH=139, AVG_LOSS=0.498]\n",
      "100%|██████████| 1/1 [00:00<00:00, 42.54it/s]"
     ]
    },
    {
     "name": "stdout",
     "output_type": "stream",
     "text": [
      "Accuracy: 0.6896217264791464\n",
      "Precision: 0.6885196700116973\n",
      "Recall: 0.6852969652960577\n",
      "f1_score: 0.6858479211420387\n"
     ]
    },
    {
     "name": "stderr",
     "output_type": "stream",
     "text": [
      "\n",
      "100%|██████████| 1/1 [00:00<00:00, 45.44it/s, EPOCH=140, AVG_LOSS=0.497]\n",
      "100%|██████████| 1/1 [00:00<00:00, 41.66it/s]\n"
     ]
    },
    {
     "name": "stdout",
     "output_type": "stream",
     "text": [
      "Accuracy: 0.6886517943743938\n",
      "Precision: 0.6876551538046412\n",
      "Recall: 0.6841150797252731\n",
      "f1_score: 0.6846599111009476\n"
     ]
    },
    {
     "name": "stderr",
     "output_type": "stream",
     "text": [
      "100%|██████████| 1/1 [00:00<00:00, 43.47it/s, EPOCH=141, AVG_LOSS=0.497]\n",
      "100%|██████████| 1/1 [00:00<00:00, 39.99it/s]\n"
     ]
    },
    {
     "name": "stdout",
     "output_type": "stream",
     "text": [
      "Accuracy: 0.6896217264791464\n",
      "Precision: 0.6887913522364773\n",
      "Recall: 0.6848828325920546\n",
      "f1_score: 0.6854309687261633\n"
     ]
    },
    {
     "name": "stderr",
     "output_type": "stream",
     "text": [
      "100%|██████████| 1/1 [00:00<00:00, 13.33it/s, EPOCH=142, AVG_LOSS=0.496]\n",
      "100%|██████████| 1/1 [00:00<00:00, 12.98it/s]\n"
     ]
    },
    {
     "name": "stdout",
     "output_type": "stream",
     "text": [
      "Accuracy: 0.6867119301648884\n",
      "Precision: 0.6855840975767516\n",
      "Recall: 0.6823034855223745\n",
      "f1_score: 0.6828341897110857\n"
     ]
    },
    {
     "name": "stderr",
     "output_type": "stream",
     "text": [
      "100%|██████████| 1/1 [00:00<00:00, 44.42it/s, EPOCH=143, AVG_LOSS=0.495]\n",
      "100%|██████████| 1/1 [00:00<00:00, 39.20it/s]\n"
     ]
    },
    {
     "name": "stdout",
     "output_type": "stream",
     "text": [
      "Accuracy: 0.6838021338506305\n",
      "Precision: 0.6826464492368383\n",
      "Recall: 0.6793100057486914\n",
      "f1_score: 0.679818544853182\n"
     ]
    },
    {
     "name": "stderr",
     "output_type": "stream",
     "text": [
      "100%|██████████| 1/1 [00:00<00:00, 43.47it/s, EPOCH=144, AVG_LOSS=0.495]\n",
      "100%|██████████| 1/1 [00:00<00:00, 39.99it/s]\n"
     ]
    },
    {
     "name": "stdout",
     "output_type": "stream",
     "text": [
      "Accuracy: 0.6847720659553831\n",
      "Precision: 0.683861605762691\n",
      "Recall: 0.6799397143808055\n",
      "f1_score: 0.6804430071307248\n"
     ]
    },
    {
     "name": "stderr",
     "output_type": "stream",
     "text": [
      "100%|██████████| 1/1 [00:00<00:00, 41.66it/s, EPOCH=145, AVG_LOSS=0.494]\n",
      "100%|██████████| 1/1 [00:00<00:00, 38.45it/s]\n"
     ]
    },
    {
     "name": "stdout",
     "output_type": "stream",
     "text": [
      "Accuracy: 0.6818622696411252\n",
      "Precision: 0.680660533635362\n",
      "Recall: 0.6773603673111253\n",
      "f1_score: 0.6778542414473734\n"
     ]
    },
    {
     "name": "stderr",
     "output_type": "stream",
     "text": [
      "100%|██████████| 1/1 [00:00<00:00, 46.50it/s, EPOCH=146, AVG_LOSS=0.493]\n",
      "100%|██████████| 1/1 [00:00<00:00, 42.54it/s]\n"
     ]
    },
    {
     "name": "stdout",
     "output_type": "stream",
     "text": [
      "Accuracy: 0.6838021338506305\n",
      "Precision: 0.6825690297358862\n",
      "Recall: 0.6794480499833591\n",
      "f1_score: 0.679957569663452\n"
     ]
    },
    {
     "name": "stderr",
     "output_type": "stream",
     "text": [
      "100%|██████████| 1/1 [00:00<00:00, 45.44it/s, EPOCH=147, AVG_LOSS=0.492]\n",
      "100%|██████████| 1/1 [00:00<00:00, 41.66it/s]\n"
     ]
    },
    {
     "name": "stdout",
     "output_type": "stream",
     "text": [
      "Accuracy: 0.6876818622696411\n",
      "Precision: 0.6869006187161639\n",
      "Recall: 0.6827951499198208\n",
      "f1_score: 0.6833199786324786\n"
     ]
    },
    {
     "name": "stderr",
     "output_type": "stream",
     "text": [
      "100%|██████████| 1/1 [00:00<00:00, 13.42it/s, EPOCH=148, AVG_LOSS=0.492]\n",
      "100%|██████████| 1/1 [00:00<00:00, 13.07it/s]\n"
     ]
    },
    {
     "name": "stdout",
     "output_type": "stream",
     "text": [
      "Accuracy: 0.6838021338506305\n",
      "Precision: 0.6829137664346481\n",
      "Recall: 0.6788958730446886\n",
      "f1_score: 0.6793860653235654\n"
     ]
    },
    {
     "name": "stderr",
     "output_type": "stream",
     "text": [
      "100%|██████████| 1/1 [00:00<00:00, 47.61it/s, EPOCH=149, AVG_LOSS=0.491]\n",
      "100%|██████████| 1/1 [00:00<00:00, 43.47it/s]\n"
     ]
    },
    {
     "name": "stdout",
     "output_type": "stream",
     "text": [
      "Accuracy: 0.6828322017458778\n",
      "Precision: 0.6816937784288026\n",
      "Recall: 0.6782661644125745\n",
      "f1_score: 0.6787657038318065\n"
     ]
    },
    {
     "name": "stderr",
     "output_type": "stream",
     "text": [
      "100%|██████████| 1/1 [00:00<00:00, 44.42it/s, EPOCH=150, AVG_LOSS=0.49]\n",
      "100%|██████████| 1/1 [00:00<00:00, 40.80it/s]\n"
     ]
    },
    {
     "name": "stdout",
     "output_type": "stream",
     "text": [
      "Accuracy: 0.6818622696411252\n",
      "Precision: 0.6807413407390264\n",
      "Recall: 0.6772223230764576\n",
      "f1_score: 0.6777117849327914\n"
     ]
    },
    {
     "name": "stderr",
     "output_type": "stream",
     "text": [
      "100%|██████████| 1/1 [00:00<00:00, 45.44it/s, EPOCH=151, AVG_LOSS=0.49]\n",
      "100%|██████████| 1/1 [00:00<00:00, 41.66it/s]\n"
     ]
    },
    {
     "name": "stdout",
     "output_type": "stream",
     "text": [
      "Accuracy: 0.6857419980601358\n",
      "Precision: 0.6848096426116308\n",
      "Recall: 0.6809835557169224\n",
      "f1_score: 0.6814988558352403\n"
     ]
    },
    {
     "name": "stderr",
     "output_type": "stream",
     "text": [
      "100%|██████████| 1/1 [00:00<00:00, 45.44it/s, EPOCH=152, AVG_LOSS=0.489]\n",
      "100%|██████████| 1/1 [00:00<00:00, 41.66it/s]\n"
     ]
    },
    {
     "name": "stdout",
     "output_type": "stream",
     "text": [
      "Accuracy: 0.6828322017458778\n",
      "Precision: 0.6817787092142742\n",
      "Recall: 0.6781281201779068\n",
      "f1_score: 0.6786223936810618\n"
     ]
    },
    {
     "name": "stderr",
     "output_type": "stream",
     "text": [
      "100%|██████████| 1/1 [00:00<00:00, 13.24it/s, EPOCH=153, AVG_LOSS=0.489]\n",
      "100%|██████████| 1/1 [00:00<00:00, 12.90it/s]\n"
     ]
    },
    {
     "name": "stdout",
     "output_type": "stream",
     "text": [
      "Accuracy: 0.6818622696411252\n",
      "Precision: 0.680660533635362\n",
      "Recall: 0.6773603673111253\n",
      "f1_score: 0.6778542414473734\n"
     ]
    },
    {
     "name": "stderr",
     "output_type": "stream",
     "text": [
      "100%|██████████| 1/1 [00:00<00:00, 41.66it/s, EPOCH=154, AVG_LOSS=0.488]\n",
      "100%|██████████| 1/1 [00:00<00:00, 39.20it/s]\n"
     ]
    },
    {
     "name": "stdout",
     "output_type": "stream",
     "text": [
      "Accuracy: 0.6838021338506305\n",
      "Precision: 0.6826464492368383\n",
      "Recall: 0.6793100057486914\n",
      "f1_score: 0.679818544853182\n"
     ]
    },
    {
     "name": "stderr",
     "output_type": "stream",
     "text": [
      "100%|██████████| 1/1 [00:00<00:00, 43.47it/s, EPOCH=155, AVG_LOSS=0.488]\n",
      "100%|██████████| 1/1 [00:00<00:00, 39.99it/s]\n"
     ]
    },
    {
     "name": "stdout",
     "output_type": "stream",
     "text": [
      "Accuracy: 0.6876818622696411\n",
      "Precision: 0.6866182804397907\n",
      "Recall: 0.6832092826238239\n",
      "f1_score: 0.6837471516647995\n"
     ]
    },
    {
     "name": "stderr",
     "output_type": "stream",
     "text": [
      "100%|██████████| 1/1 [00:00<00:00, 45.44it/s, EPOCH=156, AVG_LOSS=0.487]\n",
      "100%|██████████| 1/1 [00:00<00:00, 41.66it/s]\n"
     ]
    },
    {
     "name": "stdout",
     "output_type": "stream",
     "text": [
      "Accuracy: 0.6857419980601358\n",
      "Precision: 0.68455257649449\n",
      "Recall: 0.6813976884209252\n",
      "f1_score: 0.6819210201563142\n"
     ]
    },
    {
     "name": "stderr",
     "output_type": "stream",
     "text": [
      "100%|██████████| 1/1 [00:00<00:00, 43.47it/s, EPOCH=157, AVG_LOSS=0.486]\n",
      "100%|██████████| 1/1 [00:00<00:00, 43.41it/s]\n"
     ]
    },
    {
     "name": "stdout",
     "output_type": "stream",
     "text": [
      "Accuracy: 0.6857419980601358\n",
      "Precision: 0.68455257649449\n",
      "Recall: 0.6813976884209252\n",
      "f1_score: 0.6819210201563142\n"
     ]
    },
    {
     "name": "stderr",
     "output_type": "stream",
     "text": [
      "100%|██████████| 1/1 [00:00<00:00, 13.50it/s, EPOCH=158, AVG_LOSS=0.486]\n",
      "100%|██████████| 1/1 [00:00<00:00, 13.14it/s]\n"
     ]
    },
    {
     "name": "stdout",
     "output_type": "stream",
     "text": [
      "Accuracy: 0.6857419980601358\n",
      "Precision: 0.6846323648383146\n",
      "Recall: 0.6812596441862575\n",
      "f1_score: 0.6817828482589908\n"
     ]
    },
    {
     "name": "stderr",
     "output_type": "stream",
     "text": [
      "100%|██████████| 1/1 [00:00<00:00, 46.50it/s, EPOCH=159, AVG_LOSS=0.485]\n",
      "100%|██████████| 1/1 [00:00<00:00, 42.54it/s]\n"
     ]
    },
    {
     "name": "stdout",
     "output_type": "stream",
     "text": [
      "Accuracy: 0.6867119301648884\n",
      "Precision: 0.6855060759883095\n",
      "Recall: 0.6824415297570421\n",
      "f1_score: 0.6829706678395343\n"
     ]
    },
    {
     "name": "stderr",
     "output_type": "stream",
     "text": [
      "100%|██████████| 1/1 [00:00<00:00, 47.61it/s, EPOCH=160, AVG_LOSS=0.485]\n",
      "100%|██████████| 1/1 [00:00<00:00, 43.47it/s]\n"
     ]
    },
    {
     "name": "stdout",
     "output_type": "stream",
     "text": [
      "Accuracy: 0.6857419980601358\n",
      "Precision: 0.6846323648383146\n",
      "Recall: 0.6812596441862575\n",
      "f1_score: 0.6817828482589908\n"
     ]
    },
    {
     "name": "stderr",
     "output_type": "stream",
     "text": [
      "100%|██████████| 1/1 [00:00<00:00, 45.44it/s, EPOCH=161, AVG_LOSS=0.484]\n",
      "100%|██████████| 1/1 [00:00<00:00, 41.66it/s]\n"
     ]
    },
    {
     "name": "stdout",
     "output_type": "stream",
     "text": [
      "Accuracy: 0.6857419980601358\n",
      "Precision: 0.68455257649449\n",
      "Recall: 0.6813976884209252\n",
      "f1_score: 0.6819210201563142\n"
     ]
    },
    {
     "name": "stderr",
     "output_type": "stream",
     "text": [
      "100%|██████████| 1/1 [00:00<00:00, 45.44it/s, EPOCH=162, AVG_LOSS=0.484]\n",
      "100%|██████████| 1/1 [00:00<00:00, 41.66it/s]\n"
     ]
    },
    {
     "name": "stdout",
     "output_type": "stream",
     "text": [
      "Accuracy: 0.6867119301648884\n",
      "Precision: 0.6855060759883095\n",
      "Recall: 0.6824415297570421\n",
      "f1_score: 0.6829706678395343\n"
     ]
    },
    {
     "name": "stderr",
     "output_type": "stream",
     "text": [
      "100%|██████████| 1/1 [00:00<00:00, 47.61it/s, EPOCH=163, AVG_LOSS=0.483]\n",
      "100%|██████████| 1/1 [00:00<00:00, 43.47it/s]\n"
     ]
    },
    {
     "name": "stdout",
     "output_type": "stream",
     "text": [
      "Accuracy: 0.6876818622696411\n",
      "Precision: 0.6865361232530937\n",
      "Recall: 0.6833473268584914\n",
      "f1_score: 0.6838844706491766\n"
     ]
    },
    {
     "name": "stderr",
     "output_type": "stream",
     "text": [
      "100%|██████████| 1/1 [00:00<00:00, 12.90it/s, EPOCH=164, AVG_LOSS=0.482]\n",
      "100%|██████████| 1/1 [00:00<00:00, 12.58it/s]\n"
     ]
    },
    {
     "name": "stdout",
     "output_type": "stream",
     "text": [
      "Accuracy: 0.6867119301648884\n",
      "Precision: 0.6855840975767516\n",
      "Recall: 0.6823034855223745\n",
      "f1_score: 0.6828341897110857\n"
     ]
    },
    {
     "name": "stderr",
     "output_type": "stream",
     "text": [
      "100%|██████████| 1/1 [00:00<00:00, 45.44it/s, EPOCH=165, AVG_LOSS=0.482]\n",
      "100%|██████████| 1/1 [00:00<00:00, 41.66it/s]\n"
     ]
    },
    {
     "name": "stdout",
     "output_type": "stream",
     "text": [
      "Accuracy: 0.6867119301648884\n",
      "Precision: 0.6855840975767516\n",
      "Recall: 0.6823034855223745\n",
      "f1_score: 0.6828341897110857\n"
     ]
    },
    {
     "name": "stderr",
     "output_type": "stream",
     "text": [
      "100%|██████████| 1/1 [00:00<00:00, 44.43it/s, EPOCH=166, AVG_LOSS=0.482]\n",
      "100%|██████████| 1/1 [00:00<00:00, 42.54it/s]\n"
     ]
    },
    {
     "name": "stdout",
     "output_type": "stream",
     "text": [
      "Accuracy: 0.6857419980601358\n",
      "Precision: 0.6847180436627324\n",
      "Recall: 0.6811215999515899\n",
      "f1_score: 0.6816421290189769\n"
     ]
    },
    {
     "name": "stderr",
     "output_type": "stream",
     "text": [
      "100%|██████████| 1/1 [00:00<00:00, 43.47it/s, EPOCH=167, AVG_LOSS=0.481]\n",
      "100%|██████████| 1/1 [00:00<00:00, 39.99it/s]\n"
     ]
    },
    {
     "name": "stdout",
     "output_type": "stream",
     "text": [
      "Accuracy: 0.6857419980601358\n",
      "Precision: 0.6846323648383146\n",
      "Recall: 0.6812596441862575\n",
      "f1_score: 0.6817828482589908\n"
     ]
    },
    {
     "name": "stderr",
     "output_type": "stream",
     "text": [
      "100%|██████████| 1/1 [00:00<00:00, 41.66it/s, EPOCH=168, AVG_LOSS=0.481]\n",
      "100%|██████████| 1/1 [00:00<00:00, 38.45it/s]\n"
     ]
    },
    {
     "name": "stdout",
     "output_type": "stream",
     "text": [
      "Accuracy: 0.6886517943743938\n",
      "Precision: 0.6875688204085719\n",
      "Recall: 0.6842531239599408\n",
      "f1_score: 0.6847980646973947\n"
     ]
    },
    {
     "name": "stderr",
     "output_type": "stream",
     "text": [
      "100%|██████████| 1/1 [00:00<00:00, 44.43it/s, EPOCH=169, AVG_LOSS=0.48]\n",
      "100%|██████████| 1/1 [00:00<00:00, 40.80it/s]\n"
     ]
    },
    {
     "name": "stdout",
     "output_type": "stream",
     "text": [
      "Accuracy: 0.6857419980601358\n",
      "Precision: 0.6846323648383146\n",
      "Recall: 0.6812596441862575\n",
      "f1_score: 0.6817828482589908\n"
     ]
    },
    {
     "name": "stderr",
     "output_type": "stream",
     "text": [
      "100%|██████████| 1/1 [00:00<00:00, 13.24it/s, EPOCH=170, AVG_LOSS=0.48]\n",
      "100%|██████████| 1/1 [00:00<00:00, 12.90it/s]\n"
     ]
    },
    {
     "name": "stdout",
     "output_type": "stream",
     "text": [
      "Accuracy: 0.6867119301648884\n",
      "Precision: 0.6854339358833517\n",
      "Recall: 0.6825795739917098\n",
      "f1_score: 0.6831046161195439\n"
     ]
    },
    {
     "name": "stderr",
     "output_type": "stream",
     "text": [
      "100%|██████████| 1/1 [00:00<00:00, 47.61it/s, EPOCH=171, AVG_LOSS=0.479]\n",
      "100%|██████████| 1/1 [00:00<00:00, 41.66it/s]\n"
     ]
    },
    {
     "name": "stdout",
     "output_type": "stream",
     "text": [
      "Accuracy: 0.6876818622696411\n",
      "Precision: 0.6866182804397907\n",
      "Recall: 0.6832092826238239\n",
      "f1_score: 0.6837471516647995\n"
     ]
    },
    {
     "name": "stderr",
     "output_type": "stream",
     "text": [
      "100%|██████████| 1/1 [00:00<00:00, 47.61it/s, EPOCH=172, AVG_LOSS=0.479]\n",
      "100%|██████████| 1/1 [00:00<00:00, 41.66it/s]\n"
     ]
    },
    {
     "name": "stdout",
     "output_type": "stream",
     "text": [
      "Accuracy: 0.6876818622696411\n",
      "Precision: 0.6866182804397907\n",
      "Recall: 0.6832092826238239\n",
      "f1_score: 0.6837471516647995\n"
     ]
    },
    {
     "name": "stderr",
     "output_type": "stream",
     "text": [
      "100%|██████████| 1/1 [00:00<00:00, 45.17it/s, EPOCH=173, AVG_LOSS=0.478]\n",
      "100%|██████████| 1/1 [00:00<00:00, 41.42it/s]\n"
     ]
    },
    {
     "name": "stdout",
     "output_type": "stream",
     "text": [
      "Accuracy: 0.6857419980601358\n",
      "Precision: 0.6844105588059151\n",
      "Recall: 0.6816737768902605\n",
      "f1_score: 0.6821897476880923\n"
     ]
    },
    {
     "name": "stderr",
     "output_type": "stream",
     "text": [
      "100%|██████████| 1/1 [00:00<00:00, 45.44it/s, EPOCH=174, AVG_LOSS=0.478]\n",
      "100%|██████████| 1/1 [00:00<00:00, 39.99it/s]\n"
     ]
    },
    {
     "name": "stdout",
     "output_type": "stream",
     "text": [
      "Accuracy: 0.6867119301648884\n",
      "Precision: 0.6855840975767516\n",
      "Recall: 0.6823034855223745\n",
      "f1_score: 0.6828341897110857\n"
     ]
    },
    {
     "name": "stderr",
     "output_type": "stream",
     "text": [
      "100%|██████████| 1/1 [00:00<00:00, 13.07it/s, EPOCH=175, AVG_LOSS=0.477]\n",
      "100%|██████████| 1/1 [00:00<00:00, 12.74it/s]\n"
     ]
    },
    {
     "name": "stdout",
     "output_type": "stream",
     "text": [
      "Accuracy: 0.6857419980601358\n",
      "Precision: 0.68455257649449\n",
      "Recall: 0.6813976884209252\n",
      "f1_score: 0.6819210201563142\n"
     ]
    },
    {
     "name": "stderr",
     "output_type": "stream",
     "text": [
      "100%|██████████| 1/1 [00:00<00:00, 43.47it/s, EPOCH=176, AVG_LOSS=0.476]\n",
      "100%|██████████| 1/1 [00:00<00:00, 39.99it/s]\n"
     ]
    },
    {
     "name": "stdout",
     "output_type": "stream",
     "text": [
      "Accuracy: 0.6876818622696411\n",
      "Precision: 0.6865361232530937\n",
      "Recall: 0.6833473268584914\n",
      "f1_score: 0.6838844706491766\n"
     ]
    },
    {
     "name": "stderr",
     "output_type": "stream",
     "text": [
      "100%|██████████| 1/1 [00:00<00:00, 42.53it/s, EPOCH=177, AVG_LOSS=0.476]\n",
      "100%|██████████| 1/1 [00:00<00:00, 40.80it/s]\n"
     ]
    },
    {
     "name": "stdout",
     "output_type": "stream",
     "text": [
      "Accuracy: 0.6886517943743938\n",
      "Precision: 0.6875688204085719\n",
      "Recall: 0.6842531239599408\n",
      "f1_score: 0.6847980646973947\n"
     ]
    },
    {
     "name": "stderr",
     "output_type": "stream",
     "text": [
      "100%|██████████| 1/1 [00:00<00:00, 47.61it/s, EPOCH=178, AVG_LOSS=0.475]\n",
      "100%|██████████| 1/1 [00:00<00:00, 43.47it/s]\n"
     ]
    },
    {
     "name": "stdout",
     "output_type": "stream",
     "text": [
      "Accuracy: 0.6867119301648884\n",
      "Precision: 0.6853676504443114\n",
      "Recall: 0.6827176182263774\n",
      "f1_score: 0.6832360408143465\n"
     ]
    },
    {
     "name": "stderr",
     "output_type": "stream",
     "text": [
      "100%|██████████| 1/1 [00:00<00:00, 43.47it/s, EPOCH=179, AVG_LOSS=0.475]\n",
      "100%|██████████| 1/1 [00:00<00:00, 39.99it/s]\n"
     ]
    },
    {
     "name": "stdout",
     "output_type": "stream",
     "text": [
      "Accuracy: 0.6876818622696411\n",
      "Precision: 0.6865361232530937\n",
      "Recall: 0.6833473268584914\n",
      "f1_score: 0.6838844706491766\n"
     ]
    },
    {
     "name": "stderr",
     "output_type": "stream",
     "text": [
      "100%|██████████| 1/1 [00:00<00:00, 13.24it/s, EPOCH=180, AVG_LOSS=0.475]\n",
      "100%|██████████| 1/1 [00:00<00:00, 12.90it/s]\n"
     ]
    },
    {
     "name": "stdout",
     "output_type": "stream",
     "text": [
      "Accuracy: 0.6876818622696411\n",
      "Precision: 0.6865361232530937\n",
      "Recall: 0.6833473268584914\n",
      "f1_score: 0.6838844706491766\n"
     ]
    },
    {
     "name": "stderr",
     "output_type": "stream",
     "text": [
      "100%|██████████| 1/1 [00:00<00:00, 43.46it/s, EPOCH=181, AVG_LOSS=0.474]\n",
      "100%|██████████| 1/1 [00:00<00:00, 39.99it/s]\n"
     ]
    },
    {
     "name": "stdout",
     "output_type": "stream",
     "text": [
      "Accuracy: 0.6896217264791464\n",
      "Precision: 0.6885196700116973\n",
      "Recall: 0.6852969652960577\n",
      "f1_score: 0.6858479211420387\n"
     ]
    },
    {
     "name": "stderr",
     "output_type": "stream",
     "text": [
      "100%|██████████| 1/1 [00:00<00:00, 43.47it/s, EPOCH=182, AVG_LOSS=0.474]\n",
      "100%|██████████| 1/1 [00:00<00:00, 39.99it/s]\n"
     ]
    },
    {
     "name": "stdout",
     "output_type": "stream",
     "text": [
      "Accuracy: 0.6876818622696411\n",
      "Precision: 0.6864598946923403\n",
      "Recall: 0.683485371093159\n",
      "f1_score: 0.6840192644483363\n"
     ]
    },
    {
     "name": "stderr",
     "output_type": "stream",
     "text": [
      "100%|██████████| 1/1 [00:00<00:00, 41.66it/s, EPOCH=183, AVG_LOSS=0.473]\n",
      "100%|██████████| 1/1 [00:00<00:00, 38.45it/s]\n"
     ]
    },
    {
     "name": "stdout",
     "output_type": "stream",
     "text": [
      "Accuracy: 0.6886517943743938\n",
      "Precision: 0.6876551538046412\n",
      "Recall: 0.6841150797252731\n",
      "f1_score: 0.6846599111009476\n"
     ]
    },
    {
     "name": "stderr",
     "output_type": "stream",
     "text": [
      "100%|██████████| 1/1 [00:00<00:00, 45.44it/s, EPOCH=184, AVG_LOSS=0.472]\n",
      "100%|██████████| 1/1 [00:00<00:00, 41.66it/s]\n"
     ]
    },
    {
     "name": "stdout",
     "output_type": "stream",
     "text": [
      "Accuracy: 0.6867119301648884\n",
      "Precision: 0.6855840975767516\n",
      "Recall: 0.6823034855223745\n",
      "f1_score: 0.6828341897110857\n"
     ]
    },
    {
     "name": "stderr",
     "output_type": "stream",
     "text": [
      "100%|██████████| 1/1 [00:00<00:00, 45.44it/s, EPOCH=185, AVG_LOSS=0.472]\n",
      "100%|██████████| 1/1 [00:00<00:00, 41.66it/s]\n"
     ]
    },
    {
     "name": "stdout",
     "output_type": "stream",
     "text": [
      "Accuracy: 0.6876818622696411\n",
      "Precision: 0.6866182804397907\n",
      "Recall: 0.6832092826238239\n",
      "f1_score: 0.6837471516647995\n"
     ]
    },
    {
     "name": "stderr",
     "output_type": "stream",
     "text": [
      "100%|██████████| 1/1 [00:00<00:00, 13.24it/s, EPOCH=186, AVG_LOSS=0.472]\n",
      "100%|██████████| 1/1 [00:00<00:00, 13.07it/s]\n"
     ]
    },
    {
     "name": "stdout",
     "output_type": "stream",
     "text": [
      "Accuracy: 0.6867119301648884\n",
      "Precision: 0.6855840975767516\n",
      "Recall: 0.6823034855223745\n",
      "f1_score: 0.6828341897110857\n"
     ]
    },
    {
     "name": "stderr",
     "output_type": "stream",
     "text": [
      "100%|██████████| 1/1 [00:00<00:00, 43.47it/s, EPOCH=187, AVG_LOSS=0.471]\n",
      "100%|██████████| 1/1 [00:00<00:00, 39.99it/s]\n"
     ]
    },
    {
     "name": "stdout",
     "output_type": "stream",
     "text": [
      "Accuracy: 0.6867119301648884\n",
      "Precision: 0.6857578985557589\n",
      "Recall: 0.6820273970530393\n",
      "f1_score: 0.6825536182231895\n"
     ]
    },
    {
     "name": "stderr",
     "output_type": "stream",
     "text": [
      "100%|██████████| 1/1 [00:00<00:00, 45.44it/s, EPOCH=188, AVG_LOSS=0.471]\n",
      "100%|██████████| 1/1 [00:00<00:00, 41.66it/s]\n"
     ]
    },
    {
     "name": "stdout",
     "output_type": "stream",
     "text": [
      "Accuracy: 0.6847720659553831\n",
      "Precision: 0.6836809035540822\n",
      "Recall: 0.6802158028501406\n",
      "f1_score: 0.6807304395881868\n"
     ]
    },
    {
     "name": "stderr",
     "output_type": "stream",
     "text": [
      "100%|██████████| 1/1 [00:00<00:00, 43.47it/s, EPOCH=189, AVG_LOSS=0.47]\n",
      "100%|██████████| 1/1 [00:00<00:00, 41.66it/s]\n"
     ]
    },
    {
     "name": "stdout",
     "output_type": "stream",
     "text": [
      "Accuracy: 0.6847720659553831\n",
      "Precision: 0.6836809035540822\n",
      "Recall: 0.6802158028501406\n",
      "f1_score: 0.6807304395881868\n"
     ]
    },
    {
     "name": "stderr",
     "output_type": "stream",
     "text": [
      "100%|██████████| 1/1 [00:00<00:00, 45.44it/s, EPOCH=190, AVG_LOSS=0.47]\n",
      "100%|██████████| 1/1 [00:00<00:00, 41.66it/s]\n"
     ]
    },
    {
     "name": "stdout",
     "output_type": "stream",
     "text": [
      "Accuracy: 0.6876818622696411\n",
      "Precision: 0.6867063951245853\n",
      "Recall: 0.6830712383891562\n",
      "f1_score: 0.6836073010620698\n"
     ]
    },
    {
     "name": "stderr",
     "output_type": "stream",
     "text": [
      "100%|██████████| 1/1 [00:00<00:00, 45.45it/s, EPOCH=191, AVG_LOSS=0.469]\n",
      "100%|██████████| 1/1 [00:00<00:00, 41.66it/s]\n"
     ]
    },
    {
     "name": "stdout",
     "output_type": "stream",
     "text": [
      "Accuracy: 0.6857419980601358\n",
      "Precision: 0.6847180436627324\n",
      "Recall: 0.6811215999515899\n",
      "f1_score: 0.6816421290189769\n"
     ]
    },
    {
     "name": "stderr",
     "output_type": "stream",
     "text": [
      "100%|██████████| 1/1 [00:00<00:00, 12.50it/s, EPOCH=192, AVG_LOSS=0.469]\n",
      "100%|██████████| 1/1 [00:00<00:00, 12.34it/s]\n"
     ]
    },
    {
     "name": "stdout",
     "output_type": "stream",
     "text": [
      "Accuracy: 0.6867119301648884\n",
      "Precision: 0.6858537377109999\n",
      "Recall: 0.6818893528183716\n",
      "f1_score: 0.6824095117022282\n"
     ]
    },
    {
     "name": "stderr",
     "output_type": "stream",
     "text": [
      "100%|██████████| 1/1 [00:00<00:00, 44.43it/s, EPOCH=193, AVG_LOSS=0.468]\n",
      "100%|██████████| 1/1 [00:00<00:00, 40.80it/s]\n"
     ]
    },
    {
     "name": "stdout",
     "output_type": "stream",
     "text": [
      "Accuracy: 0.6857419980601358\n",
      "Precision: 0.6848096426116308\n",
      "Recall: 0.6809835557169224\n",
      "f1_score: 0.6814988558352403\n"
     ]
    },
    {
     "name": "stderr",
     "output_type": "stream",
     "text": [
      "100%|██████████| 1/1 [00:00<00:00, 45.44it/s, EPOCH=194, AVG_LOSS=0.467]\n",
      "100%|██████████| 1/1 [00:00<00:00, 43.47it/s]\n"
     ]
    },
    {
     "name": "stdout",
     "output_type": "stream",
     "text": [
      "Accuracy: 0.6876818622696411\n",
      "Precision: 0.6870067916579544\n",
      "Recall: 0.6826571056851533\n",
      "f1_score: 0.6831724933004528\n"
     ]
    },
    {
     "name": "stderr",
     "output_type": "stream",
     "text": [
      "100%|██████████| 1/1 [00:00<00:00, 45.44it/s, EPOCH=195, AVG_LOSS=0.467]\n",
      "100%|██████████| 1/1 [00:00<00:00, 41.65it/s]\n"
     ]
    },
    {
     "name": "stdout",
     "output_type": "stream",
     "text": [
      "Accuracy: 0.6905916585838991\n",
      "Precision: 0.6896422789299206\n",
      "Recall: 0.6860647181628392\n",
      "f1_score: 0.6866246468573279\n"
     ]
    },
    {
     "name": "stderr",
     "output_type": "stream",
     "text": [
      "100%|██████████| 1/1 [00:00<00:00, 44.42it/s, EPOCH=196, AVG_LOSS=0.467]\n",
      "100%|██████████| 1/1 [00:00<00:00, 41.66it/s]\n"
     ]
    },
    {
     "name": "stdout",
     "output_type": "stream",
     "text": [
      "Accuracy: 0.6876818622696411\n",
      "Precision: 0.6870067916579544\n",
      "Recall: 0.6826571056851533\n",
      "f1_score: 0.6831724933004528\n"
     ]
    },
    {
     "name": "stderr",
     "output_type": "stream",
     "text": [
      "100%|██████████| 1/1 [00:00<00:00, 13.60it/s, EPOCH=197, AVG_LOSS=0.466]\n",
      "100%|██████████| 1/1 [00:00<00:00, 13.24it/s]\n"
     ]
    },
    {
     "name": "stdout",
     "output_type": "stream",
     "text": [
      "Accuracy: 0.6876818622696411\n",
      "Precision: 0.6869006187161639\n",
      "Recall: 0.6827951499198208\n",
      "f1_score: 0.6833199786324786\n"
     ]
    },
    {
     "name": "stderr",
     "output_type": "stream",
     "text": [
      "100%|██████████| 1/1 [00:00<00:00, 34.47it/s, EPOCH=198, AVG_LOSS=0.466]\n",
      "100%|██████████| 1/1 [00:00<00:00, 31.24it/s]\n"
     ]
    },
    {
     "name": "stdout",
     "output_type": "stream",
     "text": [
      "Accuracy: 0.6886517943743938\n",
      "Precision: 0.687950315365863\n",
      "Recall: 0.6837009470212702\n",
      "f1_score: 0.6842302617078706\n"
     ]
    },
    {
     "name": "stderr",
     "output_type": "stream",
     "text": [
      "100%|██████████| 1/1 [00:00<00:00, 45.45it/s, EPOCH=199, AVG_LOSS=0.465]\n",
      "100%|██████████| 1/1 [00:00<00:00, 41.66it/s]\n"
     ]
    },
    {
     "name": "stdout",
     "output_type": "stream",
     "text": [
      "Accuracy: 0.6905916585838991\n",
      "Precision: 0.6897370878972435\n",
      "Recall: 0.6859266739281716\n",
      "f1_score: 0.6864848427653172\n"
     ]
    }
   ],
   "source": [
    "#RNNbased, LSTMbased, GRUbased, BI_RNNbased, BI_LSTMbased, BI_GRUbased\n",
    "train_losses = []\n",
    "val_losses = []\n",
    "BI_GRUmodel = BI_GRUbased().cuda()\n",
    "loss_fn = torch.nn.CrossEntropyLoss()\n",
    "optimizer = torch.optim.Adam(BI_GRUmodel.parameters(), lr=1e-3)\n",
    "epoch(BI_GRUmodel, optimizer, loss_fn)"
   ]
  },
  {
   "cell_type": "code",
   "execution_count": 22,
   "metadata": {},
   "outputs": [
    {
     "data": {
      "image/png": "[encoded data removed]",
      "text/plain": [
       "<Figure size 640x480 with 1 Axes>"
      ]
     },
     "metadata": {},
     "output_type": "display_data"
    }
   ],
   "source": [
    "plt.plot(train_losses, label = \"Training Loss\")\n",
    "plt.plot(val_losses, label = \"Val Loss\")\n",
    "plt.title('Loss')\n",
    "plt.legend()\n",
    "plt.show()"
   ]
  }
 ],
 "metadata": {
  "kernelspec": {
   "display_name": "Python 3",
   "language": "python",
   "name": "python3"
  },
  "language_info": {
   "codemirror_mode": {
    "name": "ipython",
    "version": 3
   },
   "file_extension": ".py",
   "mimetype": "text/x-python",
   "name": "python",
   "nbconvert_exporter": "python",
   "pygments_lexer": "ipython3",
   "version": "3.10.7 (tags/v3.10.7:6cc6b13, Sep  5 2022, 14:08:36) [MSC v.1933 64 bit (AMD64)]"
  },
  "orig_nbformat": 4,
  "vscode": {
   "interpreter": {
    "hash": "741734e4d9262a9acf446b5ba13209605db2cf0b874f0c27fef48c928c78e74e"
   }
  }
 },
 "nbformat": 4,
 "nbformat_minor": 2
}
