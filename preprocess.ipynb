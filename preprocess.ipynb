{
 "cells": [
  {
   "cell_type": "code",
   "execution_count": 1,
   "metadata": {},
   "outputs": [],
   "source": [
    "import pandas as pd\n",
    "import numpy as np\n",
    "from tqdm import tqdm\n",
    "import os"
   ]
  },
  {
   "cell_type": "code",
   "execution_count": 2,
   "metadata": {},
   "outputs": [],
   "source": [
    "to_N = 14"
   ]
  },
  {
   "cell_type": "code",
   "execution_count": 3,
   "metadata": {},
   "outputs": [],
   "source": [
    "rootPath = './LSTM/'\n",
    "files = os.listdir(rootPath)"
   ]
  },
  {
   "cell_type": "code",
   "execution_count": 4,
   "metadata": {},
   "outputs": [
    {
     "name": "stderr",
     "output_type": "stream",
     "text": [
      "Loading File to Numpy...(Current N = 1): 100%|██████████| 17574/17574 [00:35<00:00, 489.52it/s]\n",
      "Loading File to Numpy...(Current N = 2): 100%|██████████| 17574/17574 [00:35<00:00, 492.62it/s]\n",
      "Loading File to Numpy...(Current N = 3): 100%|██████████| 17574/17574 [00:36<00:00, 486.44it/s]\n",
      "Loading File to Numpy...(Current N = 4): 100%|██████████| 17574/17574 [00:36<00:00, 486.15it/s]\n",
      "Loading File to Numpy...(Current N = 5): 100%|██████████| 17574/17574 [00:35<00:00, 491.41it/s]\n",
      "Loading File to Numpy...(Current N = 6): 100%|██████████| 17574/17574 [00:35<00:00, 495.48it/s]\n",
      "Loading File to Numpy...(Current N = 7): 100%|██████████| 17574/17574 [00:35<00:00, 499.30it/s]\n",
      "Loading File to Numpy...(Current N = 8): 100%|██████████| 17574/17574 [00:34<00:00, 503.97it/s]\n",
      "Loading File to Numpy...(Current N = 9): 100%|██████████| 17574/17574 [00:34<00:00, 508.71it/s]\n",
      "Loading File to Numpy...(Current N = 10): 100%|██████████| 17574/17574 [00:34<00:00, 510.02it/s]\n",
      "Loading File to Numpy...(Current N = 11): 100%|██████████| 17574/17574 [00:34<00:00, 510.48it/s]\n",
      "Loading File to Numpy...(Current N = 12): 100%|██████████| 17574/17574 [00:34<00:00, 516.04it/s]\n",
      "Loading File to Numpy...(Current N = 13): 100%|██████████| 17574/17574 [00:33<00:00, 519.77it/s]\n",
      "Loading File to Numpy...(Current N = 14): 100%|██████████| 17574/17574 [00:33<00:00, 521.88it/s]\n"
     ]
    }
   ],
   "source": [
    "for N in range(1, to_N + 1):\n",
    "    x_data = []\n",
    "    y_data = []\n",
    "    for file in tqdm(files, desc=f\"Loading File to Numpy...(Current N = {N})\"):\n",
    "        filePath = os.path.join(rootPath, file)\n",
    "        dataframe = pd.read_csv(filePath, index_col = False)\n",
    "        sepFrames = dataframe.T\n",
    "        sepFrames.drop(index='Unnamed: 0', inplace = True)\n",
    "        sepFrames.reset_index(inplace=True)\n",
    "        sepFrames.drop(columns=['index'], inplace = True)\n",
    "        for i in range(N, len(sepFrames) + 1):\n",
    "            x_data.append(sepFrames[i - N : i].to_numpy().astype(np.float32))\n",
    "            y_data.append(int((i == (len(sepFrames)))))\n",
    "    x_data = np.array(x_data)\n",
    "    y_data = np.array(y_data)\n",
    "    np.save(f'./bindata/{N}-frame_x_data', x_data)\n",
    "    np.save(f'./bindata/{N}-frame_y_data', y_data)"
   ]
  }
 ],
 "metadata": {
  "kernelspec": {
   "display_name": "ML",
   "language": "python",
   "name": "python3"
  },
  "language_info": {
   "codemirror_mode": {
    "name": "ipython",
    "version": 3
   },
   "file_extension": ".py",
   "mimetype": "text/x-python",
   "name": "python",
   "nbconvert_exporter": "python",
   "pygments_lexer": "ipython3",
   "version": "3.10.7"
  },
  "orig_nbformat": 4,
  "vscode": {
   "interpreter": {
    "hash": "eefd0d4a03a786b9ee4ea300c9ffb38640d2baed01d525cd232843b35684a7de"
   }
  }
 },
 "nbformat": 4,
 "nbformat_minor": 2
}
