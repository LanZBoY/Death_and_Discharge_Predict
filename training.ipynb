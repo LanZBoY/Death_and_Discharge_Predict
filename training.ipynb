{
 "cells": [
  {
   "cell_type": "code",
   "execution_count": 1,
   "metadata": {},
   "outputs": [
    {
     "name": "stderr",
     "output_type": "stream",
     "text": [
      "c:\\Users\\Wen2Tee5\\Desktop\\MLProject\\ML\\lib\\site-packages\\tqdm\\auto.py:22: TqdmWarning: IProgress not found. Please update jupyter and ipywidgets. See https://ipywidgets.readthedocs.io/en/stable/user_install.html\n",
      "  from .autonotebook import tqdm as notebook_tqdm\n"
     ]
    }
   ],
   "source": [
    "import torch\n",
    "import pickle\n",
    "import numpy as np\n",
    "from torch.utils.data import DataLoader, TensorDataset\n",
    "from tqdm import tqdm"
   ]
  },
  {
   "cell_type": "code",
   "execution_count": 2,
   "metadata": {},
   "outputs": [],
   "source": [
    "N = 7"
   ]
  },
  {
   "cell_type": "code",
   "execution_count": 3,
   "metadata": {},
   "outputs": [],
   "source": [
    "x_data = np.load(f'./bindata/{N}-frame_x_data.npy', allow_pickle=True)\n",
    "y_data = np.load(f'./bindata/{N}-frame_y_data.npy', allow_pickle=True)"
   ]
  },
  {
   "cell_type": "code",
   "execution_count": 4,
   "metadata": {},
   "outputs": [],
   "source": [
    "dataset = TensorDataset(torch.tensor(x_data), torch.tensor(y_data, dtype=torch.int64))"
   ]
  },
  {
   "cell_type": "code",
   "execution_count": 5,
   "metadata": {},
   "outputs": [],
   "source": [
    "trainLoader = DataLoader(dataset=dataset, batch_size=32, shuffle=True)"
   ]
  },
  {
   "cell_type": "code",
   "execution_count": 6,
   "metadata": {},
   "outputs": [],
   "source": [
    "class LSTM_based(torch.nn.Module):\n",
    "\n",
    "    def __init__(self, N = N) -> None:\n",
    "        super(LSTM_based, self).__init__()\n",
    "        self.lstm = torch.nn.LSTM(input_size = 113, hidden_size = 113, batch_first = True)\n",
    "        self.h_linear = torch.nn.Linear(113 * N, 64)\n",
    "        self.o_linear = torch.nn.Linear(64, 2)\n",
    "        \n",
    "\n",
    "    def forward(self, x):\n",
    "        h_s, (_, _) = self.lstm(x)\n",
    "        h_f = torch.flatten(h_s, start_dim=1)\n",
    "        h_f = torch.nn.functional.leaky_relu(h_f)\n",
    "        h_f = self.h_linear(h_f)\n",
    "        h_f = torch.nn.functional.leaky_relu(h_f)\n",
    "        h_o = self.o_linear(h_f)\n",
    "        return h_o"
   ]
  },
  {
   "cell_type": "code",
   "execution_count": 7,
   "metadata": {},
   "outputs": [],
   "source": [
    "model = LSTM_based().cuda()\n",
    "loss_fn = torch.nn.CrossEntropyLoss()\n",
    "optimizer = torch.optim.Adam(model.parameters(), lr=1e-5)"
   ]
  },
  {
   "cell_type": "code",
   "execution_count": 8,
   "metadata": {},
   "outputs": [
    {
     "name": "stderr",
     "output_type": "stream",
     "text": [
      "100%|██████████| 2199/2199 [00:05<00:00, 393.72it/s, EPOCH=1, AVG_LOSS=0.441]\n",
      "100%|██████████| 2199/2199 [00:05<00:00, 397.37it/s, EPOCH=2, AVG_LOSS=0.408]\n",
      "100%|██████████| 2199/2199 [00:05<00:00, 412.36it/s, EPOCH=3, AVG_LOSS=0.405]\n",
      "100%|██████████| 2199/2199 [00:05<00:00, 406.53it/s, EPOCH=4, AVG_LOSS=0.403]\n",
      "100%|██████████| 2199/2199 [00:05<00:00, 408.62it/s, EPOCH=5, AVG_LOSS=0.401]\n",
      "100%|██████████| 2199/2199 [00:05<00:00, 406.00it/s, EPOCH=6, AVG_LOSS=0.4]  \n",
      "100%|██████████| 2199/2199 [00:05<00:00, 407.52it/s, EPOCH=7, AVG_LOSS=0.398]\n",
      "100%|██████████| 2199/2199 [00:05<00:00, 407.16it/s, EPOCH=8, AVG_LOSS=0.397]\n",
      "100%|██████████| 2199/2199 [00:05<00:00, 405.47it/s, EPOCH=9, AVG_LOSS=0.396]\n",
      "100%|██████████| 2199/2199 [00:05<00:00, 406.30it/s, EPOCH=10, AVG_LOSS=0.396]\n"
     ]
    }
   ],
   "source": [
    "for epoch in range(10):\n",
    "    trainProcess = tqdm(trainLoader)\n",
    "    total_loss = 0.\n",
    "    for batch, (x, y) in enumerate(trainProcess, start = 1):\n",
    "        x, y = x.cuda(), y.cuda()\n",
    "        optimizer.zero_grad()\n",
    "        y_pred = model(x)\n",
    "        loss = loss_fn(y_pred, y)\n",
    "        loss.backward()\n",
    "        optimizer.step()\n",
    "        total_loss += loss.item()\n",
    "        trainProcess.set_postfix({\"EPOCH\" : epoch + 1, \"AVG_LOSS\" : total_loss / batch})\n"
   ]
  }
 ],
 "metadata": {
  "kernelspec": {
   "display_name": "Python 3.10.7 ('ML': venv)",
   "language": "python",
   "name": "python3"
  },
  "language_info": {
   "codemirror_mode": {
    "name": "ipython",
    "version": 3
   },
   "file_extension": ".py",
   "mimetype": "text/x-python",
   "name": "python",
   "nbconvert_exporter": "python",
   "pygments_lexer": "ipython3",
   "version": "3.10.7 (tags/v3.10.7:6cc6b13, Sep  5 2022, 14:08:36) [MSC v.1933 64 bit (AMD64)]"
  },
  "orig_nbformat": 4,
  "vscode": {
   "interpreter": {
    "hash": "eefd0d4a03a786b9ee4ea300c9ffb38640d2baed01d525cd232843b35684a7de"
   }
  }
 },
 "nbformat": 4,
 "nbformat_minor": 2
}
